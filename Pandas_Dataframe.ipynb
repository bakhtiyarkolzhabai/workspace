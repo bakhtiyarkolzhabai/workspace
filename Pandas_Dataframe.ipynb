{
 "cells": [
  {
   "cell_type": "code",
   "execution_count": 1,
   "metadata": {
    "collapsed": true
   },
   "outputs": [],
   "source": [
    "import pandas as pd\n",
    "import numpy as np"
   ]
  },
  {
   "cell_type": "code",
   "execution_count": 2,
   "outputs": [],
   "source": [
    "from numpy.random import randn\n",
    "np.random.seed(42)"
   ],
   "metadata": {
    "collapsed": false
   }
  },
  {
   "cell_type": "code",
   "execution_count": 5,
   "outputs": [
    {
     "data": {
      "text/plain": "array([0.64768854])"
     },
     "execution_count": 5,
     "metadata": {},
     "output_type": "execute_result"
    }
   ],
   "source": [
    "randn(1)"
   ],
   "metadata": {
    "collapsed": false
   }
  },
  {
   "cell_type": "code",
   "execution_count": 6,
   "outputs": [],
   "source": [
    "# 0.496714\n",
    "# -0.138264\n",
    "# 0.647689\n"
   ],
   "metadata": {
    "collapsed": false
   }
  },
  {
   "cell_type": "code",
   "execution_count": 7,
   "outputs": [
    {
     "data": {
      "text/plain": "          W         X         Y         Z\nA  1.523030 -0.234153 -0.234137  1.579213\nB  0.767435 -0.469474  0.542560 -0.463418\nC -0.465730  0.241962 -1.913280 -1.724918\nD -0.562288 -1.012831  0.314247 -0.908024\nE -1.412304  1.465649 -0.225776  0.067528",
      "text/html": "<div>\n<style scoped>\n    .dataframe tbody tr th:only-of-type {\n        vertical-align: middle;\n    }\n\n    .dataframe tbody tr th {\n        vertical-align: top;\n    }\n\n    .dataframe thead th {\n        text-align: right;\n    }\n</style>\n<table border=\"1\" class=\"dataframe\">\n  <thead>\n    <tr style=\"text-align: right;\">\n      <th></th>\n      <th>W</th>\n      <th>X</th>\n      <th>Y</th>\n      <th>Z</th>\n    </tr>\n  </thead>\n  <tbody>\n    <tr>\n      <th>A</th>\n      <td>1.523030</td>\n      <td>-0.234153</td>\n      <td>-0.234137</td>\n      <td>1.579213</td>\n    </tr>\n    <tr>\n      <th>B</th>\n      <td>0.767435</td>\n      <td>-0.469474</td>\n      <td>0.542560</td>\n      <td>-0.463418</td>\n    </tr>\n    <tr>\n      <th>C</th>\n      <td>-0.465730</td>\n      <td>0.241962</td>\n      <td>-1.913280</td>\n      <td>-1.724918</td>\n    </tr>\n    <tr>\n      <th>D</th>\n      <td>-0.562288</td>\n      <td>-1.012831</td>\n      <td>0.314247</td>\n      <td>-0.908024</td>\n    </tr>\n    <tr>\n      <th>E</th>\n      <td>-1.412304</td>\n      <td>1.465649</td>\n      <td>-0.225776</td>\n      <td>0.067528</td>\n    </tr>\n  </tbody>\n</table>\n</div>"
     },
     "execution_count": 7,
     "metadata": {},
     "output_type": "execute_result"
    }
   ],
   "source": [
    "df=pd.DataFrame(randn(5,4),index=\"A B C D E\". split(), columns=\"W X Y Z\". split())\n",
    "df"
   ],
   "metadata": {
    "collapsed": false
   }
  },
  {
   "cell_type": "code",
   "execution_count": 8,
   "outputs": [
    {
     "data": {
      "text/plain": "A    1.523030\nB    0.767435\nC   -0.465730\nD   -0.562288\nE   -1.412304\nName: W, dtype: float64"
     },
     "execution_count": 8,
     "metadata": {},
     "output_type": "execute_result"
    }
   ],
   "source": [
    "df[\"W\"]"
   ],
   "metadata": {
    "collapsed": false
   }
  },
  {
   "cell_type": "code",
   "execution_count": 9,
   "outputs": [
    {
     "data": {
      "text/plain": "pandas.core.frame.DataFrame"
     },
     "execution_count": 9,
     "metadata": {},
     "output_type": "execute_result"
    }
   ],
   "source": [
    "type(df)"
   ],
   "metadata": {
    "collapsed": false
   }
  },
  {
   "cell_type": "code",
   "execution_count": 11,
   "outputs": [
    {
     "data": {
      "text/plain": "          W         Z\nA  1.523030  1.579213\nB  0.767435 -0.463418\nC -0.465730 -1.724918\nD -0.562288 -0.908024\nE -1.412304  0.067528",
      "text/html": "<div>\n<style scoped>\n    .dataframe tbody tr th:only-of-type {\n        vertical-align: middle;\n    }\n\n    .dataframe tbody tr th {\n        vertical-align: top;\n    }\n\n    .dataframe thead th {\n        text-align: right;\n    }\n</style>\n<table border=\"1\" class=\"dataframe\">\n  <thead>\n    <tr style=\"text-align: right;\">\n      <th></th>\n      <th>W</th>\n      <th>Z</th>\n    </tr>\n  </thead>\n  <tbody>\n    <tr>\n      <th>A</th>\n      <td>1.523030</td>\n      <td>1.579213</td>\n    </tr>\n    <tr>\n      <th>B</th>\n      <td>0.767435</td>\n      <td>-0.463418</td>\n    </tr>\n    <tr>\n      <th>C</th>\n      <td>-0.465730</td>\n      <td>-1.724918</td>\n    </tr>\n    <tr>\n      <th>D</th>\n      <td>-0.562288</td>\n      <td>-0.908024</td>\n    </tr>\n    <tr>\n      <th>E</th>\n      <td>-1.412304</td>\n      <td>0.067528</td>\n    </tr>\n  </tbody>\n</table>\n</div>"
     },
     "execution_count": 11,
     "metadata": {},
     "output_type": "execute_result"
    }
   ],
   "source": [
    "df[[\"W\",\"Z\"]]"
   ],
   "metadata": {
    "collapsed": false
   }
  },
  {
   "cell_type": "code",
   "execution_count": 13,
   "outputs": [
    {
     "data": {
      "text/plain": "pandas.core.series.Series"
     },
     "execution_count": 13,
     "metadata": {},
     "output_type": "execute_result"
    }
   ],
   "source": [
    "type(df[\"W\"])"
   ],
   "metadata": {
    "collapsed": false
   }
  },
  {
   "cell_type": "code",
   "execution_count": 14,
   "outputs": [
    {
     "data": {
      "text/plain": "pandas.core.frame.DataFrame"
     },
     "execution_count": 14,
     "metadata": {},
     "output_type": "execute_result"
    }
   ],
   "source": [
    "type(df[[\"W\"]])"
   ],
   "metadata": {
    "collapsed": false
   }
  },
  {
   "cell_type": "code",
   "execution_count": 15,
   "outputs": [
    {
     "data": {
      "text/plain": "A    1.523030\nB    0.767435\nC   -0.465730\nD   -0.562288\nE   -1.412304\nName: W, dtype: float64"
     },
     "execution_count": 15,
     "metadata": {},
     "output_type": "execute_result"
    }
   ],
   "source": [
    "# SQL SYNTAXIS\n",
    "df.W"
   ],
   "metadata": {
    "collapsed": false
   }
  },
  {
   "cell_type": "markdown",
   "source": [
    "# Создание новых столбцов"
   ],
   "metadata": {
    "collapsed": false
   }
  },
  {
   "cell_type": "code",
   "execution_count": 21,
   "outputs": [
    {
     "data": {
      "text/plain": "          W         X         Y         Z       new  K\nA  1.523030 -0.234153 -0.234137  1.579213  1.288893  0\nB  0.767435 -0.469474  0.542560 -0.463418  1.309995  0\nC -0.465730  0.241962 -1.913280 -1.724918 -2.379010  0\nD -0.562288 -1.012831  0.314247 -0.908024 -0.248040  0\nE -1.412304  1.465649 -0.225776  0.067528 -1.638080  0",
      "text/html": "<div>\n<style scoped>\n    .dataframe tbody tr th:only-of-type {\n        vertical-align: middle;\n    }\n\n    .dataframe tbody tr th {\n        vertical-align: top;\n    }\n\n    .dataframe thead th {\n        text-align: right;\n    }\n</style>\n<table border=\"1\" class=\"dataframe\">\n  <thead>\n    <tr style=\"text-align: right;\">\n      <th></th>\n      <th>W</th>\n      <th>X</th>\n      <th>Y</th>\n      <th>Z</th>\n      <th>new</th>\n      <th>K</th>\n    </tr>\n  </thead>\n  <tbody>\n    <tr>\n      <th>A</th>\n      <td>1.523030</td>\n      <td>-0.234153</td>\n      <td>-0.234137</td>\n      <td>1.579213</td>\n      <td>1.288893</td>\n      <td>0</td>\n    </tr>\n    <tr>\n      <th>B</th>\n      <td>0.767435</td>\n      <td>-0.469474</td>\n      <td>0.542560</td>\n      <td>-0.463418</td>\n      <td>1.309995</td>\n      <td>0</td>\n    </tr>\n    <tr>\n      <th>C</th>\n      <td>-0.465730</td>\n      <td>0.241962</td>\n      <td>-1.913280</td>\n      <td>-1.724918</td>\n      <td>-2.379010</td>\n      <td>0</td>\n    </tr>\n    <tr>\n      <th>D</th>\n      <td>-0.562288</td>\n      <td>-1.012831</td>\n      <td>0.314247</td>\n      <td>-0.908024</td>\n      <td>-0.248040</td>\n      <td>0</td>\n    </tr>\n    <tr>\n      <th>E</th>\n      <td>-1.412304</td>\n      <td>1.465649</td>\n      <td>-0.225776</td>\n      <td>0.067528</td>\n      <td>-1.638080</td>\n      <td>0</td>\n    </tr>\n  </tbody>\n</table>\n</div>"
     },
     "execution_count": 21,
     "metadata": {},
     "output_type": "execute_result"
    }
   ],
   "source": [
    "df['new']=df['W']+df['Y']\n",
    "df"
   ],
   "metadata": {
    "collapsed": false
   }
  },
  {
   "cell_type": "code",
   "execution_count": 20,
   "outputs": [
    {
     "data": {
      "text/plain": "          W         X         Y         Z       new  K\nA  1.523030 -0.234153 -0.234137  1.579213  1.288893  0\nB  0.767435 -0.469474  0.542560 -0.463418  1.309995  0\nC -0.465730  0.241962 -1.913280 -1.724918 -2.379010  0\nD -0.562288 -1.012831  0.314247 -0.908024 -0.248040  0\nE -1.412304  1.465649 -0.225776  0.067528 -1.638080  0",
      "text/html": "<div>\n<style scoped>\n    .dataframe tbody tr th:only-of-type {\n        vertical-align: middle;\n    }\n\n    .dataframe tbody tr th {\n        vertical-align: top;\n    }\n\n    .dataframe thead th {\n        text-align: right;\n    }\n</style>\n<table border=\"1\" class=\"dataframe\">\n  <thead>\n    <tr style=\"text-align: right;\">\n      <th></th>\n      <th>W</th>\n      <th>X</th>\n      <th>Y</th>\n      <th>Z</th>\n      <th>new</th>\n      <th>K</th>\n    </tr>\n  </thead>\n  <tbody>\n    <tr>\n      <th>A</th>\n      <td>1.523030</td>\n      <td>-0.234153</td>\n      <td>-0.234137</td>\n      <td>1.579213</td>\n      <td>1.288893</td>\n      <td>0</td>\n    </tr>\n    <tr>\n      <th>B</th>\n      <td>0.767435</td>\n      <td>-0.469474</td>\n      <td>0.542560</td>\n      <td>-0.463418</td>\n      <td>1.309995</td>\n      <td>0</td>\n    </tr>\n    <tr>\n      <th>C</th>\n      <td>-0.465730</td>\n      <td>0.241962</td>\n      <td>-1.913280</td>\n      <td>-1.724918</td>\n      <td>-2.379010</td>\n      <td>0</td>\n    </tr>\n    <tr>\n      <th>D</th>\n      <td>-0.562288</td>\n      <td>-1.012831</td>\n      <td>0.314247</td>\n      <td>-0.908024</td>\n      <td>-0.248040</td>\n      <td>0</td>\n    </tr>\n    <tr>\n      <th>E</th>\n      <td>-1.412304</td>\n      <td>1.465649</td>\n      <td>-0.225776</td>\n      <td>0.067528</td>\n      <td>-1.638080</td>\n      <td>0</td>\n    </tr>\n  </tbody>\n</table>\n</div>"
     },
     "execution_count": 20,
     "metadata": {},
     "output_type": "execute_result"
    }
   ],
   "source": [
    "df[\"K\"]=0\n",
    "df"
   ],
   "metadata": {
    "collapsed": false
   }
  },
  {
   "cell_type": "markdown",
   "source": [
    "# Удаление столбцов"
   ],
   "metadata": {
    "collapsed": false
   }
  },
  {
   "cell_type": "code",
   "execution_count": 22,
   "outputs": [
    {
     "data": {
      "text/plain": "          W         X         Y         Z       new\nA  1.523030 -0.234153 -0.234137  1.579213  1.288893\nB  0.767435 -0.469474  0.542560 -0.463418  1.309995\nC -0.465730  0.241962 -1.913280 -1.724918 -2.379010\nD -0.562288 -1.012831  0.314247 -0.908024 -0.248040\nE -1.412304  1.465649 -0.225776  0.067528 -1.638080",
      "text/html": "<div>\n<style scoped>\n    .dataframe tbody tr th:only-of-type {\n        vertical-align: middle;\n    }\n\n    .dataframe tbody tr th {\n        vertical-align: top;\n    }\n\n    .dataframe thead th {\n        text-align: right;\n    }\n</style>\n<table border=\"1\" class=\"dataframe\">\n  <thead>\n    <tr style=\"text-align: right;\">\n      <th></th>\n      <th>W</th>\n      <th>X</th>\n      <th>Y</th>\n      <th>Z</th>\n      <th>new</th>\n    </tr>\n  </thead>\n  <tbody>\n    <tr>\n      <th>A</th>\n      <td>1.523030</td>\n      <td>-0.234153</td>\n      <td>-0.234137</td>\n      <td>1.579213</td>\n      <td>1.288893</td>\n    </tr>\n    <tr>\n      <th>B</th>\n      <td>0.767435</td>\n      <td>-0.469474</td>\n      <td>0.542560</td>\n      <td>-0.463418</td>\n      <td>1.309995</td>\n    </tr>\n    <tr>\n      <th>C</th>\n      <td>-0.465730</td>\n      <td>0.241962</td>\n      <td>-1.913280</td>\n      <td>-1.724918</td>\n      <td>-2.379010</td>\n    </tr>\n    <tr>\n      <th>D</th>\n      <td>-0.562288</td>\n      <td>-1.012831</td>\n      <td>0.314247</td>\n      <td>-0.908024</td>\n      <td>-0.248040</td>\n    </tr>\n    <tr>\n      <th>E</th>\n      <td>-1.412304</td>\n      <td>1.465649</td>\n      <td>-0.225776</td>\n      <td>0.067528</td>\n      <td>-1.638080</td>\n    </tr>\n  </tbody>\n</table>\n</div>"
     },
     "execution_count": 22,
     "metadata": {},
     "output_type": "execute_result"
    }
   ],
   "source": [
    "df.drop('K', axis=1)"
   ],
   "metadata": {
    "collapsed": false
   }
  },
  {
   "cell_type": "code",
   "execution_count": 23,
   "outputs": [
    {
     "data": {
      "text/plain": "          W         X         Y         Z       new  K\nA  1.523030 -0.234153 -0.234137  1.579213  1.288893  0\nB  0.767435 -0.469474  0.542560 -0.463418  1.309995  0\nC -0.465730  0.241962 -1.913280 -1.724918 -2.379010  0\nD -0.562288 -1.012831  0.314247 -0.908024 -0.248040  0\nE -1.412304  1.465649 -0.225776  0.067528 -1.638080  0",
      "text/html": "<div>\n<style scoped>\n    .dataframe tbody tr th:only-of-type {\n        vertical-align: middle;\n    }\n\n    .dataframe tbody tr th {\n        vertical-align: top;\n    }\n\n    .dataframe thead th {\n        text-align: right;\n    }\n</style>\n<table border=\"1\" class=\"dataframe\">\n  <thead>\n    <tr style=\"text-align: right;\">\n      <th></th>\n      <th>W</th>\n      <th>X</th>\n      <th>Y</th>\n      <th>Z</th>\n      <th>new</th>\n      <th>K</th>\n    </tr>\n  </thead>\n  <tbody>\n    <tr>\n      <th>A</th>\n      <td>1.523030</td>\n      <td>-0.234153</td>\n      <td>-0.234137</td>\n      <td>1.579213</td>\n      <td>1.288893</td>\n      <td>0</td>\n    </tr>\n    <tr>\n      <th>B</th>\n      <td>0.767435</td>\n      <td>-0.469474</td>\n      <td>0.542560</td>\n      <td>-0.463418</td>\n      <td>1.309995</td>\n      <td>0</td>\n    </tr>\n    <tr>\n      <th>C</th>\n      <td>-0.465730</td>\n      <td>0.241962</td>\n      <td>-1.913280</td>\n      <td>-1.724918</td>\n      <td>-2.379010</td>\n      <td>0</td>\n    </tr>\n    <tr>\n      <th>D</th>\n      <td>-0.562288</td>\n      <td>-1.012831</td>\n      <td>0.314247</td>\n      <td>-0.908024</td>\n      <td>-0.248040</td>\n      <td>0</td>\n    </tr>\n    <tr>\n      <th>E</th>\n      <td>-1.412304</td>\n      <td>1.465649</td>\n      <td>-0.225776</td>\n      <td>0.067528</td>\n      <td>-1.638080</td>\n      <td>0</td>\n    </tr>\n  </tbody>\n</table>\n</div>"
     },
     "execution_count": 23,
     "metadata": {},
     "output_type": "execute_result"
    }
   ],
   "source": [
    "df"
   ],
   "metadata": {
    "collapsed": false
   }
  },
  {
   "cell_type": "code",
   "execution_count": 24,
   "outputs": [],
   "source": [
    "df.drop('K', axis=1, inplace=True)"
   ],
   "metadata": {
    "collapsed": false
   }
  },
  {
   "cell_type": "code",
   "execution_count": 25,
   "outputs": [
    {
     "data": {
      "text/plain": "          W         X         Y         Z       new\nA  1.523030 -0.234153 -0.234137  1.579213  1.288893\nB  0.767435 -0.469474  0.542560 -0.463418  1.309995\nC -0.465730  0.241962 -1.913280 -1.724918 -2.379010\nD -0.562288 -1.012831  0.314247 -0.908024 -0.248040\nE -1.412304  1.465649 -0.225776  0.067528 -1.638080",
      "text/html": "<div>\n<style scoped>\n    .dataframe tbody tr th:only-of-type {\n        vertical-align: middle;\n    }\n\n    .dataframe tbody tr th {\n        vertical-align: top;\n    }\n\n    .dataframe thead th {\n        text-align: right;\n    }\n</style>\n<table border=\"1\" class=\"dataframe\">\n  <thead>\n    <tr style=\"text-align: right;\">\n      <th></th>\n      <th>W</th>\n      <th>X</th>\n      <th>Y</th>\n      <th>Z</th>\n      <th>new</th>\n    </tr>\n  </thead>\n  <tbody>\n    <tr>\n      <th>A</th>\n      <td>1.523030</td>\n      <td>-0.234153</td>\n      <td>-0.234137</td>\n      <td>1.579213</td>\n      <td>1.288893</td>\n    </tr>\n    <tr>\n      <th>B</th>\n      <td>0.767435</td>\n      <td>-0.469474</td>\n      <td>0.542560</td>\n      <td>-0.463418</td>\n      <td>1.309995</td>\n    </tr>\n    <tr>\n      <th>C</th>\n      <td>-0.465730</td>\n      <td>0.241962</td>\n      <td>-1.913280</td>\n      <td>-1.724918</td>\n      <td>-2.379010</td>\n    </tr>\n    <tr>\n      <th>D</th>\n      <td>-0.562288</td>\n      <td>-1.012831</td>\n      <td>0.314247</td>\n      <td>-0.908024</td>\n      <td>-0.248040</td>\n    </tr>\n    <tr>\n      <th>E</th>\n      <td>-1.412304</td>\n      <td>1.465649</td>\n      <td>-0.225776</td>\n      <td>0.067528</td>\n      <td>-1.638080</td>\n    </tr>\n  </tbody>\n</table>\n</div>"
     },
     "execution_count": 25,
     "metadata": {},
     "output_type": "execute_result"
    }
   ],
   "source": [
    "df"
   ],
   "metadata": {
    "collapsed": false
   }
  },
  {
   "cell_type": "code",
   "execution_count": 26,
   "outputs": [
    {
     "data": {
      "text/plain": "          W         X         Y         Z       new\nA  1.523030 -0.234153 -0.234137  1.579213  1.288893\nB  0.767435 -0.469474  0.542560 -0.463418  1.309995\nC -0.465730  0.241962 -1.913280 -1.724918 -2.379010\nD -0.562288 -1.012831  0.314247 -0.908024 -0.248040",
      "text/html": "<div>\n<style scoped>\n    .dataframe tbody tr th:only-of-type {\n        vertical-align: middle;\n    }\n\n    .dataframe tbody tr th {\n        vertical-align: top;\n    }\n\n    .dataframe thead th {\n        text-align: right;\n    }\n</style>\n<table border=\"1\" class=\"dataframe\">\n  <thead>\n    <tr style=\"text-align: right;\">\n      <th></th>\n      <th>W</th>\n      <th>X</th>\n      <th>Y</th>\n      <th>Z</th>\n      <th>new</th>\n    </tr>\n  </thead>\n  <tbody>\n    <tr>\n      <th>A</th>\n      <td>1.523030</td>\n      <td>-0.234153</td>\n      <td>-0.234137</td>\n      <td>1.579213</td>\n      <td>1.288893</td>\n    </tr>\n    <tr>\n      <th>B</th>\n      <td>0.767435</td>\n      <td>-0.469474</td>\n      <td>0.542560</td>\n      <td>-0.463418</td>\n      <td>1.309995</td>\n    </tr>\n    <tr>\n      <th>C</th>\n      <td>-0.465730</td>\n      <td>0.241962</td>\n      <td>-1.913280</td>\n      <td>-1.724918</td>\n      <td>-2.379010</td>\n    </tr>\n    <tr>\n      <th>D</th>\n      <td>-0.562288</td>\n      <td>-1.012831</td>\n      <td>0.314247</td>\n      <td>-0.908024</td>\n      <td>-0.248040</td>\n    </tr>\n  </tbody>\n</table>\n</div>"
     },
     "execution_count": 26,
     "metadata": {},
     "output_type": "execute_result"
    }
   ],
   "source": [
    "df.drop(\"E\")"
   ],
   "metadata": {
    "collapsed": false
   }
  },
  {
   "cell_type": "code",
   "execution_count": 27,
   "outputs": [
    {
     "data": {
      "text/plain": "          W         X         Y         Z       new\nA  1.523030 -0.234153 -0.234137  1.579213  1.288893\nB  0.767435 -0.469474  0.542560 -0.463418  1.309995\nC -0.465730  0.241962 -1.913280 -1.724918 -2.379010\nD -0.562288 -1.012831  0.314247 -0.908024 -0.248040",
      "text/html": "<div>\n<style scoped>\n    .dataframe tbody tr th:only-of-type {\n        vertical-align: middle;\n    }\n\n    .dataframe tbody tr th {\n        vertical-align: top;\n    }\n\n    .dataframe thead th {\n        text-align: right;\n    }\n</style>\n<table border=\"1\" class=\"dataframe\">\n  <thead>\n    <tr style=\"text-align: right;\">\n      <th></th>\n      <th>W</th>\n      <th>X</th>\n      <th>Y</th>\n      <th>Z</th>\n      <th>new</th>\n    </tr>\n  </thead>\n  <tbody>\n    <tr>\n      <th>A</th>\n      <td>1.523030</td>\n      <td>-0.234153</td>\n      <td>-0.234137</td>\n      <td>1.579213</td>\n      <td>1.288893</td>\n    </tr>\n    <tr>\n      <th>B</th>\n      <td>0.767435</td>\n      <td>-0.469474</td>\n      <td>0.542560</td>\n      <td>-0.463418</td>\n      <td>1.309995</td>\n    </tr>\n    <tr>\n      <th>C</th>\n      <td>-0.465730</td>\n      <td>0.241962</td>\n      <td>-1.913280</td>\n      <td>-1.724918</td>\n      <td>-2.379010</td>\n    </tr>\n    <tr>\n      <th>D</th>\n      <td>-0.562288</td>\n      <td>-1.012831</td>\n      <td>0.314247</td>\n      <td>-0.908024</td>\n      <td>-0.248040</td>\n    </tr>\n  </tbody>\n</table>\n</div>"
     },
     "execution_count": 27,
     "metadata": {},
     "output_type": "execute_result"
    }
   ],
   "source": [
    "df.drop(\"E\", axis=0)"
   ],
   "metadata": {
    "collapsed": false
   }
  },
  {
   "cell_type": "markdown",
   "source": [
    "# Работа со строками"
   ],
   "metadata": {
    "collapsed": false
   }
  },
  {
   "cell_type": "code",
   "execution_count": 28,
   "outputs": [
    {
     "data": {
      "text/plain": "W      1.523030\nX     -0.234153\nY     -0.234137\nZ      1.579213\nnew    1.288893\nName: A, dtype: float64"
     },
     "execution_count": 28,
     "metadata": {},
     "output_type": "execute_result"
    }
   ],
   "source": [
    "df.loc[\"A\"]"
   ],
   "metadata": {
    "collapsed": false
   }
  },
  {
   "cell_type": "code",
   "execution_count": 29,
   "outputs": [
    {
     "data": {
      "text/plain": "pandas.core.series.Series"
     },
     "execution_count": 29,
     "metadata": {},
     "output_type": "execute_result"
    }
   ],
   "source": [
    "type(df.loc[\"A\"])"
   ],
   "metadata": {
    "collapsed": false
   }
  },
  {
   "cell_type": "code",
   "execution_count": 30,
   "outputs": [
    {
     "data": {
      "text/plain": "W      1.523030\nX     -0.234153\nY     -0.234137\nZ      1.579213\nnew    1.288893\nName: A, dtype: float64"
     },
     "execution_count": 30,
     "metadata": {},
     "output_type": "execute_result"
    }
   ],
   "source": [
    "df.iloc[0]"
   ],
   "metadata": {
    "collapsed": false
   }
  },
  {
   "cell_type": "code",
   "execution_count": null,
   "outputs": [],
   "source": [
    "# loc выбор строки по имени, iloc выбор строки по индексу"
   ],
   "metadata": {
    "collapsed": false
   }
  },
  {
   "cell_type": "code",
   "execution_count": 31,
   "outputs": [
    {
     "data": {
      "text/plain": "W     -0.465730\nX      0.241962\nY     -1.913280\nZ     -1.724918\nnew   -2.379010\nName: C, dtype: float64"
     },
     "execution_count": 31,
     "metadata": {},
     "output_type": "execute_result"
    }
   ],
   "source": [
    "df.iloc[2]"
   ],
   "metadata": {
    "collapsed": false
   }
  },
  {
   "cell_type": "markdown",
   "source": [
    "# Выбор разных строк и столбцов"
   ],
   "metadata": {
    "collapsed": false
   }
  },
  {
   "cell_type": "code",
   "execution_count": 33,
   "outputs": [
    {
     "data": {
      "text/plain": "0.5425600435859647"
     },
     "execution_count": 33,
     "metadata": {},
     "output_type": "execute_result"
    }
   ],
   "source": [
    "df.loc['B', 'Y']"
   ],
   "metadata": {
    "collapsed": false
   }
  },
  {
   "cell_type": "code",
   "execution_count": 34,
   "outputs": [
    {
     "data": {
      "text/plain": "          W         Y\nA  1.523030 -0.234137\nB  0.767435  0.542560",
      "text/html": "<div>\n<style scoped>\n    .dataframe tbody tr th:only-of-type {\n        vertical-align: middle;\n    }\n\n    .dataframe tbody tr th {\n        vertical-align: top;\n    }\n\n    .dataframe thead th {\n        text-align: right;\n    }\n</style>\n<table border=\"1\" class=\"dataframe\">\n  <thead>\n    <tr style=\"text-align: right;\">\n      <th></th>\n      <th>W</th>\n      <th>Y</th>\n    </tr>\n  </thead>\n  <tbody>\n    <tr>\n      <th>A</th>\n      <td>1.523030</td>\n      <td>-0.234137</td>\n    </tr>\n    <tr>\n      <th>B</th>\n      <td>0.767435</td>\n      <td>0.542560</td>\n    </tr>\n  </tbody>\n</table>\n</div>"
     },
     "execution_count": 34,
     "metadata": {},
     "output_type": "execute_result"
    }
   ],
   "source": [
    "df.loc[[\"A\", \"B\"],[\"W\",'Y']]# по работать с неск-ими строками и столбцами"
   ],
   "metadata": {
    "collapsed": false
   }
  },
  {
   "cell_type": "markdown",
   "source": [
    "# Условный выбор"
   ],
   "metadata": {
    "collapsed": false
   }
  },
  {
   "cell_type": "code",
   "execution_count": 37,
   "outputs": [
    {
     "data": {
      "text/plain": "          W         X         Y         Z       new\nA  1.523030 -0.234153 -0.234137  1.579213  1.288893\nB  0.767435 -0.469474  0.542560 -0.463418  1.309995\nC -0.465730  0.241962 -1.913280 -1.724918 -2.379010\nD -0.562288 -1.012831  0.314247 -0.908024 -0.248040\nE -1.412304  1.465649 -0.225776  0.067528 -1.638080",
      "text/html": "<div>\n<style scoped>\n    .dataframe tbody tr th:only-of-type {\n        vertical-align: middle;\n    }\n\n    .dataframe tbody tr th {\n        vertical-align: top;\n    }\n\n    .dataframe thead th {\n        text-align: right;\n    }\n</style>\n<table border=\"1\" class=\"dataframe\">\n  <thead>\n    <tr style=\"text-align: right;\">\n      <th></th>\n      <th>W</th>\n      <th>X</th>\n      <th>Y</th>\n      <th>Z</th>\n      <th>new</th>\n    </tr>\n  </thead>\n  <tbody>\n    <tr>\n      <th>A</th>\n      <td>1.523030</td>\n      <td>-0.234153</td>\n      <td>-0.234137</td>\n      <td>1.579213</td>\n      <td>1.288893</td>\n    </tr>\n    <tr>\n      <th>B</th>\n      <td>0.767435</td>\n      <td>-0.469474</td>\n      <td>0.542560</td>\n      <td>-0.463418</td>\n      <td>1.309995</td>\n    </tr>\n    <tr>\n      <th>C</th>\n      <td>-0.465730</td>\n      <td>0.241962</td>\n      <td>-1.913280</td>\n      <td>-1.724918</td>\n      <td>-2.379010</td>\n    </tr>\n    <tr>\n      <th>D</th>\n      <td>-0.562288</td>\n      <td>-1.012831</td>\n      <td>0.314247</td>\n      <td>-0.908024</td>\n      <td>-0.248040</td>\n    </tr>\n    <tr>\n      <th>E</th>\n      <td>-1.412304</td>\n      <td>1.465649</td>\n      <td>-0.225776</td>\n      <td>0.067528</td>\n      <td>-1.638080</td>\n    </tr>\n  </tbody>\n</table>\n</div>"
     },
     "execution_count": 37,
     "metadata": {},
     "output_type": "execute_result"
    }
   ],
   "source": [
    "df"
   ],
   "metadata": {
    "collapsed": false
   }
  },
  {
   "cell_type": "code",
   "execution_count": 39,
   "outputs": [
    {
     "data": {
      "text/plain": "          W         X         Y         Z\nA  1.523030 -0.234153 -0.234137  1.579213\nB  0.767435 -0.469474  0.542560 -0.463418\nC -0.465730  0.241962 -1.913280 -1.724918\nD -0.562288 -1.012831  0.314247 -0.908024\nE -1.412304  1.465649 -0.225776  0.067528",
      "text/html": "<div>\n<style scoped>\n    .dataframe tbody tr th:only-of-type {\n        vertical-align: middle;\n    }\n\n    .dataframe tbody tr th {\n        vertical-align: top;\n    }\n\n    .dataframe thead th {\n        text-align: right;\n    }\n</style>\n<table border=\"1\" class=\"dataframe\">\n  <thead>\n    <tr style=\"text-align: right;\">\n      <th></th>\n      <th>W</th>\n      <th>X</th>\n      <th>Y</th>\n      <th>Z</th>\n    </tr>\n  </thead>\n  <tbody>\n    <tr>\n      <th>A</th>\n      <td>1.523030</td>\n      <td>-0.234153</td>\n      <td>-0.234137</td>\n      <td>1.579213</td>\n    </tr>\n    <tr>\n      <th>B</th>\n      <td>0.767435</td>\n      <td>-0.469474</td>\n      <td>0.542560</td>\n      <td>-0.463418</td>\n    </tr>\n    <tr>\n      <th>C</th>\n      <td>-0.465730</td>\n      <td>0.241962</td>\n      <td>-1.913280</td>\n      <td>-1.724918</td>\n    </tr>\n    <tr>\n      <th>D</th>\n      <td>-0.562288</td>\n      <td>-1.012831</td>\n      <td>0.314247</td>\n      <td>-0.908024</td>\n    </tr>\n    <tr>\n      <th>E</th>\n      <td>-1.412304</td>\n      <td>1.465649</td>\n      <td>-0.225776</td>\n      <td>0.067528</td>\n    </tr>\n  </tbody>\n</table>\n</div>"
     },
     "execution_count": 39,
     "metadata": {},
     "output_type": "execute_result"
    }
   ],
   "source": [
    "df.drop(\"new\", axis=1, inplace=True)\n",
    "df"
   ],
   "metadata": {
    "collapsed": false
   }
  },
  {
   "cell_type": "code",
   "execution_count": 40,
   "outputs": [
    {
     "data": {
      "text/plain": "       W      X      Y      Z\nA   True  False  False   True\nB   True  False   True  False\nC  False   True  False  False\nD  False  False   True  False\nE  False   True  False   True",
      "text/html": "<div>\n<style scoped>\n    .dataframe tbody tr th:only-of-type {\n        vertical-align: middle;\n    }\n\n    .dataframe tbody tr th {\n        vertical-align: top;\n    }\n\n    .dataframe thead th {\n        text-align: right;\n    }\n</style>\n<table border=\"1\" class=\"dataframe\">\n  <thead>\n    <tr style=\"text-align: right;\">\n      <th></th>\n      <th>W</th>\n      <th>X</th>\n      <th>Y</th>\n      <th>Z</th>\n    </tr>\n  </thead>\n  <tbody>\n    <tr>\n      <th>A</th>\n      <td>True</td>\n      <td>False</td>\n      <td>False</td>\n      <td>True</td>\n    </tr>\n    <tr>\n      <th>B</th>\n      <td>True</td>\n      <td>False</td>\n      <td>True</td>\n      <td>False</td>\n    </tr>\n    <tr>\n      <th>C</th>\n      <td>False</td>\n      <td>True</td>\n      <td>False</td>\n      <td>False</td>\n    </tr>\n    <tr>\n      <th>D</th>\n      <td>False</td>\n      <td>False</td>\n      <td>True</td>\n      <td>False</td>\n    </tr>\n    <tr>\n      <th>E</th>\n      <td>False</td>\n      <td>True</td>\n      <td>False</td>\n      <td>True</td>\n    </tr>\n  </tbody>\n</table>\n</div>"
     },
     "execution_count": 40,
     "metadata": {},
     "output_type": "execute_result"
    }
   ],
   "source": [
    "df>0"
   ],
   "metadata": {
    "collapsed": false
   }
  },
  {
   "cell_type": "code",
   "execution_count": 41,
   "outputs": [
    {
     "data": {
      "text/plain": "          W         X         Y         Z\nA  1.523030       NaN       NaN  1.579213\nB  0.767435       NaN  0.542560       NaN\nC       NaN  0.241962       NaN       NaN\nD       NaN       NaN  0.314247       NaN\nE       NaN  1.465649       NaN  0.067528",
      "text/html": "<div>\n<style scoped>\n    .dataframe tbody tr th:only-of-type {\n        vertical-align: middle;\n    }\n\n    .dataframe tbody tr th {\n        vertical-align: top;\n    }\n\n    .dataframe thead th {\n        text-align: right;\n    }\n</style>\n<table border=\"1\" class=\"dataframe\">\n  <thead>\n    <tr style=\"text-align: right;\">\n      <th></th>\n      <th>W</th>\n      <th>X</th>\n      <th>Y</th>\n      <th>Z</th>\n    </tr>\n  </thead>\n  <tbody>\n    <tr>\n      <th>A</th>\n      <td>1.523030</td>\n      <td>NaN</td>\n      <td>NaN</td>\n      <td>1.579213</td>\n    </tr>\n    <tr>\n      <th>B</th>\n      <td>0.767435</td>\n      <td>NaN</td>\n      <td>0.542560</td>\n      <td>NaN</td>\n    </tr>\n    <tr>\n      <th>C</th>\n      <td>NaN</td>\n      <td>0.241962</td>\n      <td>NaN</td>\n      <td>NaN</td>\n    </tr>\n    <tr>\n      <th>D</th>\n      <td>NaN</td>\n      <td>NaN</td>\n      <td>0.314247</td>\n      <td>NaN</td>\n    </tr>\n    <tr>\n      <th>E</th>\n      <td>NaN</td>\n      <td>1.465649</td>\n      <td>NaN</td>\n      <td>0.067528</td>\n    </tr>\n  </tbody>\n</table>\n</div>"
     },
     "execution_count": 41,
     "metadata": {},
     "output_type": "execute_result"
    }
   ],
   "source": [
    "df[df>0]"
   ],
   "metadata": {
    "collapsed": false
   }
  },
  {
   "cell_type": "code",
   "execution_count": 47,
   "outputs": [
    {
     "data": {
      "text/plain": "A     True\nB     True\nC    False\nD    False\nE    False\nName: W, dtype: bool"
     },
     "execution_count": 47,
     "metadata": {},
     "output_type": "execute_result"
    }
   ],
   "source": [
    "x=df[\"W\"]>0\n",
    "x"
   ],
   "metadata": {
    "collapsed": false
   }
  },
  {
   "cell_type": "code",
   "execution_count": 45,
   "outputs": [
    {
     "data": {
      "text/plain": "          W         X         Y         Z\nA  1.523030 -0.234153 -0.234137  1.579213\nB  0.767435 -0.469474  0.542560 -0.463418",
      "text/html": "<div>\n<style scoped>\n    .dataframe tbody tr th:only-of-type {\n        vertical-align: middle;\n    }\n\n    .dataframe tbody tr th {\n        vertical-align: top;\n    }\n\n    .dataframe thead th {\n        text-align: right;\n    }\n</style>\n<table border=\"1\" class=\"dataframe\">\n  <thead>\n    <tr style=\"text-align: right;\">\n      <th></th>\n      <th>W</th>\n      <th>X</th>\n      <th>Y</th>\n      <th>Z</th>\n    </tr>\n  </thead>\n  <tbody>\n    <tr>\n      <th>A</th>\n      <td>1.523030</td>\n      <td>-0.234153</td>\n      <td>-0.234137</td>\n      <td>1.579213</td>\n    </tr>\n    <tr>\n      <th>B</th>\n      <td>0.767435</td>\n      <td>-0.469474</td>\n      <td>0.542560</td>\n      <td>-0.463418</td>\n    </tr>\n  </tbody>\n</table>\n</div>"
     },
     "execution_count": 45,
     "metadata": {},
     "output_type": "execute_result"
    }
   ],
   "source": [
    "df[df[\"W\"]>0]"
   ],
   "metadata": {
    "collapsed": false
   }
  },
  {
   "cell_type": "code",
   "execution_count": 52,
   "outputs": [
    {
     "data": {
      "text/plain": "          W         X         Y         Z\nA  1.523030 -0.234153 -0.234137  1.579213\nB  0.767435 -0.469474  0.542560 -0.463418",
      "text/html": "<div>\n<style scoped>\n    .dataframe tbody tr th:only-of-type {\n        vertical-align: middle;\n    }\n\n    .dataframe tbody tr th {\n        vertical-align: top;\n    }\n\n    .dataframe thead th {\n        text-align: right;\n    }\n</style>\n<table border=\"1\" class=\"dataframe\">\n  <thead>\n    <tr style=\"text-align: right;\">\n      <th></th>\n      <th>W</th>\n      <th>X</th>\n      <th>Y</th>\n      <th>Z</th>\n    </tr>\n  </thead>\n  <tbody>\n    <tr>\n      <th>A</th>\n      <td>1.523030</td>\n      <td>-0.234153</td>\n      <td>-0.234137</td>\n      <td>1.579213</td>\n    </tr>\n    <tr>\n      <th>B</th>\n      <td>0.767435</td>\n      <td>-0.469474</td>\n      <td>0.542560</td>\n      <td>-0.463418</td>\n    </tr>\n  </tbody>\n</table>\n</div>"
     },
     "execution_count": 52,
     "metadata": {},
     "output_type": "execute_result"
    }
   ],
   "source": [
    "df[x]"
   ],
   "metadata": {
    "collapsed": false
   }
  },
  {
   "cell_type": "code",
   "execution_count": 49,
   "outputs": [
    {
     "data": {
      "text/plain": "A   -0.234137\nB    0.542560\nName: Y, dtype: float64"
     },
     "execution_count": 49,
     "metadata": {},
     "output_type": "execute_result"
    }
   ],
   "source": [
    "df[df[\"W\"]>0][\"Y\"]"
   ],
   "metadata": {
    "collapsed": false
   }
  },
  {
   "cell_type": "code",
   "execution_count": 50,
   "outputs": [
    {
     "data": {
      "text/plain": "          Y         X\nA -0.234137 -0.234153\nB  0.542560 -0.469474",
      "text/html": "<div>\n<style scoped>\n    .dataframe tbody tr th:only-of-type {\n        vertical-align: middle;\n    }\n\n    .dataframe tbody tr th {\n        vertical-align: top;\n    }\n\n    .dataframe thead th {\n        text-align: right;\n    }\n</style>\n<table border=\"1\" class=\"dataframe\">\n  <thead>\n    <tr style=\"text-align: right;\">\n      <th></th>\n      <th>Y</th>\n      <th>X</th>\n    </tr>\n  </thead>\n  <tbody>\n    <tr>\n      <th>A</th>\n      <td>-0.234137</td>\n      <td>-0.234153</td>\n    </tr>\n    <tr>\n      <th>B</th>\n      <td>0.542560</td>\n      <td>-0.469474</td>\n    </tr>\n  </tbody>\n</table>\n</div>"
     },
     "execution_count": 50,
     "metadata": {},
     "output_type": "execute_result"
    }
   ],
   "source": [
    "df[df[\"W\"]>0][[\"Y\", \"X\"]]"
   ],
   "metadata": {
    "collapsed": false
   }
  },
  {
   "cell_type": "markdown",
   "source": [
    "# Фильтрация по нескольким критериям"
   ],
   "metadata": {
    "collapsed": false
   }
  },
  {
   "cell_type": "code",
   "execution_count": 55,
   "outputs": [
    {
     "data": {
      "text/plain": "          W         X         Y         Z\nA  1.523030 -0.234153 -0.234137  1.579213\nB  0.767435 -0.469474  0.542560 -0.463418\nC -0.465730  0.241962 -1.913280 -1.724918\nD -0.562288 -1.012831  0.314247 -0.908024\nE -1.412304  1.465649 -0.225776  0.067528",
      "text/html": "<div>\n<style scoped>\n    .dataframe tbody tr th:only-of-type {\n        vertical-align: middle;\n    }\n\n    .dataframe tbody tr th {\n        vertical-align: top;\n    }\n\n    .dataframe thead th {\n        text-align: right;\n    }\n</style>\n<table border=\"1\" class=\"dataframe\">\n  <thead>\n    <tr style=\"text-align: right;\">\n      <th></th>\n      <th>W</th>\n      <th>X</th>\n      <th>Y</th>\n      <th>Z</th>\n    </tr>\n  </thead>\n  <tbody>\n    <tr>\n      <th>A</th>\n      <td>1.523030</td>\n      <td>-0.234153</td>\n      <td>-0.234137</td>\n      <td>1.579213</td>\n    </tr>\n    <tr>\n      <th>B</th>\n      <td>0.767435</td>\n      <td>-0.469474</td>\n      <td>0.542560</td>\n      <td>-0.463418</td>\n    </tr>\n    <tr>\n      <th>C</th>\n      <td>-0.465730</td>\n      <td>0.241962</td>\n      <td>-1.913280</td>\n      <td>-1.724918</td>\n    </tr>\n    <tr>\n      <th>D</th>\n      <td>-0.562288</td>\n      <td>-1.012831</td>\n      <td>0.314247</td>\n      <td>-0.908024</td>\n    </tr>\n    <tr>\n      <th>E</th>\n      <td>-1.412304</td>\n      <td>1.465649</td>\n      <td>-0.225776</td>\n      <td>0.067528</td>\n    </tr>\n  </tbody>\n</table>\n</div>"
     },
     "execution_count": 55,
     "metadata": {},
     "output_type": "execute_result"
    }
   ],
   "source": [
    "df"
   ],
   "metadata": {
    "collapsed": false
   }
  },
  {
   "cell_type": "code",
   "execution_count": 53,
   "outputs": [
    {
     "data": {
      "text/plain": "A     True\nB     True\nC    False\nD    False\nE    False\nName: W, dtype: bool"
     },
     "execution_count": 53,
     "metadata": {},
     "output_type": "execute_result"
    }
   ],
   "source": [
    "df[\"W\"]>0"
   ],
   "metadata": {
    "collapsed": false
   }
  },
  {
   "cell_type": "code",
   "execution_count": 54,
   "outputs": [
    {
     "data": {
      "text/plain": "A    False\nB    False\nC    False\nD    False\nE    False\nName: Y, dtype: bool"
     },
     "execution_count": 54,
     "metadata": {},
     "output_type": "execute_result"
    }
   ],
   "source": [
    "df[\"Y\"]>1"
   ],
   "metadata": {
    "collapsed": false
   }
  },
  {
   "cell_type": "markdown",
   "source": [
    "# & and |"
   ],
   "metadata": {
    "collapsed": false
   }
  },
  {
   "cell_type": "code",
   "execution_count": 57,
   "outputs": [
    {
     "data": {
      "text/plain": "A    False\nB    False\nC    False\nD    False\nE    False\ndtype: bool"
     },
     "execution_count": 57,
     "metadata": {},
     "output_type": "execute_result"
    }
   ],
   "source": [
    "(df[\"W\"]>0)&(df[\"Y\"]>1)"
   ],
   "metadata": {
    "collapsed": false
   }
  },
  {
   "cell_type": "code",
   "execution_count": 59,
   "outputs": [
    {
     "data": {
      "text/plain": "Empty DataFrame\nColumns: [W, X, Y, Z]\nIndex: []",
      "text/html": "<div>\n<style scoped>\n    .dataframe tbody tr th:only-of-type {\n        vertical-align: middle;\n    }\n\n    .dataframe tbody tr th {\n        vertical-align: top;\n    }\n\n    .dataframe thead th {\n        text-align: right;\n    }\n</style>\n<table border=\"1\" class=\"dataframe\">\n  <thead>\n    <tr style=\"text-align: right;\">\n      <th></th>\n      <th>W</th>\n      <th>X</th>\n      <th>Y</th>\n      <th>Z</th>\n    </tr>\n  </thead>\n  <tbody>\n  </tbody>\n</table>\n</div>"
     },
     "execution_count": 59,
     "metadata": {},
     "output_type": "execute_result"
    }
   ],
   "source": [
    "df[(df[\"W\"]>0)&(df[\"Y\"]>1)]\n"
   ],
   "metadata": {
    "collapsed": false
   }
  },
  {
   "cell_type": "code",
   "execution_count": 60,
   "outputs": [
    {
     "data": {
      "text/plain": "A     True\nB     True\nC    False\nD    False\nE    False\ndtype: bool"
     },
     "execution_count": 60,
     "metadata": {},
     "output_type": "execute_result"
    }
   ],
   "source": [
    "(df[\"W\"]>0)|(df[\"Y\"]>1)"
   ],
   "metadata": {
    "collapsed": false
   }
  },
  {
   "cell_type": "code",
   "execution_count": 61,
   "outputs": [
    {
     "data": {
      "text/plain": "          W         X         Y         Z\nA  1.523030 -0.234153 -0.234137  1.579213\nB  0.767435 -0.469474  0.542560 -0.463418",
      "text/html": "<div>\n<style scoped>\n    .dataframe tbody tr th:only-of-type {\n        vertical-align: middle;\n    }\n\n    .dataframe tbody tr th {\n        vertical-align: top;\n    }\n\n    .dataframe thead th {\n        text-align: right;\n    }\n</style>\n<table border=\"1\" class=\"dataframe\">\n  <thead>\n    <tr style=\"text-align: right;\">\n      <th></th>\n      <th>W</th>\n      <th>X</th>\n      <th>Y</th>\n      <th>Z</th>\n    </tr>\n  </thead>\n  <tbody>\n    <tr>\n      <th>A</th>\n      <td>1.523030</td>\n      <td>-0.234153</td>\n      <td>-0.234137</td>\n      <td>1.579213</td>\n    </tr>\n    <tr>\n      <th>B</th>\n      <td>0.767435</td>\n      <td>-0.469474</td>\n      <td>0.542560</td>\n      <td>-0.463418</td>\n    </tr>\n  </tbody>\n</table>\n</div>"
     },
     "execution_count": 61,
     "metadata": {},
     "output_type": "execute_result"
    }
   ],
   "source": [
    "df[(df[\"W\"]>0)|(df[\"Y\"]>1)]"
   ],
   "metadata": {
    "collapsed": false
   }
  },
  {
   "cell_type": "markdown",
   "source": [
    "# Другие примеры индексации"
   ],
   "metadata": {
    "collapsed": false
   }
  },
  {
   "cell_type": "code",
   "execution_count": 62,
   "outputs": [
    {
     "data": {
      "text/plain": "          W         X         Y         Z\nA  1.523030 -0.234153 -0.234137  1.579213\nB  0.767435 -0.469474  0.542560 -0.463418\nC -0.465730  0.241962 -1.913280 -1.724918\nD -0.562288 -1.012831  0.314247 -0.908024\nE -1.412304  1.465649 -0.225776  0.067528",
      "text/html": "<div>\n<style scoped>\n    .dataframe tbody tr th:only-of-type {\n        vertical-align: middle;\n    }\n\n    .dataframe tbody tr th {\n        vertical-align: top;\n    }\n\n    .dataframe thead th {\n        text-align: right;\n    }\n</style>\n<table border=\"1\" class=\"dataframe\">\n  <thead>\n    <tr style=\"text-align: right;\">\n      <th></th>\n      <th>W</th>\n      <th>X</th>\n      <th>Y</th>\n      <th>Z</th>\n    </tr>\n  </thead>\n  <tbody>\n    <tr>\n      <th>A</th>\n      <td>1.523030</td>\n      <td>-0.234153</td>\n      <td>-0.234137</td>\n      <td>1.579213</td>\n    </tr>\n    <tr>\n      <th>B</th>\n      <td>0.767435</td>\n      <td>-0.469474</td>\n      <td>0.542560</td>\n      <td>-0.463418</td>\n    </tr>\n    <tr>\n      <th>C</th>\n      <td>-0.465730</td>\n      <td>0.241962</td>\n      <td>-1.913280</td>\n      <td>-1.724918</td>\n    </tr>\n    <tr>\n      <th>D</th>\n      <td>-0.562288</td>\n      <td>-1.012831</td>\n      <td>0.314247</td>\n      <td>-0.908024</td>\n    </tr>\n    <tr>\n      <th>E</th>\n      <td>-1.412304</td>\n      <td>1.465649</td>\n      <td>-0.225776</td>\n      <td>0.067528</td>\n    </tr>\n  </tbody>\n</table>\n</div>"
     },
     "execution_count": 62,
     "metadata": {},
     "output_type": "execute_result"
    }
   ],
   "source": [
    "df"
   ],
   "metadata": {
    "collapsed": false
   }
  },
  {
   "cell_type": "code",
   "execution_count": 63,
   "outputs": [
    {
     "data": {
      "text/plain": "  index         W         X         Y         Z\n0     A  1.523030 -0.234153 -0.234137  1.579213\n1     B  0.767435 -0.469474  0.542560 -0.463418\n2     C -0.465730  0.241962 -1.913280 -1.724918\n3     D -0.562288 -1.012831  0.314247 -0.908024\n4     E -1.412304  1.465649 -0.225776  0.067528",
      "text/html": "<div>\n<style scoped>\n    .dataframe tbody tr th:only-of-type {\n        vertical-align: middle;\n    }\n\n    .dataframe tbody tr th {\n        vertical-align: top;\n    }\n\n    .dataframe thead th {\n        text-align: right;\n    }\n</style>\n<table border=\"1\" class=\"dataframe\">\n  <thead>\n    <tr style=\"text-align: right;\">\n      <th></th>\n      <th>index</th>\n      <th>W</th>\n      <th>X</th>\n      <th>Y</th>\n      <th>Z</th>\n    </tr>\n  </thead>\n  <tbody>\n    <tr>\n      <th>0</th>\n      <td>A</td>\n      <td>1.523030</td>\n      <td>-0.234153</td>\n      <td>-0.234137</td>\n      <td>1.579213</td>\n    </tr>\n    <tr>\n      <th>1</th>\n      <td>B</td>\n      <td>0.767435</td>\n      <td>-0.469474</td>\n      <td>0.542560</td>\n      <td>-0.463418</td>\n    </tr>\n    <tr>\n      <th>2</th>\n      <td>C</td>\n      <td>-0.465730</td>\n      <td>0.241962</td>\n      <td>-1.913280</td>\n      <td>-1.724918</td>\n    </tr>\n    <tr>\n      <th>3</th>\n      <td>D</td>\n      <td>-0.562288</td>\n      <td>-1.012831</td>\n      <td>0.314247</td>\n      <td>-0.908024</td>\n    </tr>\n    <tr>\n      <th>4</th>\n      <td>E</td>\n      <td>-1.412304</td>\n      <td>1.465649</td>\n      <td>-0.225776</td>\n      <td>0.067528</td>\n    </tr>\n  </tbody>\n</table>\n</div>"
     },
     "execution_count": 63,
     "metadata": {},
     "output_type": "execute_result"
    }
   ],
   "source": [
    "df.reset_index()"
   ],
   "metadata": {
    "collapsed": false
   }
  },
  {
   "cell_type": "code",
   "execution_count": 65,
   "outputs": [
    {
     "data": {
      "text/plain": "['ALA', 'AST', 'SHY', 'ATY', 'KOS']"
     },
     "execution_count": 65,
     "metadata": {},
     "output_type": "execute_result"
    }
   ],
   "source": [
    "newind=\"ALA AST SHY ATY KOS\".split()\n",
    "newind"
   ],
   "metadata": {
    "collapsed": false
   }
  },
  {
   "cell_type": "code",
   "execution_count": 66,
   "outputs": [],
   "source": [
    "df[\"City\"]=newind"
   ],
   "metadata": {
    "collapsed": false
   }
  },
  {
   "cell_type": "code",
   "execution_count": 67,
   "outputs": [
    {
     "data": {
      "text/plain": "          W         X         Y         Z City\nA  1.523030 -0.234153 -0.234137  1.579213  ALA\nB  0.767435 -0.469474  0.542560 -0.463418  AST\nC -0.465730  0.241962 -1.913280 -1.724918  SHY\nD -0.562288 -1.012831  0.314247 -0.908024  ATY\nE -1.412304  1.465649 -0.225776  0.067528  KOS",
      "text/html": "<div>\n<style scoped>\n    .dataframe tbody tr th:only-of-type {\n        vertical-align: middle;\n    }\n\n    .dataframe tbody tr th {\n        vertical-align: top;\n    }\n\n    .dataframe thead th {\n        text-align: right;\n    }\n</style>\n<table border=\"1\" class=\"dataframe\">\n  <thead>\n    <tr style=\"text-align: right;\">\n      <th></th>\n      <th>W</th>\n      <th>X</th>\n      <th>Y</th>\n      <th>Z</th>\n      <th>City</th>\n    </tr>\n  </thead>\n  <tbody>\n    <tr>\n      <th>A</th>\n      <td>1.523030</td>\n      <td>-0.234153</td>\n      <td>-0.234137</td>\n      <td>1.579213</td>\n      <td>ALA</td>\n    </tr>\n    <tr>\n      <th>B</th>\n      <td>0.767435</td>\n      <td>-0.469474</td>\n      <td>0.542560</td>\n      <td>-0.463418</td>\n      <td>AST</td>\n    </tr>\n    <tr>\n      <th>C</th>\n      <td>-0.465730</td>\n      <td>0.241962</td>\n      <td>-1.913280</td>\n      <td>-1.724918</td>\n      <td>SHY</td>\n    </tr>\n    <tr>\n      <th>D</th>\n      <td>-0.562288</td>\n      <td>-1.012831</td>\n      <td>0.314247</td>\n      <td>-0.908024</td>\n      <td>ATY</td>\n    </tr>\n    <tr>\n      <th>E</th>\n      <td>-1.412304</td>\n      <td>1.465649</td>\n      <td>-0.225776</td>\n      <td>0.067528</td>\n      <td>KOS</td>\n    </tr>\n  </tbody>\n</table>\n</div>"
     },
     "execution_count": 67,
     "metadata": {},
     "output_type": "execute_result"
    }
   ],
   "source": [
    "df"
   ],
   "metadata": {
    "collapsed": false
   }
  },
  {
   "cell_type": "code",
   "execution_count": 68,
   "outputs": [
    {
     "data": {
      "text/plain": "             W         X         Y         Z\nCity                                        \nALA   1.523030 -0.234153 -0.234137  1.579213\nAST   0.767435 -0.469474  0.542560 -0.463418\nSHY  -0.465730  0.241962 -1.913280 -1.724918\nATY  -0.562288 -1.012831  0.314247 -0.908024\nKOS  -1.412304  1.465649 -0.225776  0.067528",
      "text/html": "<div>\n<style scoped>\n    .dataframe tbody tr th:only-of-type {\n        vertical-align: middle;\n    }\n\n    .dataframe tbody tr th {\n        vertical-align: top;\n    }\n\n    .dataframe thead th {\n        text-align: right;\n    }\n</style>\n<table border=\"1\" class=\"dataframe\">\n  <thead>\n    <tr style=\"text-align: right;\">\n      <th></th>\n      <th>W</th>\n      <th>X</th>\n      <th>Y</th>\n      <th>Z</th>\n    </tr>\n    <tr>\n      <th>City</th>\n      <th></th>\n      <th></th>\n      <th></th>\n      <th></th>\n    </tr>\n  </thead>\n  <tbody>\n    <tr>\n      <th>ALA</th>\n      <td>1.523030</td>\n      <td>-0.234153</td>\n      <td>-0.234137</td>\n      <td>1.579213</td>\n    </tr>\n    <tr>\n      <th>AST</th>\n      <td>0.767435</td>\n      <td>-0.469474</td>\n      <td>0.542560</td>\n      <td>-0.463418</td>\n    </tr>\n    <tr>\n      <th>SHY</th>\n      <td>-0.465730</td>\n      <td>0.241962</td>\n      <td>-1.913280</td>\n      <td>-1.724918</td>\n    </tr>\n    <tr>\n      <th>ATY</th>\n      <td>-0.562288</td>\n      <td>-1.012831</td>\n      <td>0.314247</td>\n      <td>-0.908024</td>\n    </tr>\n    <tr>\n      <th>KOS</th>\n      <td>-1.412304</td>\n      <td>1.465649</td>\n      <td>-0.225776</td>\n      <td>0.067528</td>\n    </tr>\n  </tbody>\n</table>\n</div>"
     },
     "execution_count": 68,
     "metadata": {},
     "output_type": "execute_result"
    }
   ],
   "source": [
    "df.set_index(\"City\")"
   ],
   "metadata": {
    "collapsed": false
   }
  },
  {
   "cell_type": "code",
   "execution_count": 69,
   "outputs": [
    {
     "data": {
      "text/plain": "  index         W         X         Y         Z City\n0     A  1.523030 -0.234153 -0.234137  1.579213  ALA\n1     B  0.767435 -0.469474  0.542560 -0.463418  AST\n2     C -0.465730  0.241962 -1.913280 -1.724918  SHY\n3     D -0.562288 -1.012831  0.314247 -0.908024  ATY\n4     E -1.412304  1.465649 -0.225776  0.067528  KOS",
      "text/html": "<div>\n<style scoped>\n    .dataframe tbody tr th:only-of-type {\n        vertical-align: middle;\n    }\n\n    .dataframe tbody tr th {\n        vertical-align: top;\n    }\n\n    .dataframe thead th {\n        text-align: right;\n    }\n</style>\n<table border=\"1\" class=\"dataframe\">\n  <thead>\n    <tr style=\"text-align: right;\">\n      <th></th>\n      <th>index</th>\n      <th>W</th>\n      <th>X</th>\n      <th>Y</th>\n      <th>Z</th>\n      <th>City</th>\n    </tr>\n  </thead>\n  <tbody>\n    <tr>\n      <th>0</th>\n      <td>A</td>\n      <td>1.523030</td>\n      <td>-0.234153</td>\n      <td>-0.234137</td>\n      <td>1.579213</td>\n      <td>ALA</td>\n    </tr>\n    <tr>\n      <th>1</th>\n      <td>B</td>\n      <td>0.767435</td>\n      <td>-0.469474</td>\n      <td>0.542560</td>\n      <td>-0.463418</td>\n      <td>AST</td>\n    </tr>\n    <tr>\n      <th>2</th>\n      <td>C</td>\n      <td>-0.465730</td>\n      <td>0.241962</td>\n      <td>-1.913280</td>\n      <td>-1.724918</td>\n      <td>SHY</td>\n    </tr>\n    <tr>\n      <th>3</th>\n      <td>D</td>\n      <td>-0.562288</td>\n      <td>-1.012831</td>\n      <td>0.314247</td>\n      <td>-0.908024</td>\n      <td>ATY</td>\n    </tr>\n    <tr>\n      <th>4</th>\n      <td>E</td>\n      <td>-1.412304</td>\n      <td>1.465649</td>\n      <td>-0.225776</td>\n      <td>0.067528</td>\n      <td>KOS</td>\n    </tr>\n  </tbody>\n</table>\n</div>"
     },
     "execution_count": 69,
     "metadata": {},
     "output_type": "execute_result"
    }
   ],
   "source": [
    "df.reset_index()"
   ],
   "metadata": {
    "collapsed": false
   }
  },
  {
   "cell_type": "markdown",
   "source": [
    "# Мульти индекс пример"
   ],
   "metadata": {
    "collapsed": false
   }
  },
  {
   "cell_type": "code",
   "execution_count": 70,
   "outputs": [],
   "source": [
    "outside=[\"G1\",\"G1\",\"G1\",\"G2\",\"G2\",\"G2\"]\n",
    "inside=[1,2,3,1,2,3]"
   ],
   "metadata": {
    "collapsed": false
   }
  },
  {
   "cell_type": "code",
   "execution_count": 71,
   "outputs": [
    {
     "data": {
      "text/plain": "[('G1', 1), ('G1', 2), ('G1', 3), ('G2', 1), ('G2', 2), ('G2', 3)]"
     },
     "execution_count": 71,
     "metadata": {},
     "output_type": "execute_result"
    }
   ],
   "source": [
    "list(zip(outside, inside))"
   ],
   "metadata": {
    "collapsed": false
   }
  },
  {
   "cell_type": "code",
   "execution_count": 74,
   "outputs": [],
   "source": [
    "outside=[\"G1\",\"G1\",\"G1\",\"G2\",\"G2\",\"G2\"]\n",
    "inside=[1,2,3,1,2,3]\n",
    "\n",
    "hier_index=list(zip(outside, inside))\n",
    "hier_index=pd.MultiIndex.from_tuples(hier_index)"
   ],
   "metadata": {
    "collapsed": false
   }
  },
  {
   "cell_type": "code",
   "execution_count": 75,
   "outputs": [
    {
     "data": {
      "text/plain": "MultiIndex([('G1', 1),\n            ('G1', 2),\n            ('G1', 3),\n            ('G2', 1),\n            ('G2', 2),\n            ('G2', 3)],\n           )"
     },
     "execution_count": 75,
     "metadata": {},
     "output_type": "execute_result"
    }
   ],
   "source": [
    "hier_index"
   ],
   "metadata": {
    "collapsed": false
   }
  },
  {
   "cell_type": "code",
   "execution_count": 77,
   "outputs": [
    {
     "data": {
      "text/plain": "             A         B\nG1 1 -1.220844  0.208864\n   2 -1.959670 -1.328186\n   3  0.196861  0.738467\nG2 1  0.171368 -0.115648\n   2 -0.301104 -1.478522\n   3 -0.719844 -0.460639",
      "text/html": "<div>\n<style scoped>\n    .dataframe tbody tr th:only-of-type {\n        vertical-align: middle;\n    }\n\n    .dataframe tbody tr th {\n        vertical-align: top;\n    }\n\n    .dataframe thead th {\n        text-align: right;\n    }\n</style>\n<table border=\"1\" class=\"dataframe\">\n  <thead>\n    <tr style=\"text-align: right;\">\n      <th></th>\n      <th></th>\n      <th>A</th>\n      <th>B</th>\n    </tr>\n  </thead>\n  <tbody>\n    <tr>\n      <th rowspan=\"3\" valign=\"top\">G1</th>\n      <th>1</th>\n      <td>-1.220844</td>\n      <td>0.208864</td>\n    </tr>\n    <tr>\n      <th>2</th>\n      <td>-1.959670</td>\n      <td>-1.328186</td>\n    </tr>\n    <tr>\n      <th>3</th>\n      <td>0.196861</td>\n      <td>0.738467</td>\n    </tr>\n    <tr>\n      <th rowspan=\"3\" valign=\"top\">G2</th>\n      <th>1</th>\n      <td>0.171368</td>\n      <td>-0.115648</td>\n    </tr>\n    <tr>\n      <th>2</th>\n      <td>-0.301104</td>\n      <td>-1.478522</td>\n    </tr>\n    <tr>\n      <th>3</th>\n      <td>-0.719844</td>\n      <td>-0.460639</td>\n    </tr>\n  </tbody>\n</table>\n</div>"
     },
     "execution_count": 77,
     "metadata": {},
     "output_type": "execute_result"
    }
   ],
   "source": [
    "df=pd.DataFrame(np.random.randn(6,2), index=hier_index, columns=\"A B\".split())\n",
    "df"
   ],
   "metadata": {
    "collapsed": false
   }
  },
  {
   "cell_type": "code",
   "execution_count": 78,
   "outputs": [
    {
     "data": {
      "text/plain": "          A         B\n1 -1.220844  0.208864\n2 -1.959670 -1.328186\n3  0.196861  0.738467",
      "text/html": "<div>\n<style scoped>\n    .dataframe tbody tr th:only-of-type {\n        vertical-align: middle;\n    }\n\n    .dataframe tbody tr th {\n        vertical-align: top;\n    }\n\n    .dataframe thead th {\n        text-align: right;\n    }\n</style>\n<table border=\"1\" class=\"dataframe\">\n  <thead>\n    <tr style=\"text-align: right;\">\n      <th></th>\n      <th>A</th>\n      <th>B</th>\n    </tr>\n  </thead>\n  <tbody>\n    <tr>\n      <th>1</th>\n      <td>-1.220844</td>\n      <td>0.208864</td>\n    </tr>\n    <tr>\n      <th>2</th>\n      <td>-1.959670</td>\n      <td>-1.328186</td>\n    </tr>\n    <tr>\n      <th>3</th>\n      <td>0.196861</td>\n      <td>0.738467</td>\n    </tr>\n  </tbody>\n</table>\n</div>"
     },
     "execution_count": 78,
     "metadata": {},
     "output_type": "execute_result"
    }
   ],
   "source": [
    "df.loc[\"G1\"]"
   ],
   "metadata": {
    "collapsed": false
   }
  },
  {
   "cell_type": "code",
   "execution_count": 79,
   "outputs": [
    {
     "data": {
      "text/plain": "A   -1.220844\nB    0.208864\nName: 1, dtype: float64"
     },
     "execution_count": 79,
     "metadata": {},
     "output_type": "execute_result"
    }
   ],
   "source": [
    "df.loc[\"G1\"].loc[1]"
   ],
   "metadata": {
    "collapsed": false
   }
  },
  {
   "cell_type": "code",
   "execution_count": 81,
   "outputs": [
    {
     "data": {
      "text/plain": "FrozenList([None, None])"
     },
     "execution_count": 81,
     "metadata": {},
     "output_type": "execute_result"
    }
   ],
   "source": [
    "df.index.names"
   ],
   "metadata": {
    "collapsed": false
   }
  },
  {
   "cell_type": "code",
   "execution_count": 82,
   "outputs": [],
   "source": [
    "df.index.names=[\"Group\", \"Num\"]"
   ],
   "metadata": {
    "collapsed": false
   }
  },
  {
   "cell_type": "code",
   "execution_count": 83,
   "outputs": [
    {
     "data": {
      "text/plain": "                  A         B\nGroup Num                    \nG1    1   -1.220844  0.208864\n      2   -1.959670 -1.328186\n      3    0.196861  0.738467\nG2    1    0.171368 -0.115648\n      2   -0.301104 -1.478522\n      3   -0.719844 -0.460639",
      "text/html": "<div>\n<style scoped>\n    .dataframe tbody tr th:only-of-type {\n        vertical-align: middle;\n    }\n\n    .dataframe tbody tr th {\n        vertical-align: top;\n    }\n\n    .dataframe thead th {\n        text-align: right;\n    }\n</style>\n<table border=\"1\" class=\"dataframe\">\n  <thead>\n    <tr style=\"text-align: right;\">\n      <th></th>\n      <th></th>\n      <th>A</th>\n      <th>B</th>\n    </tr>\n    <tr>\n      <th>Group</th>\n      <th>Num</th>\n      <th></th>\n      <th></th>\n    </tr>\n  </thead>\n  <tbody>\n    <tr>\n      <th rowspan=\"3\" valign=\"top\">G1</th>\n      <th>1</th>\n      <td>-1.220844</td>\n      <td>0.208864</td>\n    </tr>\n    <tr>\n      <th>2</th>\n      <td>-1.959670</td>\n      <td>-1.328186</td>\n    </tr>\n    <tr>\n      <th>3</th>\n      <td>0.196861</td>\n      <td>0.738467</td>\n    </tr>\n    <tr>\n      <th rowspan=\"3\" valign=\"top\">G2</th>\n      <th>1</th>\n      <td>0.171368</td>\n      <td>-0.115648</td>\n    </tr>\n    <tr>\n      <th>2</th>\n      <td>-0.301104</td>\n      <td>-1.478522</td>\n    </tr>\n    <tr>\n      <th>3</th>\n      <td>-0.719844</td>\n      <td>-0.460639</td>\n    </tr>\n  </tbody>\n</table>\n</div>"
     },
     "execution_count": 83,
     "metadata": {},
     "output_type": "execute_result"
    }
   ],
   "source": [
    "df"
   ],
   "metadata": {
    "collapsed": false
   }
  },
  {
   "cell_type": "code",
   "execution_count": 84,
   "outputs": [
    {
     "data": {
      "text/plain": "            A         B\nNum                    \n1   -1.220844  0.208864\n2   -1.959670 -1.328186\n3    0.196861  0.738467",
      "text/html": "<div>\n<style scoped>\n    .dataframe tbody tr th:only-of-type {\n        vertical-align: middle;\n    }\n\n    .dataframe tbody tr th {\n        vertical-align: top;\n    }\n\n    .dataframe thead th {\n        text-align: right;\n    }\n</style>\n<table border=\"1\" class=\"dataframe\">\n  <thead>\n    <tr style=\"text-align: right;\">\n      <th></th>\n      <th>A</th>\n      <th>B</th>\n    </tr>\n    <tr>\n      <th>Num</th>\n      <th></th>\n      <th></th>\n    </tr>\n  </thead>\n  <tbody>\n    <tr>\n      <th>1</th>\n      <td>-1.220844</td>\n      <td>0.208864</td>\n    </tr>\n    <tr>\n      <th>2</th>\n      <td>-1.959670</td>\n      <td>-1.328186</td>\n    </tr>\n    <tr>\n      <th>3</th>\n      <td>0.196861</td>\n      <td>0.738467</td>\n    </tr>\n  </tbody>\n</table>\n</div>"
     },
     "execution_count": 84,
     "metadata": {},
     "output_type": "execute_result"
    }
   ],
   "source": [
    "df.xs(\"G1\")"
   ],
   "metadata": {
    "collapsed": false
   }
  },
  {
   "cell_type": "code",
   "execution_count": 85,
   "outputs": [
    {
     "name": "stderr",
     "output_type": "stream",
     "text": [
      "C:\\Users\\bakhtiyar kolzhabai\\AppData\\Local\\Temp\\ipykernel_21164\\4181962490.py:1: FutureWarning: Passing lists as key for xs is deprecated and will be removed in a future version. Pass key as a tuple instead.\n",
      "  df.xs([\"G1\",1])\n"
     ]
    },
    {
     "data": {
      "text/plain": "A   -1.220844\nB    0.208864\nName: (G1, 1), dtype: float64"
     },
     "execution_count": 85,
     "metadata": {},
     "output_type": "execute_result"
    }
   ],
   "source": [
    "df.xs([\"G1\",1])"
   ],
   "metadata": {
    "collapsed": false
   }
  },
  {
   "cell_type": "code",
   "execution_count": 86,
   "outputs": [
    {
     "data": {
      "text/plain": "              A         B\nGroup                    \nG1    -1.220844  0.208864\nG2     0.171368 -0.115648",
      "text/html": "<div>\n<style scoped>\n    .dataframe tbody tr th:only-of-type {\n        vertical-align: middle;\n    }\n\n    .dataframe tbody tr th {\n        vertical-align: top;\n    }\n\n    .dataframe thead th {\n        text-align: right;\n    }\n</style>\n<table border=\"1\" class=\"dataframe\">\n  <thead>\n    <tr style=\"text-align: right;\">\n      <th></th>\n      <th>A</th>\n      <th>B</th>\n    </tr>\n    <tr>\n      <th>Group</th>\n      <th></th>\n      <th></th>\n    </tr>\n  </thead>\n  <tbody>\n    <tr>\n      <th>G1</th>\n      <td>-1.220844</td>\n      <td>0.208864</td>\n    </tr>\n    <tr>\n      <th>G2</th>\n      <td>0.171368</td>\n      <td>-0.115648</td>\n    </tr>\n  </tbody>\n</table>\n</div>"
     },
     "execution_count": 86,
     "metadata": {},
     "output_type": "execute_result"
    }
   ],
   "source": [
    "df.xs(1,level=\"Num\")"
   ],
   "metadata": {
    "collapsed": false
   }
  },
  {
   "cell_type": "code",
   "execution_count": 87,
   "outputs": [
    {
     "data": {
      "text/plain": "                  A         B\nGroup Num                    \nG1    1   -1.220844  0.208864\n      2   -1.959670 -1.328186\n      3    0.196861  0.738467\nG2    1    0.171368 -0.115648\n      2   -0.301104 -1.478522\n      3   -0.719844 -0.460639",
      "text/html": "<div>\n<style scoped>\n    .dataframe tbody tr th:only-of-type {\n        vertical-align: middle;\n    }\n\n    .dataframe tbody tr th {\n        vertical-align: top;\n    }\n\n    .dataframe thead th {\n        text-align: right;\n    }\n</style>\n<table border=\"1\" class=\"dataframe\">\n  <thead>\n    <tr style=\"text-align: right;\">\n      <th></th>\n      <th></th>\n      <th>A</th>\n      <th>B</th>\n    </tr>\n    <tr>\n      <th>Group</th>\n      <th>Num</th>\n      <th></th>\n      <th></th>\n    </tr>\n  </thead>\n  <tbody>\n    <tr>\n      <th rowspan=\"3\" valign=\"top\">G1</th>\n      <th>1</th>\n      <td>-1.220844</td>\n      <td>0.208864</td>\n    </tr>\n    <tr>\n      <th>2</th>\n      <td>-1.959670</td>\n      <td>-1.328186</td>\n    </tr>\n    <tr>\n      <th>3</th>\n      <td>0.196861</td>\n      <td>0.738467</td>\n    </tr>\n    <tr>\n      <th rowspan=\"3\" valign=\"top\">G2</th>\n      <th>1</th>\n      <td>0.171368</td>\n      <td>-0.115648</td>\n    </tr>\n    <tr>\n      <th>2</th>\n      <td>-0.301104</td>\n      <td>-1.478522</td>\n    </tr>\n    <tr>\n      <th>3</th>\n      <td>-0.719844</td>\n      <td>-0.460639</td>\n    </tr>\n  </tbody>\n</table>\n</div>"
     },
     "execution_count": 87,
     "metadata": {},
     "output_type": "execute_result"
    }
   ],
   "source": [
    "df"
   ],
   "metadata": {
    "collapsed": false
   }
  },
  {
   "cell_type": "code",
   "execution_count": null,
   "outputs": [],
   "source": [],
   "metadata": {
    "collapsed": false
   }
  }
 ],
 "metadata": {
  "kernelspec": {
   "display_name": "Python 3",
   "language": "python",
   "name": "python3"
  },
  "language_info": {
   "codemirror_mode": {
    "name": "ipython",
    "version": 2
   },
   "file_extension": ".py",
   "mimetype": "text/x-python",
   "name": "python",
   "nbconvert_exporter": "python",
   "pygments_lexer": "ipython2",
   "version": "2.7.6"
  }
 },
 "nbformat": 4,
 "nbformat_minor": 0
}
