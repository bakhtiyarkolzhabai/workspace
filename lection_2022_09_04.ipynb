{
 "cells": [
  {
   "cell_type": "code",
   "execution_count": 20,
   "metadata": {
    "collapsed": true
   },
   "outputs": [],
   "source": [
    "import pandas as pd"
   ]
  },
  {
   "cell_type": "code",
   "execution_count": 21,
   "outputs": [
    {
     "data": {
      "text/plain": "       Номер     Дата создания       Дата оплаты  \\\n0    1062823  01.12.2019 10:50  01.12.2019 10:52   \n1    1062855  01.12.2019 20:53  01.12.2019 21:27   \n2    1062856  01.12.2019 21:43               NaN   \n3    1062880   03.12.2019 0:18               NaN   \n4    1062899  03.12.2019 21:43               NaN   \n..       ...               ...               ...   \n287  1064720   30.12.2019 9:42  30.12.2019 12:49   \n288  1064724  30.12.2019 11:32               NaN   \n289  1064775   31.12.2019 2:17   31.12.2019 2:22   \n290  1064793  31.12.2019 16:40  01.01.2020 14:29   \n291  1064796  31.12.2019 17:29  31.12.2019 17:32   \n\n                                                 Title    Статус  Заработано  \\\n0                              Курс обучения «Эксперт»  Завершен    29597.50   \n1                              Курс обучения «Эксперт»  Завершен    17450.30   \n2                           Курс обучения «Специалист»   Отменен        0.00   \n3                          Курс обучения «Консультант»   Отменен        0.00   \n4                              Курс обучения «Эксперт»   Отменен        0.00   \n..                                                 ...       ...         ...   \n287  Подписка «ОНЛАЙН ДИЕТОЛОГ» с ежемесячным автос...  Завершен     2935.44   \n288                        Курс обучения «Консультант»   Отменен        0.00   \n289                        Курс обучения «Консультант»  Завершен     7423.92   \n290  Подписка «ОНЛАЙН ДИЕТОЛОГ» с ежемесячным автос...  Завершен     2935.44   \n291  Курс от Школы Диетологов. Повышение квалификац...  Завершен     9898.56   \n\n                             Город                 Платежная система  \n0                             Чита                Сбербанк эквайринг  \n1                        Краснодар                      Яндекс.Касса  \n2                              NaN                               NaN  \n3    г.Москва и Московская область                               NaN  \n4    г.Москва и Московская область                               NaN  \n..                             ...                               ...  \n287              Самарская область                      Яндекс.Касса  \n288                            NaN                               NaN  \n289                            NaN  Сбербанк эквайринг,Бонусный счет  \n290             Республика Карелия                      Яндекс.Касса  \n291                            Уфа  Сбербанк эквайринг,Бонусный счет  \n\n[292 rows x 8 columns]",
      "text/html": "<div>\n<style scoped>\n    .dataframe tbody tr th:only-of-type {\n        vertical-align: middle;\n    }\n\n    .dataframe tbody tr th {\n        vertical-align: top;\n    }\n\n    .dataframe thead th {\n        text-align: right;\n    }\n</style>\n<table border=\"1\" class=\"dataframe\">\n  <thead>\n    <tr style=\"text-align: right;\">\n      <th></th>\n      <th>Номер</th>\n      <th>Дата создания</th>\n      <th>Дата оплаты</th>\n      <th>Title</th>\n      <th>Статус</th>\n      <th>Заработано</th>\n      <th>Город</th>\n      <th>Платежная система</th>\n    </tr>\n  </thead>\n  <tbody>\n    <tr>\n      <th>0</th>\n      <td>1062823</td>\n      <td>01.12.2019 10:50</td>\n      <td>01.12.2019 10:52</td>\n      <td>Курс обучения «Эксперт»</td>\n      <td>Завершен</td>\n      <td>29597.50</td>\n      <td>Чита</td>\n      <td>Сбербанк эквайринг</td>\n    </tr>\n    <tr>\n      <th>1</th>\n      <td>1062855</td>\n      <td>01.12.2019 20:53</td>\n      <td>01.12.2019 21:27</td>\n      <td>Курс обучения «Эксперт»</td>\n      <td>Завершен</td>\n      <td>17450.30</td>\n      <td>Краснодар</td>\n      <td>Яндекс.Касса</td>\n    </tr>\n    <tr>\n      <th>2</th>\n      <td>1062856</td>\n      <td>01.12.2019 21:43</td>\n      <td>NaN</td>\n      <td>Курс обучения «Специалист»</td>\n      <td>Отменен</td>\n      <td>0.00</td>\n      <td>NaN</td>\n      <td>NaN</td>\n    </tr>\n    <tr>\n      <th>3</th>\n      <td>1062880</td>\n      <td>03.12.2019 0:18</td>\n      <td>NaN</td>\n      <td>Курс обучения «Консультант»</td>\n      <td>Отменен</td>\n      <td>0.00</td>\n      <td>г.Москва и Московская область</td>\n      <td>NaN</td>\n    </tr>\n    <tr>\n      <th>4</th>\n      <td>1062899</td>\n      <td>03.12.2019 21:43</td>\n      <td>NaN</td>\n      <td>Курс обучения «Эксперт»</td>\n      <td>Отменен</td>\n      <td>0.00</td>\n      <td>г.Москва и Московская область</td>\n      <td>NaN</td>\n    </tr>\n    <tr>\n      <th>...</th>\n      <td>...</td>\n      <td>...</td>\n      <td>...</td>\n      <td>...</td>\n      <td>...</td>\n      <td>...</td>\n      <td>...</td>\n      <td>...</td>\n    </tr>\n    <tr>\n      <th>287</th>\n      <td>1064720</td>\n      <td>30.12.2019 9:42</td>\n      <td>30.12.2019 12:49</td>\n      <td>Подписка «ОНЛАЙН ДИЕТОЛОГ» с ежемесячным автос...</td>\n      <td>Завершен</td>\n      <td>2935.44</td>\n      <td>Самарская область</td>\n      <td>Яндекс.Касса</td>\n    </tr>\n    <tr>\n      <th>288</th>\n      <td>1064724</td>\n      <td>30.12.2019 11:32</td>\n      <td>NaN</td>\n      <td>Курс обучения «Консультант»</td>\n      <td>Отменен</td>\n      <td>0.00</td>\n      <td>NaN</td>\n      <td>NaN</td>\n    </tr>\n    <tr>\n      <th>289</th>\n      <td>1064775</td>\n      <td>31.12.2019 2:17</td>\n      <td>31.12.2019 2:22</td>\n      <td>Курс обучения «Консультант»</td>\n      <td>Завершен</td>\n      <td>7423.92</td>\n      <td>NaN</td>\n      <td>Сбербанк эквайринг,Бонусный счет</td>\n    </tr>\n    <tr>\n      <th>290</th>\n      <td>1064793</td>\n      <td>31.12.2019 16:40</td>\n      <td>01.01.2020 14:29</td>\n      <td>Подписка «ОНЛАЙН ДИЕТОЛОГ» с ежемесячным автос...</td>\n      <td>Завершен</td>\n      <td>2935.44</td>\n      <td>Республика Карелия</td>\n      <td>Яндекс.Касса</td>\n    </tr>\n    <tr>\n      <th>291</th>\n      <td>1064796</td>\n      <td>31.12.2019 17:29</td>\n      <td>31.12.2019 17:32</td>\n      <td>Курс от Школы Диетологов. Повышение квалификац...</td>\n      <td>Завершен</td>\n      <td>9898.56</td>\n      <td>Уфа</td>\n      <td>Сбербанк эквайринг,Бонусный счет</td>\n    </tr>\n  </tbody>\n</table>\n<p>292 rows × 8 columns</p>\n</div>"
     },
     "execution_count": 21,
     "metadata": {},
     "output_type": "execute_result"
    }
   ],
   "source": [
    "# Open file\n",
    "df=pd.read_csv(r'https://stepik.org/media/attachments/lesson/383514/lesson_1_data.csv', encoding='windows 1251', sep=';')\n",
    "df"
   ],
   "metadata": {
    "collapsed": false
   }
  },
  {
   "cell_type": "markdown",
   "source": [
    "df.tail()\n",
    "df shape\n",
    "\n",
    "# Тип данных\n",
    "df.dtypes\n",
    "# Метод описания по базовой аналитике\n",
    "df.describe()\n",
    "# Метод выбора\n",
    "df[['title','number']]"
   ],
   "metadata": {
    "collapsed": false
   }
  },
  {
   "cell_type": "code",
   "execution_count": 22,
   "outputs": [
    {
     "data": {
      "text/plain": "      number       create_data      payment_data  \\\n0    1062823  01.12.2019 10:50  01.12.2019 10:52   \n1    1062855  01.12.2019 20:53  01.12.2019 21:27   \n2    1062856  01.12.2019 21:43               NaN   \n3    1062880   03.12.2019 0:18               NaN   \n4    1062899  03.12.2019 21:43               NaN   \n..       ...               ...               ...   \n287  1064720   30.12.2019 9:42  30.12.2019 12:49   \n288  1064724  30.12.2019 11:32               NaN   \n289  1064775   31.12.2019 2:17   31.12.2019 2:22   \n290  1064793  31.12.2019 16:40  01.01.2020 14:29   \n291  1064796  31.12.2019 17:29  31.12.2019 17:32   \n\n                                                 title    status     money  \\\n0                              Курс обучения «Эксперт»  Завершен  29597.50   \n1                              Курс обучения «Эксперт»  Завершен  17450.30   \n2                           Курс обучения «Специалист»   Отменен      0.00   \n3                          Курс обучения «Консультант»   Отменен      0.00   \n4                              Курс обучения «Эксперт»   Отменен      0.00   \n..                                                 ...       ...       ...   \n287  Подписка «ОНЛАЙН ДИЕТОЛОГ» с ежемесячным автос...  Завершен   2935.44   \n288                        Курс обучения «Консультант»   Отменен      0.00   \n289                        Курс обучения «Консультант»  Завершен   7423.92   \n290  Подписка «ОНЛАЙН ДИЕТОЛОГ» с ежемесячным автос...  Завершен   2935.44   \n291  Курс от Школы Диетологов. Повышение квалификац...  Завершен   9898.56   \n\n                              city                    payment_system  \n0                             Чита                Сбербанк эквайринг  \n1                        Краснодар                      Яндекс.Касса  \n2                              NaN                               NaN  \n3    г.Москва и Московская область                               NaN  \n4    г.Москва и Московская область                               NaN  \n..                             ...                               ...  \n287              Самарская область                      Яндекс.Касса  \n288                            NaN                               NaN  \n289                            NaN  Сбербанк эквайринг,Бонусный счет  \n290             Республика Карелия                      Яндекс.Касса  \n291                            Уфа  Сбербанк эквайринг,Бонусный счет  \n\n[292 rows x 8 columns]",
      "text/html": "<div>\n<style scoped>\n    .dataframe tbody tr th:only-of-type {\n        vertical-align: middle;\n    }\n\n    .dataframe tbody tr th {\n        vertical-align: top;\n    }\n\n    .dataframe thead th {\n        text-align: right;\n    }\n</style>\n<table border=\"1\" class=\"dataframe\">\n  <thead>\n    <tr style=\"text-align: right;\">\n      <th></th>\n      <th>number</th>\n      <th>create_data</th>\n      <th>payment_data</th>\n      <th>title</th>\n      <th>status</th>\n      <th>money</th>\n      <th>city</th>\n      <th>payment_system</th>\n    </tr>\n  </thead>\n  <tbody>\n    <tr>\n      <th>0</th>\n      <td>1062823</td>\n      <td>01.12.2019 10:50</td>\n      <td>01.12.2019 10:52</td>\n      <td>Курс обучения «Эксперт»</td>\n      <td>Завершен</td>\n      <td>29597.50</td>\n      <td>Чита</td>\n      <td>Сбербанк эквайринг</td>\n    </tr>\n    <tr>\n      <th>1</th>\n      <td>1062855</td>\n      <td>01.12.2019 20:53</td>\n      <td>01.12.2019 21:27</td>\n      <td>Курс обучения «Эксперт»</td>\n      <td>Завершен</td>\n      <td>17450.30</td>\n      <td>Краснодар</td>\n      <td>Яндекс.Касса</td>\n    </tr>\n    <tr>\n      <th>2</th>\n      <td>1062856</td>\n      <td>01.12.2019 21:43</td>\n      <td>NaN</td>\n      <td>Курс обучения «Специалист»</td>\n      <td>Отменен</td>\n      <td>0.00</td>\n      <td>NaN</td>\n      <td>NaN</td>\n    </tr>\n    <tr>\n      <th>3</th>\n      <td>1062880</td>\n      <td>03.12.2019 0:18</td>\n      <td>NaN</td>\n      <td>Курс обучения «Консультант»</td>\n      <td>Отменен</td>\n      <td>0.00</td>\n      <td>г.Москва и Московская область</td>\n      <td>NaN</td>\n    </tr>\n    <tr>\n      <th>4</th>\n      <td>1062899</td>\n      <td>03.12.2019 21:43</td>\n      <td>NaN</td>\n      <td>Курс обучения «Эксперт»</td>\n      <td>Отменен</td>\n      <td>0.00</td>\n      <td>г.Москва и Московская область</td>\n      <td>NaN</td>\n    </tr>\n    <tr>\n      <th>...</th>\n      <td>...</td>\n      <td>...</td>\n      <td>...</td>\n      <td>...</td>\n      <td>...</td>\n      <td>...</td>\n      <td>...</td>\n      <td>...</td>\n    </tr>\n    <tr>\n      <th>287</th>\n      <td>1064720</td>\n      <td>30.12.2019 9:42</td>\n      <td>30.12.2019 12:49</td>\n      <td>Подписка «ОНЛАЙН ДИЕТОЛОГ» с ежемесячным автос...</td>\n      <td>Завершен</td>\n      <td>2935.44</td>\n      <td>Самарская область</td>\n      <td>Яндекс.Касса</td>\n    </tr>\n    <tr>\n      <th>288</th>\n      <td>1064724</td>\n      <td>30.12.2019 11:32</td>\n      <td>NaN</td>\n      <td>Курс обучения «Консультант»</td>\n      <td>Отменен</td>\n      <td>0.00</td>\n      <td>NaN</td>\n      <td>NaN</td>\n    </tr>\n    <tr>\n      <th>289</th>\n      <td>1064775</td>\n      <td>31.12.2019 2:17</td>\n      <td>31.12.2019 2:22</td>\n      <td>Курс обучения «Консультант»</td>\n      <td>Завершен</td>\n      <td>7423.92</td>\n      <td>NaN</td>\n      <td>Сбербанк эквайринг,Бонусный счет</td>\n    </tr>\n    <tr>\n      <th>290</th>\n      <td>1064793</td>\n      <td>31.12.2019 16:40</td>\n      <td>01.01.2020 14:29</td>\n      <td>Подписка «ОНЛАЙН ДИЕТОЛОГ» с ежемесячным автос...</td>\n      <td>Завершен</td>\n      <td>2935.44</td>\n      <td>Республика Карелия</td>\n      <td>Яндекс.Касса</td>\n    </tr>\n    <tr>\n      <th>291</th>\n      <td>1064796</td>\n      <td>31.12.2019 17:29</td>\n      <td>31.12.2019 17:32</td>\n      <td>Курс от Школы Диетологов. Повышение квалификац...</td>\n      <td>Завершен</td>\n      <td>9898.56</td>\n      <td>Уфа</td>\n      <td>Сбербанк эквайринг,Бонусный счет</td>\n    </tr>\n  </tbody>\n</table>\n<p>292 rows × 8 columns</p>\n</div>"
     },
     "execution_count": 22,
     "metadata": {},
     "output_type": "execute_result"
    }
   ],
   "source": [
    "df=df.rename(columns={'Номер': 'number','Дата создания': 'create_data' ,'Дата оплаты': 'payment_data',\n",
    "                   'Title': 'title', 'Статус': 'status', 'Заработано': 'money', 'Город': 'city','Платежная система': 'payment_system'})\n",
    "df"
   ],
   "metadata": {
    "collapsed": false
   }
  },
  {
   "cell_type": "code",
   "execution_count": 23,
   "outputs": [
    {
     "data": {
      "text/plain": "992103.59"
     },
     "execution_count": 23,
     "metadata": {},
     "output_type": "execute_result"
    }
   ],
   "source": [
    "all_money=df.money.sum().round(2)\n",
    "all_money"
   ],
   "metadata": {
    "collapsed": false
   }
  },
  {
   "cell_type": "code",
   "execution_count": 24,
   "outputs": [
    {
     "data": {
      "text/plain": "                                                 title  \\\n51                             Курс обучения «Эксперт»   \n156  Подписка «ОНЛАЙН ДИЕТОЛОГ» с ежемесячным автос...   \n39                             Курс обучения «Эксперт»   \n95   Подписка «ОНЛАЙН ДИЕТОЛОГ» с ежемесячным автос...   \n30                          Курс обучения «Специалист»   \n..                                                 ...   \n63   Курс от Школы Диетологов. Повышение квалификац...   \n61   Курс от Школы Диетологов. Повышение квалификац...   \n55                    Курс от Школы Диетологов. Бизнес   \n54                    Курс от Школы Диетологов. Бизнес   \n158  Подписка «ОНЛАЙН ДИЕТОЛОГ» с ежемесячным автос...   \n\n                                          city     money  \n51   г.Санкт-Петербург и Ленинградская область  59195.00  \n156              г.Москва и Московская область  46967.04  \n39                                      Балхаш  42750.00  \n95                          Краснодарский край  38169.78  \n30                                   Краснодар  29695.70  \n..                                         ...       ...  \n63                                    Кемерово      0.00  \n61                               Екатеринбург       0.00  \n55                              Крым Советский      0.00  \n54                                        Киев      0.00  \n158                            нижний Новгород      0.00  \n\n[159 rows x 3 columns]",
      "text/html": "<div>\n<style scoped>\n    .dataframe tbody tr th:only-of-type {\n        vertical-align: middle;\n    }\n\n    .dataframe tbody tr th {\n        vertical-align: top;\n    }\n\n    .dataframe thead th {\n        text-align: right;\n    }\n</style>\n<table border=\"1\" class=\"dataframe\">\n  <thead>\n    <tr style=\"text-align: right;\">\n      <th></th>\n      <th>title</th>\n      <th>city</th>\n      <th>money</th>\n    </tr>\n  </thead>\n  <tbody>\n    <tr>\n      <th>51</th>\n      <td>Курс обучения «Эксперт»</td>\n      <td>г.Санкт-Петербург и Ленинградская область</td>\n      <td>59195.00</td>\n    </tr>\n    <tr>\n      <th>156</th>\n      <td>Подписка «ОНЛАЙН ДИЕТОЛОГ» с ежемесячным автос...</td>\n      <td>г.Москва и Московская область</td>\n      <td>46967.04</td>\n    </tr>\n    <tr>\n      <th>39</th>\n      <td>Курс обучения «Эксперт»</td>\n      <td>Балхаш</td>\n      <td>42750.00</td>\n    </tr>\n    <tr>\n      <th>95</th>\n      <td>Подписка «ОНЛАЙН ДИЕТОЛОГ» с ежемесячным автос...</td>\n      <td>Краснодарский край</td>\n      <td>38169.78</td>\n    </tr>\n    <tr>\n      <th>30</th>\n      <td>Курс обучения «Специалист»</td>\n      <td>Краснодар</td>\n      <td>29695.70</td>\n    </tr>\n    <tr>\n      <th>...</th>\n      <td>...</td>\n      <td>...</td>\n      <td>...</td>\n    </tr>\n    <tr>\n      <th>63</th>\n      <td>Курс от Школы Диетологов. Повышение квалификац...</td>\n      <td>Кемерово</td>\n      <td>0.00</td>\n    </tr>\n    <tr>\n      <th>61</th>\n      <td>Курс от Школы Диетологов. Повышение квалификац...</td>\n      <td>Екатеринбург</td>\n      <td>0.00</td>\n    </tr>\n    <tr>\n      <th>55</th>\n      <td>Курс от Школы Диетологов. Бизнес</td>\n      <td>Крым Советский</td>\n      <td>0.00</td>\n    </tr>\n    <tr>\n      <th>54</th>\n      <td>Курс от Школы Диетологов. Бизнес</td>\n      <td>Киев</td>\n      <td>0.00</td>\n    </tr>\n    <tr>\n      <th>158</th>\n      <td>Подписка «ОНЛАЙН ДИЕТОЛОГ» с ежемесячным автос...</td>\n      <td>нижний Новгород</td>\n      <td>0.00</td>\n    </tr>\n  </tbody>\n</table>\n<p>159 rows × 3 columns</p>\n</div>"
     },
     "execution_count": 24,
     "metadata": {},
     "output_type": "execute_result"
    }
   ],
   "source": [
    "# Сгруппировали по курсу и посчитали сумму денег для каждого типа курса\n",
    "# as_index=False только для группировки по индексу\n",
    "# ascending=False возрастание {да/нет}\n",
    "money_by_city=df.groupby(['title','city'], as_index=False)\\\n",
    "    .agg({'money': 'sum'})\\\n",
    "    .sort_values('money', ascending=False)\n",
    "money_by_city"
   ],
   "metadata": {
    "collapsed": false
   }
  },
  {
   "cell_type": "code",
   "execution_count": 25,
   "outputs": [],
   "source": [
    "# Конвертирование в csv\n",
    "money_by_city.to_csv('money_by_city_2022_09_04.csv', index=False)"
   ],
   "metadata": {
    "collapsed": false
   }
  },
  {
   "cell_type": "markdown",
   "source": [
    "'''TASK 2'''"
   ],
   "metadata": {
    "collapsed": false
   }
  },
  {
   "cell_type": "code",
   "execution_count": 26,
   "outputs": [],
   "source": [
    "money_by_title=df\\\n",
    "    .query('status==\"Завершен\"')\\\n",
    "    .groupby(['title','city'], as_index=False)\\\n",
    "    .agg({'money': 'sum', 'number': 'count'})\\\n",
    "    .sort_values('money', ascending=False)\\\n",
    "    .rename(columns={'number': 'success_orders'})\n"
   ],
   "metadata": {
    "collapsed": false
   }
  },
  {
   "cell_type": "code",
   "execution_count": 27,
   "outputs": [
    {
     "data": {
      "text/plain": "969329.8700000001"
     },
     "execution_count": 27,
     "metadata": {},
     "output_type": "execute_result"
    }
   ],
   "source": [
    "money_by_city.money.sum()"
   ],
   "metadata": {
    "collapsed": false
   }
  },
  {
   "cell_type": "code",
   "execution_count": 27,
   "outputs": [],
   "source": [],
   "metadata": {
    "collapsed": false
   }
  }
 ],
 "metadata": {
  "kernelspec": {
   "display_name": "Python 3",
   "language": "python",
   "name": "python3"
  },
  "language_info": {
   "codemirror_mode": {
    "name": "ipython",
    "version": 2
   },
   "file_extension": ".py",
   "mimetype": "text/x-python",
   "name": "python",
   "nbconvert_exporter": "python",
   "pygments_lexer": "ipython2",
   "version": "2.7.6"
  }
 },
 "nbformat": 4,
 "nbformat_minor": 0
}
