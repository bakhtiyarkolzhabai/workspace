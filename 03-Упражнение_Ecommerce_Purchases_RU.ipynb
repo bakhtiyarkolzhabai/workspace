{
 "cells": [
  {
   "cell_type": "markdown",
   "metadata": {},
   "source": [
    " # Упражнение Ecommerce Purchases - Решение\n",
    "\n",
    "В этом упражнении вам будут предоставлены Fake данные о некоторых покупках, сделанных через Amazon!\n",
    "\n",
    "Постарайтесь, следовать инструкциям и отвечая на вопросы выполнять задания.\n",
    "Большинство задач можно решить разными способами. Вопросы постепенно усложняются.\n",
    "\n",
    "Также обратите внимание, что на все эти вопросы можно ответить одной строкой кода.\n"
   ]
  },
  {
   "cell_type": "markdown",
   "metadata": {},
   "source": [
    "** Импортируйте pandas и считайте в CSV-файл Ecommerce Purchases и сохраните его в качестве DataFrame с именем ecom. **"
   ]
  },
  {
   "cell_type": "code",
   "execution_count": 1,
   "metadata": {},
   "outputs": [],
   "source": [
    "import pandas as pd"
   ]
  },
  {
   "cell_type": "code",
   "execution_count": 2,
   "metadata": {},
   "outputs": [
    {
     "data": {
      "text/plain": "                                                Address    Lot AM or PM  \\\n0     16629 Pace Camp Apt. 448\\nAlexisborough, NE 77...  46 in       PM   \n1     9374 Jasmine Spurs Suite 508\\nSouth John, TN 8...  28 rn       PM   \n2                      Unit 0065 Box 5052\\nDPO AP 27450  94 vE       PM   \n3                 7780 Julia Fords\\nNew Stacy, WA 45798  36 vm       PM   \n4     23012 Munoz Drive Suite 337\\nNew Cynthia, TX 5...  20 IE       AM   \n...                                                 ...    ...      ...   \n9995      966 Castaneda Locks\\nWest Juliafurt, CO 96415  92 XI       PM   \n9996  832 Curtis Dam Suite 785\\nNorth Edwardburgh, T...  41 JY       AM   \n9997              Unit 4434 Box 6343\\nDPO AE 28026-0283  74 Zh       AM   \n9998               0096 English Rest\\nRoystad, IA 12457  74 cL       PM   \n9999     40674 Barrett Stravenue\\nGrimesville, WI 79682  64 Hr       AM   \n\n                                           Browser Info  \\\n0     Opera/9.56.(X11; Linux x86_64; sl-SI) Presto/2...   \n1     Opera/8.93.(Windows 98; Win 9x 4.90; en-US) Pr...   \n2     Mozilla/5.0 (compatible; MSIE 9.0; Windows NT ...   \n3     Mozilla/5.0 (Macintosh; Intel Mac OS X 10_8_0 ...   \n4     Opera/9.58.(X11; Linux x86_64; it-IT) Presto/2...   \n...                                                 ...   \n9995  Mozilla/5.0 (Windows NT 5.1) AppleWebKit/5352 ...   \n9996  Mozilla/5.0 (compatible; MSIE 9.0; Windows NT ...   \n9997  Mozilla/5.0 (Macintosh; U; Intel Mac OS X 10_7...   \n9998  Mozilla/5.0 (Macintosh; Intel Mac OS X 10_8_8;...   \n9999  Mozilla/5.0 (X11; Linux i686; rv:1.9.5.20) Gec...   \n\n                              Company       Credit Card CC Exp Date  \\\n0                     Martinez-Herman  6011929061123406       02/20   \n1     Fletcher, Richards and Whitaker  3337758169645356       11/18   \n2          Simpson, Williams and Pham      675957666125       08/19   \n3     Williams, Marshall and Buchanan  6011578504430710       02/24   \n4           Brown, Watson and Andrews  6011456623207998       10/25   \n...                               ...               ...         ...   \n9995                    Randall-Sloan   342945015358701       03/22   \n9996         Hale, Collins and Wilson   210033169205009       07/25   \n9997                     Anderson Ltd  6011539787356311       05/21   \n9998                         Cook Inc   180003348082930       11/17   \n9999                       Greene Inc  4139972901927273       02/19   \n\n      CC Security Code                  CC Provider  \\\n0                  900                 JCB 16 digit   \n1                  561                   Mastercard   \n2                  699                 JCB 16 digit   \n3                  384                     Discover   \n4                  678  Diners Club / Carte Blanche   \n...                ...                          ...   \n9995               838                 JCB 15 digit   \n9996               207                 JCB 16 digit   \n9997                 1                VISA 16 digit   \n9998               987             American Express   \n9999               302                 JCB 15 digit   \n\n                               Email                                     Job  \\\n0                  pdunlap@yahoo.com  Scientist, product/process development   \n1                 anthony41@reed.com                       Drilling engineer   \n2     amymiller@morales-harrison.com                Customer service manager   \n3        brent16@olson-robinson.info                       Drilling engineer   \n4        christopherwright@gmail.com                             Fine artist   \n...                              ...                                     ...   \n9995          iscott@wade-garner.com                              Printmaker   \n9996              mary85@hotmail.com                         Energy engineer   \n9997               tyler16@gmail.com                      Veterinary surgeon   \n9998         elizabethmoore@reid.net                Local government officer   \n9999           rachelford@vaughn.com                  Embryologist, clinical   \n\n           IP Address Language  Purchase Price  \n0     149.146.147.205       el           98.14  \n1        15.160.41.51       fr           70.73  \n2      132.207.160.22       de            0.95  \n3        30.250.74.19       es           78.04  \n4        24.140.33.94       es           77.82  \n...               ...      ...             ...  \n9995    29.73.197.114       it           82.21  \n9996   121.133.168.51       pt           25.63  \n9997    156.210.0.254       el           83.98  \n9998     55.78.26.143       es           38.84  \n9999  176.119.198.199       el           67.59  \n\n[10000 rows x 14 columns]",
      "text/html": "<div>\n<style scoped>\n    .dataframe tbody tr th:only-of-type {\n        vertical-align: middle;\n    }\n\n    .dataframe tbody tr th {\n        vertical-align: top;\n    }\n\n    .dataframe thead th {\n        text-align: right;\n    }\n</style>\n<table border=\"1\" class=\"dataframe\">\n  <thead>\n    <tr style=\"text-align: right;\">\n      <th></th>\n      <th>Address</th>\n      <th>Lot</th>\n      <th>AM or PM</th>\n      <th>Browser Info</th>\n      <th>Company</th>\n      <th>Credit Card</th>\n      <th>CC Exp Date</th>\n      <th>CC Security Code</th>\n      <th>CC Provider</th>\n      <th>Email</th>\n      <th>Job</th>\n      <th>IP Address</th>\n      <th>Language</th>\n      <th>Purchase Price</th>\n    </tr>\n  </thead>\n  <tbody>\n    <tr>\n      <th>0</th>\n      <td>16629 Pace Camp Apt. 448\\nAlexisborough, NE 77...</td>\n      <td>46 in</td>\n      <td>PM</td>\n      <td>Opera/9.56.(X11; Linux x86_64; sl-SI) Presto/2...</td>\n      <td>Martinez-Herman</td>\n      <td>6011929061123406</td>\n      <td>02/20</td>\n      <td>900</td>\n      <td>JCB 16 digit</td>\n      <td>pdunlap@yahoo.com</td>\n      <td>Scientist, product/process development</td>\n      <td>149.146.147.205</td>\n      <td>el</td>\n      <td>98.14</td>\n    </tr>\n    <tr>\n      <th>1</th>\n      <td>9374 Jasmine Spurs Suite 508\\nSouth John, TN 8...</td>\n      <td>28 rn</td>\n      <td>PM</td>\n      <td>Opera/8.93.(Windows 98; Win 9x 4.90; en-US) Pr...</td>\n      <td>Fletcher, Richards and Whitaker</td>\n      <td>3337758169645356</td>\n      <td>11/18</td>\n      <td>561</td>\n      <td>Mastercard</td>\n      <td>anthony41@reed.com</td>\n      <td>Drilling engineer</td>\n      <td>15.160.41.51</td>\n      <td>fr</td>\n      <td>70.73</td>\n    </tr>\n    <tr>\n      <th>2</th>\n      <td>Unit 0065 Box 5052\\nDPO AP 27450</td>\n      <td>94 vE</td>\n      <td>PM</td>\n      <td>Mozilla/5.0 (compatible; MSIE 9.0; Windows NT ...</td>\n      <td>Simpson, Williams and Pham</td>\n      <td>675957666125</td>\n      <td>08/19</td>\n      <td>699</td>\n      <td>JCB 16 digit</td>\n      <td>amymiller@morales-harrison.com</td>\n      <td>Customer service manager</td>\n      <td>132.207.160.22</td>\n      <td>de</td>\n      <td>0.95</td>\n    </tr>\n    <tr>\n      <th>3</th>\n      <td>7780 Julia Fords\\nNew Stacy, WA 45798</td>\n      <td>36 vm</td>\n      <td>PM</td>\n      <td>Mozilla/5.0 (Macintosh; Intel Mac OS X 10_8_0 ...</td>\n      <td>Williams, Marshall and Buchanan</td>\n      <td>6011578504430710</td>\n      <td>02/24</td>\n      <td>384</td>\n      <td>Discover</td>\n      <td>brent16@olson-robinson.info</td>\n      <td>Drilling engineer</td>\n      <td>30.250.74.19</td>\n      <td>es</td>\n      <td>78.04</td>\n    </tr>\n    <tr>\n      <th>4</th>\n      <td>23012 Munoz Drive Suite 337\\nNew Cynthia, TX 5...</td>\n      <td>20 IE</td>\n      <td>AM</td>\n      <td>Opera/9.58.(X11; Linux x86_64; it-IT) Presto/2...</td>\n      <td>Brown, Watson and Andrews</td>\n      <td>6011456623207998</td>\n      <td>10/25</td>\n      <td>678</td>\n      <td>Diners Club / Carte Blanche</td>\n      <td>christopherwright@gmail.com</td>\n      <td>Fine artist</td>\n      <td>24.140.33.94</td>\n      <td>es</td>\n      <td>77.82</td>\n    </tr>\n    <tr>\n      <th>...</th>\n      <td>...</td>\n      <td>...</td>\n      <td>...</td>\n      <td>...</td>\n      <td>...</td>\n      <td>...</td>\n      <td>...</td>\n      <td>...</td>\n      <td>...</td>\n      <td>...</td>\n      <td>...</td>\n      <td>...</td>\n      <td>...</td>\n      <td>...</td>\n    </tr>\n    <tr>\n      <th>9995</th>\n      <td>966 Castaneda Locks\\nWest Juliafurt, CO 96415</td>\n      <td>92 XI</td>\n      <td>PM</td>\n      <td>Mozilla/5.0 (Windows NT 5.1) AppleWebKit/5352 ...</td>\n      <td>Randall-Sloan</td>\n      <td>342945015358701</td>\n      <td>03/22</td>\n      <td>838</td>\n      <td>JCB 15 digit</td>\n      <td>iscott@wade-garner.com</td>\n      <td>Printmaker</td>\n      <td>29.73.197.114</td>\n      <td>it</td>\n      <td>82.21</td>\n    </tr>\n    <tr>\n      <th>9996</th>\n      <td>832 Curtis Dam Suite 785\\nNorth Edwardburgh, T...</td>\n      <td>41 JY</td>\n      <td>AM</td>\n      <td>Mozilla/5.0 (compatible; MSIE 9.0; Windows NT ...</td>\n      <td>Hale, Collins and Wilson</td>\n      <td>210033169205009</td>\n      <td>07/25</td>\n      <td>207</td>\n      <td>JCB 16 digit</td>\n      <td>mary85@hotmail.com</td>\n      <td>Energy engineer</td>\n      <td>121.133.168.51</td>\n      <td>pt</td>\n      <td>25.63</td>\n    </tr>\n    <tr>\n      <th>9997</th>\n      <td>Unit 4434 Box 6343\\nDPO AE 28026-0283</td>\n      <td>74 Zh</td>\n      <td>AM</td>\n      <td>Mozilla/5.0 (Macintosh; U; Intel Mac OS X 10_7...</td>\n      <td>Anderson Ltd</td>\n      <td>6011539787356311</td>\n      <td>05/21</td>\n      <td>1</td>\n      <td>VISA 16 digit</td>\n      <td>tyler16@gmail.com</td>\n      <td>Veterinary surgeon</td>\n      <td>156.210.0.254</td>\n      <td>el</td>\n      <td>83.98</td>\n    </tr>\n    <tr>\n      <th>9998</th>\n      <td>0096 English Rest\\nRoystad, IA 12457</td>\n      <td>74 cL</td>\n      <td>PM</td>\n      <td>Mozilla/5.0 (Macintosh; Intel Mac OS X 10_8_8;...</td>\n      <td>Cook Inc</td>\n      <td>180003348082930</td>\n      <td>11/17</td>\n      <td>987</td>\n      <td>American Express</td>\n      <td>elizabethmoore@reid.net</td>\n      <td>Local government officer</td>\n      <td>55.78.26.143</td>\n      <td>es</td>\n      <td>38.84</td>\n    </tr>\n    <tr>\n      <th>9999</th>\n      <td>40674 Barrett Stravenue\\nGrimesville, WI 79682</td>\n      <td>64 Hr</td>\n      <td>AM</td>\n      <td>Mozilla/5.0 (X11; Linux i686; rv:1.9.5.20) Gec...</td>\n      <td>Greene Inc</td>\n      <td>4139972901927273</td>\n      <td>02/19</td>\n      <td>302</td>\n      <td>JCB 15 digit</td>\n      <td>rachelford@vaughn.com</td>\n      <td>Embryologist, clinical</td>\n      <td>176.119.198.199</td>\n      <td>el</td>\n      <td>67.59</td>\n    </tr>\n  </tbody>\n</table>\n<p>10000 rows × 14 columns</p>\n</div>"
     },
     "execution_count": 2,
     "metadata": {},
     "output_type": "execute_result"
    }
   ],
   "source": [
    "ecom=pd.read_csv(\"Ecommerce_Purchases\")\n",
    "ecom"
   ]
  },
  {
   "cell_type": "markdown",
   "metadata": {},
   "source": [
    "**Проверьте заголовок (Head) DataFrame.**"
   ]
  },
  {
   "cell_type": "code",
   "execution_count": 3,
   "outputs": [
    {
     "data": {
      "text/plain": "                                             Address    Lot AM or PM  \\\n0  16629 Pace Camp Apt. 448\\nAlexisborough, NE 77...  46 in       PM   \n1  9374 Jasmine Spurs Suite 508\\nSouth John, TN 8...  28 rn       PM   \n2                   Unit 0065 Box 5052\\nDPO AP 27450  94 vE       PM   \n3              7780 Julia Fords\\nNew Stacy, WA 45798  36 vm       PM   \n4  23012 Munoz Drive Suite 337\\nNew Cynthia, TX 5...  20 IE       AM   \n\n                                        Browser Info  \\\n0  Opera/9.56.(X11; Linux x86_64; sl-SI) Presto/2...   \n1  Opera/8.93.(Windows 98; Win 9x 4.90; en-US) Pr...   \n2  Mozilla/5.0 (compatible; MSIE 9.0; Windows NT ...   \n3  Mozilla/5.0 (Macintosh; Intel Mac OS X 10_8_0 ...   \n4  Opera/9.58.(X11; Linux x86_64; it-IT) Presto/2...   \n\n                           Company       Credit Card CC Exp Date  \\\n0                  Martinez-Herman  6011929061123406       02/20   \n1  Fletcher, Richards and Whitaker  3337758169645356       11/18   \n2       Simpson, Williams and Pham      675957666125       08/19   \n3  Williams, Marshall and Buchanan  6011578504430710       02/24   \n4        Brown, Watson and Andrews  6011456623207998       10/25   \n\n   CC Security Code                  CC Provider  \\\n0               900                 JCB 16 digit   \n1               561                   Mastercard   \n2               699                 JCB 16 digit   \n3               384                     Discover   \n4               678  Diners Club / Carte Blanche   \n\n                            Email                                     Job  \\\n0               pdunlap@yahoo.com  Scientist, product/process development   \n1              anthony41@reed.com                       Drilling engineer   \n2  amymiller@morales-harrison.com                Customer service manager   \n3     brent16@olson-robinson.info                       Drilling engineer   \n4     christopherwright@gmail.com                             Fine artist   \n\n        IP Address Language  Purchase Price  \n0  149.146.147.205       el           98.14  \n1     15.160.41.51       fr           70.73  \n2   132.207.160.22       de            0.95  \n3     30.250.74.19       es           78.04  \n4     24.140.33.94       es           77.82  ",
      "text/html": "<div>\n<style scoped>\n    .dataframe tbody tr th:only-of-type {\n        vertical-align: middle;\n    }\n\n    .dataframe tbody tr th {\n        vertical-align: top;\n    }\n\n    .dataframe thead th {\n        text-align: right;\n    }\n</style>\n<table border=\"1\" class=\"dataframe\">\n  <thead>\n    <tr style=\"text-align: right;\">\n      <th></th>\n      <th>Address</th>\n      <th>Lot</th>\n      <th>AM or PM</th>\n      <th>Browser Info</th>\n      <th>Company</th>\n      <th>Credit Card</th>\n      <th>CC Exp Date</th>\n      <th>CC Security Code</th>\n      <th>CC Provider</th>\n      <th>Email</th>\n      <th>Job</th>\n      <th>IP Address</th>\n      <th>Language</th>\n      <th>Purchase Price</th>\n    </tr>\n  </thead>\n  <tbody>\n    <tr>\n      <th>0</th>\n      <td>16629 Pace Camp Apt. 448\\nAlexisborough, NE 77...</td>\n      <td>46 in</td>\n      <td>PM</td>\n      <td>Opera/9.56.(X11; Linux x86_64; sl-SI) Presto/2...</td>\n      <td>Martinez-Herman</td>\n      <td>6011929061123406</td>\n      <td>02/20</td>\n      <td>900</td>\n      <td>JCB 16 digit</td>\n      <td>pdunlap@yahoo.com</td>\n      <td>Scientist, product/process development</td>\n      <td>149.146.147.205</td>\n      <td>el</td>\n      <td>98.14</td>\n    </tr>\n    <tr>\n      <th>1</th>\n      <td>9374 Jasmine Spurs Suite 508\\nSouth John, TN 8...</td>\n      <td>28 rn</td>\n      <td>PM</td>\n      <td>Opera/8.93.(Windows 98; Win 9x 4.90; en-US) Pr...</td>\n      <td>Fletcher, Richards and Whitaker</td>\n      <td>3337758169645356</td>\n      <td>11/18</td>\n      <td>561</td>\n      <td>Mastercard</td>\n      <td>anthony41@reed.com</td>\n      <td>Drilling engineer</td>\n      <td>15.160.41.51</td>\n      <td>fr</td>\n      <td>70.73</td>\n    </tr>\n    <tr>\n      <th>2</th>\n      <td>Unit 0065 Box 5052\\nDPO AP 27450</td>\n      <td>94 vE</td>\n      <td>PM</td>\n      <td>Mozilla/5.0 (compatible; MSIE 9.0; Windows NT ...</td>\n      <td>Simpson, Williams and Pham</td>\n      <td>675957666125</td>\n      <td>08/19</td>\n      <td>699</td>\n      <td>JCB 16 digit</td>\n      <td>amymiller@morales-harrison.com</td>\n      <td>Customer service manager</td>\n      <td>132.207.160.22</td>\n      <td>de</td>\n      <td>0.95</td>\n    </tr>\n    <tr>\n      <th>3</th>\n      <td>7780 Julia Fords\\nNew Stacy, WA 45798</td>\n      <td>36 vm</td>\n      <td>PM</td>\n      <td>Mozilla/5.0 (Macintosh; Intel Mac OS X 10_8_0 ...</td>\n      <td>Williams, Marshall and Buchanan</td>\n      <td>6011578504430710</td>\n      <td>02/24</td>\n      <td>384</td>\n      <td>Discover</td>\n      <td>brent16@olson-robinson.info</td>\n      <td>Drilling engineer</td>\n      <td>30.250.74.19</td>\n      <td>es</td>\n      <td>78.04</td>\n    </tr>\n    <tr>\n      <th>4</th>\n      <td>23012 Munoz Drive Suite 337\\nNew Cynthia, TX 5...</td>\n      <td>20 IE</td>\n      <td>AM</td>\n      <td>Opera/9.58.(X11; Linux x86_64; it-IT) Presto/2...</td>\n      <td>Brown, Watson and Andrews</td>\n      <td>6011456623207998</td>\n      <td>10/25</td>\n      <td>678</td>\n      <td>Diners Club / Carte Blanche</td>\n      <td>christopherwright@gmail.com</td>\n      <td>Fine artist</td>\n      <td>24.140.33.94</td>\n      <td>es</td>\n      <td>77.82</td>\n    </tr>\n  </tbody>\n</table>\n</div>"
     },
     "execution_count": 3,
     "metadata": {},
     "output_type": "execute_result"
    }
   ],
   "source": [
    "ecom.head()"
   ],
   "metadata": {
    "collapsed": false
   }
  },
  {
   "cell_type": "code",
   "execution_count": 3,
   "outputs": [
    {
     "data": {
      "text/html": [
       "<div>\n",
       "<style scoped>\n",
       "    .dataframe tbody tr th:only-of-type {\n",
       "        vertical-align: middle;\n",
       "    }\n",
       "\n",
       "    .dataframe tbody tr th {\n",
       "        vertical-align: top;\n",
       "    }\n",
       "\n",
       "    .dataframe thead th {\n",
       "        text-align: right;\n",
       "    }\n",
       "</style>\n",
       "<table border=\"1\" class=\"dataframe\">\n",
       "  <thead>\n",
       "    <tr style=\"text-align: right;\">\n",
       "      <th></th>\n",
       "      <th>Address</th>\n",
       "      <th>Lot</th>\n",
       "      <th>AM or PM</th>\n",
       "      <th>Browser Info</th>\n",
       "      <th>Company</th>\n",
       "      <th>Credit Card</th>\n",
       "      <th>CC Exp Date</th>\n",
       "      <th>CC Security Code</th>\n",
       "      <th>CC Provider</th>\n",
       "      <th>Email</th>\n",
       "      <th>Job</th>\n",
       "      <th>IP Address</th>\n",
       "      <th>Language</th>\n",
       "      <th>Purchase Price</th>\n",
       "    </tr>\n",
       "  </thead>\n",
       "  <tbody>\n",
       "    <tr>\n",
       "      <th>0</th>\n",
       "      <td>16629 Pace Camp Apt. 448\\nAlexisborough, NE 77...</td>\n",
       "      <td>46 in</td>\n",
       "      <td>PM</td>\n",
       "      <td>Opera/9.56.(X11; Linux x86_64; sl-SI) Presto/2...</td>\n",
       "      <td>Martinez-Herman</td>\n",
       "      <td>6011929061123406</td>\n",
       "      <td>02/20</td>\n",
       "      <td>900</td>\n",
       "      <td>JCB 16 digit</td>\n",
       "      <td>pdunlap@yahoo.com</td>\n",
       "      <td>Scientist, product/process development</td>\n",
       "      <td>149.146.147.205</td>\n",
       "      <td>el</td>\n",
       "      <td>98.14</td>\n",
       "    </tr>\n",
       "    <tr>\n",
       "      <th>1</th>\n",
       "      <td>9374 Jasmine Spurs Suite 508\\nSouth John, TN 8...</td>\n",
       "      <td>28 rn</td>\n",
       "      <td>PM</td>\n",
       "      <td>Opera/8.93.(Windows 98; Win 9x 4.90; en-US) Pr...</td>\n",
       "      <td>Fletcher, Richards and Whitaker</td>\n",
       "      <td>3337758169645356</td>\n",
       "      <td>11/18</td>\n",
       "      <td>561</td>\n",
       "      <td>Mastercard</td>\n",
       "      <td>anthony41@reed.com</td>\n",
       "      <td>Drilling engineer</td>\n",
       "      <td>15.160.41.51</td>\n",
       "      <td>fr</td>\n",
       "      <td>70.73</td>\n",
       "    </tr>\n",
       "    <tr>\n",
       "      <th>2</th>\n",
       "      <td>Unit 0065 Box 5052\\nDPO AP 27450</td>\n",
       "      <td>94 vE</td>\n",
       "      <td>PM</td>\n",
       "      <td>Mozilla/5.0 (compatible; MSIE 9.0; Windows NT ...</td>\n",
       "      <td>Simpson, Williams and Pham</td>\n",
       "      <td>675957666125</td>\n",
       "      <td>08/19</td>\n",
       "      <td>699</td>\n",
       "      <td>JCB 16 digit</td>\n",
       "      <td>amymiller@morales-harrison.com</td>\n",
       "      <td>Customer service manager</td>\n",
       "      <td>132.207.160.22</td>\n",
       "      <td>de</td>\n",
       "      <td>0.95</td>\n",
       "    </tr>\n",
       "    <tr>\n",
       "      <th>3</th>\n",
       "      <td>7780 Julia Fords\\nNew Stacy, WA 45798</td>\n",
       "      <td>36 vm</td>\n",
       "      <td>PM</td>\n",
       "      <td>Mozilla/5.0 (Macintosh; Intel Mac OS X 10_8_0 ...</td>\n",
       "      <td>Williams, Marshall and Buchanan</td>\n",
       "      <td>6011578504430710</td>\n",
       "      <td>02/24</td>\n",
       "      <td>384</td>\n",
       "      <td>Discover</td>\n",
       "      <td>brent16@olson-robinson.info</td>\n",
       "      <td>Drilling engineer</td>\n",
       "      <td>30.250.74.19</td>\n",
       "      <td>es</td>\n",
       "      <td>78.04</td>\n",
       "    </tr>\n",
       "    <tr>\n",
       "      <th>4</th>\n",
       "      <td>23012 Munoz Drive Suite 337\\nNew Cynthia, TX 5...</td>\n",
       "      <td>20 IE</td>\n",
       "      <td>AM</td>\n",
       "      <td>Opera/9.58.(X11; Linux x86_64; it-IT) Presto/2...</td>\n",
       "      <td>Brown, Watson and Andrews</td>\n",
       "      <td>6011456623207998</td>\n",
       "      <td>10/25</td>\n",
       "      <td>678</td>\n",
       "      <td>Diners Club / Carte Blanche</td>\n",
       "      <td>christopherwright@gmail.com</td>\n",
       "      <td>Fine artist</td>\n",
       "      <td>24.140.33.94</td>\n",
       "      <td>es</td>\n",
       "      <td>77.82</td>\n",
       "    </tr>\n",
       "  </tbody>\n",
       "</table>\n",
       "</div>"
      ],
      "text/plain": [
       "                                             Address    Lot AM or PM  \\\n",
       "0  16629 Pace Camp Apt. 448\\nAlexisborough, NE 77...  46 in       PM   \n",
       "1  9374 Jasmine Spurs Suite 508\\nSouth John, TN 8...  28 rn       PM   \n",
       "2                   Unit 0065 Box 5052\\nDPO AP 27450  94 vE       PM   \n",
       "3              7780 Julia Fords\\nNew Stacy, WA 45798  36 vm       PM   \n",
       "4  23012 Munoz Drive Suite 337\\nNew Cynthia, TX 5...  20 IE       AM   \n",
       "\n",
       "                                        Browser Info  \\\n",
       "0  Opera/9.56.(X11; Linux x86_64; sl-SI) Presto/2...   \n",
       "1  Opera/8.93.(Windows 98; Win 9x 4.90; en-US) Pr...   \n",
       "2  Mozilla/5.0 (compatible; MSIE 9.0; Windows NT ...   \n",
       "3  Mozilla/5.0 (Macintosh; Intel Mac OS X 10_8_0 ...   \n",
       "4  Opera/9.58.(X11; Linux x86_64; it-IT) Presto/2...   \n",
       "\n",
       "                           Company       Credit Card CC Exp Date  \\\n",
       "0                  Martinez-Herman  6011929061123406       02/20   \n",
       "1  Fletcher, Richards and Whitaker  3337758169645356       11/18   \n",
       "2       Simpson, Williams and Pham      675957666125       08/19   \n",
       "3  Williams, Marshall and Buchanan  6011578504430710       02/24   \n",
       "4        Brown, Watson and Andrews  6011456623207998       10/25   \n",
       "\n",
       "   CC Security Code                  CC Provider  \\\n",
       "0               900                 JCB 16 digit   \n",
       "1               561                   Mastercard   \n",
       "2               699                 JCB 16 digit   \n",
       "3               384                     Discover   \n",
       "4               678  Diners Club / Carte Blanche   \n",
       "\n",
       "                            Email                                     Job  \\\n",
       "0               pdunlap@yahoo.com  Scientist, product/process development   \n",
       "1              anthony41@reed.com                       Drilling engineer   \n",
       "2  amymiller@morales-harrison.com                Customer service manager   \n",
       "3     brent16@olson-robinson.info                       Drilling engineer   \n",
       "4     christopherwright@gmail.com                             Fine artist   \n",
       "\n",
       "        IP Address Language  Purchase Price  \n",
       "0  149.146.147.205       el           98.14  \n",
       "1     15.160.41.51       fr           70.73  \n",
       "2   132.207.160.22       de            0.95  \n",
       "3     30.250.74.19       es           78.04  \n",
       "4     24.140.33.94       es           77.82  "
      ]
     },
     "execution_count": 3,
     "metadata": {},
     "output_type": "execute_result"
    }
   ],
   "source": [],
   "metadata": {
    "collapsed": false
   }
  },
  {
   "cell_type": "markdown",
   "source": [
    "**Сколько строк и столбцов в нем?**"
   ],
   "metadata": {
    "collapsed": false
   }
  },
  {
   "cell_type": "code",
   "execution_count": 25,
   "outputs": [
    {
     "data": {
      "text/plain": "Address              object\nLot                  object\nAM or PM             object\nBrowser Info         object\nCompany              object\nCredit Card           int64\nCC Exp Date          object\nCC Security Code      int64\nCC Provider          object\nEmail                object\nJob                  object\nIP Address           object\nLanguage             object\nPurchase Price      float64\ndtype: object"
     },
     "execution_count": 25,
     "metadata": {},
     "output_type": "execute_result"
    }
   ],
   "source": [
    "ecom.dtypes          #################     ?"
   ],
   "metadata": {
    "collapsed": false
   }
  },
  {
   "cell_type": "code",
   "execution_count": 4,
   "outputs": [
    {
     "name": "stdout",
     "output_type": "stream",
     "text": [
      "<class 'pandas.core.frame.DataFrame'>\n",
      "RangeIndex: 10000 entries, 0 to 9999\n",
      "Data columns (total 14 columns):\n",
      " #   Column            Non-Null Count  Dtype  \n",
      "---  ------            --------------  -----  \n",
      " 0   Address           10000 non-null  object \n",
      " 1   Lot               10000 non-null  object \n",
      " 2   AM or PM          10000 non-null  object \n",
      " 3   Browser Info      10000 non-null  object \n",
      " 4   Company           10000 non-null  object \n",
      " 5   Credit Card       10000 non-null  int64  \n",
      " 6   CC Exp Date       10000 non-null  object \n",
      " 7   CC Security Code  10000 non-null  int64  \n",
      " 8   CC Provider       10000 non-null  object \n",
      " 9   Email             10000 non-null  object \n",
      " 10  Job               10000 non-null  object \n",
      " 11  IP Address        10000 non-null  object \n",
      " 12  Language          10000 non-null  object \n",
      " 13  Purchase Price    10000 non-null  float64\n",
      "dtypes: float64(1), int64(2), object(11)\n",
      "memory usage: 1.1+ MB\n"
     ]
    }
   ],
   "source": [
    "ecom.info()"
   ],
   "metadata": {
    "collapsed": false
   }
  },
  {
   "cell_type": "code",
   "execution_count": 4,
   "outputs": [
    {
     "name": "stdout",
     "output_type": "stream",
     "text": [
      "<class 'pandas.core.frame.DataFrame'>\n",
      "RangeIndex: 10000 entries, 0 to 9999\n",
      "Data columns (total 14 columns):\n",
      "Address             10000 non-null object\n",
      "Lot                 10000 non-null object\n",
      "AM or PM            10000 non-null object\n",
      "Browser Info        10000 non-null object\n",
      "Company             10000 non-null object\n",
      "Credit Card         10000 non-null int64\n",
      "CC Exp Date         10000 non-null object\n",
      "CC Security Code    10000 non-null int64\n",
      "CC Provider         10000 non-null object\n",
      "Email               10000 non-null object\n",
      "Job                 10000 non-null object\n",
      "IP Address          10000 non-null object\n",
      "Language            10000 non-null object\n",
      "Purchase Price      10000 non-null float64\n",
      "dtypes: float64(1), int64(2), object(11)\n",
      "memory usage: 1.1+ MB\n"
     ]
    }
   ],
   "source": [],
   "metadata": {
    "collapsed": false
   }
  },
  {
   "cell_type": "markdown",
   "metadata": {},
   "source": [
    "**Какова средняя цена покупки?**"
   ]
  },
  {
   "cell_type": "code",
   "execution_count": 17,
   "outputs": [
    {
     "data": {
      "text/plain": "50.34730200000025"
     },
     "execution_count": 17,
     "metadata": {},
     "output_type": "execute_result"
    }
   ],
   "source": [
    "ecom[\"Purchase Price\"].mean()"
   ],
   "metadata": {
    "collapsed": false
   }
  },
  {
   "cell_type": "code",
   "execution_count": 5,
   "outputs": [
    {
     "data": {
      "text/plain": [
       "50.34730200000025"
      ]
     },
     "execution_count": 5,
     "metadata": {},
     "output_type": "execute_result"
    }
   ],
   "source": [],
   "metadata": {
    "collapsed": false
   }
  },
  {
   "cell_type": "markdown",
   "metadata": {},
   "source": [
    "**Каковы были самые высокие и самые низкие цены закупки (purchase prices)?**"
   ]
  },
  {
   "cell_type": "code",
   "execution_count": 18,
   "outputs": [
    {
     "data": {
      "text/plain": "99.99"
     },
     "execution_count": 18,
     "metadata": {},
     "output_type": "execute_result"
    }
   ],
   "source": [
    "ecom[\"Purchase Price\"].max()"
   ],
   "metadata": {
    "collapsed": false
   }
  },
  {
   "cell_type": "code",
   "execution_count": 6,
   "outputs": [
    {
     "data": {
      "text/plain": [
       "99.99"
      ]
     },
     "execution_count": 6,
     "metadata": {},
     "output_type": "execute_result"
    }
   ],
   "source": [],
   "metadata": {
    "collapsed": false
   }
  },
  {
   "cell_type": "code",
   "execution_count": 19,
   "outputs": [
    {
     "data": {
      "text/plain": "0.0"
     },
     "execution_count": 19,
     "metadata": {},
     "output_type": "execute_result"
    }
   ],
   "source": [
    "ecom[\"Purchase Price\"].min()"
   ],
   "metadata": {
    "collapsed": false
   }
  },
  {
   "cell_type": "code",
   "execution_count": 7,
   "metadata": {},
   "outputs": [
    {
     "data": {
      "text/plain": [
       "0.0"
      ]
     },
     "execution_count": 7,
     "metadata": {},
     "output_type": "execute_result"
    }
   ],
   "source": []
  },
  {
   "cell_type": "markdown",
   "metadata": {},
   "source": [
    "**У скольких людей на веб-сайте в качестве предпочтительного языка выбран английский «en»?**"
   ]
  },
  {
   "cell_type": "code",
   "execution_count": 21,
   "outputs": [
    {
     "data": {
      "text/plain": "                                             Address    Lot AM or PM  \\\n0  16629 Pace Camp Apt. 448\\nAlexisborough, NE 77...  46 in       PM   \n1  9374 Jasmine Spurs Suite 508\\nSouth John, TN 8...  28 rn       PM   \n2                   Unit 0065 Box 5052\\nDPO AP 27450  94 vE       PM   \n3              7780 Julia Fords\\nNew Stacy, WA 45798  36 vm       PM   \n4  23012 Munoz Drive Suite 337\\nNew Cynthia, TX 5...  20 IE       AM   \n\n                                        Browser Info  \\\n0  Opera/9.56.(X11; Linux x86_64; sl-SI) Presto/2...   \n1  Opera/8.93.(Windows 98; Win 9x 4.90; en-US) Pr...   \n2  Mozilla/5.0 (compatible; MSIE 9.0; Windows NT ...   \n3  Mozilla/5.0 (Macintosh; Intel Mac OS X 10_8_0 ...   \n4  Opera/9.58.(X11; Linux x86_64; it-IT) Presto/2...   \n\n                           Company       Credit Card CC Exp Date  \\\n0                  Martinez-Herman  6011929061123406       02/20   \n1  Fletcher, Richards and Whitaker  3337758169645356       11/18   \n2       Simpson, Williams and Pham      675957666125       08/19   \n3  Williams, Marshall and Buchanan  6011578504430710       02/24   \n4        Brown, Watson and Andrews  6011456623207998       10/25   \n\n   CC Security Code                  CC Provider  \\\n0               900                 JCB 16 digit   \n1               561                   Mastercard   \n2               699                 JCB 16 digit   \n3               384                     Discover   \n4               678  Diners Club / Carte Blanche   \n\n                            Email                                     Job  \\\n0               pdunlap@yahoo.com  Scientist, product/process development   \n1              anthony41@reed.com                       Drilling engineer   \n2  amymiller@morales-harrison.com                Customer service manager   \n3     brent16@olson-robinson.info                       Drilling engineer   \n4     christopherwright@gmail.com                             Fine artist   \n\n        IP Address Language  Purchase Price  \n0  149.146.147.205       el           98.14  \n1     15.160.41.51       fr           70.73  \n2   132.207.160.22       de            0.95  \n3     30.250.74.19       es           78.04  \n4     24.140.33.94       es           77.82  ",
      "text/html": "<div>\n<style scoped>\n    .dataframe tbody tr th:only-of-type {\n        vertical-align: middle;\n    }\n\n    .dataframe tbody tr th {\n        vertical-align: top;\n    }\n\n    .dataframe thead th {\n        text-align: right;\n    }\n</style>\n<table border=\"1\" class=\"dataframe\">\n  <thead>\n    <tr style=\"text-align: right;\">\n      <th></th>\n      <th>Address</th>\n      <th>Lot</th>\n      <th>AM or PM</th>\n      <th>Browser Info</th>\n      <th>Company</th>\n      <th>Credit Card</th>\n      <th>CC Exp Date</th>\n      <th>CC Security Code</th>\n      <th>CC Provider</th>\n      <th>Email</th>\n      <th>Job</th>\n      <th>IP Address</th>\n      <th>Language</th>\n      <th>Purchase Price</th>\n    </tr>\n  </thead>\n  <tbody>\n    <tr>\n      <th>0</th>\n      <td>16629 Pace Camp Apt. 448\\nAlexisborough, NE 77...</td>\n      <td>46 in</td>\n      <td>PM</td>\n      <td>Opera/9.56.(X11; Linux x86_64; sl-SI) Presto/2...</td>\n      <td>Martinez-Herman</td>\n      <td>6011929061123406</td>\n      <td>02/20</td>\n      <td>900</td>\n      <td>JCB 16 digit</td>\n      <td>pdunlap@yahoo.com</td>\n      <td>Scientist, product/process development</td>\n      <td>149.146.147.205</td>\n      <td>el</td>\n      <td>98.14</td>\n    </tr>\n    <tr>\n      <th>1</th>\n      <td>9374 Jasmine Spurs Suite 508\\nSouth John, TN 8...</td>\n      <td>28 rn</td>\n      <td>PM</td>\n      <td>Opera/8.93.(Windows 98; Win 9x 4.90; en-US) Pr...</td>\n      <td>Fletcher, Richards and Whitaker</td>\n      <td>3337758169645356</td>\n      <td>11/18</td>\n      <td>561</td>\n      <td>Mastercard</td>\n      <td>anthony41@reed.com</td>\n      <td>Drilling engineer</td>\n      <td>15.160.41.51</td>\n      <td>fr</td>\n      <td>70.73</td>\n    </tr>\n    <tr>\n      <th>2</th>\n      <td>Unit 0065 Box 5052\\nDPO AP 27450</td>\n      <td>94 vE</td>\n      <td>PM</td>\n      <td>Mozilla/5.0 (compatible; MSIE 9.0; Windows NT ...</td>\n      <td>Simpson, Williams and Pham</td>\n      <td>675957666125</td>\n      <td>08/19</td>\n      <td>699</td>\n      <td>JCB 16 digit</td>\n      <td>amymiller@morales-harrison.com</td>\n      <td>Customer service manager</td>\n      <td>132.207.160.22</td>\n      <td>de</td>\n      <td>0.95</td>\n    </tr>\n    <tr>\n      <th>3</th>\n      <td>7780 Julia Fords\\nNew Stacy, WA 45798</td>\n      <td>36 vm</td>\n      <td>PM</td>\n      <td>Mozilla/5.0 (Macintosh; Intel Mac OS X 10_8_0 ...</td>\n      <td>Williams, Marshall and Buchanan</td>\n      <td>6011578504430710</td>\n      <td>02/24</td>\n      <td>384</td>\n      <td>Discover</td>\n      <td>brent16@olson-robinson.info</td>\n      <td>Drilling engineer</td>\n      <td>30.250.74.19</td>\n      <td>es</td>\n      <td>78.04</td>\n    </tr>\n    <tr>\n      <th>4</th>\n      <td>23012 Munoz Drive Suite 337\\nNew Cynthia, TX 5...</td>\n      <td>20 IE</td>\n      <td>AM</td>\n      <td>Opera/9.58.(X11; Linux x86_64; it-IT) Presto/2...</td>\n      <td>Brown, Watson and Andrews</td>\n      <td>6011456623207998</td>\n      <td>10/25</td>\n      <td>678</td>\n      <td>Diners Club / Carte Blanche</td>\n      <td>christopherwright@gmail.com</td>\n      <td>Fine artist</td>\n      <td>24.140.33.94</td>\n      <td>es</td>\n      <td>77.82</td>\n    </tr>\n  </tbody>\n</table>\n</div>"
     },
     "execution_count": 21,
     "metadata": {},
     "output_type": "execute_result"
    }
   ],
   "source": [
    "ecom.head()"
   ],
   "metadata": {
    "collapsed": false
   }
  },
  {
   "cell_type": "code",
   "execution_count": 3,
   "outputs": [
    {
     "data": {
      "text/plain": "Address                                                  Lot    AM or PM  Browser Info                                                                                                                          Company                    Credit Card       CC Exp Date  CC Security Code  CC Provider    Email                     Job                                   IP Address       Language  Purchase Price\n000 Jared Shoals Apt. 244\\nRamirezmouth, IL 12450        55 Zz  PM        Mozilla/5.0 (compatible; MSIE 6.0; Windows CE; Trident/3.1)                                                                           Garcia, Sanchez and Fox    3096295094562282  02/17        657               Discover       beltrancarmen@rogers.org  Biomedical engineer                   91.169.108.79    en        80.20             1\n7434 Monica Rapids\\nSouth Ryan, MT 24925                 43 xr  PM        Mozilla/5.0 (compatible; MSIE 6.0; Windows 98; Trident/3.1)                                                                           Dunn, Haas and Bowers      375388711957262   10/23        46                VISA 16 digit  williamsmelissa@sims.net  Paramedic                             20.71.11.132     en        46.77             1\n75391 Linda Mountains\\nBeckyburgh, IL 32111-6353         37 ce  PM        Mozilla/5.0 (X11; Linux x86_64; rv:1.9.5.20) Gecko/2016-07-10 03:04:59 Firefox/13.0                                                   Andersen, May and Rogers   30079473462248    09/22        913               JCB 15 digit   hharmon@duncan.com        Quantity surveyor                     52.0.137.46      en        84.43             1\n7531 Mary Springs Suite 485\\nBonnieville, NH 75419       60 FI  AM        Mozilla/5.0 (Macintosh; U; Intel Mac OS X 10_8_7 rv:2.0; en-US) AppleWebKit/534.11.4 (KHTML, like Gecko) Version/4.0 Safari/534.11.4  Vargas, Lynch and Hodge    340400801207482   04/17        2073              JCB 15 digit   owright@jackson.org       Charity officer                       172.177.251.197  en        39.52             1\n753 Sandra Glens Suite 054\\nStevenport, MO 53306         69 AT  PM        Mozilla/5.0 (X11; Linux x86_64; rv:1.9.5.20) Gecko/2013-08-06 19:20:11 Firefox/3.8                                                    Acevedo PLC                5599776038060753  06/21        6779              Mastercard     padillaamy@evans.net      Land/geomatics surveyor               218.180.94.118   en        37.38             1\n                                                                                                                                                                                                                                                                                                                                                                                                                       ..\n376 Woodard Mill Apt. 589\\nLawsonport, ND 68106          87 fw  AM        Mozilla/5.0 (Windows NT 6.1; it-IT; rv:1.9.1.20) Gecko/2013-08-07 10:36:54 Firefox/3.6.4                                              Lawson PLC                 4752829014040152  01/19        295               VISA 16 digit  carlos60@hotmail.com      Control and instrumentation engineer  23.169.53.71     en        30.90             1\n377 Holly Forges Suite 830\\nRebeccaville, NJ 70085-6962  14 jX  AM        Mozilla/5.0 (compatible; MSIE 9.0; Windows NT 5.0; Trident/4.1)                                                                       Yang-Kelly                 6011337675393813  09/21        100               Mastercard     andrew24@yu-miranda.org   Tourism officer                       203.208.178.88   en        81.18             1\n37870 Estrada Point\\nEast William, MI 77922              86 lz  PM        Mozilla/5.0 (compatible; MSIE 8.0; Windows NT 6.2; Trident/3.1)                                                                       Quinn and Sons             6011881194727423  10/22        362               Discover       dawsonmichael@gmail.com   Town planner                          81.42.232.32     en        47.26             1\n38122 Stewart Shores Suite 692\\nJacobburgh, NY 67557     95 eO  PM        Opera/8.29.(X11; Linux i686; en-US) Presto/2.9.171 Version/10.00                                                                      Rosales Group              3096841971904285  03/23        84                VISA 16 digit  ijimenez@hotmail.com      Toxicologist                          98.95.217.102    en        91.75             1\nUnit 9807 Box 0087\\nDPO AA 46354                         98 NT  AM        Opera/8.40.(X11; Linux x86_64; en-US) Presto/2.9.163 Version/11.00                                                                    Cooper, James and Perkins  60412307591       04/26        455               Discover       steventrevino@yahoo.com   Sports administrator                  254.176.38.22    en        11.99             1\nLength: 1098, dtype: int64"
     },
     "execution_count": 3,
     "metadata": {},
     "output_type": "execute_result"
    }
   ],
   "source": [
    "ecom[ecom.Language==\"en\"].value_counts()"
   ],
   "metadata": {
    "collapsed": false
   }
  },
  {
   "cell_type": "code",
   "execution_count": 9,
   "outputs": [
    {
     "data": {
      "text/plain": "array(['el', 'fr', 'de', 'es', 'ru', 'pt', 'zh', 'en', 'it'], dtype=object)"
     },
     "execution_count": 9,
     "metadata": {},
     "output_type": "execute_result"
    }
   ],
   "source": [
    "ecom.Language.unique()\n"
   ],
   "metadata": {
    "collapsed": false
   }
  },
  {
   "cell_type": "code",
   "execution_count": 11,
   "outputs": [
    {
     "data": {
      "text/plain": "Address             1098\nLot                 1098\nAM or PM            1098\nBrowser Info        1098\nCompany             1098\nCredit Card         1098\nCC Exp Date         1098\nCC Security Code    1098\nCC Provider         1098\nEmail               1098\nJob                 1098\nIP Address          1098\nLanguage            1098\nPurchase Price      1098\ndtype: int64"
     },
     "execution_count": 11,
     "metadata": {},
     "output_type": "execute_result"
    }
   ],
   "source": [
    "ecom[ecom.Language==\"en\"].count()"
   ],
   "metadata": {
    "collapsed": false
   }
  },
  {
   "cell_type": "code",
   "execution_count": 8,
   "outputs": [
    {
     "data": {
      "text/plain": [
       "Address             1098\n",
       "Lot                 1098\n",
       "AM or PM            1098\n",
       "Browser Info        1098\n",
       "Company             1098\n",
       "Credit Card         1098\n",
       "CC Exp Date         1098\n",
       "CC Security Code    1098\n",
       "CC Provider         1098\n",
       "Email               1098\n",
       "Job                 1098\n",
       "IP Address          1098\n",
       "Language            1098\n",
       "Purchase Price      1098\n",
       "dtype: int64"
      ]
     },
     "execution_count": 8,
     "metadata": {},
     "output_type": "execute_result"
    }
   ],
   "source": [],
   "metadata": {
    "collapsed": false
   }
  },
  {
   "cell_type": "markdown",
   "metadata": {},
   "source": [
    "**Сколько людей имеют должность \"Lawyer\"?**\n"
   ]
  },
  {
   "cell_type": "code",
   "execution_count": 17,
   "outputs": [
    {
     "name": "stdout",
     "output_type": "stream",
     "text": [
      "<class 'pandas.core.frame.DataFrame'>\n",
      "Int64Index: 30 entries, 470 to 9979\n",
      "Data columns (total 14 columns):\n",
      " #   Column            Non-Null Count  Dtype  \n",
      "---  ------            --------------  -----  \n",
      " 0   Address           30 non-null     object \n",
      " 1   Lot               30 non-null     object \n",
      " 2   AM or PM          30 non-null     object \n",
      " 3   Browser Info      30 non-null     object \n",
      " 4   Company           30 non-null     object \n",
      " 5   Credit Card       30 non-null     int64  \n",
      " 6   CC Exp Date       30 non-null     object \n",
      " 7   CC Security Code  30 non-null     int64  \n",
      " 8   CC Provider       30 non-null     object \n",
      " 9   Email             30 non-null     object \n",
      " 10  Job               30 non-null     object \n",
      " 11  IP Address        30 non-null     object \n",
      " 12  Language          30 non-null     object \n",
      " 13  Purchase Price    30 non-null     float64\n",
      "dtypes: float64(1), int64(2), object(11)\n",
      "memory usage: 3.5+ KB\n"
     ]
    }
   ],
   "source": [
    "ecom[ecom.Job==\"Lawyer\"].info()"
   ],
   "metadata": {
    "collapsed": false
   }
  },
  {
   "cell_type": "code",
   "execution_count": 9,
   "outputs": [
    {
     "name": "stdout",
     "output_type": "stream",
     "text": [
      "<class 'pandas.core.frame.DataFrame'>\n",
      "Int64Index: 30 entries, 470 to 9979\n",
      "Data columns (total 14 columns):\n",
      "Address             30 non-null object\n",
      "Lot                 30 non-null object\n",
      "AM or PM            30 non-null object\n",
      "Browser Info        30 non-null object\n",
      "Company             30 non-null object\n",
      "Credit Card         30 non-null int64\n",
      "CC Exp Date         30 non-null object\n",
      "CC Security Code    30 non-null int64\n",
      "CC Provider         30 non-null object\n",
      "Email               30 non-null object\n",
      "Job                 30 non-null object\n",
      "IP Address          30 non-null object\n",
      "Language            30 non-null object\n",
      "Purchase Price      30 non-null float64\n",
      "dtypes: float64(1), int64(2), object(11)\n",
      "memory usage: 3.5+ KB\n"
     ]
    }
   ],
   "source": [],
   "metadata": {
    "collapsed": false
   }
  },
  {
   "cell_type": "markdown",
   "metadata": {},
   "source": [
    "**Сколько людей совершили покупку во время AM и сколько людей сделали покупку во время PM?**\n",
    "\n",
    "**(Подсказка: посмотрите метод [value_counts()](http://pandas.pydata.org/pandas-docs/stable/generated/pandas.Series.value_counts.html) ) **"
   ]
  },
  {
   "cell_type": "code",
   "execution_count": 18,
   "outputs": [
    {
     "data": {
      "text/plain": "                                             Address    Lot AM or PM  \\\n0  16629 Pace Camp Apt. 448\\nAlexisborough, NE 77...  46 in       PM   \n1  9374 Jasmine Spurs Suite 508\\nSouth John, TN 8...  28 rn       PM   \n2                   Unit 0065 Box 5052\\nDPO AP 27450  94 vE       PM   \n3              7780 Julia Fords\\nNew Stacy, WA 45798  36 vm       PM   \n4  23012 Munoz Drive Suite 337\\nNew Cynthia, TX 5...  20 IE       AM   \n\n                                        Browser Info  \\\n0  Opera/9.56.(X11; Linux x86_64; sl-SI) Presto/2...   \n1  Opera/8.93.(Windows 98; Win 9x 4.90; en-US) Pr...   \n2  Mozilla/5.0 (compatible; MSIE 9.0; Windows NT ...   \n3  Mozilla/5.0 (Macintosh; Intel Mac OS X 10_8_0 ...   \n4  Opera/9.58.(X11; Linux x86_64; it-IT) Presto/2...   \n\n                           Company       Credit Card CC Exp Date  \\\n0                  Martinez-Herman  6011929061123406       02/20   \n1  Fletcher, Richards and Whitaker  3337758169645356       11/18   \n2       Simpson, Williams and Pham      675957666125       08/19   \n3  Williams, Marshall and Buchanan  6011578504430710       02/24   \n4        Brown, Watson and Andrews  6011456623207998       10/25   \n\n   CC Security Code                  CC Provider  \\\n0               900                 JCB 16 digit   \n1               561                   Mastercard   \n2               699                 JCB 16 digit   \n3               384                     Discover   \n4               678  Diners Club / Carte Blanche   \n\n                            Email                                     Job  \\\n0               pdunlap@yahoo.com  Scientist, product/process development   \n1              anthony41@reed.com                       Drilling engineer   \n2  amymiller@morales-harrison.com                Customer service manager   \n3     brent16@olson-robinson.info                       Drilling engineer   \n4     christopherwright@gmail.com                             Fine artist   \n\n        IP Address Language  Purchase Price  \n0  149.146.147.205       el           98.14  \n1     15.160.41.51       fr           70.73  \n2   132.207.160.22       de            0.95  \n3     30.250.74.19       es           78.04  \n4     24.140.33.94       es           77.82  ",
      "text/html": "<div>\n<style scoped>\n    .dataframe tbody tr th:only-of-type {\n        vertical-align: middle;\n    }\n\n    .dataframe tbody tr th {\n        vertical-align: top;\n    }\n\n    .dataframe thead th {\n        text-align: right;\n    }\n</style>\n<table border=\"1\" class=\"dataframe\">\n  <thead>\n    <tr style=\"text-align: right;\">\n      <th></th>\n      <th>Address</th>\n      <th>Lot</th>\n      <th>AM or PM</th>\n      <th>Browser Info</th>\n      <th>Company</th>\n      <th>Credit Card</th>\n      <th>CC Exp Date</th>\n      <th>CC Security Code</th>\n      <th>CC Provider</th>\n      <th>Email</th>\n      <th>Job</th>\n      <th>IP Address</th>\n      <th>Language</th>\n      <th>Purchase Price</th>\n    </tr>\n  </thead>\n  <tbody>\n    <tr>\n      <th>0</th>\n      <td>16629 Pace Camp Apt. 448\\nAlexisborough, NE 77...</td>\n      <td>46 in</td>\n      <td>PM</td>\n      <td>Opera/9.56.(X11; Linux x86_64; sl-SI) Presto/2...</td>\n      <td>Martinez-Herman</td>\n      <td>6011929061123406</td>\n      <td>02/20</td>\n      <td>900</td>\n      <td>JCB 16 digit</td>\n      <td>pdunlap@yahoo.com</td>\n      <td>Scientist, product/process development</td>\n      <td>149.146.147.205</td>\n      <td>el</td>\n      <td>98.14</td>\n    </tr>\n    <tr>\n      <th>1</th>\n      <td>9374 Jasmine Spurs Suite 508\\nSouth John, TN 8...</td>\n      <td>28 rn</td>\n      <td>PM</td>\n      <td>Opera/8.93.(Windows 98; Win 9x 4.90; en-US) Pr...</td>\n      <td>Fletcher, Richards and Whitaker</td>\n      <td>3337758169645356</td>\n      <td>11/18</td>\n      <td>561</td>\n      <td>Mastercard</td>\n      <td>anthony41@reed.com</td>\n      <td>Drilling engineer</td>\n      <td>15.160.41.51</td>\n      <td>fr</td>\n      <td>70.73</td>\n    </tr>\n    <tr>\n      <th>2</th>\n      <td>Unit 0065 Box 5052\\nDPO AP 27450</td>\n      <td>94 vE</td>\n      <td>PM</td>\n      <td>Mozilla/5.0 (compatible; MSIE 9.0; Windows NT ...</td>\n      <td>Simpson, Williams and Pham</td>\n      <td>675957666125</td>\n      <td>08/19</td>\n      <td>699</td>\n      <td>JCB 16 digit</td>\n      <td>amymiller@morales-harrison.com</td>\n      <td>Customer service manager</td>\n      <td>132.207.160.22</td>\n      <td>de</td>\n      <td>0.95</td>\n    </tr>\n    <tr>\n      <th>3</th>\n      <td>7780 Julia Fords\\nNew Stacy, WA 45798</td>\n      <td>36 vm</td>\n      <td>PM</td>\n      <td>Mozilla/5.0 (Macintosh; Intel Mac OS X 10_8_0 ...</td>\n      <td>Williams, Marshall and Buchanan</td>\n      <td>6011578504430710</td>\n      <td>02/24</td>\n      <td>384</td>\n      <td>Discover</td>\n      <td>brent16@olson-robinson.info</td>\n      <td>Drilling engineer</td>\n      <td>30.250.74.19</td>\n      <td>es</td>\n      <td>78.04</td>\n    </tr>\n    <tr>\n      <th>4</th>\n      <td>23012 Munoz Drive Suite 337\\nNew Cynthia, TX 5...</td>\n      <td>20 IE</td>\n      <td>AM</td>\n      <td>Opera/9.58.(X11; Linux x86_64; it-IT) Presto/2...</td>\n      <td>Brown, Watson and Andrews</td>\n      <td>6011456623207998</td>\n      <td>10/25</td>\n      <td>678</td>\n      <td>Diners Club / Carte Blanche</td>\n      <td>christopherwright@gmail.com</td>\n      <td>Fine artist</td>\n      <td>24.140.33.94</td>\n      <td>es</td>\n      <td>77.82</td>\n    </tr>\n  </tbody>\n</table>\n</div>"
     },
     "execution_count": 18,
     "metadata": {},
     "output_type": "execute_result"
    }
   ],
   "source": [
    "ecom.head()"
   ],
   "metadata": {
    "collapsed": false
   }
  },
  {
   "cell_type": "code",
   "execution_count": 30,
   "outputs": [
    {
     "data": {
      "text/plain": "PM    5068\nAM    4932\nName: AM or PM, dtype: int64"
     },
     "execution_count": 30,
     "metadata": {},
     "output_type": "execute_result"
    }
   ],
   "source": [
    "ecom[\"AM or PM\"].value_counts()"
   ],
   "metadata": {
    "collapsed": false
   }
  },
  {
   "cell_type": "code",
   "execution_count": 10,
   "outputs": [
    {
     "data": {
      "text/plain": [
       "PM    5068\n",
       "AM    4932\n",
       "Name: AM or PM, dtype: int64"
      ]
     },
     "execution_count": 10,
     "metadata": {},
     "output_type": "execute_result"
    }
   ],
   "source": [],
   "metadata": {
    "collapsed": false
   }
  },
  {
   "cell_type": "markdown",
   "metadata": {},
   "source": [
    "**Каковы 5 самых распространенных должностей (Job Titles)? **"
   ]
  },
  {
   "cell_type": "code",
   "execution_count": 35,
   "outputs": [
    {
     "data": {
      "text/plain": "Interior and spatial designer    31\nLawyer                           30\nSocial researcher                28\nPurchasing manager               27\nDesigner, jewellery              27\nName: Job, dtype: int64"
     },
     "execution_count": 35,
     "metadata": {},
     "output_type": "execute_result"
    }
   ],
   "source": [
    "ecom.Job.value_counts().head()"
   ],
   "metadata": {
    "collapsed": false
   }
  },
  {
   "cell_type": "code",
   "execution_count": 11,
   "metadata": {},
   "outputs": [
    {
     "data": {
      "text/plain": [
       "Interior and spatial designer    31\n",
       "Lawyer                           30\n",
       "Social researcher                28\n",
       "Designer, jewellery              27\n",
       "Purchasing manager               27\n",
       "Name: Job, dtype: int64"
      ]
     },
     "execution_count": 11,
     "metadata": {},
     "output_type": "execute_result"
    }
   ],
   "source": []
  },
  {
   "cell_type": "markdown",
   "metadata": {},
   "source": [
    "**Кто-то совершил покупку по лоту: \"90 WT\". Какова цена покупки для этой транзакции? **"
   ]
  },
  {
   "cell_type": "code",
   "execution_count": 48,
   "outputs": [
    {
     "data": {
      "text/plain": "                                             Address    Lot AM or PM  \\\n0  16629 Pace Camp Apt. 448\\nAlexisborough, NE 77...  46 in       PM   \n1  9374 Jasmine Spurs Suite 508\\nSouth John, TN 8...  28 rn       PM   \n2                   Unit 0065 Box 5052\\nDPO AP 27450  94 vE       PM   \n3              7780 Julia Fords\\nNew Stacy, WA 45798  36 vm       PM   \n4  23012 Munoz Drive Suite 337\\nNew Cynthia, TX 5...  20 IE       AM   \n\n                                        Browser Info  \\\n0  Opera/9.56.(X11; Linux x86_64; sl-SI) Presto/2...   \n1  Opera/8.93.(Windows 98; Win 9x 4.90; en-US) Pr...   \n2  Mozilla/5.0 (compatible; MSIE 9.0; Windows NT ...   \n3  Mozilla/5.0 (Macintosh; Intel Mac OS X 10_8_0 ...   \n4  Opera/9.58.(X11; Linux x86_64; it-IT) Presto/2...   \n\n                           Company       Credit Card CC Exp Date  \\\n0                  Martinez-Herman  6011929061123406       02/20   \n1  Fletcher, Richards and Whitaker  3337758169645356       11/18   \n2       Simpson, Williams and Pham      675957666125       08/19   \n3  Williams, Marshall and Buchanan  6011578504430710       02/24   \n4        Brown, Watson and Andrews  6011456623207998       10/25   \n\n   CC Security Code                  CC Provider  \\\n0               900                 JCB 16 digit   \n1               561                   Mastercard   \n2               699                 JCB 16 digit   \n3               384                     Discover   \n4               678  Diners Club / Carte Blanche   \n\n                            Email                                     Job  \\\n0               pdunlap@yahoo.com  Scientist, product/process development   \n1              anthony41@reed.com                       Drilling engineer   \n2  amymiller@morales-harrison.com                Customer service manager   \n3     brent16@olson-robinson.info                       Drilling engineer   \n4     christopherwright@gmail.com                             Fine artist   \n\n        IP Address Language  Purchase Price  \n0  149.146.147.205       el           98.14  \n1     15.160.41.51       fr           70.73  \n2   132.207.160.22       de            0.95  \n3     30.250.74.19       es           78.04  \n4     24.140.33.94       es           77.82  ",
      "text/html": "<div>\n<style scoped>\n    .dataframe tbody tr th:only-of-type {\n        vertical-align: middle;\n    }\n\n    .dataframe tbody tr th {\n        vertical-align: top;\n    }\n\n    .dataframe thead th {\n        text-align: right;\n    }\n</style>\n<table border=\"1\" class=\"dataframe\">\n  <thead>\n    <tr style=\"text-align: right;\">\n      <th></th>\n      <th>Address</th>\n      <th>Lot</th>\n      <th>AM or PM</th>\n      <th>Browser Info</th>\n      <th>Company</th>\n      <th>Credit Card</th>\n      <th>CC Exp Date</th>\n      <th>CC Security Code</th>\n      <th>CC Provider</th>\n      <th>Email</th>\n      <th>Job</th>\n      <th>IP Address</th>\n      <th>Language</th>\n      <th>Purchase Price</th>\n    </tr>\n  </thead>\n  <tbody>\n    <tr>\n      <th>0</th>\n      <td>16629 Pace Camp Apt. 448\\nAlexisborough, NE 77...</td>\n      <td>46 in</td>\n      <td>PM</td>\n      <td>Opera/9.56.(X11; Linux x86_64; sl-SI) Presto/2...</td>\n      <td>Martinez-Herman</td>\n      <td>6011929061123406</td>\n      <td>02/20</td>\n      <td>900</td>\n      <td>JCB 16 digit</td>\n      <td>pdunlap@yahoo.com</td>\n      <td>Scientist, product/process development</td>\n      <td>149.146.147.205</td>\n      <td>el</td>\n      <td>98.14</td>\n    </tr>\n    <tr>\n      <th>1</th>\n      <td>9374 Jasmine Spurs Suite 508\\nSouth John, TN 8...</td>\n      <td>28 rn</td>\n      <td>PM</td>\n      <td>Opera/8.93.(Windows 98; Win 9x 4.90; en-US) Pr...</td>\n      <td>Fletcher, Richards and Whitaker</td>\n      <td>3337758169645356</td>\n      <td>11/18</td>\n      <td>561</td>\n      <td>Mastercard</td>\n      <td>anthony41@reed.com</td>\n      <td>Drilling engineer</td>\n      <td>15.160.41.51</td>\n      <td>fr</td>\n      <td>70.73</td>\n    </tr>\n    <tr>\n      <th>2</th>\n      <td>Unit 0065 Box 5052\\nDPO AP 27450</td>\n      <td>94 vE</td>\n      <td>PM</td>\n      <td>Mozilla/5.0 (compatible; MSIE 9.0; Windows NT ...</td>\n      <td>Simpson, Williams and Pham</td>\n      <td>675957666125</td>\n      <td>08/19</td>\n      <td>699</td>\n      <td>JCB 16 digit</td>\n      <td>amymiller@morales-harrison.com</td>\n      <td>Customer service manager</td>\n      <td>132.207.160.22</td>\n      <td>de</td>\n      <td>0.95</td>\n    </tr>\n    <tr>\n      <th>3</th>\n      <td>7780 Julia Fords\\nNew Stacy, WA 45798</td>\n      <td>36 vm</td>\n      <td>PM</td>\n      <td>Mozilla/5.0 (Macintosh; Intel Mac OS X 10_8_0 ...</td>\n      <td>Williams, Marshall and Buchanan</td>\n      <td>6011578504430710</td>\n      <td>02/24</td>\n      <td>384</td>\n      <td>Discover</td>\n      <td>brent16@olson-robinson.info</td>\n      <td>Drilling engineer</td>\n      <td>30.250.74.19</td>\n      <td>es</td>\n      <td>78.04</td>\n    </tr>\n    <tr>\n      <th>4</th>\n      <td>23012 Munoz Drive Suite 337\\nNew Cynthia, TX 5...</td>\n      <td>20 IE</td>\n      <td>AM</td>\n      <td>Opera/9.58.(X11; Linux x86_64; it-IT) Presto/2...</td>\n      <td>Brown, Watson and Andrews</td>\n      <td>6011456623207998</td>\n      <td>10/25</td>\n      <td>678</td>\n      <td>Diners Club / Carte Blanche</td>\n      <td>christopherwright@gmail.com</td>\n      <td>Fine artist</td>\n      <td>24.140.33.94</td>\n      <td>es</td>\n      <td>77.82</td>\n    </tr>\n  </tbody>\n</table>\n</div>"
     },
     "execution_count": 48,
     "metadata": {},
     "output_type": "execute_result"
    }
   ],
   "source": [
    "ecom.head()"
   ],
   "metadata": {
    "collapsed": false
   }
  },
  {
   "cell_type": "code",
   "execution_count": 49,
   "outputs": [
    {
     "data": {
      "text/plain": "                                               Address    Lot AM or PM  \\\n513  50398 Mccoy Rest Suite 597\\nSouth Garyborough,...  90 WT       AM   \n\n                                          Browser Info     Company  \\\n513  Mozilla/5.0 (iPod; U; CPU iPhone OS 3_2 like M...  Bright PLC   \n\n      Credit Card CC Exp Date  CC Security Code       CC Provider  \\\n513  630438419693       11/19               173  American Express   \n\n                Email              Job     IP Address Language  Purchase Price  \n513  jesse00@page.net  Energy engineer  156.70.208.94       ru            75.1  ",
      "text/html": "<div>\n<style scoped>\n    .dataframe tbody tr th:only-of-type {\n        vertical-align: middle;\n    }\n\n    .dataframe tbody tr th {\n        vertical-align: top;\n    }\n\n    .dataframe thead th {\n        text-align: right;\n    }\n</style>\n<table border=\"1\" class=\"dataframe\">\n  <thead>\n    <tr style=\"text-align: right;\">\n      <th></th>\n      <th>Address</th>\n      <th>Lot</th>\n      <th>AM or PM</th>\n      <th>Browser Info</th>\n      <th>Company</th>\n      <th>Credit Card</th>\n      <th>CC Exp Date</th>\n      <th>CC Security Code</th>\n      <th>CC Provider</th>\n      <th>Email</th>\n      <th>Job</th>\n      <th>IP Address</th>\n      <th>Language</th>\n      <th>Purchase Price</th>\n    </tr>\n  </thead>\n  <tbody>\n    <tr>\n      <th>513</th>\n      <td>50398 Mccoy Rest Suite 597\\nSouth Garyborough,...</td>\n      <td>90 WT</td>\n      <td>AM</td>\n      <td>Mozilla/5.0 (iPod; U; CPU iPhone OS 3_2 like M...</td>\n      <td>Bright PLC</td>\n      <td>630438419693</td>\n      <td>11/19</td>\n      <td>173</td>\n      <td>American Express</td>\n      <td>jesse00@page.net</td>\n      <td>Energy engineer</td>\n      <td>156.70.208.94</td>\n      <td>ru</td>\n      <td>75.1</td>\n    </tr>\n  </tbody>\n</table>\n</div>"
     },
     "execution_count": 49,
     "metadata": {},
     "output_type": "execute_result"
    }
   ],
   "source": [
    "ecom[ecom.Lot==\"90 WT\"]"
   ],
   "metadata": {
    "collapsed": false
   }
  },
  {
   "cell_type": "code",
   "execution_count": 43,
   "outputs": [
    {
     "data": {
      "text/plain": "513    75.1\nName: Purchase Price, dtype: float64"
     },
     "execution_count": 43,
     "metadata": {},
     "output_type": "execute_result"
    }
   ],
   "source": [
    "ecom[ecom.Lot==\"90 WT\"][\"Purchase Price\"]"
   ],
   "metadata": {
    "collapsed": false
   }
  },
  {
   "cell_type": "code",
   "execution_count": 12,
   "outputs": [
    {
     "data": {
      "text/plain": [
       "513    75.1\n",
       "Name: Purchase Price, dtype: float64"
      ]
     },
     "execution_count": 12,
     "metadata": {},
     "output_type": "execute_result"
    }
   ],
   "source": [],
   "metadata": {
    "collapsed": false
   }
  },
  {
   "cell_type": "markdown",
   "metadata": {},
   "source": [
    "**Какой адрес электронной почты у человека со следующим номером кредитной карты: 4926535242672853**"
   ]
  },
  {
   "cell_type": "code",
   "execution_count": 51,
   "outputs": [
    {
     "data": {
      "text/plain": "1234    bondellen@williams-garza.com\nName: Email, dtype: object"
     },
     "execution_count": 51,
     "metadata": {},
     "output_type": "execute_result"
    }
   ],
   "source": [
    "ecom[ecom[\"Credit Card\"]==4926535242672853][\"Email\"]"
   ],
   "metadata": {
    "collapsed": false
   }
  },
  {
   "cell_type": "code",
   "execution_count": 13,
   "outputs": [
    {
     "data": {
      "text/plain": [
       "1234    bondellen@williams-garza.com\n",
       "Name: Email, dtype: object"
      ]
     },
     "execution_count": 13,
     "metadata": {},
     "output_type": "execute_result"
    }
   ],
   "source": [],
   "metadata": {
    "collapsed": false
   }
  },
  {
   "cell_type": "markdown",
   "metadata": {},
   "source": [
    "**Сколько людей используют American Express в качестве поставщика кредитных карт *и* совершили покупку на сумму более 95 долларов США?**"
   ]
  },
  {
   "cell_type": "code",
   "execution_count": 52,
   "outputs": [
    {
     "data": {
      "text/plain": "                                             Address    Lot AM or PM  \\\n0  16629 Pace Camp Apt. 448\\nAlexisborough, NE 77...  46 in       PM   \n1  9374 Jasmine Spurs Suite 508\\nSouth John, TN 8...  28 rn       PM   \n2                   Unit 0065 Box 5052\\nDPO AP 27450  94 vE       PM   \n3              7780 Julia Fords\\nNew Stacy, WA 45798  36 vm       PM   \n4  23012 Munoz Drive Suite 337\\nNew Cynthia, TX 5...  20 IE       AM   \n\n                                        Browser Info  \\\n0  Opera/9.56.(X11; Linux x86_64; sl-SI) Presto/2...   \n1  Opera/8.93.(Windows 98; Win 9x 4.90; en-US) Pr...   \n2  Mozilla/5.0 (compatible; MSIE 9.0; Windows NT ...   \n3  Mozilla/5.0 (Macintosh; Intel Mac OS X 10_8_0 ...   \n4  Opera/9.58.(X11; Linux x86_64; it-IT) Presto/2...   \n\n                           Company       Credit Card CC Exp Date  \\\n0                  Martinez-Herman  6011929061123406       02/20   \n1  Fletcher, Richards and Whitaker  3337758169645356       11/18   \n2       Simpson, Williams and Pham      675957666125       08/19   \n3  Williams, Marshall and Buchanan  6011578504430710       02/24   \n4        Brown, Watson and Andrews  6011456623207998       10/25   \n\n   CC Security Code                  CC Provider  \\\n0               900                 JCB 16 digit   \n1               561                   Mastercard   \n2               699                 JCB 16 digit   \n3               384                     Discover   \n4               678  Diners Club / Carte Blanche   \n\n                            Email                                     Job  \\\n0               pdunlap@yahoo.com  Scientist, product/process development   \n1              anthony41@reed.com                       Drilling engineer   \n2  amymiller@morales-harrison.com                Customer service manager   \n3     brent16@olson-robinson.info                       Drilling engineer   \n4     christopherwright@gmail.com                             Fine artist   \n\n        IP Address Language  Purchase Price  \n0  149.146.147.205       el           98.14  \n1     15.160.41.51       fr           70.73  \n2   132.207.160.22       de            0.95  \n3     30.250.74.19       es           78.04  \n4     24.140.33.94       es           77.82  ",
      "text/html": "<div>\n<style scoped>\n    .dataframe tbody tr th:only-of-type {\n        vertical-align: middle;\n    }\n\n    .dataframe tbody tr th {\n        vertical-align: top;\n    }\n\n    .dataframe thead th {\n        text-align: right;\n    }\n</style>\n<table border=\"1\" class=\"dataframe\">\n  <thead>\n    <tr style=\"text-align: right;\">\n      <th></th>\n      <th>Address</th>\n      <th>Lot</th>\n      <th>AM or PM</th>\n      <th>Browser Info</th>\n      <th>Company</th>\n      <th>Credit Card</th>\n      <th>CC Exp Date</th>\n      <th>CC Security Code</th>\n      <th>CC Provider</th>\n      <th>Email</th>\n      <th>Job</th>\n      <th>IP Address</th>\n      <th>Language</th>\n      <th>Purchase Price</th>\n    </tr>\n  </thead>\n  <tbody>\n    <tr>\n      <th>0</th>\n      <td>16629 Pace Camp Apt. 448\\nAlexisborough, NE 77...</td>\n      <td>46 in</td>\n      <td>PM</td>\n      <td>Opera/9.56.(X11; Linux x86_64; sl-SI) Presto/2...</td>\n      <td>Martinez-Herman</td>\n      <td>6011929061123406</td>\n      <td>02/20</td>\n      <td>900</td>\n      <td>JCB 16 digit</td>\n      <td>pdunlap@yahoo.com</td>\n      <td>Scientist, product/process development</td>\n      <td>149.146.147.205</td>\n      <td>el</td>\n      <td>98.14</td>\n    </tr>\n    <tr>\n      <th>1</th>\n      <td>9374 Jasmine Spurs Suite 508\\nSouth John, TN 8...</td>\n      <td>28 rn</td>\n      <td>PM</td>\n      <td>Opera/8.93.(Windows 98; Win 9x 4.90; en-US) Pr...</td>\n      <td>Fletcher, Richards and Whitaker</td>\n      <td>3337758169645356</td>\n      <td>11/18</td>\n      <td>561</td>\n      <td>Mastercard</td>\n      <td>anthony41@reed.com</td>\n      <td>Drilling engineer</td>\n      <td>15.160.41.51</td>\n      <td>fr</td>\n      <td>70.73</td>\n    </tr>\n    <tr>\n      <th>2</th>\n      <td>Unit 0065 Box 5052\\nDPO AP 27450</td>\n      <td>94 vE</td>\n      <td>PM</td>\n      <td>Mozilla/5.0 (compatible; MSIE 9.0; Windows NT ...</td>\n      <td>Simpson, Williams and Pham</td>\n      <td>675957666125</td>\n      <td>08/19</td>\n      <td>699</td>\n      <td>JCB 16 digit</td>\n      <td>amymiller@morales-harrison.com</td>\n      <td>Customer service manager</td>\n      <td>132.207.160.22</td>\n      <td>de</td>\n      <td>0.95</td>\n    </tr>\n    <tr>\n      <th>3</th>\n      <td>7780 Julia Fords\\nNew Stacy, WA 45798</td>\n      <td>36 vm</td>\n      <td>PM</td>\n      <td>Mozilla/5.0 (Macintosh; Intel Mac OS X 10_8_0 ...</td>\n      <td>Williams, Marshall and Buchanan</td>\n      <td>6011578504430710</td>\n      <td>02/24</td>\n      <td>384</td>\n      <td>Discover</td>\n      <td>brent16@olson-robinson.info</td>\n      <td>Drilling engineer</td>\n      <td>30.250.74.19</td>\n      <td>es</td>\n      <td>78.04</td>\n    </tr>\n    <tr>\n      <th>4</th>\n      <td>23012 Munoz Drive Suite 337\\nNew Cynthia, TX 5...</td>\n      <td>20 IE</td>\n      <td>AM</td>\n      <td>Opera/9.58.(X11; Linux x86_64; it-IT) Presto/2...</td>\n      <td>Brown, Watson and Andrews</td>\n      <td>6011456623207998</td>\n      <td>10/25</td>\n      <td>678</td>\n      <td>Diners Club / Carte Blanche</td>\n      <td>christopherwright@gmail.com</td>\n      <td>Fine artist</td>\n      <td>24.140.33.94</td>\n      <td>es</td>\n      <td>77.82</td>\n    </tr>\n  </tbody>\n</table>\n</div>"
     },
     "execution_count": 52,
     "metadata": {},
     "output_type": "execute_result"
    }
   ],
   "source": [
    "ecom.head()"
   ],
   "metadata": {
    "collapsed": false
   }
  },
  {
   "cell_type": "code",
   "execution_count": 58,
   "outputs": [
    {
     "data": {
      "text/plain": "Address              object\nLot                  object\nAM or PM             object\nBrowser Info         object\nCompany              object\nCredit Card           int64\nCC Exp Date          object\nCC Security Code      int64\nCC Provider          object\nEmail                object\nJob                  object\nIP Address           object\nLanguage             object\nPurchase Price      float64\ndtype: object"
     },
     "execution_count": 58,
     "metadata": {},
     "output_type": "execute_result"
    }
   ],
   "source": [
    "ecom.dtypes"
   ],
   "metadata": {
    "collapsed": false
   }
  },
  {
   "cell_type": "markdown",
   "source": [],
   "metadata": {
    "collapsed": false
   }
  },
  {
   "cell_type": "code",
   "execution_count": 73,
   "outputs": [
    {
     "name": "stderr",
     "output_type": "stream",
     "text": [
      "C:\\Users\\B.Koljabai\\AppData\\Local\\Temp\\ipykernel_1268\\1690821988.py:1: UserWarning: Boolean Series key will be reindexed to match DataFrame index.\n",
      "  ecom[ecom[\"CC Provider\"]==\"American Express\"][ecom[\"Purchase Price\"]>95.0].value_counts()\n"
     ]
    },
    {
     "data": {
      "text/plain": "Address                                                           Lot    AM or PM  Browser Info                                                                                                                                      Company                        Credit Card       CC Exp Date  CC Security Code  CC Provider       Email                                   Job                                           IP Address       Language  Purchase Price\n03233 Angela Road Apt. 808\\nEast Jilliantown, GA 61190-7773       41 nH  PM        Opera/9.53.(Windows 95; en-US) Presto/2.9.175 Version/11.00                                                                                       Silva, Kim and Martinez        4807251488895729  10/21        948               American Express  jonesjesse@castro.info                  Garment/textile technologist                  87.66.16.4       en        99.69             1\n8256 Anderson Forest\\nFordbury, PA 81027-8980                     17 Oe  AM        Mozilla/5.0 (compatible; MSIE 9.0; Windows NT 5.2; Trident/4.0)                                                                                   Kelly, Peterson and Oliver     5173335726386576  02/18        954               American Express  hernandezandrea@yahoo.com               Community development worker                  212.168.246.27   ru        95.07             1\n67796 James Keys Suite 656\\nSouth Katieshire, SD 57639            06 ia  PM        Mozilla/5.0 (Windows NT 5.1) AppleWebKit/5330 (KHTML, like Gecko) Chrome/13.0.807.0 Safari/5330                                                   Gonzalez, Gross and Allen      30407332938506    12/20        597               American Express  vbrown@daugherty.com                    Geophysical data processor                    152.133.246.191  zh        98.89             1\n678 David Manor Suite 323\\nBobbymouth, PW 59942                   91 NA  AM        Mozilla/5.0 (compatible; MSIE 8.0; Windows 98; Trident/5.1)                                                                                       Glenn, Lowe and Shah           676298897445      04/26        61                American Express  tammy75@cameron.com                     Automotive engineer                           37.241.180.247   ru        98.36             1\n76108 Barker Manors\\nEast Amy, PW 49544-5921                      82 Qw  AM        Mozilla/5.0 (X11; Linux x86_64) AppleWebKit/5360 (KHTML, like Gecko) Chrome/15.0.836.0 Safari/5360                                                Nguyen, Branch and Wiley       5142451859832464  04/21        785               American Express  johnsonjulie@yahoo.com                  Insurance claims handler                      175.248.232.126  es        97.04             1\n79284 Lisa Mews Suite 069\\nKellyborough, CT 71722-9954            45 MR  PM        Mozilla/5.0 (Macintosh; PPC Mac OS X 10_5_5; rv:1.9.2.20) Gecko/2015-10-11 02:00:06 Firefox/3.8                                                   Randall-Cohen                  4855262855037     05/17        518               American Express  maldonadomichael@martinez-delgado.info  Geophysical data processor                    50.40.147.204    it        96.11             1\n81060 Dustin Causeway Apt. 503\\nPort Danielchester, KY 17117      80 zh  PM        Mozilla/5.0 (Windows NT 5.01) AppleWebKit/5362 (KHTML, like Gecko) Chrome/15.0.844.0 Safari/5362                                                  Clay PLC                       377737470673585   10/17        349               American Express  hfarley@hicks.com                       Ergonomist                                    134.52.148.32    de        99.13             1\n81561 Stein Rue\\nEast Melissaport, MA 64959                       45 sZ  PM        Mozilla/5.0 (X11; Linux i686) AppleWebKit/5310 (KHTML, like Gecko) Chrome/15.0.800.0 Safari/5310                                                  Smith Ltd                      503825682670      07/19        852               American Express  beckerjennifer@gmail.com                Engineer, energy                              50.107.135.203   fr        97.32             1\n8161 Craig Passage Apt. 939\\nPort Emilystad, RI 10001             45 ab  AM        Mozilla/5.0 (Windows; U; Windows NT 6.1) AppleWebKit/535.15.5 (KHTML, like Gecko) Version/4.0.4 Safari/535.15.5                                   Wilson-Robinson                5506767693718324  08/23        18                American Express  hhenderson@yahoo.com                    Customer service manager                      119.74.76.168    es        96.49             1\n87003 Jason Tunnel Apt. 216\\nDariusville, MS 82992                72 gL  AM        Mozilla/5.0 (compatible; MSIE 9.0; Windows NT 5.0; Trident/5.1)                                                                                   Reyes, Fox and Wilson          180010957603245   09/24        929               American Express  duncanmichael@hotmail.com               Event organiser                               231.34.199.32    it        97.38             1\n557 Barton Harbor\\nFuentesport, VI 29961                          96 MV  AM        Mozilla/5.0 (compatible; MSIE 6.0; Windows 98; Trident/5.0)                                                                                       Flores-Cook                    3337255995040373  04/19        28                American Express  jessica94@mosley-buchanan.com           Armed forces technical officer                35.97.189.19     es        98.01             1\n88284 Austin Summit Apt. 805\\nKellerside, WY 63357                03 WL  AM        Mozilla/5.0 (Macintosh; U; PPC Mac OS X 10_5_5 rv:2.0; sl-SI) AppleWebKit/532.30.5 (KHTML, like Gecko) Version/5.0.1 Safari/532.30.5              Fisher, Thompson and Lynch     3088726880694574  12/19        159               American Express  amy00@patton.com                        Actuary                                       207.18.223.8     el        97.38             1\n899 Williams Prairie Suite 234\\nEast Hunterbury, WA 14939-0145    46 hb  PM        Mozilla/5.0 (compatible; MSIE 7.0; Windows NT 5.2; Trident/4.1)                                                                                   Webb Inc                       3096797127305092  05/17        418               American Express  reevesmanuel@gmail.com                  Engineer, maintenance (IT)                    169.132.152.152  el        96.08             1\n916 Amanda Heights\\nNew Johnland, CA 52112-8572                   09 vg  PM        Mozilla/5.0 (X11; Linux i686; rv:1.9.7.20) Gecko/2015-01-05 03:21:24 Firefox/3.6.6                                                                Clark, Ross and Travis         371229555854245   10/21        366               American Express  lawrencecarter@kelly.com                Artist                                        88.49.59.205     pt        96.55             1\nPSC 8264, Box 8124\\nAPO AE 19700                                  97 sG  PM        Mozilla/5.0 (iPod; U; CPU iPhone OS 3_3 like Mac OS X; sl-SI) AppleWebKit/534.2.4 (KHTML, like Gecko) Version/4.0.5 Mobile/8B118 Safari/6534.2.4  Moore Inc                      6011499701167585  10/20        845               American Express  kellypace@yahoo.com                     Aid worker                                    155.121.60.58    pt        98.66             1\nUSNS Smith\\nFPO AA 37829                                          80 BX  AM        Opera/9.56.(X11; Linux x86_64; en-US) Presto/2.9.189 Version/12.00                                                                                Patterson-Miller               4411786056713950  12/22        452               American Express  ijones@hotmail.com                      Field seismologist                            251.254.250.100  el        96.13             1\nUnit 4385 Box 1428\\nDPO AE 04110                                  58 Ex  AM        Mozilla/5.0 (Windows; U; Windows NT 5.01) AppleWebKit/535.19.6 (KHTML, like Gecko) Version/4.0 Safari/535.19.6                                    White Inc                      3112975578138572  09/17        7                 American Express  scott35@yahoo.com                       Operations geologist                          217.6.202.138    en        95.89             1\nUnit 4967 Box 4574\\nDPO AP 11412                                  05 zs  PM        Mozilla/5.0 (compatible; MSIE 5.0; Windows 98; Win 9x 4.90; Trident/3.0)                                                                          Acevedo-Smith                  3337721305744244  01/19        738               American Express  nunezjames@hotmail.com                  Designer, exhibition/display                  91.55.254.144    es        98.16             1\n58939 Reese Cove\\nSouth Ross, MA 54531                            50 cD  AM        Mozilla/5.0 (compatible; MSIE 9.0; Windows 95; Trident/4.1)                                                                                       Chang, Davis and Snyder        349464844934636   11/23        103               American Express  stephanieacosta@yahoo.com               IT trainer                                    124.247.101.106  it        95.94             1\n4855 Peter Bridge\\nJohnsonberg, PA 90599-0009                     62 Nx  AM        Opera/9.49.(Windows 98; Win 9x 4.90; en-US) Presto/2.9.176 Version/12.00                                                                          Jones and Sons                 4960556611626434  07/26        9255              American Express  evanskayla@fernandez.com                Plant breeder/geneticist                      235.97.240.112   el        98.97             1\n040 Ingram Way Suite 602\\nEast Matthew, AR 67341                  52 WA  AM        Mozilla/5.0 (Windows NT 6.0) AppleWebKit/5341 (KHTML, like Gecko) Chrome/15.0.839.0 Safari/5341                                                   Baker, Simmons and Pitts       3096946456575623  11/22        56                American Express  holtamanda@gmail.com                    Archaeologist                                 185.14.106.115   es        99.85             1\n327 Hamilton Hollow\\nEast Nicolechester, RI 65868                 53 dE  PM        Mozilla/5.0 (Macintosh; U; PPC Mac OS X 10_5_3 rv:2.0; it-IT) AppleWebKit/531.27.5 (KHTML, like Gecko) Version/5.0.1 Safari/531.27.5              Keller, Carter and Garcia      30299608736429    08/22        786               American Express  elliskaren@taylor.com                   Chemical engineer                             131.34.220.138   en        98.63             1\n058 Miranda Locks Suite 792\\nPort Davidstad, PA 87162             73 IW  PM        Mozilla/5.0 (Windows NT 5.0) AppleWebKit/5360 (KHTML, like Gecko) Chrome/15.0.833.0 Safari/5360                                                   Olson-Navarro                  6011037226242937  03/18        757               American Express  brendastewart@dalton.info               Site engineer                                 96.79.250.154    de        99.97             1\n1082 Jason Alley Suite 707\\nWhitestad, SC 97805                   08 bm  PM        Mozilla/5.0 (Windows NT 5.1; sl-SI; rv:1.9.2.20) Gecko/2016-06-10 02:43:27 Firefox/6.0                                                            Carroll, Harrison and Escobar  3088903707645291  12/18        220               American Express  gcruz@butler.com                        Broadcast presenter                           193.90.91.152    pt        96.09             1\n18782 Hall Row Suite 810\\nSouth Wesleyville, IL 68417             15 QU  PM        Opera/9.57.(X11; Linux i686; it-IT) Presto/2.9.179 Version/12.00                                                                                  Butler PLC                     5412611065926441  05/25        49                American Express  tammyblair@yahoo.com                    Computer games developer                      2.84.51.133      en        98.59             1\n1984 Christopher Turnpike Suite 904\\nRichardburgh, WI 08718-1720  30 xs  AM        Mozilla/5.0 (X11; Linux x86_64; rv:1.9.7.20) Gecko/2015-11-06 12:03:35 Firefox/3.6.5                                                              Martin-Mitchell                3096398727024637  03/19        439               American Express  hgross@mccoy-mckay.info                 Structural engineer                           167.172.139.33   pt        95.46             1\n20135 Miller Green Apt. 763\\nGarciaville, KY 68323-4129           79 El  PM        Mozilla/5.0 (Windows; U; Windows CE) AppleWebKit/535.3.7 (KHTML, like Gecko) Version/4.0.3 Safari/535.3.7                                         Zavala, Cox and Parker         5173968976288215  11/22        125               American Express  villarrealdavid@gray.com                Chartered management accountant               76.75.229.58     el        96.12             1\n216 Olivia Court Apt. 439\\nTonyshire, IN 19159-5991               11 za  PM        Mozilla/5.0 (Macintosh; PPC Mac OS X 10_6_4; rv:1.9.6.20) Gecko/2013-02-16 22:35:59 Firefox/3.8                                                   Olson Inc                      5388757330269354  02/17        738               American Express  burkestephanie@lee-cameron.com          Management consultant                         20.140.16.225    it        97.63             1\n274 Wallace Pine Apt. 189\\nMartinberg, WY 75483-1766              32 rI  PM        Mozilla/5.0 (Windows; U; Windows 98; Win 9x 4.90) AppleWebKit/534.48.6 (KHTML, like Gecko) Version/5.1 Safari/534.48.6                            Kelly-Newman                   5527104423944290  05/18        711               American Express  joneswilliam@cox.net                    Surveyor, land/geomatics                      29.211.114.191   ru        99.36             1\n344 Rivera Shore Apt. 224\\nJoshuaborough, ND 33442-4762           44 SM  AM        Opera/8.62.(X11; Linux i686; en-US) Presto/2.9.181 Version/10.00                                                                                  Lawson, Moyer and Valencia     379348662534664   06/17        809               American Express  olsonjohn@hotmail.com                   Teacher, primary school                       45.1.104.55      zh        97.87             1\n478 Anita Hill Apt. 766\\nAverymouth, FM 50629-4894                94 qM  AM        Mozilla/5.0 (X11; Linux x86_64) AppleWebKit/5350 (KHTML, like Gecko) Chrome/13.0.888.0 Safari/5350                                                Owen and Sons                  30242757909967    11/19        7403              American Express  sharpmelanie@smith-johnson.com          Psychologist, prison and probation services   126.47.196.22    ru        95.58             1\n359 Stanley Coves\\nSalasfort, SD 59457                            75 Ub  PM        Opera/8.42.(X11; Linux x86_64; en-US) Presto/2.9.170 Version/12.00                                                                                Davis-Lawrence                 371995567939253   02/26        1877              American Express  amberhull@jones.net                     Training and development officer              198.98.34.250    pt        99.08             1\n3658 Campos Lodge\\nChambersfurt, MH 86260                         24 ej  PM        Mozilla/5.0 (compatible; MSIE 5.0; Windows NT 5.0; Trident/3.1)                                                                                   Fisher-Jones                   210046575239925   09/25        860               American Express  jessica35@hotmail.com                   Forensic scientist                            18.74.143.113    fr        99.16             1\n3795 Dawson Extensions\\nLake Tinafort, ID 88739                   15 Ug  AM        Mozilla/5.0 (X11; Linux i686; rv:1.9.7.20) Gecko/2011-11-30 06:02:34 Firefox/9.0                                                                  Rivera, Buchanan and Ramirez   4396283918371     01/17        931               American Express  qcoleman@hunt-huerta.com                Forensic scientist                            236.198.199.8    zh        95.63             1\n386 Alisha Unions\\nSteelebury, ND 19782                           28 pJ  PM        Opera/8.47.(X11; Linux x86_64; sl-SI) Presto/2.9.176 Version/12.00                                                                                Proctor PLC                    30325623350308    04/24        772               American Express  robertsonjulia@gmail.com                Therapist, art                                146.208.30.83    es        96.66             1\n38674 Mckay Vista\\nWilsonbury, MO 55611-8663                      95 aB  PM        Mozilla/5.0 (X11; Linux i686) AppleWebKit/5331 (KHTML, like Gecko) Chrome/14.0.850.0 Safari/5331                                                  Watson-Bailey                  3096820981608615  05/20        259               American Express  timothy84@hotmail.com                   Production designer, theatre/television/film  235.149.102.129  es        98.28             1\n40804 Belinda Roads Apt. 186\\nWest Nicoleberg, AK 75555           30 GH  AM        Opera/9.32.(Windows NT 4.0; it-IT) Presto/2.9.190 Version/11.00                                                                                   Blair-Keith                    180089858618619   05/19        2107              American Express  woodsmatthew@walton.org                 Fashion designer                              223.87.136.82    es        99.81             1\n474 Gonzalez Meadow Suite 581\\nEast Vincent, MS 97259-0590        14 St  PM        Mozilla/5.0 (compatible; MSIE 6.0; Windows NT 6.0; Trident/4.0)                                                                                   Miller and Sons                180059754370698   07/24        812               American Express  vtaylor@hatfield.com                    Armed forces technical officer                26.69.128.20     it        97.90             1\nUnit 5232 Box 4650\\nDPO AE 28335-7543                             71 So  PM        Mozilla/5.0 (X11; Linux i686) AppleWebKit/5342 (KHTML, like Gecko) Chrome/14.0.819.0 Safari/5342                                                  Garcia LLC                     30346960979608    07/17        402               American Express  jrice@gmail.com                         Solicitor                                     165.48.161.188   zh        96.73             1\ndtype: int64"
     },
     "execution_count": 73,
     "metadata": {},
     "output_type": "execute_result"
    }
   ],
   "source": [
    "ecom[ecom[\"CC Provider\"]==\"American Express\"][ecom[\"Purchase Price\"]>95.0].value_counts()"
   ],
   "metadata": {
    "collapsed": false
   }
  },
  {
   "cell_type": "code",
   "execution_count": 74,
   "outputs": [
    {
     "name": "stderr",
     "output_type": "stream",
     "text": [
      "C:\\Users\\B.Koljabai\\AppData\\Local\\Temp\\ipykernel_1268\\1586328530.py:2: UserWarning: Boolean Series key will be reindexed to match DataFrame index.\n",
      "  ecom[ecom[\"CC Provider\"]==\"American Express\"][ecom[\"Purchase Price\"]>95.0].count()\n"
     ]
    },
    {
     "data": {
      "text/plain": "Address             39\nLot                 39\nAM or PM            39\nBrowser Info        39\nCompany             39\nCredit Card         39\nCC Exp Date         39\nCC Security Code    39\nCC Provider         39\nEmail               39\nJob                 39\nIP Address          39\nLanguage            39\nPurchase Price      39\ndtype: int64"
     },
     "execution_count": 74,
     "metadata": {},
     "output_type": "execute_result"
    }
   ],
   "source": [
    "# The first right answer\n",
    "ecom[ecom[\"CC Provider\"]==\"American Express\"][ecom[\"Purchase Price\"]>95.0].count()"
   ],
   "metadata": {
    "collapsed": false
   }
  },
  {
   "cell_type": "code",
   "execution_count": 78,
   "outputs": [
    {
     "data": {
      "text/plain": "Address             39\nLot                 39\nAM or PM            39\nBrowser Info        39\nCompany             39\nCredit Card         39\nCC Exp Date         39\nCC Security Code    39\nCC Provider         39\nEmail               39\nJob                 39\nIP Address          39\nLanguage            39\nPurchase Price      39\ndtype: int64"
     },
     "execution_count": 78,
     "metadata": {},
     "output_type": "execute_result"
    }
   ],
   "source": [
    "# The second right answer\n",
    "ecom[(ecom[\"CC Provider\"]==\"American Express\")& (ecom[\"Purchase Price\"]>95.0)].count()"
   ],
   "metadata": {
    "collapsed": false
   }
  },
  {
   "cell_type": "code",
   "execution_count": 14,
   "outputs": [
    {
     "data": {
      "text/plain": [
       "Address             39\n",
       "Lot                 39\n",
       "AM or PM            39\n",
       "Browser Info        39\n",
       "Company             39\n",
       "Credit Card         39\n",
       "CC Exp Date         39\n",
       "CC Security Code    39\n",
       "CC Provider         39\n",
       "Email               39\n",
       "Job                 39\n",
       "IP Address          39\n",
       "Language            39\n",
       "Purchase Price      39\n",
       "dtype: int64"
      ]
     },
     "execution_count": 14,
     "metadata": {},
     "output_type": "execute_result"
    }
   ],
   "source": [],
   "metadata": {
    "collapsed": false
   }
  },
  {
   "cell_type": "markdown",
   "metadata": {},
   "source": [
    "**Сложно: У скольких людей есть кредитная карта, срок действия которой истекает в 2025 году? **"
   ]
  },
  {
   "cell_type": "code",
   "execution_count": 79,
   "outputs": [
    {
     "data": {
      "text/plain": "                                             Address    Lot AM or PM  \\\n0  16629 Pace Camp Apt. 448\\nAlexisborough, NE 77...  46 in       PM   \n1  9374 Jasmine Spurs Suite 508\\nSouth John, TN 8...  28 rn       PM   \n2                   Unit 0065 Box 5052\\nDPO AP 27450  94 vE       PM   \n3              7780 Julia Fords\\nNew Stacy, WA 45798  36 vm       PM   \n4  23012 Munoz Drive Suite 337\\nNew Cynthia, TX 5...  20 IE       AM   \n\n                                        Browser Info  \\\n0  Opera/9.56.(X11; Linux x86_64; sl-SI) Presto/2...   \n1  Opera/8.93.(Windows 98; Win 9x 4.90; en-US) Pr...   \n2  Mozilla/5.0 (compatible; MSIE 9.0; Windows NT ...   \n3  Mozilla/5.0 (Macintosh; Intel Mac OS X 10_8_0 ...   \n4  Opera/9.58.(X11; Linux x86_64; it-IT) Presto/2...   \n\n                           Company       Credit Card CC Exp Date  \\\n0                  Martinez-Herman  6011929061123406       02/20   \n1  Fletcher, Richards and Whitaker  3337758169645356       11/18   \n2       Simpson, Williams and Pham      675957666125       08/19   \n3  Williams, Marshall and Buchanan  6011578504430710       02/24   \n4        Brown, Watson and Andrews  6011456623207998       10/25   \n\n   CC Security Code                  CC Provider  \\\n0               900                 JCB 16 digit   \n1               561                   Mastercard   \n2               699                 JCB 16 digit   \n3               384                     Discover   \n4               678  Diners Club / Carte Blanche   \n\n                            Email                                     Job  \\\n0               pdunlap@yahoo.com  Scientist, product/process development   \n1              anthony41@reed.com                       Drilling engineer   \n2  amymiller@morales-harrison.com                Customer service manager   \n3     brent16@olson-robinson.info                       Drilling engineer   \n4     christopherwright@gmail.com                             Fine artist   \n\n        IP Address Language  Purchase Price  \n0  149.146.147.205       el           98.14  \n1     15.160.41.51       fr           70.73  \n2   132.207.160.22       de            0.95  \n3     30.250.74.19       es           78.04  \n4     24.140.33.94       es           77.82  ",
      "text/html": "<div>\n<style scoped>\n    .dataframe tbody tr th:only-of-type {\n        vertical-align: middle;\n    }\n\n    .dataframe tbody tr th {\n        vertical-align: top;\n    }\n\n    .dataframe thead th {\n        text-align: right;\n    }\n</style>\n<table border=\"1\" class=\"dataframe\">\n  <thead>\n    <tr style=\"text-align: right;\">\n      <th></th>\n      <th>Address</th>\n      <th>Lot</th>\n      <th>AM or PM</th>\n      <th>Browser Info</th>\n      <th>Company</th>\n      <th>Credit Card</th>\n      <th>CC Exp Date</th>\n      <th>CC Security Code</th>\n      <th>CC Provider</th>\n      <th>Email</th>\n      <th>Job</th>\n      <th>IP Address</th>\n      <th>Language</th>\n      <th>Purchase Price</th>\n    </tr>\n  </thead>\n  <tbody>\n    <tr>\n      <th>0</th>\n      <td>16629 Pace Camp Apt. 448\\nAlexisborough, NE 77...</td>\n      <td>46 in</td>\n      <td>PM</td>\n      <td>Opera/9.56.(X11; Linux x86_64; sl-SI) Presto/2...</td>\n      <td>Martinez-Herman</td>\n      <td>6011929061123406</td>\n      <td>02/20</td>\n      <td>900</td>\n      <td>JCB 16 digit</td>\n      <td>pdunlap@yahoo.com</td>\n      <td>Scientist, product/process development</td>\n      <td>149.146.147.205</td>\n      <td>el</td>\n      <td>98.14</td>\n    </tr>\n    <tr>\n      <th>1</th>\n      <td>9374 Jasmine Spurs Suite 508\\nSouth John, TN 8...</td>\n      <td>28 rn</td>\n      <td>PM</td>\n      <td>Opera/8.93.(Windows 98; Win 9x 4.90; en-US) Pr...</td>\n      <td>Fletcher, Richards and Whitaker</td>\n      <td>3337758169645356</td>\n      <td>11/18</td>\n      <td>561</td>\n      <td>Mastercard</td>\n      <td>anthony41@reed.com</td>\n      <td>Drilling engineer</td>\n      <td>15.160.41.51</td>\n      <td>fr</td>\n      <td>70.73</td>\n    </tr>\n    <tr>\n      <th>2</th>\n      <td>Unit 0065 Box 5052\\nDPO AP 27450</td>\n      <td>94 vE</td>\n      <td>PM</td>\n      <td>Mozilla/5.0 (compatible; MSIE 9.0; Windows NT ...</td>\n      <td>Simpson, Williams and Pham</td>\n      <td>675957666125</td>\n      <td>08/19</td>\n      <td>699</td>\n      <td>JCB 16 digit</td>\n      <td>amymiller@morales-harrison.com</td>\n      <td>Customer service manager</td>\n      <td>132.207.160.22</td>\n      <td>de</td>\n      <td>0.95</td>\n    </tr>\n    <tr>\n      <th>3</th>\n      <td>7780 Julia Fords\\nNew Stacy, WA 45798</td>\n      <td>36 vm</td>\n      <td>PM</td>\n      <td>Mozilla/5.0 (Macintosh; Intel Mac OS X 10_8_0 ...</td>\n      <td>Williams, Marshall and Buchanan</td>\n      <td>6011578504430710</td>\n      <td>02/24</td>\n      <td>384</td>\n      <td>Discover</td>\n      <td>brent16@olson-robinson.info</td>\n      <td>Drilling engineer</td>\n      <td>30.250.74.19</td>\n      <td>es</td>\n      <td>78.04</td>\n    </tr>\n    <tr>\n      <th>4</th>\n      <td>23012 Munoz Drive Suite 337\\nNew Cynthia, TX 5...</td>\n      <td>20 IE</td>\n      <td>AM</td>\n      <td>Opera/9.58.(X11; Linux x86_64; it-IT) Presto/2...</td>\n      <td>Brown, Watson and Andrews</td>\n      <td>6011456623207998</td>\n      <td>10/25</td>\n      <td>678</td>\n      <td>Diners Club / Carte Blanche</td>\n      <td>christopherwright@gmail.com</td>\n      <td>Fine artist</td>\n      <td>24.140.33.94</td>\n      <td>es</td>\n      <td>77.82</td>\n    </tr>\n  </tbody>\n</table>\n</div>"
     },
     "execution_count": 79,
     "metadata": {},
     "output_type": "execute_result"
    }
   ],
   "source": [
    "ecom.head()"
   ],
   "metadata": {
    "collapsed": false
   }
  },
  {
   "cell_type": "code",
   "execution_count": 80,
   "outputs": [
    {
     "data": {
      "text/plain": "Address              object\nLot                  object\nAM or PM             object\nBrowser Info         object\nCompany              object\nCredit Card           int64\nCC Exp Date          object\nCC Security Code      int64\nCC Provider          object\nEmail                object\nJob                  object\nIP Address           object\nLanguage             object\nPurchase Price      float64\ndtype: object"
     },
     "execution_count": 80,
     "metadata": {},
     "output_type": "execute_result"
    }
   ],
   "source": [
    "ecom.dtypes"
   ],
   "metadata": {
    "collapsed": false
   }
  },
  {
   "cell_type": "code",
   "execution_count": 90,
   "outputs": [
    {
     "data": {
      "text/plain": "0       20\n1       18\n2       19\n3       24\n4       25\n        ..\n9995    22\n9996    25\n9997    21\n9998    17\n9999    19\nName: CC Exp Date, Length: 10000, dtype: object"
     },
     "execution_count": 90,
     "metadata": {},
     "output_type": "execute_result"
    }
   ],
   "source": [
    "# Раздробить по \"/\" колонку\n",
    "ecom[\"CC Exp Date\"].apply(lambda x: x.split(\"/\")[1])"
   ],
   "metadata": {
    "collapsed": false
   }
  },
  {
   "cell_type": "code",
   "execution_count": 97,
   "outputs": [
    {
     "data": {
      "text/plain": "1033"
     },
     "execution_count": 97,
     "metadata": {},
     "output_type": "execute_result"
    }
   ],
   "source": [
    "sum(ecom[\"CC Exp Date\"].apply(lambda x: x.split(\"/\")[1])==\"25\")"
   ],
   "metadata": {
    "collapsed": false
   }
  },
  {
   "cell_type": "code",
   "execution_count": 15,
   "outputs": [
    {
     "data": {
      "text/plain": [
       "1033"
      ]
     },
     "execution_count": 15,
     "metadata": {},
     "output_type": "execute_result"
    }
   ],
   "source": [],
   "metadata": {
    "collapsed": false
   }
  },
  {
   "cell_type": "markdown",
   "metadata": {},
   "source": [
    "**Сложно: Каковы 5 самых популярных почтовых провайдеров/хостингов (например, gmail.com, yahoo.com и т. д.)? **"
   ]
  },
  {
   "cell_type": "code",
   "execution_count": 120,
   "outputs": [
    {
     "data": {
      "text/plain": "hotmail.com     1638\nyahoo.com       1616\ngmail.com       1605\nsmith.com         42\nwilliams.com      37\nName: Email, dtype: int64"
     },
     "execution_count": 120,
     "metadata": {},
     "output_type": "execute_result"
    }
   ],
   "source": [
    "ecom[\"Email\"].apply(lambda x: x.split(\"@\")[1]).value_counts().head()\n"
   ],
   "metadata": {
    "collapsed": false
   }
  },
  {
   "cell_type": "code",
   "execution_count": 111,
   "outputs": [
    {
     "data": {
      "text/plain": "                                             Address    Lot AM or PM  \\\n0  16629 Pace Camp Apt. 448\\nAlexisborough, NE 77...  46 in       PM   \n1  9374 Jasmine Spurs Suite 508\\nSouth John, TN 8...  28 rn       PM   \n2                   Unit 0065 Box 5052\\nDPO AP 27450  94 vE       PM   \n3              7780 Julia Fords\\nNew Stacy, WA 45798  36 vm       PM   \n4  23012 Munoz Drive Suite 337\\nNew Cynthia, TX 5...  20 IE       AM   \n\n                                        Browser Info  \\\n0  Opera/9.56.(X11; Linux x86_64; sl-SI) Presto/2...   \n1  Opera/8.93.(Windows 98; Win 9x 4.90; en-US) Pr...   \n2  Mozilla/5.0 (compatible; MSIE 9.0; Windows NT ...   \n3  Mozilla/5.0 (Macintosh; Intel Mac OS X 10_8_0 ...   \n4  Opera/9.58.(X11; Linux x86_64; it-IT) Presto/2...   \n\n                           Company       Credit Card CC Exp Date  \\\n0                  Martinez-Herman  6011929061123406       02/20   \n1  Fletcher, Richards and Whitaker  3337758169645356       11/18   \n2       Simpson, Williams and Pham      675957666125       08/19   \n3  Williams, Marshall and Buchanan  6011578504430710       02/24   \n4        Brown, Watson and Andrews  6011456623207998       10/25   \n\n   CC Security Code                  CC Provider  \\\n0               900                 JCB 16 digit   \n1               561                   Mastercard   \n2               699                 JCB 16 digit   \n3               384                     Discover   \n4               678  Diners Club / Carte Blanche   \n\n                            Email                                     Job  \\\n0               pdunlap@yahoo.com  Scientist, product/process development   \n1              anthony41@reed.com                       Drilling engineer   \n2  amymiller@morales-harrison.com                Customer service manager   \n3     brent16@olson-robinson.info                       Drilling engineer   \n4     christopherwright@gmail.com                             Fine artist   \n\n        IP Address Language  Purchase Price  \n0  149.146.147.205       el           98.14  \n1     15.160.41.51       fr           70.73  \n2   132.207.160.22       de            0.95  \n3     30.250.74.19       es           78.04  \n4     24.140.33.94       es           77.82  ",
      "text/html": "<div>\n<style scoped>\n    .dataframe tbody tr th:only-of-type {\n        vertical-align: middle;\n    }\n\n    .dataframe tbody tr th {\n        vertical-align: top;\n    }\n\n    .dataframe thead th {\n        text-align: right;\n    }\n</style>\n<table border=\"1\" class=\"dataframe\">\n  <thead>\n    <tr style=\"text-align: right;\">\n      <th></th>\n      <th>Address</th>\n      <th>Lot</th>\n      <th>AM or PM</th>\n      <th>Browser Info</th>\n      <th>Company</th>\n      <th>Credit Card</th>\n      <th>CC Exp Date</th>\n      <th>CC Security Code</th>\n      <th>CC Provider</th>\n      <th>Email</th>\n      <th>Job</th>\n      <th>IP Address</th>\n      <th>Language</th>\n      <th>Purchase Price</th>\n    </tr>\n  </thead>\n  <tbody>\n    <tr>\n      <th>0</th>\n      <td>16629 Pace Camp Apt. 448\\nAlexisborough, NE 77...</td>\n      <td>46 in</td>\n      <td>PM</td>\n      <td>Opera/9.56.(X11; Linux x86_64; sl-SI) Presto/2...</td>\n      <td>Martinez-Herman</td>\n      <td>6011929061123406</td>\n      <td>02/20</td>\n      <td>900</td>\n      <td>JCB 16 digit</td>\n      <td>pdunlap@yahoo.com</td>\n      <td>Scientist, product/process development</td>\n      <td>149.146.147.205</td>\n      <td>el</td>\n      <td>98.14</td>\n    </tr>\n    <tr>\n      <th>1</th>\n      <td>9374 Jasmine Spurs Suite 508\\nSouth John, TN 8...</td>\n      <td>28 rn</td>\n      <td>PM</td>\n      <td>Opera/8.93.(Windows 98; Win 9x 4.90; en-US) Pr...</td>\n      <td>Fletcher, Richards and Whitaker</td>\n      <td>3337758169645356</td>\n      <td>11/18</td>\n      <td>561</td>\n      <td>Mastercard</td>\n      <td>anthony41@reed.com</td>\n      <td>Drilling engineer</td>\n      <td>15.160.41.51</td>\n      <td>fr</td>\n      <td>70.73</td>\n    </tr>\n    <tr>\n      <th>2</th>\n      <td>Unit 0065 Box 5052\\nDPO AP 27450</td>\n      <td>94 vE</td>\n      <td>PM</td>\n      <td>Mozilla/5.0 (compatible; MSIE 9.0; Windows NT ...</td>\n      <td>Simpson, Williams and Pham</td>\n      <td>675957666125</td>\n      <td>08/19</td>\n      <td>699</td>\n      <td>JCB 16 digit</td>\n      <td>amymiller@morales-harrison.com</td>\n      <td>Customer service manager</td>\n      <td>132.207.160.22</td>\n      <td>de</td>\n      <td>0.95</td>\n    </tr>\n    <tr>\n      <th>3</th>\n      <td>7780 Julia Fords\\nNew Stacy, WA 45798</td>\n      <td>36 vm</td>\n      <td>PM</td>\n      <td>Mozilla/5.0 (Macintosh; Intel Mac OS X 10_8_0 ...</td>\n      <td>Williams, Marshall and Buchanan</td>\n      <td>6011578504430710</td>\n      <td>02/24</td>\n      <td>384</td>\n      <td>Discover</td>\n      <td>brent16@olson-robinson.info</td>\n      <td>Drilling engineer</td>\n      <td>30.250.74.19</td>\n      <td>es</td>\n      <td>78.04</td>\n    </tr>\n    <tr>\n      <th>4</th>\n      <td>23012 Munoz Drive Suite 337\\nNew Cynthia, TX 5...</td>\n      <td>20 IE</td>\n      <td>AM</td>\n      <td>Opera/9.58.(X11; Linux x86_64; it-IT) Presto/2...</td>\n      <td>Brown, Watson and Andrews</td>\n      <td>6011456623207998</td>\n      <td>10/25</td>\n      <td>678</td>\n      <td>Diners Club / Carte Blanche</td>\n      <td>christopherwright@gmail.com</td>\n      <td>Fine artist</td>\n      <td>24.140.33.94</td>\n      <td>es</td>\n      <td>77.82</td>\n    </tr>\n  </tbody>\n</table>\n</div>"
     },
     "execution_count": 111,
     "metadata": {},
     "output_type": "execute_result"
    }
   ],
   "source": [
    "ecom.head()"
   ],
   "metadata": {
    "collapsed": false
   }
  },
  {
   "cell_type": "code",
   "execution_count": 16,
   "outputs": [
    {
     "data": {
      "text/plain": [
       "hotmail.com     1638\n",
       "yahoo.com       1616\n",
       "gmail.com       1605\n",
       "smith.com         42\n",
       "williams.com      37\n",
       "Name: Email, dtype: int64"
      ]
     },
     "execution_count": 16,
     "metadata": {},
     "output_type": "execute_result"
    }
   ],
   "source": [],
   "metadata": {
    "collapsed": false
   }
  }
 ],
 "metadata": {
  "kernelspec": {
   "display_name": "Python 3",
   "language": "python",
   "name": "python3"
  },
  "language_info": {
   "codemirror_mode": {
    "name": "ipython",
    "version": 3
   },
   "file_extension": ".py",
   "mimetype": "text/x-python",
   "name": "python",
   "nbconvert_exporter": "python",
   "pygments_lexer": "ipython3",
   "version": "3.6.5"
  }
 },
 "nbformat": 4,
 "nbformat_minor": 1
}
