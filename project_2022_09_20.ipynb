{
 "cells": [
  {
   "cell_type": "code",
   "execution_count": 1,
   "metadata": {
    "collapsed": true,
    "pycharm": {
     "name": "#%%\n"
    }
   },
   "outputs": [],
   "source": [
    "import pandas as pd\n",
    "import seaborn as sns\n",
    "\n",
    "import matplotlib.pyplot as plt\n",
    "\n",
    "%matplotlib inline"
   ]
  },
  {
   "cell_type": "code",
   "execution_count": 2,
   "outputs": [
    {
     "data": {
      "text/plain": "       Unnamed: 0                     tk    pl         dia        hs  \\\n0            1242     120071109002055793     1  2007/11/09  0.505729   \n1            1243     120070601004053633     1  2007/06/01  0.588519   \n2            1244     120070928004076410     1  2007/09/28  0.785498   \n3            1245     120070616003074261     1  2007/06/16  0.550961   \n4            1246     120070519001018477     1  2007/05/19  0.804954   \n...           ...                    ...   ...         ...       ...   \n48124     5142333  660820070702005033693  6608  2007/07/02  0.575660   \n48125     5142335  660820070618006015969  6608  2007/06/18  0.829954   \n48126     5150526  670120071110001433949  6701  2007/11/10  0.384120   \n48127     5150527  670120071110001433949  6701  2007/11/10  0.384120   \n48128     5150586  670220071001001404096  6702  2007/10/01  0.391262   \n\n               tc        cta  id_art  id_subsubfam   id_subfam  ...   id_famn  \\\n0       110000761   11000076   21895  101070640100  1010706401  ...  10107064   \n1       110000761   11000076   21816  101070640100  1010706401  ...  10107064   \n2        28491841    2849184  562840  101070640100  1010706401  ...  10107064   \n3        95931501    9593150   28914  101070640100  1010706401  ...  10107064   \n4        93265591    9326559  159867  101070640100  1010706401  ...  10107064   \n...           ...        ...     ...           ...         ...  ...       ...   \n48124    45518841    4551884   22115  101070640100  1010706401  ...  10107064   \n48125   110824211   11082421   22124  101070640100  1010706401  ...  10107064   \n48126  1408670389  999860498   21818  101070640100  1010706401  ...  10107064   \n48127  1408670389  999860498   21814  101070640100  1010706401  ...  10107064   \n48128    48582221    4858222   21815  101070640100  1010706401  ...  10107064   \n\n       id_seccion  id_subagr  id_agr   vta  uni  id_artn  \\\n0           10107        101       1  0.68  1.0    21895   \n1           10107        101       1  0.38  1.0    21816   \n2           10107        101       1  1.55  2.0   562840   \n3           10107        101       1  1.03  2.0    28914   \n4           10107        101       1  1.09  1.0   159867   \n...           ...        ...     ...   ...  ...      ...   \n48124       10107        101       1  0.71  1.0    22115   \n48125       10107        101       1  0.71  1.0    22124   \n48126       10107        101       1  0.48  1.0    21818   \n48127       10107        101       1  0.48  1.0    21814   \n48128       10107        101       1  1.36  2.0    21815   \n\n                                   art_sp                fam_sp fam_en  \n0      MARAVILLA        500 G Store_Brand  PASTA ALIMENTICIA SE  pasta  \n1      FIDEO CABELLIN   500 G Store_Brand  PASTA ALIMENTICIA SE  pasta  \n2            SPAGUETTI Nє 5 500 G Brand_1  PASTA ALIMENTICIA SE  pasta  \n3           FIDEO FIDEUБ      500 Brand_7  PASTA ALIMENTICIA SE  pasta  \n4          MACARRONES  GRATINAR 5 Brand_2  PASTA ALIMENTICIA SE  pasta  \n...                                   ...                   ...    ...  \n48124      FIDEOS 0         500 G Brand_4  PASTA ALIMENTICIA SE  pasta  \n48125      PLUMAS 3         500 G Brand_4  PASTA ALIMENTICIA SE  pasta  \n48126  MACARRONES       500 G Store_Brand  PASTA ALIMENTICIA SE  pasta  \n48127  SPAGHETTI        500 G Store_Brand  PASTA ALIMENTICIA SE  pasta  \n48128  SPAGHETTINI      500 G Store_Brand  PASTA ALIMENTICIA SE  pasta  \n\n[48129 rows x 21 columns]",
      "text/html": "<div>\n<style scoped>\n    .dataframe tbody tr th:only-of-type {\n        vertical-align: middle;\n    }\n\n    .dataframe tbody tr th {\n        vertical-align: top;\n    }\n\n    .dataframe thead th {\n        text-align: right;\n    }\n</style>\n<table border=\"1\" class=\"dataframe\">\n  <thead>\n    <tr style=\"text-align: right;\">\n      <th></th>\n      <th>Unnamed: 0</th>\n      <th>tk</th>\n      <th>pl</th>\n      <th>dia</th>\n      <th>hs</th>\n      <th>tc</th>\n      <th>cta</th>\n      <th>id_art</th>\n      <th>id_subsubfam</th>\n      <th>id_subfam</th>\n      <th>...</th>\n      <th>id_famn</th>\n      <th>id_seccion</th>\n      <th>id_subagr</th>\n      <th>id_agr</th>\n      <th>vta</th>\n      <th>uni</th>\n      <th>id_artn</th>\n      <th>art_sp</th>\n      <th>fam_sp</th>\n      <th>fam_en</th>\n    </tr>\n  </thead>\n  <tbody>\n    <tr>\n      <th>0</th>\n      <td>1242</td>\n      <td>120071109002055793</td>\n      <td>1</td>\n      <td>2007/11/09</td>\n      <td>0.505729</td>\n      <td>110000761</td>\n      <td>11000076</td>\n      <td>21895</td>\n      <td>101070640100</td>\n      <td>1010706401</td>\n      <td>...</td>\n      <td>10107064</td>\n      <td>10107</td>\n      <td>101</td>\n      <td>1</td>\n      <td>0.68</td>\n      <td>1.0</td>\n      <td>21895</td>\n      <td>MARAVILLA        500 G Store_Brand</td>\n      <td>PASTA ALIMENTICIA SE</td>\n      <td>pasta</td>\n    </tr>\n    <tr>\n      <th>1</th>\n      <td>1243</td>\n      <td>120070601004053633</td>\n      <td>1</td>\n      <td>2007/06/01</td>\n      <td>0.588519</td>\n      <td>110000761</td>\n      <td>11000076</td>\n      <td>21816</td>\n      <td>101070640100</td>\n      <td>1010706401</td>\n      <td>...</td>\n      <td>10107064</td>\n      <td>10107</td>\n      <td>101</td>\n      <td>1</td>\n      <td>0.38</td>\n      <td>1.0</td>\n      <td>21816</td>\n      <td>FIDEO CABELLIN   500 G Store_Brand</td>\n      <td>PASTA ALIMENTICIA SE</td>\n      <td>pasta</td>\n    </tr>\n    <tr>\n      <th>2</th>\n      <td>1244</td>\n      <td>120070928004076410</td>\n      <td>1</td>\n      <td>2007/09/28</td>\n      <td>0.785498</td>\n      <td>28491841</td>\n      <td>2849184</td>\n      <td>562840</td>\n      <td>101070640100</td>\n      <td>1010706401</td>\n      <td>...</td>\n      <td>10107064</td>\n      <td>10107</td>\n      <td>101</td>\n      <td>1</td>\n      <td>1.55</td>\n      <td>2.0</td>\n      <td>562840</td>\n      <td>SPAGUETTI Nє 5 500 G Brand_1</td>\n      <td>PASTA ALIMENTICIA SE</td>\n      <td>pasta</td>\n    </tr>\n    <tr>\n      <th>3</th>\n      <td>1245</td>\n      <td>120070616003074261</td>\n      <td>1</td>\n      <td>2007/06/16</td>\n      <td>0.550961</td>\n      <td>95931501</td>\n      <td>9593150</td>\n      <td>28914</td>\n      <td>101070640100</td>\n      <td>1010706401</td>\n      <td>...</td>\n      <td>10107064</td>\n      <td>10107</td>\n      <td>101</td>\n      <td>1</td>\n      <td>1.03</td>\n      <td>2.0</td>\n      <td>28914</td>\n      <td>FIDEO FIDEUБ      500 Brand_7</td>\n      <td>PASTA ALIMENTICIA SE</td>\n      <td>pasta</td>\n    </tr>\n    <tr>\n      <th>4</th>\n      <td>1246</td>\n      <td>120070519001018477</td>\n      <td>1</td>\n      <td>2007/05/19</td>\n      <td>0.804954</td>\n      <td>93265591</td>\n      <td>9326559</td>\n      <td>159867</td>\n      <td>101070640100</td>\n      <td>1010706401</td>\n      <td>...</td>\n      <td>10107064</td>\n      <td>10107</td>\n      <td>101</td>\n      <td>1</td>\n      <td>1.09</td>\n      <td>1.0</td>\n      <td>159867</td>\n      <td>MACARRONES  GRATINAR 5 Brand_2</td>\n      <td>PASTA ALIMENTICIA SE</td>\n      <td>pasta</td>\n    </tr>\n    <tr>\n      <th>...</th>\n      <td>...</td>\n      <td>...</td>\n      <td>...</td>\n      <td>...</td>\n      <td>...</td>\n      <td>...</td>\n      <td>...</td>\n      <td>...</td>\n      <td>...</td>\n      <td>...</td>\n      <td>...</td>\n      <td>...</td>\n      <td>...</td>\n      <td>...</td>\n      <td>...</td>\n      <td>...</td>\n      <td>...</td>\n      <td>...</td>\n      <td>...</td>\n      <td>...</td>\n      <td>...</td>\n    </tr>\n    <tr>\n      <th>48124</th>\n      <td>5142333</td>\n      <td>660820070702005033693</td>\n      <td>6608</td>\n      <td>2007/07/02</td>\n      <td>0.575660</td>\n      <td>45518841</td>\n      <td>4551884</td>\n      <td>22115</td>\n      <td>101070640100</td>\n      <td>1010706401</td>\n      <td>...</td>\n      <td>10107064</td>\n      <td>10107</td>\n      <td>101</td>\n      <td>1</td>\n      <td>0.71</td>\n      <td>1.0</td>\n      <td>22115</td>\n      <td>FIDEOS 0         500 G Brand_4</td>\n      <td>PASTA ALIMENTICIA SE</td>\n      <td>pasta</td>\n    </tr>\n    <tr>\n      <th>48125</th>\n      <td>5142335</td>\n      <td>660820070618006015969</td>\n      <td>6608</td>\n      <td>2007/06/18</td>\n      <td>0.829954</td>\n      <td>110824211</td>\n      <td>11082421</td>\n      <td>22124</td>\n      <td>101070640100</td>\n      <td>1010706401</td>\n      <td>...</td>\n      <td>10107064</td>\n      <td>10107</td>\n      <td>101</td>\n      <td>1</td>\n      <td>0.71</td>\n      <td>1.0</td>\n      <td>22124</td>\n      <td>PLUMAS 3         500 G Brand_4</td>\n      <td>PASTA ALIMENTICIA SE</td>\n      <td>pasta</td>\n    </tr>\n    <tr>\n      <th>48126</th>\n      <td>5150526</td>\n      <td>670120071110001433949</td>\n      <td>6701</td>\n      <td>2007/11/10</td>\n      <td>0.384120</td>\n      <td>1408670389</td>\n      <td>999860498</td>\n      <td>21818</td>\n      <td>101070640100</td>\n      <td>1010706401</td>\n      <td>...</td>\n      <td>10107064</td>\n      <td>10107</td>\n      <td>101</td>\n      <td>1</td>\n      <td>0.48</td>\n      <td>1.0</td>\n      <td>21818</td>\n      <td>MACARRONES       500 G Store_Brand</td>\n      <td>PASTA ALIMENTICIA SE</td>\n      <td>pasta</td>\n    </tr>\n    <tr>\n      <th>48127</th>\n      <td>5150527</td>\n      <td>670120071110001433949</td>\n      <td>6701</td>\n      <td>2007/11/10</td>\n      <td>0.384120</td>\n      <td>1408670389</td>\n      <td>999860498</td>\n      <td>21814</td>\n      <td>101070640100</td>\n      <td>1010706401</td>\n      <td>...</td>\n      <td>10107064</td>\n      <td>10107</td>\n      <td>101</td>\n      <td>1</td>\n      <td>0.48</td>\n      <td>1.0</td>\n      <td>21814</td>\n      <td>SPAGHETTI        500 G Store_Brand</td>\n      <td>PASTA ALIMENTICIA SE</td>\n      <td>pasta</td>\n    </tr>\n    <tr>\n      <th>48128</th>\n      <td>5150586</td>\n      <td>670220071001001404096</td>\n      <td>6702</td>\n      <td>2007/10/01</td>\n      <td>0.391262</td>\n      <td>48582221</td>\n      <td>4858222</td>\n      <td>21815</td>\n      <td>101070640100</td>\n      <td>1010706401</td>\n      <td>...</td>\n      <td>10107064</td>\n      <td>10107</td>\n      <td>101</td>\n      <td>1</td>\n      <td>1.36</td>\n      <td>2.0</td>\n      <td>21815</td>\n      <td>SPAGHETTINI      500 G Store_Brand</td>\n      <td>PASTA ALIMENTICIA SE</td>\n      <td>pasta</td>\n    </tr>\n  </tbody>\n</table>\n<p>48129 rows × 21 columns</p>\n</div>"
     },
     "execution_count": 2,
     "metadata": {},
     "output_type": "execute_result"
    }
   ],
   "source": [
    "file_path=pd.read_csv(r'https://stepik.org/media/attachments/lesson/383523/lesson_3_data__1_.csv', encoding='windows 1251')\n",
    "file_path"
   ],
   "metadata": {
    "collapsed": false,
    "pycharm": {
     "name": "#%%\n"
    }
   }
  },
  {
   "cell_type": "code",
   "execution_count": 3,
   "outputs": [
    {
     "data": {
      "text/plain": "          user_id                          brand_info\n0       110000761  MARAVILLA        500 G Store_Brand\n1       110000761  FIDEO CABELLIN   500 G Store_Brand\n2        28491841        SPAGUETTI Nє 5 500 G Brand_1\n3        95931501       FIDEO FIDEUБ      500 Brand_7\n4        93265591      MACARRONES  GRATINAR 5 Brand_2\n...           ...                                 ...\n48124    45518841      FIDEOS 0         500 G Brand_4\n48125   110824211      PLUMAS 3         500 G Brand_4\n48126  1408670389  MACARRONES       500 G Store_Brand\n48127  1408670389  SPAGHETTI        500 G Store_Brand\n48128    48582221  SPAGHETTINI      500 G Store_Brand\n\n[48129 rows x 2 columns]",
      "text/html": "<div>\n<style scoped>\n    .dataframe tbody tr th:only-of-type {\n        vertical-align: middle;\n    }\n\n    .dataframe tbody tr th {\n        vertical-align: top;\n    }\n\n    .dataframe thead th {\n        text-align: right;\n    }\n</style>\n<table border=\"1\" class=\"dataframe\">\n  <thead>\n    <tr style=\"text-align: right;\">\n      <th></th>\n      <th>user_id</th>\n      <th>brand_info</th>\n    </tr>\n  </thead>\n  <tbody>\n    <tr>\n      <th>0</th>\n      <td>110000761</td>\n      <td>MARAVILLA        500 G Store_Brand</td>\n    </tr>\n    <tr>\n      <th>1</th>\n      <td>110000761</td>\n      <td>FIDEO CABELLIN   500 G Store_Brand</td>\n    </tr>\n    <tr>\n      <th>2</th>\n      <td>28491841</td>\n      <td>SPAGUETTI Nє 5 500 G Brand_1</td>\n    </tr>\n    <tr>\n      <th>3</th>\n      <td>95931501</td>\n      <td>FIDEO FIDEUБ      500 Brand_7</td>\n    </tr>\n    <tr>\n      <th>4</th>\n      <td>93265591</td>\n      <td>MACARRONES  GRATINAR 5 Brand_2</td>\n    </tr>\n    <tr>\n      <th>...</th>\n      <td>...</td>\n      <td>...</td>\n    </tr>\n    <tr>\n      <th>48124</th>\n      <td>45518841</td>\n      <td>FIDEOS 0         500 G Brand_4</td>\n    </tr>\n    <tr>\n      <th>48125</th>\n      <td>110824211</td>\n      <td>PLUMAS 3         500 G Brand_4</td>\n    </tr>\n    <tr>\n      <th>48126</th>\n      <td>1408670389</td>\n      <td>MACARRONES       500 G Store_Brand</td>\n    </tr>\n    <tr>\n      <th>48127</th>\n      <td>1408670389</td>\n      <td>SPAGHETTI        500 G Store_Brand</td>\n    </tr>\n    <tr>\n      <th>48128</th>\n      <td>48582221</td>\n      <td>SPAGHETTINI      500 G Store_Brand</td>\n    </tr>\n  </tbody>\n</table>\n<p>48129 rows × 2 columns</p>\n</div>"
     },
     "execution_count": 3,
     "metadata": {},
     "output_type": "execute_result"
    }
   ],
   "source": [
    "user_df=file_path[['tc', 'art_sp']]\n",
    "user_df=user_df.rename(columns={'tc': 'user_id', 'art_sp': 'brand_info'})\n",
    "user_df[['user_id','brand_info']]"
   ],
   "metadata": {
    "collapsed": false,
    "pycharm": {
     "name": "#%%\n"
    }
   }
  },
  {
   "cell_type": "code",
   "execution_count": 4,
   "outputs": [],
   "source": [
    "''' DEF FOR SPLIT'''\n",
    "\n",
    "def split_brand(brand_name_data):\n",
    "    return brand_name_data.split(' ')[-1]"
   ],
   "metadata": {
    "collapsed": false,
    "pycharm": {
     "name": "#%%\n"
    }
   }
  },
  {
   "cell_type": "code",
   "execution_count": 5,
   "outputs": [
    {
     "data": {
      "text/plain": "'Store_Brand'"
     },
     "execution_count": 5,
     "metadata": {},
     "output_type": "execute_result"
    }
   ],
   "source": [
    "#Example for strings #############################################################################################################\n",
    " #############################################################################################################\n",
    "string_name=\"MARAVILLA        500 G Store_Brand\"\n",
    "string_name=split_brand(string_name)\n",
    "# string_name=string_name.split(' ')[-1]\n",
    "string_name"
   ],
   "metadata": {
    "collapsed": false,
    "pycharm": {
     "name": "#%%\n"
    }
   }
  },
  {
   "cell_type": "code",
   "execution_count": 6,
   "outputs": [],
   "source": [
    "#############################################################################################################\n",
    "##############################################################################################################\n",
    "#user_df.brand_info.apply(lambda x: x.split(' ')[-1])\n",
    "# If you need to shorten the code, then use lamda func\n",
    "# если нужно сократить код то используем lamda func"
   ],
   "metadata": {
    "collapsed": false,
    "pycharm": {
     "name": "#%%\n"
    }
   }
  },
  {
   "cell_type": "code",
   "execution_count": 7,
   "outputs": [
    {
     "data": {
      "text/plain": "          user_id                          brand_info   brand_name\n0       110000761  MARAVILLA        500 G Store_Brand  Store_Brand\n1       110000761  FIDEO CABELLIN   500 G Store_Brand  Store_Brand\n2        28491841        SPAGUETTI Nє 5 500 G Brand_1      Brand_1\n3        95931501       FIDEO FIDEUБ      500 Brand_7      Brand_7\n4        93265591      MACARRONES  GRATINAR 5 Brand_2      Brand_2\n...           ...                                 ...          ...\n48124    45518841      FIDEOS 0         500 G Brand_4      Brand_4\n48125   110824211      PLUMAS 3         500 G Brand_4      Brand_4\n48126  1408670389  MACARRONES       500 G Store_Brand  Store_Brand\n48127  1408670389  SPAGHETTI        500 G Store_Brand  Store_Brand\n48128    48582221  SPAGHETTINI      500 G Store_Brand  Store_Brand\n\n[48129 rows x 3 columns]",
      "text/html": "<div>\n<style scoped>\n    .dataframe tbody tr th:only-of-type {\n        vertical-align: middle;\n    }\n\n    .dataframe tbody tr th {\n        vertical-align: top;\n    }\n\n    .dataframe thead th {\n        text-align: right;\n    }\n</style>\n<table border=\"1\" class=\"dataframe\">\n  <thead>\n    <tr style=\"text-align: right;\">\n      <th></th>\n      <th>user_id</th>\n      <th>brand_info</th>\n      <th>brand_name</th>\n    </tr>\n  </thead>\n  <tbody>\n    <tr>\n      <th>0</th>\n      <td>110000761</td>\n      <td>MARAVILLA        500 G Store_Brand</td>\n      <td>Store_Brand</td>\n    </tr>\n    <tr>\n      <th>1</th>\n      <td>110000761</td>\n      <td>FIDEO CABELLIN   500 G Store_Brand</td>\n      <td>Store_Brand</td>\n    </tr>\n    <tr>\n      <th>2</th>\n      <td>28491841</td>\n      <td>SPAGUETTI Nє 5 500 G Brand_1</td>\n      <td>Brand_1</td>\n    </tr>\n    <tr>\n      <th>3</th>\n      <td>95931501</td>\n      <td>FIDEO FIDEUБ      500 Brand_7</td>\n      <td>Brand_7</td>\n    </tr>\n    <tr>\n      <th>4</th>\n      <td>93265591</td>\n      <td>MACARRONES  GRATINAR 5 Brand_2</td>\n      <td>Brand_2</td>\n    </tr>\n    <tr>\n      <th>...</th>\n      <td>...</td>\n      <td>...</td>\n      <td>...</td>\n    </tr>\n    <tr>\n      <th>48124</th>\n      <td>45518841</td>\n      <td>FIDEOS 0         500 G Brand_4</td>\n      <td>Brand_4</td>\n    </tr>\n    <tr>\n      <th>48125</th>\n      <td>110824211</td>\n      <td>PLUMAS 3         500 G Brand_4</td>\n      <td>Brand_4</td>\n    </tr>\n    <tr>\n      <th>48126</th>\n      <td>1408670389</td>\n      <td>MACARRONES       500 G Store_Brand</td>\n      <td>Store_Brand</td>\n    </tr>\n    <tr>\n      <th>48127</th>\n      <td>1408670389</td>\n      <td>SPAGHETTI        500 G Store_Brand</td>\n      <td>Store_Brand</td>\n    </tr>\n    <tr>\n      <th>48128</th>\n      <td>48582221</td>\n      <td>SPAGHETTINI      500 G Store_Brand</td>\n      <td>Store_Brand</td>\n    </tr>\n  </tbody>\n</table>\n<p>48129 rows × 3 columns</p>\n</div>"
     },
     "execution_count": 7,
     "metadata": {},
     "output_type": "execute_result"
    }
   ],
   "source": [
    "user_df['brand_name']=user_df.brand_info.apply(split_brand)\n",
    "#user_df['brand_name']\n",
    "user_df"
   ],
   "metadata": {
    "collapsed": false,
    "pycharm": {
     "name": "#%%\n"
    }
   }
  },
  {
   "cell_type": "code",
   "execution_count": 8,
   "outputs": [
    {
     "data": {
      "text/plain": "          user_id  purchases\n1            1031          6\n2            4241          5\n11          25971          7\n14          40911         27\n16          45181          5\n...           ...        ...\n11740  1408767189          5\n11750  1408783189         10\n11751  1408783379          6\n11754  1408798879          8\n11757  1408810219          9\n\n[3383 rows x 2 columns]",
      "text/html": "<div>\n<style scoped>\n    .dataframe tbody tr th:only-of-type {\n        vertical-align: middle;\n    }\n\n    .dataframe tbody tr th {\n        vertical-align: top;\n    }\n\n    .dataframe thead th {\n        text-align: right;\n    }\n</style>\n<table border=\"1\" class=\"dataframe\">\n  <thead>\n    <tr style=\"text-align: right;\">\n      <th></th>\n      <th>user_id</th>\n      <th>purchases</th>\n    </tr>\n  </thead>\n  <tbody>\n    <tr>\n      <th>1</th>\n      <td>1031</td>\n      <td>6</td>\n    </tr>\n    <tr>\n      <th>2</th>\n      <td>4241</td>\n      <td>5</td>\n    </tr>\n    <tr>\n      <th>11</th>\n      <td>25971</td>\n      <td>7</td>\n    </tr>\n    <tr>\n      <th>14</th>\n      <td>40911</td>\n      <td>27</td>\n    </tr>\n    <tr>\n      <th>16</th>\n      <td>45181</td>\n      <td>5</td>\n    </tr>\n    <tr>\n      <th>...</th>\n      <td>...</td>\n      <td>...</td>\n    </tr>\n    <tr>\n      <th>11740</th>\n      <td>1408767189</td>\n      <td>5</td>\n    </tr>\n    <tr>\n      <th>11750</th>\n      <td>1408783189</td>\n      <td>10</td>\n    </tr>\n    <tr>\n      <th>11751</th>\n      <td>1408783379</td>\n      <td>6</td>\n    </tr>\n    <tr>\n      <th>11754</th>\n      <td>1408798879</td>\n      <td>8</td>\n    </tr>\n    <tr>\n      <th>11757</th>\n      <td>1408810219</td>\n      <td>9</td>\n    </tr>\n  </tbody>\n</table>\n<p>3383 rows × 2 columns</p>\n</div>"
     },
     "execution_count": 8,
     "metadata": {},
     "output_type": "execute_result"
    }
   ],
   "source": [
    "user_purchases=user_df.groupby('user_id', as_index=False) \\\n",
    "                    .agg({'brand_name': 'count'}) \\\n",
    "                    .rename(columns={'brand_name': 'purchases'}) \\\n",
    "                    .query('purchases >= 5')\n",
    "user_purchases"
   ],
   "metadata": {
    "collapsed": false,
    "pycharm": {
     "name": "#%%\n"
    }
   }
  },
  {
   "cell_type": "code",
   "execution_count": 9,
   "outputs": [
    {
     "data": {
      "text/plain": "          user_id  unique_brands\n0     -1236394515              1\n1            1031              2\n2            4241              2\n3           17311              1\n4           17312              2\n...           ...            ...\n11759  1408817589              2\n11760  1408825059              1\n11761  1408832719              1\n11762  1408840919              1\n11763  1408849249              1\n\n[11764 rows x 2 columns]",
      "text/html": "<div>\n<style scoped>\n    .dataframe tbody tr th:only-of-type {\n        vertical-align: middle;\n    }\n\n    .dataframe tbody tr th {\n        vertical-align: top;\n    }\n\n    .dataframe thead th {\n        text-align: right;\n    }\n</style>\n<table border=\"1\" class=\"dataframe\">\n  <thead>\n    <tr style=\"text-align: right;\">\n      <th></th>\n      <th>user_id</th>\n      <th>unique_brands</th>\n    </tr>\n  </thead>\n  <tbody>\n    <tr>\n      <th>0</th>\n      <td>-1236394515</td>\n      <td>1</td>\n    </tr>\n    <tr>\n      <th>1</th>\n      <td>1031</td>\n      <td>2</td>\n    </tr>\n    <tr>\n      <th>2</th>\n      <td>4241</td>\n      <td>2</td>\n    </tr>\n    <tr>\n      <th>3</th>\n      <td>17311</td>\n      <td>1</td>\n    </tr>\n    <tr>\n      <th>4</th>\n      <td>17312</td>\n      <td>2</td>\n    </tr>\n    <tr>\n      <th>...</th>\n      <td>...</td>\n      <td>...</td>\n    </tr>\n    <tr>\n      <th>11759</th>\n      <td>1408817589</td>\n      <td>2</td>\n    </tr>\n    <tr>\n      <th>11760</th>\n      <td>1408825059</td>\n      <td>1</td>\n    </tr>\n    <tr>\n      <th>11761</th>\n      <td>1408832719</td>\n      <td>1</td>\n    </tr>\n    <tr>\n      <th>11762</th>\n      <td>1408840919</td>\n      <td>1</td>\n    </tr>\n    <tr>\n      <th>11763</th>\n      <td>1408849249</td>\n      <td>1</td>\n    </tr>\n  </tbody>\n</table>\n<p>11764 rows × 2 columns</p>\n</div>"
     },
     "execution_count": 9,
     "metadata": {},
     "output_type": "execute_result"
    }
   ],
   "source": [
    "users_unique_brands=user_df.groupby('user_id', as_index=False) \\\n",
    "        .agg({'brand_name': pd.Series.nunique}) \\\n",
    "        .rename(columns={'brand_name': 'unique_brands'})\n",
    "users_unique_brands"
   ],
   "metadata": {
    "collapsed": false,
    "pycharm": {
     "name": "#%%\n"
    }
   }
  },
  {
   "cell_type": "code",
   "execution_count": 10,
   "outputs": [
    {
     "data": {
      "text/plain": "   a  b  c\n0  1  3  5\n1  2  4  6\n2  3  5  7",
      "text/html": "<div>\n<style scoped>\n    .dataframe tbody tr th:only-of-type {\n        vertical-align: middle;\n    }\n\n    .dataframe tbody tr th {\n        vertical-align: top;\n    }\n\n    .dataframe thead th {\n        text-align: right;\n    }\n</style>\n<table border=\"1\" class=\"dataframe\">\n  <thead>\n    <tr style=\"text-align: right;\">\n      <th></th>\n      <th>a</th>\n      <th>b</th>\n      <th>c</th>\n    </tr>\n  </thead>\n  <tbody>\n    <tr>\n      <th>0</th>\n      <td>1</td>\n      <td>3</td>\n      <td>5</td>\n    </tr>\n    <tr>\n      <th>1</th>\n      <td>2</td>\n      <td>4</td>\n      <td>6</td>\n    </tr>\n    <tr>\n      <th>2</th>\n      <td>3</td>\n      <td>5</td>\n      <td>7</td>\n    </tr>\n  </tbody>\n</table>\n</div>"
     },
     "execution_count": 10,
     "metadata": {},
     "output_type": "execute_result"
    }
   ],
   "source": [
    "#Example Data Frame #############################################################################################################\n",
    "##############################################################################################################\n",
    "asd=pd.DataFrame({'a': [1,2,3],'b': [3,4,5],'c': [5,6,7]})\n",
    "asd"
   ],
   "metadata": {
    "collapsed": false,
    "pycharm": {
     "name": "#%%\n"
    }
   }
  },
  {
   "cell_type": "code",
   "execution_count": 11,
   "outputs": [
    {
     "data": {
      "text/plain": "          user_id   love_brand  lovely_brand_purchases\n18187  1408849249  Store_Brand                       1\n18186  1408840919  Store_Brand                       1\n18185  1408832719      Brand_4                       3\n18184  1408825059      Brand_1                       1\n18183  1408817589  Store_Brand                       2\n...           ...          ...                     ...\n6           17312      Brand_1                       1\n5           17311      Brand_4                       2\n3            4241      Brand_4                       3\n2            1031  Store_Brand                       5\n0     -1236394515      Brand_4                       1\n\n[11764 rows x 3 columns]",
      "text/html": "<div>\n<style scoped>\n    .dataframe tbody tr th:only-of-type {\n        vertical-align: middle;\n    }\n\n    .dataframe tbody tr th {\n        vertical-align: top;\n    }\n\n    .dataframe thead th {\n        text-align: right;\n    }\n</style>\n<table border=\"1\" class=\"dataframe\">\n  <thead>\n    <tr style=\"text-align: right;\">\n      <th></th>\n      <th>user_id</th>\n      <th>love_brand</th>\n      <th>lovely_brand_purchases</th>\n    </tr>\n  </thead>\n  <tbody>\n    <tr>\n      <th>18187</th>\n      <td>1408849249</td>\n      <td>Store_Brand</td>\n      <td>1</td>\n    </tr>\n    <tr>\n      <th>18186</th>\n      <td>1408840919</td>\n      <td>Store_Brand</td>\n      <td>1</td>\n    </tr>\n    <tr>\n      <th>18185</th>\n      <td>1408832719</td>\n      <td>Brand_4</td>\n      <td>3</td>\n    </tr>\n    <tr>\n      <th>18184</th>\n      <td>1408825059</td>\n      <td>Brand_1</td>\n      <td>1</td>\n    </tr>\n    <tr>\n      <th>18183</th>\n      <td>1408817589</td>\n      <td>Store_Brand</td>\n      <td>2</td>\n    </tr>\n    <tr>\n      <th>...</th>\n      <td>...</td>\n      <td>...</td>\n      <td>...</td>\n    </tr>\n    <tr>\n      <th>6</th>\n      <td>17312</td>\n      <td>Brand_1</td>\n      <td>1</td>\n    </tr>\n    <tr>\n      <th>5</th>\n      <td>17311</td>\n      <td>Brand_4</td>\n      <td>2</td>\n    </tr>\n    <tr>\n      <th>3</th>\n      <td>4241</td>\n      <td>Brand_4</td>\n      <td>3</td>\n    </tr>\n    <tr>\n      <th>2</th>\n      <td>1031</td>\n      <td>Store_Brand</td>\n      <td>5</td>\n    </tr>\n    <tr>\n      <th>0</th>\n      <td>-1236394515</td>\n      <td>Brand_4</td>\n      <td>1</td>\n    </tr>\n  </tbody>\n</table>\n<p>11764 rows × 3 columns</p>\n</div>"
     },
     "execution_count": 11,
     "metadata": {},
     "output_type": "execute_result"
    }
   ],
   "source": [
    "lovely_brand_purchases_df=user_df.groupby(['user_id', 'brand_name'], as_index=False) \\\n",
    "        .agg({'brand_info': 'count'}) \\\n",
    "        .sort_values(['user_id', 'brand_info'], ascending=[False, False]) \\\n",
    "        .groupby('user_id') \\\n",
    "        .head(1) \\\n",
    "        .rename(columns={'brand_name': 'love_brand', 'brand_info': 'lovely_brand_purchases'})\n",
    "\n",
    "lovely_brand_purchases_df"
   ],
   "metadata": {
    "collapsed": false,
    "pycharm": {
     "name": "#%%\n"
    }
   }
  },
  {
   "cell_type": "code",
   "execution_count": 12,
   "outputs": [
    {
     "data": {
      "text/plain": "   user_id  purchases  unique_brands   love_brand  lovely_brand_purchases\n0     1031          6              2  Store_Brand                       5\n1     4241          5              2      Brand_4                       3\n2    25971          7              2  Store_Brand                       5\n3    40911         27              5      Brand_4                      19\n4    45181          5              4  Store_Brand                       2",
      "text/html": "<div>\n<style scoped>\n    .dataframe tbody tr th:only-of-type {\n        vertical-align: middle;\n    }\n\n    .dataframe tbody tr th {\n        vertical-align: top;\n    }\n\n    .dataframe thead th {\n        text-align: right;\n    }\n</style>\n<table border=\"1\" class=\"dataframe\">\n  <thead>\n    <tr style=\"text-align: right;\">\n      <th></th>\n      <th>user_id</th>\n      <th>purchases</th>\n      <th>unique_brands</th>\n      <th>love_brand</th>\n      <th>lovely_brand_purchases</th>\n    </tr>\n  </thead>\n  <tbody>\n    <tr>\n      <th>0</th>\n      <td>1031</td>\n      <td>6</td>\n      <td>2</td>\n      <td>Store_Brand</td>\n      <td>5</td>\n    </tr>\n    <tr>\n      <th>1</th>\n      <td>4241</td>\n      <td>5</td>\n      <td>2</td>\n      <td>Brand_4</td>\n      <td>3</td>\n    </tr>\n    <tr>\n      <th>2</th>\n      <td>25971</td>\n      <td>7</td>\n      <td>2</td>\n      <td>Store_Brand</td>\n      <td>5</td>\n    </tr>\n    <tr>\n      <th>3</th>\n      <td>40911</td>\n      <td>27</td>\n      <td>5</td>\n      <td>Brand_4</td>\n      <td>19</td>\n    </tr>\n    <tr>\n      <th>4</th>\n      <td>45181</td>\n      <td>5</td>\n      <td>4</td>\n      <td>Store_Brand</td>\n      <td>2</td>\n    </tr>\n  </tbody>\n</table>\n</div>"
     },
     "execution_count": 12,
     "metadata": {},
     "output_type": "execute_result"
    }
   ],
   "source": [
    "loyalty_df=user_purchases\\\n",
    "    .merge(users_unique_brands, on=\"user_id\")\\\n",
    "    .merge(lovely_brand_purchases_df, on=\"user_id\")\n",
    "loyalty_df.head()"
   ],
   "metadata": {
    "collapsed": false,
    "pycharm": {
     "name": "#%%\n"
    }
   }
  },
  {
   "cell_type": "code",
   "execution_count": 13,
   "outputs": [
    {
     "data": {
      "text/plain": "0    0.833333\n1    0.600000\n2    0.714286\n3    0.703704\n4    0.400000\nName: loyality_score, dtype: float64"
     },
     "execution_count": 13,
     "metadata": {},
     "output_type": "execute_result"
    }
   ],
   "source": [
    "loyalty_df['loyality_score']=loyalty_df.lovely_brand_purchases/loyalty_df.purchases\n",
    "loyalty_df['loyality_score'].head()"
   ],
   "metadata": {
    "collapsed": false,
    "pycharm": {
     "name": "#%%\n"
    }
   }
  },
  {
   "cell_type": "code",
   "execution_count": 14,
   "outputs": [],
   "source": [
    "#############################################################################################################\n",
    "##############################################################################################################\n",
    "# loyal_users = loyalty_df[loyalty_df.unique_brands == 1]\n",
    "# loyal_users"
   ],
   "metadata": {
    "collapsed": false,
    "pycharm": {
     "name": "#%%\n"
    }
   }
  },
  {
   "cell_type": "code",
   "execution_count": 15,
   "outputs": [
    {
     "data": {
      "text/plain": "   user_id  purchases  unique_brands   love_brand  lovely_brand_purchases  \\\n0     1031          6              2  Store_Brand                       5   \n1     4241          5              2      Brand_4                       3   \n2    25971          7              2  Store_Brand                       5   \n3    40911         27              5      Brand_4                      19   \n4    45181          5              4  Store_Brand                       2   \n\n   loyality_score  \n0        0.833333  \n1        0.600000  \n2        0.714286  \n3        0.703704  \n4        0.400000  ",
      "text/html": "<div>\n<style scoped>\n    .dataframe tbody tr th:only-of-type {\n        vertical-align: middle;\n    }\n\n    .dataframe tbody tr th {\n        vertical-align: top;\n    }\n\n    .dataframe thead th {\n        text-align: right;\n    }\n</style>\n<table border=\"1\" class=\"dataframe\">\n  <thead>\n    <tr style=\"text-align: right;\">\n      <th></th>\n      <th>user_id</th>\n      <th>purchases</th>\n      <th>unique_brands</th>\n      <th>love_brand</th>\n      <th>lovely_brand_purchases</th>\n      <th>loyality_score</th>\n    </tr>\n  </thead>\n  <tbody>\n    <tr>\n      <th>0</th>\n      <td>1031</td>\n      <td>6</td>\n      <td>2</td>\n      <td>Store_Brand</td>\n      <td>5</td>\n      <td>0.833333</td>\n    </tr>\n    <tr>\n      <th>1</th>\n      <td>4241</td>\n      <td>5</td>\n      <td>2</td>\n      <td>Brand_4</td>\n      <td>3</td>\n      <td>0.600000</td>\n    </tr>\n    <tr>\n      <th>2</th>\n      <td>25971</td>\n      <td>7</td>\n      <td>2</td>\n      <td>Store_Brand</td>\n      <td>5</td>\n      <td>0.714286</td>\n    </tr>\n    <tr>\n      <th>3</th>\n      <td>40911</td>\n      <td>27</td>\n      <td>5</td>\n      <td>Brand_4</td>\n      <td>19</td>\n      <td>0.703704</td>\n    </tr>\n    <tr>\n      <th>4</th>\n      <td>45181</td>\n      <td>5</td>\n      <td>4</td>\n      <td>Store_Brand</td>\n      <td>2</td>\n      <td>0.400000</td>\n    </tr>\n  </tbody>\n</table>\n</div>"
     },
     "execution_count": 15,
     "metadata": {},
     "output_type": "execute_result"
    }
   ],
   "source": [
    "loyalty_df.head()"
   ],
   "metadata": {
    "collapsed": false,
    "pycharm": {
     "name": "#%%\n"
    }
   }
  },
  {
   "cell_type": "code",
   "execution_count": 16,
   "outputs": [
    {
     "data": {
      "text/plain": "<Figure size 360x360 with 1 Axes>",
      "image/png": "[encoded data removed]"
     },
     "metadata": {
      "needs_background": "light"
     },
     "output_type": "display_data"
    }
   ],
   "source": [
    "ax=sns.displot(loyalty_df.loyality_score, kde=False)"
   ],
   "metadata": {
    "collapsed": false,
    "pycharm": {
     "name": "#%%\n"
    }
   }
  },
  {
   "cell_type": "code",
   "execution_count": 17,
   "outputs": [
    {
     "data": {
      "text/plain": "    love_brand  loyality_score  user_id\n0      Brand_1        0.679487      410\n1      Brand_2        0.600000       88\n2      Brand_3        0.500000      115\n3      Brand_4        0.818182     2041\n4      Brand_5        0.600000        5\n5      Brand_7        0.444444        9\n6  Store_Brand        0.750000      715",
      "text/html": "<div>\n<style scoped>\n    .dataframe tbody tr th:only-of-type {\n        vertical-align: middle;\n    }\n\n    .dataframe tbody tr th {\n        vertical-align: top;\n    }\n\n    .dataframe thead th {\n        text-align: right;\n    }\n</style>\n<table border=\"1\" class=\"dataframe\">\n  <thead>\n    <tr style=\"text-align: right;\">\n      <th></th>\n      <th>love_brand</th>\n      <th>loyality_score</th>\n      <th>user_id</th>\n    </tr>\n  </thead>\n  <tbody>\n    <tr>\n      <th>0</th>\n      <td>Brand_1</td>\n      <td>0.679487</td>\n      <td>410</td>\n    </tr>\n    <tr>\n      <th>1</th>\n      <td>Brand_2</td>\n      <td>0.600000</td>\n      <td>88</td>\n    </tr>\n    <tr>\n      <th>2</th>\n      <td>Brand_3</td>\n      <td>0.500000</td>\n      <td>115</td>\n    </tr>\n    <tr>\n      <th>3</th>\n      <td>Brand_4</td>\n      <td>0.818182</td>\n      <td>2041</td>\n    </tr>\n    <tr>\n      <th>4</th>\n      <td>Brand_5</td>\n      <td>0.600000</td>\n      <td>5</td>\n    </tr>\n    <tr>\n      <th>5</th>\n      <td>Brand_7</td>\n      <td>0.444444</td>\n      <td>9</td>\n    </tr>\n    <tr>\n      <th>6</th>\n      <td>Store_Brand</td>\n      <td>0.750000</td>\n      <td>715</td>\n    </tr>\n  </tbody>\n</table>\n</div>"
     },
     "execution_count": 17,
     "metadata": {},
     "output_type": "execute_result"
    }
   ],
   "source": [
    "# loyalty_df.loyality_score.median()\n",
    "brands_loyalty=loyalty_df.groupby('love_brand', as_index=False)\\\n",
    "        .agg({'loyality_score':'median', 'user_id': 'count'})\n",
    "brands_loyalty"
   ],
   "metadata": {
    "collapsed": false,
    "pycharm": {
     "name": "#%%\n"
    }
   }
  },
  {
   "cell_type": "markdown",
   "source": [],
   "metadata": {
    "collapsed": false,
    "pycharm": {
     "name": "#%% md\n"
    }
   }
  },
  {
   "cell_type": "code",
   "execution_count": 18,
   "outputs": [
    {
     "data": {
      "text/plain": "<Figure size 432x288 with 1 Axes>",
      "image/png": "[encoded data removed]"
     },
     "metadata": {
      "needs_background": "light"
     },
     "output_type": "display_data"
    }
   ],
   "source": [
    "window_with_result=sns.barplot(data=brands_loyalty, x=\"love_brand\", y=\"user_id\")\n",
    "#you can change x and y as you want"
   ],
   "metadata": {
    "collapsed": false,
    "pycharm": {
     "name": "#%%\n"
    }
   }
  },
  {
   "cell_type": "code",
   "execution_count": 18,
   "outputs": [],
   "source": [],
   "metadata": {
    "collapsed": false,
    "pycharm": {
     "name": "#%%\n"
    }
   }
  }
 ],
 "metadata": {
  "kernelspec": {
   "display_name": "Python 3",
   "language": "python",
   "name": "python3"
  },
  "language_info": {
   "codemirror_mode": {
    "name": "ipython",
    "version": 2
   },
   "file_extension": ".py",
   "mimetype": "text/x-python",
   "name": "python",
   "nbconvert_exporter": "python",
   "pygments_lexer": "ipython2",
   "version": "2.7.6"
  }
 },
 "nbformat": 4,
 "nbformat_minor": 0
}