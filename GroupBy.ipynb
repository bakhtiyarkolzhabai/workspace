{
 "cells": [
  {
   "cell_type": "code",
   "execution_count": 1,
   "metadata": {
    "collapsed": true
   },
   "outputs": [],
   "source": [
    "import pandas as pd\n",
    "import numpy as np"
   ]
  },
  {
   "cell_type": "code",
   "execution_count": 2,
   "outputs": [],
   "source": [
    "data={\"Company\":[\"GOOG\",\"GOOG\",\"MSFT\",\"MSFT\",\"META\",\"META\"],\n",
    "      \"Person\": [\"Asna\",\"Zhulldyz\", \"Dida\", \"Ara\", \"Danik\", \"Nurla\"],\n",
    "      \"Sales\":[220,150,130,400,500,250]\n",
    "}"
   ],
   "metadata": {
    "collapsed": false
   }
  },
  {
   "cell_type": "code",
   "execution_count": 3,
   "outputs": [
    {
     "data": {
      "text/plain": "{'Company': ['GOOG', 'GOOG', 'MSFT', 'MSFT', 'META', 'META'],\n 'Person': ['Asna', 'Zhulldyz', 'Dida', 'Ara', 'Danik', 'Nurla'],\n 'Sales': [220, 150, 130, 400, 500, 250]}"
     },
     "execution_count": 3,
     "metadata": {},
     "output_type": "execute_result"
    }
   ],
   "source": [
    "data"
   ],
   "metadata": {
    "collapsed": false
   }
  },
  {
   "cell_type": "code",
   "execution_count": 4,
   "outputs": [
    {
     "data": {
      "text/plain": "  Company    Person  Sales\n0    GOOG      Asna    220\n1    GOOG  Zhulldyz    150\n2    MSFT      Dida    130\n3    MSFT       Ara    400\n4    META     Danik    500\n5    META     Nurla    250",
      "text/html": "<div>\n<style scoped>\n    .dataframe tbody tr th:only-of-type {\n        vertical-align: middle;\n    }\n\n    .dataframe tbody tr th {\n        vertical-align: top;\n    }\n\n    .dataframe thead th {\n        text-align: right;\n    }\n</style>\n<table border=\"1\" class=\"dataframe\">\n  <thead>\n    <tr style=\"text-align: right;\">\n      <th></th>\n      <th>Company</th>\n      <th>Person</th>\n      <th>Sales</th>\n    </tr>\n  </thead>\n  <tbody>\n    <tr>\n      <th>0</th>\n      <td>GOOG</td>\n      <td>Asna</td>\n      <td>220</td>\n    </tr>\n    <tr>\n      <th>1</th>\n      <td>GOOG</td>\n      <td>Zhulldyz</td>\n      <td>150</td>\n    </tr>\n    <tr>\n      <th>2</th>\n      <td>MSFT</td>\n      <td>Dida</td>\n      <td>130</td>\n    </tr>\n    <tr>\n      <th>3</th>\n      <td>MSFT</td>\n      <td>Ara</td>\n      <td>400</td>\n    </tr>\n    <tr>\n      <th>4</th>\n      <td>META</td>\n      <td>Danik</td>\n      <td>500</td>\n    </tr>\n    <tr>\n      <th>5</th>\n      <td>META</td>\n      <td>Nurla</td>\n      <td>250</td>\n    </tr>\n  </tbody>\n</table>\n</div>"
     },
     "execution_count": 4,
     "metadata": {},
     "output_type": "execute_result"
    }
   ],
   "source": [
    "df=pd.DataFrame(data)\n",
    "df"
   ],
   "metadata": {
    "collapsed": false
   }
  },
  {
   "cell_type": "markdown",
   "source": [
    "# GroupBY\n"
   ],
   "metadata": {
    "collapsed": false
   }
  },
  {
   "cell_type": "code",
   "execution_count": 5,
   "outputs": [],
   "source": [
    "by_comp=df.groupby(\"Company\")"
   ],
   "metadata": {
    "collapsed": false
   }
  },
  {
   "cell_type": "code",
   "execution_count": 6,
   "outputs": [
    {
     "data": {
      "text/plain": "         Sales\nCompany       \nGOOG     185.0\nMETA     375.0\nMSFT     265.0",
      "text/html": "<div>\n<style scoped>\n    .dataframe tbody tr th:only-of-type {\n        vertical-align: middle;\n    }\n\n    .dataframe tbody tr th {\n        vertical-align: top;\n    }\n\n    .dataframe thead th {\n        text-align: right;\n    }\n</style>\n<table border=\"1\" class=\"dataframe\">\n  <thead>\n    <tr style=\"text-align: right;\">\n      <th></th>\n      <th>Sales</th>\n    </tr>\n    <tr>\n      <th>Company</th>\n      <th></th>\n    </tr>\n  </thead>\n  <tbody>\n    <tr>\n      <th>GOOG</th>\n      <td>185.0</td>\n    </tr>\n    <tr>\n      <th>META</th>\n      <td>375.0</td>\n    </tr>\n    <tr>\n      <th>MSFT</th>\n      <td>265.0</td>\n    </tr>\n  </tbody>\n</table>\n</div>"
     },
     "execution_count": 6,
     "metadata": {},
     "output_type": "execute_result"
    }
   ],
   "source": [
    "by_comp.mean()"
   ],
   "metadata": {
    "collapsed": false
   }
  },
  {
   "cell_type": "code",
   "execution_count": 7,
   "outputs": [
    {
     "data": {
      "text/plain": "              Sales\nCompany            \nGOOG      49.497475\nMETA     176.776695\nMSFT     190.918831",
      "text/html": "<div>\n<style scoped>\n    .dataframe tbody tr th:only-of-type {\n        vertical-align: middle;\n    }\n\n    .dataframe tbody tr th {\n        vertical-align: top;\n    }\n\n    .dataframe thead th {\n        text-align: right;\n    }\n</style>\n<table border=\"1\" class=\"dataframe\">\n  <thead>\n    <tr style=\"text-align: right;\">\n      <th></th>\n      <th>Sales</th>\n    </tr>\n    <tr>\n      <th>Company</th>\n      <th></th>\n    </tr>\n  </thead>\n  <tbody>\n    <tr>\n      <th>GOOG</th>\n      <td>49.497475</td>\n    </tr>\n    <tr>\n      <th>META</th>\n      <td>176.776695</td>\n    </tr>\n    <tr>\n      <th>MSFT</th>\n      <td>190.918831</td>\n    </tr>\n  </tbody>\n</table>\n</div>"
     },
     "execution_count": 7,
     "metadata": {},
     "output_type": "execute_result"
    }
   ],
   "source": [
    "by_comp.std()"
   ],
   "metadata": {
    "collapsed": false
   }
  },
  {
   "cell_type": "code",
   "execution_count": 8,
   "outputs": [
    {
     "data": {
      "text/plain": "        Person  Sales\nCompany              \nGOOG      Asna    150\nMETA     Danik    250\nMSFT       Ara    130",
      "text/html": "<div>\n<style scoped>\n    .dataframe tbody tr th:only-of-type {\n        vertical-align: middle;\n    }\n\n    .dataframe tbody tr th {\n        vertical-align: top;\n    }\n\n    .dataframe thead th {\n        text-align: right;\n    }\n</style>\n<table border=\"1\" class=\"dataframe\">\n  <thead>\n    <tr style=\"text-align: right;\">\n      <th></th>\n      <th>Person</th>\n      <th>Sales</th>\n    </tr>\n    <tr>\n      <th>Company</th>\n      <th></th>\n      <th></th>\n    </tr>\n  </thead>\n  <tbody>\n    <tr>\n      <th>GOOG</th>\n      <td>Asna</td>\n      <td>150</td>\n    </tr>\n    <tr>\n      <th>META</th>\n      <td>Danik</td>\n      <td>250</td>\n    </tr>\n    <tr>\n      <th>MSFT</th>\n      <td>Ara</td>\n      <td>130</td>\n    </tr>\n  </tbody>\n</table>\n</div>"
     },
     "execution_count": 8,
     "metadata": {},
     "output_type": "execute_result"
    }
   ],
   "source": [
    "by_comp.min()"
   ],
   "metadata": {
    "collapsed": false
   }
  },
  {
   "cell_type": "code",
   "execution_count": 9,
   "outputs": [
    {
     "data": {
      "text/plain": "  Company    Person  Sales\n0    GOOG      Asna    220\n1    GOOG  Zhulldyz    150\n2    MSFT      Dida    130\n3    MSFT       Ara    400\n4    META     Danik    500\n5    META     Nurla    250",
      "text/html": "<div>\n<style scoped>\n    .dataframe tbody tr th:only-of-type {\n        vertical-align: middle;\n    }\n\n    .dataframe tbody tr th {\n        vertical-align: top;\n    }\n\n    .dataframe thead th {\n        text-align: right;\n    }\n</style>\n<table border=\"1\" class=\"dataframe\">\n  <thead>\n    <tr style=\"text-align: right;\">\n      <th></th>\n      <th>Company</th>\n      <th>Person</th>\n      <th>Sales</th>\n    </tr>\n  </thead>\n  <tbody>\n    <tr>\n      <th>0</th>\n      <td>GOOG</td>\n      <td>Asna</td>\n      <td>220</td>\n    </tr>\n    <tr>\n      <th>1</th>\n      <td>GOOG</td>\n      <td>Zhulldyz</td>\n      <td>150</td>\n    </tr>\n    <tr>\n      <th>2</th>\n      <td>MSFT</td>\n      <td>Dida</td>\n      <td>130</td>\n    </tr>\n    <tr>\n      <th>3</th>\n      <td>MSFT</td>\n      <td>Ara</td>\n      <td>400</td>\n    </tr>\n    <tr>\n      <th>4</th>\n      <td>META</td>\n      <td>Danik</td>\n      <td>500</td>\n    </tr>\n    <tr>\n      <th>5</th>\n      <td>META</td>\n      <td>Nurla</td>\n      <td>250</td>\n    </tr>\n  </tbody>\n</table>\n</div>"
     },
     "execution_count": 9,
     "metadata": {},
     "output_type": "execute_result"
    }
   ],
   "source": [
    "df"
   ],
   "metadata": {
    "collapsed": false
   }
  },
  {
   "cell_type": "code",
   "execution_count": 10,
   "outputs": [
    {
     "data": {
      "text/plain": "         Person  Sales\nCompany               \nGOOG          2      2\nMETA          2      2\nMSFT          2      2",
      "text/html": "<div>\n<style scoped>\n    .dataframe tbody tr th:only-of-type {\n        vertical-align: middle;\n    }\n\n    .dataframe tbody tr th {\n        vertical-align: top;\n    }\n\n    .dataframe thead th {\n        text-align: right;\n    }\n</style>\n<table border=\"1\" class=\"dataframe\">\n  <thead>\n    <tr style=\"text-align: right;\">\n      <th></th>\n      <th>Person</th>\n      <th>Sales</th>\n    </tr>\n    <tr>\n      <th>Company</th>\n      <th></th>\n      <th></th>\n    </tr>\n  </thead>\n  <tbody>\n    <tr>\n      <th>GOOG</th>\n      <td>2</td>\n      <td>2</td>\n    </tr>\n    <tr>\n      <th>META</th>\n      <td>2</td>\n      <td>2</td>\n    </tr>\n    <tr>\n      <th>MSFT</th>\n      <td>2</td>\n      <td>2</td>\n    </tr>\n  </tbody>\n</table>\n</div>"
     },
     "execution_count": 10,
     "metadata": {},
     "output_type": "execute_result"
    }
   ],
   "source": [
    "by_comp.count()"
   ],
   "metadata": {
    "collapsed": false
   }
  },
  {
   "cell_type": "code",
   "execution_count": 11,
   "outputs": [
    {
     "data": {
      "text/plain": "Company            GOOG        META        MSFT\nSales count    2.000000    2.000000    2.000000\n      mean   185.000000  375.000000  265.000000\n      std     49.497475  176.776695  190.918831\n      min    150.000000  250.000000  130.000000\n      25%    167.500000  312.500000  197.500000\n      50%    185.000000  375.000000  265.000000\n      75%    202.500000  437.500000  332.500000\n      max    220.000000  500.000000  400.000000",
      "text/html": "<div>\n<style scoped>\n    .dataframe tbody tr th:only-of-type {\n        vertical-align: middle;\n    }\n\n    .dataframe tbody tr th {\n        vertical-align: top;\n    }\n\n    .dataframe thead th {\n        text-align: right;\n    }\n</style>\n<table border=\"1\" class=\"dataframe\">\n  <thead>\n    <tr style=\"text-align: right;\">\n      <th></th>\n      <th>Company</th>\n      <th>GOOG</th>\n      <th>META</th>\n      <th>MSFT</th>\n    </tr>\n  </thead>\n  <tbody>\n    <tr>\n      <th rowspan=\"8\" valign=\"top\">Sales</th>\n      <th>count</th>\n      <td>2.000000</td>\n      <td>2.000000</td>\n      <td>2.000000</td>\n    </tr>\n    <tr>\n      <th>mean</th>\n      <td>185.000000</td>\n      <td>375.000000</td>\n      <td>265.000000</td>\n    </tr>\n    <tr>\n      <th>std</th>\n      <td>49.497475</td>\n      <td>176.776695</td>\n      <td>190.918831</td>\n    </tr>\n    <tr>\n      <th>min</th>\n      <td>150.000000</td>\n      <td>250.000000</td>\n      <td>130.000000</td>\n    </tr>\n    <tr>\n      <th>25%</th>\n      <td>167.500000</td>\n      <td>312.500000</td>\n      <td>197.500000</td>\n    </tr>\n    <tr>\n      <th>50%</th>\n      <td>185.000000</td>\n      <td>375.000000</td>\n      <td>265.000000</td>\n    </tr>\n    <tr>\n      <th>75%</th>\n      <td>202.500000</td>\n      <td>437.500000</td>\n      <td>332.500000</td>\n    </tr>\n    <tr>\n      <th>max</th>\n      <td>220.000000</td>\n      <td>500.000000</td>\n      <td>400.000000</td>\n    </tr>\n  </tbody>\n</table>\n</div>"
     },
     "execution_count": 11,
     "metadata": {},
     "output_type": "execute_result"
    }
   ],
   "source": [
    "by_comp.describe().transpose()"
   ],
   "metadata": {
    "collapsed": false
   }
  },
  {
   "cell_type": "code",
   "execution_count": 12,
   "outputs": [
    {
     "data": {
      "text/plain": "Company            GOOG        META        MSFT\nSales count    2.000000    2.000000    2.000000\n      mean   185.000000  375.000000  265.000000\n      std     49.497475  176.776695  190.918831\n      min    150.000000  250.000000  130.000000\n      25%    167.500000  312.500000  197.500000\n      50%    185.000000  375.000000  265.000000\n      75%    202.500000  437.500000  332.500000\n      max    220.000000  500.000000  400.000000",
      "text/html": "<div>\n<style scoped>\n    .dataframe tbody tr th:only-of-type {\n        vertical-align: middle;\n    }\n\n    .dataframe tbody tr th {\n        vertical-align: top;\n    }\n\n    .dataframe thead th {\n        text-align: right;\n    }\n</style>\n<table border=\"1\" class=\"dataframe\">\n  <thead>\n    <tr style=\"text-align: right;\">\n      <th></th>\n      <th>Company</th>\n      <th>GOOG</th>\n      <th>META</th>\n      <th>MSFT</th>\n    </tr>\n  </thead>\n  <tbody>\n    <tr>\n      <th rowspan=\"8\" valign=\"top\">Sales</th>\n      <th>count</th>\n      <td>2.000000</td>\n      <td>2.000000</td>\n      <td>2.000000</td>\n    </tr>\n    <tr>\n      <th>mean</th>\n      <td>185.000000</td>\n      <td>375.000000</td>\n      <td>265.000000</td>\n    </tr>\n    <tr>\n      <th>std</th>\n      <td>49.497475</td>\n      <td>176.776695</td>\n      <td>190.918831</td>\n    </tr>\n    <tr>\n      <th>min</th>\n      <td>150.000000</td>\n      <td>250.000000</td>\n      <td>130.000000</td>\n    </tr>\n    <tr>\n      <th>25%</th>\n      <td>167.500000</td>\n      <td>312.500000</td>\n      <td>197.500000</td>\n    </tr>\n    <tr>\n      <th>50%</th>\n      <td>185.000000</td>\n      <td>375.000000</td>\n      <td>265.000000</td>\n    </tr>\n    <tr>\n      <th>75%</th>\n      <td>202.500000</td>\n      <td>437.500000</td>\n      <td>332.500000</td>\n    </tr>\n    <tr>\n      <th>max</th>\n      <td>220.000000</td>\n      <td>500.000000</td>\n      <td>400.000000</td>\n    </tr>\n  </tbody>\n</table>\n</div>"
     },
     "execution_count": 12,
     "metadata": {},
     "output_type": "execute_result"
    }
   ],
   "source": [
    "by_comp.describe().T"
   ],
   "metadata": {
    "collapsed": false
   }
  },
  {
   "cell_type": "code",
   "execution_count": 13,
   "outputs": [
    {
     "data": {
      "text/plain": "Sales  count      2.000000\n       mean     185.000000\n       std       49.497475\n       min      150.000000\n       25%      167.500000\n       50%      185.000000\n       75%      202.500000\n       max      220.000000\nName: GOOG, dtype: float64"
     },
     "execution_count": 13,
     "metadata": {},
     "output_type": "execute_result"
    }
   ],
   "source": [
    "by_comp.describe().T[\"GOOG\"]"
   ],
   "metadata": {
    "collapsed": false
   }
  },
  {
   "cell_type": "code",
   "execution_count": 13,
   "outputs": [],
   "source": [],
   "metadata": {
    "collapsed": false
   }
  }
 ],
 "metadata": {
  "kernelspec": {
   "display_name": "Python 3",
   "language": "python",
   "name": "python3"
  },
  "language_info": {
   "codemirror_mode": {
    "name": "ipython",
    "version": 2
   },
   "file_extension": ".py",
   "mimetype": "text/x-python",
   "name": "python",
   "nbconvert_exporter": "python",
   "pygments_lexer": "ipython2",
   "version": "2.7.6"
  }
 },
 "nbformat": 4,
 "nbformat_minor": 0
}
