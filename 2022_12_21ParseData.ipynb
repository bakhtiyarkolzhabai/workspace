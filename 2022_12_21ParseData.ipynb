{
 "cells": [
  {
   "cell_type": "code",
   "execution_count": 24,
   "metadata": {
    "collapsed": true
   },
   "outputs": [],
   "source": [
    "import pandas as pd\n",
    "import numpy as np"
   ]
  },
  {
   "cell_type": "markdown",
   "source": [
    "# CSV"
   ],
   "metadata": {
    "collapsed": false
   }
  },
  {
   "cell_type": "code",
   "execution_count": 25,
   "outputs": [
    {
     "data": {
      "text/plain": "'C:\\\\Users\\\\B.Koljabai\\\\DataspellProjects\\\\w'"
     },
     "execution_count": 25,
     "metadata": {},
     "output_type": "execute_result"
    }
   ],
   "source": [
    "pwd"
   ],
   "metadata": {
    "collapsed": false
   }
  },
  {
   "cell_type": "code",
   "execution_count": 26,
   "outputs": [
    {
     "data": {
      "text/plain": "    a   b   c   d\n0   0   1   2   3\n1   4   5   6   7\n2   8   9  10  11\n3  12  13  14  15",
      "text/html": "<div>\n<style scoped>\n    .dataframe tbody tr th:only-of-type {\n        vertical-align: middle;\n    }\n\n    .dataframe tbody tr th {\n        vertical-align: top;\n    }\n\n    .dataframe thead th {\n        text-align: right;\n    }\n</style>\n<table border=\"1\" class=\"dataframe\">\n  <thead>\n    <tr style=\"text-align: right;\">\n      <th></th>\n      <th>a</th>\n      <th>b</th>\n      <th>c</th>\n      <th>d</th>\n    </tr>\n  </thead>\n  <tbody>\n    <tr>\n      <th>0</th>\n      <td>0</td>\n      <td>1</td>\n      <td>2</td>\n      <td>3</td>\n    </tr>\n    <tr>\n      <th>1</th>\n      <td>4</td>\n      <td>5</td>\n      <td>6</td>\n      <td>7</td>\n    </tr>\n    <tr>\n      <th>2</th>\n      <td>8</td>\n      <td>9</td>\n      <td>10</td>\n      <td>11</td>\n    </tr>\n    <tr>\n      <th>3</th>\n      <td>12</td>\n      <td>13</td>\n      <td>14</td>\n      <td>15</td>\n    </tr>\n  </tbody>\n</table>\n</div>"
     },
     "execution_count": 26,
     "metadata": {},
     "output_type": "execute_result"
    }
   ],
   "source": [
    "pd.read_csv(\"example.csv\", sep=\",\")"
   ],
   "metadata": {
    "collapsed": false
   }
  },
  {
   "cell_type": "code",
   "execution_count": 27,
   "outputs": [
    {
     "data": {
      "text/plain": "    a   b   c   d\n0   0   1   2   3\n1   4   5   6   7\n2   8   9  10  11\n3  12  13  14  15",
      "text/html": "<div>\n<style scoped>\n    .dataframe tbody tr th:only-of-type {\n        vertical-align: middle;\n    }\n\n    .dataframe tbody tr th {\n        vertical-align: top;\n    }\n\n    .dataframe thead th {\n        text-align: right;\n    }\n</style>\n<table border=\"1\" class=\"dataframe\">\n  <thead>\n    <tr style=\"text-align: right;\">\n      <th></th>\n      <th>a</th>\n      <th>b</th>\n      <th>c</th>\n      <th>d</th>\n    </tr>\n  </thead>\n  <tbody>\n    <tr>\n      <th>0</th>\n      <td>0</td>\n      <td>1</td>\n      <td>2</td>\n      <td>3</td>\n    </tr>\n    <tr>\n      <th>1</th>\n      <td>4</td>\n      <td>5</td>\n      <td>6</td>\n      <td>7</td>\n    </tr>\n    <tr>\n      <th>2</th>\n      <td>8</td>\n      <td>9</td>\n      <td>10</td>\n      <td>11</td>\n    </tr>\n    <tr>\n      <th>3</th>\n      <td>12</td>\n      <td>13</td>\n      <td>14</td>\n      <td>15</td>\n    </tr>\n  </tbody>\n</table>\n</div>"
     },
     "execution_count": 27,
     "metadata": {},
     "output_type": "execute_result"
    }
   ],
   "source": [
    "df=pd.read_csv(\"example1.csv\", sep=\".\")\n",
    "df"
   ],
   "metadata": {
    "collapsed": false
   }
  },
  {
   "cell_type": "code",
   "execution_count": 28,
   "outputs": [
    {
     "name": "stdout",
     "output_type": "stream",
     "text": [
      "<class 'pandas.core.frame.DataFrame'>\n",
      "RangeIndex: 4 entries, 0 to 3\n",
      "Data columns (total 4 columns):\n",
      " #   Column  Non-Null Count  Dtype\n",
      "---  ------  --------------  -----\n",
      " 0   a       4 non-null      int64\n",
      " 1   b       4 non-null      int64\n",
      " 2   c       4 non-null      int64\n",
      " 3   d       4 non-null      int64\n",
      "dtypes: int64(4)\n",
      "memory usage: 256.0 bytes\n"
     ]
    }
   ],
   "source": [
    "df.info()"
   ],
   "metadata": {
    "collapsed": false
   }
  },
  {
   "cell_type": "code",
   "execution_count": 29,
   "outputs": [
    {
     "data": {
      "text/plain": "    a   b   c   d\n0   0   1   2   3\n1   4   5   6   7\n2   8   9  10  11\n3  12  13  14  15",
      "text/html": "<div>\n<style scoped>\n    .dataframe tbody tr th:only-of-type {\n        vertical-align: middle;\n    }\n\n    .dataframe tbody tr th {\n        vertical-align: top;\n    }\n\n    .dataframe thead th {\n        text-align: right;\n    }\n</style>\n<table border=\"1\" class=\"dataframe\">\n  <thead>\n    <tr style=\"text-align: right;\">\n      <th></th>\n      <th>a</th>\n      <th>b</th>\n      <th>c</th>\n      <th>d</th>\n    </tr>\n  </thead>\n  <tbody>\n    <tr>\n      <th>0</th>\n      <td>0</td>\n      <td>1</td>\n      <td>2</td>\n      <td>3</td>\n    </tr>\n    <tr>\n      <th>1</th>\n      <td>4</td>\n      <td>5</td>\n      <td>6</td>\n      <td>7</td>\n    </tr>\n    <tr>\n      <th>2</th>\n      <td>8</td>\n      <td>9</td>\n      <td>10</td>\n      <td>11</td>\n    </tr>\n    <tr>\n      <th>3</th>\n      <td>12</td>\n      <td>13</td>\n      <td>14</td>\n      <td>15</td>\n    </tr>\n  </tbody>\n</table>\n</div>"
     },
     "execution_count": 29,
     "metadata": {},
     "output_type": "execute_result"
    }
   ],
   "source": [
    "df"
   ],
   "metadata": {
    "collapsed": false
   }
  },
  {
   "cell_type": "code",
   "execution_count": 31,
   "outputs": [
    {
     "data": {
      "text/plain": "    a   b   c   d\n0   0   2   4   6\n1   8  10  12  14\n2  16  18  20  22\n3  24  26  28  30",
      "text/html": "<div>\n<style scoped>\n    .dataframe tbody tr th:only-of-type {\n        vertical-align: middle;\n    }\n\n    .dataframe tbody tr th {\n        vertical-align: top;\n    }\n\n    .dataframe thead th {\n        text-align: right;\n    }\n</style>\n<table border=\"1\" class=\"dataframe\">\n  <thead>\n    <tr style=\"text-align: right;\">\n      <th></th>\n      <th>a</th>\n      <th>b</th>\n      <th>c</th>\n      <th>d</th>\n    </tr>\n  </thead>\n  <tbody>\n    <tr>\n      <th>0</th>\n      <td>0</td>\n      <td>2</td>\n      <td>4</td>\n      <td>6</td>\n    </tr>\n    <tr>\n      <th>1</th>\n      <td>8</td>\n      <td>10</td>\n      <td>12</td>\n      <td>14</td>\n    </tr>\n    <tr>\n      <th>2</th>\n      <td>16</td>\n      <td>18</td>\n      <td>20</td>\n      <td>22</td>\n    </tr>\n    <tr>\n      <th>3</th>\n      <td>24</td>\n      <td>26</td>\n      <td>28</td>\n      <td>30</td>\n    </tr>\n  </tbody>\n</table>\n</div>"
     },
     "execution_count": 31,
     "metadata": {},
     "output_type": "execute_result"
    }
   ],
   "source": [
    "df2=df*2\n",
    "df2"
   ],
   "metadata": {
    "collapsed": false
   }
  },
  {
   "cell_type": "markdown",
   "source": [
    "# CSV OUTPUT"
   ],
   "metadata": {
    "collapsed": false
   }
  },
  {
   "cell_type": "code",
   "execution_count": 41,
   "outputs": [],
   "source": [
    "df2.to_csv(\"example2.csv\", index=True)"
   ],
   "metadata": {
    "collapsed": false
   }
  },
  {
   "cell_type": "markdown",
   "source": [
    "# Excel"
   ],
   "metadata": {
    "collapsed": false
   }
  },
  {
   "cell_type": "markdown",
   "source": [
    "# Excel input"
   ],
   "metadata": {
    "collapsed": false
   }
  },
  {
   "cell_type": "code",
   "execution_count": 42,
   "outputs": [
    {
     "data": {
      "text/plain": "   Unnamed: 0   a   b   c   d\n0           0   0   1   2   3\n1           1   4   5   6   7\n2           2   8   9  10  11\n3           3  12  13  14  15",
      "text/html": "<div>\n<style scoped>\n    .dataframe tbody tr th:only-of-type {\n        vertical-align: middle;\n    }\n\n    .dataframe tbody tr th {\n        vertical-align: top;\n    }\n\n    .dataframe thead th {\n        text-align: right;\n    }\n</style>\n<table border=\"1\" class=\"dataframe\">\n  <thead>\n    <tr style=\"text-align: right;\">\n      <th></th>\n      <th>Unnamed: 0</th>\n      <th>a</th>\n      <th>b</th>\n      <th>c</th>\n      <th>d</th>\n    </tr>\n  </thead>\n  <tbody>\n    <tr>\n      <th>0</th>\n      <td>0</td>\n      <td>0</td>\n      <td>1</td>\n      <td>2</td>\n      <td>3</td>\n    </tr>\n    <tr>\n      <th>1</th>\n      <td>1</td>\n      <td>4</td>\n      <td>5</td>\n      <td>6</td>\n      <td>7</td>\n    </tr>\n    <tr>\n      <th>2</th>\n      <td>2</td>\n      <td>8</td>\n      <td>9</td>\n      <td>10</td>\n      <td>11</td>\n    </tr>\n    <tr>\n      <th>3</th>\n      <td>3</td>\n      <td>12</td>\n      <td>13</td>\n      <td>14</td>\n      <td>15</td>\n    </tr>\n  </tbody>\n</table>\n</div>"
     },
     "execution_count": 42,
     "metadata": {},
     "output_type": "execute_result"
    }
   ],
   "source": [
    "pd.read_excel(\"Excel_Sample.xlsx\", sheet_name=\"Sheet1\")"
   ],
   "metadata": {
    "collapsed": false
   }
  },
  {
   "cell_type": "markdown",
   "source": [
    "# Excel Output"
   ],
   "metadata": {
    "collapsed": false
   }
  },
  {
   "cell_type": "code",
   "execution_count": 44,
   "outputs": [],
   "source": [
    "df2.to_excel(\"Excel_Sample.xlsx\", sheet_name=\"Sheet1\")"
   ],
   "metadata": {
    "collapsed": false
   }
  },
  {
   "cell_type": "markdown",
   "source": [
    "# HTML\n",
    "* conda install lxml\n",
    "* conda install html5lib\n",
    "* conda install BeautifulSoup4"
   ],
   "metadata": {
    "collapsed": false
   }
  },
  {
   "cell_type": "markdown",
   "source": [
    "# HTML input\n"
   ],
   "metadata": {
    "collapsed": false
   }
  },
  {
   "cell_type": "code",
   "execution_count": 45,
   "outputs": [],
   "source": [
    "df=pd.read_html(\"https://www.nationalbank.kz/ru/exchangerates/ezhednevnye-oficialnye-rynochnye-kursy-valyut\")"
   ],
   "metadata": {
    "collapsed": false
   }
  },
  {
   "cell_type": "code",
   "execution_count": 46,
   "outputs": [
    {
     "data": {
      "text/plain": "[     0                                           1          2        3   4\n 0  NaN                      1 АВСТРАЛИЙСКИЙ ДОЛЛАР  AUD / KZT   313.83 NaN\n 1  NaN                     1 АЗЕРБАЙДЖАНСКИЙ МАНАТ  AZN / KZT   276.80 NaN\n 2  NaN                           10 АРМЯНСКИЙ ДРАМ  AMD / KZT    12.00 NaN\n 3  NaN                         1 БЕЛОРУССКИЙ РУБЛЬ  BYN / KZT   186.32 NaN\n 4  NaN                          1 БРАЗИЛЬСКИЙ РЕАЛ  BRL / KZT    88.64 NaN\n 5  NaN                      10 ВЕНГЕРСКИХ ФОРИНТОВ  HUF / KZT    12.39 NaN\n 6  NaN                        1 ГОНКОНГСКИЙ ДОЛЛАР  HKD / KZT    60.27 NaN\n 7  NaN                           1 ГРУЗИНСКИЙ ЛАРИ  GEL / KZT   178.40 NaN\n 8  NaN                             1 ДАТСКАЯ КРОНА  DKK / KZT    67.09 NaN\n 9  NaN                                1 ДИРХАМ ОАЭ  AED / KZT   127.77 NaN\n 10 NaN                                1 ДОЛЛАР США  USD / KZT   469.18 NaN\n 11 NaN                                      1 ЕВРО  EUR / KZT   499.07 NaN\n 12 NaN                           1 ИНДИЙСКАЯ РУПИЯ  INR / KZT     5.67 NaN\n 13 NaN                          1000 ИРАНСКИЙ РИАЛ  IRR / KZT    11.20 NaN\n 14 NaN                          1 КАНАДСКИЙ ДОЛЛАР  CAD / KZT   344.63 NaN\n 15 NaN                            1 КИТАЙСКИЙ ЮАНЬ  CNY / KZT    67.39 NaN\n 16 NaN                          1 КУВЕЙТСКИЙ ДИНАР  KWD / KZT  1532.92 NaN\n 17 NaN                            1 КЫРГЫЗСКИЙ СОМ  KGS / KZT     5.52 NaN\n 18 NaN                       1 МАЛАЗИЙСКИЙ РИНГГИТ  MYR / KZT   105.91 NaN\n 19 NaN                         1 МЕКСИКАНСКИЙ ПЕСО  MXN / KZT    23.74 NaN\n 20 NaN                            1 МОЛДАВСКИЙ ЛЕЙ  MDL / KZT    24.37 NaN\n 21 NaN                          1 НОРВЕЖСКАЯ КРОНА  NOK / KZT    47.59 NaN\n 22 NaN                           1 ПОЛЬСКИЙ ЗЛОТЫЙ  PLN / KZT   106.70 NaN\n 23 NaN                    1 РИЯЛ САУДОВСКОЙ АРАВИИ  SAR / KZT   124.78 NaN\n 24 NaN                          1 РОССИЙСКИЙ РУБЛЬ  RUB / KZT     6.80 NaN\n 25 NaN                                       1 СДР  XDR / KZT   623.72 NaN\n 26 NaN                       1 СИНГАПУРСКИЙ ДОЛЛАР  SGD / KZT   347.57 NaN\n 27 NaN                         1 ТАДЖИКСКИЙ СОМОНИ  TJS / KZT    46.18 NaN\n 28 NaN                               1 ТАЙСКИЙ БАТ  THB / KZT    13.50 NaN\n 29 NaN                             1 ТУРЕЦКАЯ ЛИРА  TRY / KZT    25.15 NaN\n 30 NaN                         100 УЗБЕКСКИХ СУМОВ  UZS / KZT     4.17 NaN\n 31 NaN                         1 УКРАИНСКАЯ ГРИВНА  UAH / KZT    12.83 NaN\n 32 NaN  1 ФУНТ СТЕРЛИНГОВ СОЕДИНЕННОГО КОРОЛЕВСТВА  GBP / KZT   569.96 NaN\n 33 NaN                             1 ЧЕШСКАЯ КРОНА  CZK / KZT    20.62 NaN\n 34 NaN                            1 ШВЕДСКАЯ КРОНА  SEK / KZT    45.20 NaN\n 35 NaN                         1 ШВЕЙЦАРСКИЙ ФРАНК  CHF / KZT   506.84 NaN\n 36 NaN                     1 ЮЖНО-АФРИКАНСКИЙ РАНД  ZAR / KZT    27.15 NaN\n 37 NaN                      100 ЮЖНО-КОРЕЙСКИХ ВОН  KRW / KZT    36.55 NaN\n 38 NaN                             1 ЯПОНСКАЯ ЙЕНА  JPY / KZT     3.55 NaN]"
     },
     "execution_count": 46,
     "metadata": {},
     "output_type": "execute_result"
    }
   ],
   "source": [
    "df"
   ],
   "metadata": {
    "collapsed": false
   }
  },
  {
   "cell_type": "code",
   "execution_count": 47,
   "outputs": [
    {
     "data": {
      "text/plain": "1"
     },
     "execution_count": 47,
     "metadata": {},
     "output_type": "execute_result"
    }
   ],
   "source": [
    "len(df)"
   ],
   "metadata": {
    "collapsed": false
   }
  },
  {
   "cell_type": "code",
   "execution_count": 48,
   "outputs": [
    {
     "data": {
      "text/plain": "     0                                           1          2        3   4\n0  NaN                      1 АВСТРАЛИЙСКИЙ ДОЛЛАР  AUD / KZT   313.83 NaN\n1  NaN                     1 АЗЕРБАЙДЖАНСКИЙ МАНАТ  AZN / KZT   276.80 NaN\n2  NaN                           10 АРМЯНСКИЙ ДРАМ  AMD / KZT    12.00 NaN\n3  NaN                         1 БЕЛОРУССКИЙ РУБЛЬ  BYN / KZT   186.32 NaN\n4  NaN                          1 БРАЗИЛЬСКИЙ РЕАЛ  BRL / KZT    88.64 NaN\n5  NaN                      10 ВЕНГЕРСКИХ ФОРИНТОВ  HUF / KZT    12.39 NaN\n6  NaN                        1 ГОНКОНГСКИЙ ДОЛЛАР  HKD / KZT    60.27 NaN\n7  NaN                           1 ГРУЗИНСКИЙ ЛАРИ  GEL / KZT   178.40 NaN\n8  NaN                             1 ДАТСКАЯ КРОНА  DKK / KZT    67.09 NaN\n9  NaN                                1 ДИРХАМ ОАЭ  AED / KZT   127.77 NaN\n10 NaN                                1 ДОЛЛАР США  USD / KZT   469.18 NaN\n11 NaN                                      1 ЕВРО  EUR / KZT   499.07 NaN\n12 NaN                           1 ИНДИЙСКАЯ РУПИЯ  INR / KZT     5.67 NaN\n13 NaN                          1000 ИРАНСКИЙ РИАЛ  IRR / KZT    11.20 NaN\n14 NaN                          1 КАНАДСКИЙ ДОЛЛАР  CAD / KZT   344.63 NaN\n15 NaN                            1 КИТАЙСКИЙ ЮАНЬ  CNY / KZT    67.39 NaN\n16 NaN                          1 КУВЕЙТСКИЙ ДИНАР  KWD / KZT  1532.92 NaN\n17 NaN                            1 КЫРГЫЗСКИЙ СОМ  KGS / KZT     5.52 NaN\n18 NaN                       1 МАЛАЗИЙСКИЙ РИНГГИТ  MYR / KZT   105.91 NaN\n19 NaN                         1 МЕКСИКАНСКИЙ ПЕСО  MXN / KZT    23.74 NaN\n20 NaN                            1 МОЛДАВСКИЙ ЛЕЙ  MDL / KZT    24.37 NaN\n21 NaN                          1 НОРВЕЖСКАЯ КРОНА  NOK / KZT    47.59 NaN\n22 NaN                           1 ПОЛЬСКИЙ ЗЛОТЫЙ  PLN / KZT   106.70 NaN\n23 NaN                    1 РИЯЛ САУДОВСКОЙ АРАВИИ  SAR / KZT   124.78 NaN\n24 NaN                          1 РОССИЙСКИЙ РУБЛЬ  RUB / KZT     6.80 NaN\n25 NaN                                       1 СДР  XDR / KZT   623.72 NaN\n26 NaN                       1 СИНГАПУРСКИЙ ДОЛЛАР  SGD / KZT   347.57 NaN\n27 NaN                         1 ТАДЖИКСКИЙ СОМОНИ  TJS / KZT    46.18 NaN\n28 NaN                               1 ТАЙСКИЙ БАТ  THB / KZT    13.50 NaN\n29 NaN                             1 ТУРЕЦКАЯ ЛИРА  TRY / KZT    25.15 NaN\n30 NaN                         100 УЗБЕКСКИХ СУМОВ  UZS / KZT     4.17 NaN\n31 NaN                         1 УКРАИНСКАЯ ГРИВНА  UAH / KZT    12.83 NaN\n32 NaN  1 ФУНТ СТЕРЛИНГОВ СОЕДИНЕННОГО КОРОЛЕВСТВА  GBP / KZT   569.96 NaN\n33 NaN                             1 ЧЕШСКАЯ КРОНА  CZK / KZT    20.62 NaN\n34 NaN                            1 ШВЕДСКАЯ КРОНА  SEK / KZT    45.20 NaN\n35 NaN                         1 ШВЕЙЦАРСКИЙ ФРАНК  CHF / KZT   506.84 NaN\n36 NaN                     1 ЮЖНО-АФРИКАНСКИЙ РАНД  ZAR / KZT    27.15 NaN\n37 NaN                      100 ЮЖНО-КОРЕЙСКИХ ВОН  KRW / KZT    36.55 NaN\n38 NaN                             1 ЯПОНСКАЯ ЙЕНА  JPY / KZT     3.55 NaN",
      "text/html": "<div>\n<style scoped>\n    .dataframe tbody tr th:only-of-type {\n        vertical-align: middle;\n    }\n\n    .dataframe tbody tr th {\n        vertical-align: top;\n    }\n\n    .dataframe thead th {\n        text-align: right;\n    }\n</style>\n<table border=\"1\" class=\"dataframe\">\n  <thead>\n    <tr style=\"text-align: right;\">\n      <th></th>\n      <th>0</th>\n      <th>1</th>\n      <th>2</th>\n      <th>3</th>\n      <th>4</th>\n    </tr>\n  </thead>\n  <tbody>\n    <tr>\n      <th>0</th>\n      <td>NaN</td>\n      <td>1 АВСТРАЛИЙСКИЙ ДОЛЛАР</td>\n      <td>AUD / KZT</td>\n      <td>313.83</td>\n      <td>NaN</td>\n    </tr>\n    <tr>\n      <th>1</th>\n      <td>NaN</td>\n      <td>1 АЗЕРБАЙДЖАНСКИЙ МАНАТ</td>\n      <td>AZN / KZT</td>\n      <td>276.80</td>\n      <td>NaN</td>\n    </tr>\n    <tr>\n      <th>2</th>\n      <td>NaN</td>\n      <td>10 АРМЯНСКИЙ ДРАМ</td>\n      <td>AMD / KZT</td>\n      <td>12.00</td>\n      <td>NaN</td>\n    </tr>\n    <tr>\n      <th>3</th>\n      <td>NaN</td>\n      <td>1 БЕЛОРУССКИЙ РУБЛЬ</td>\n      <td>BYN / KZT</td>\n      <td>186.32</td>\n      <td>NaN</td>\n    </tr>\n    <tr>\n      <th>4</th>\n      <td>NaN</td>\n      <td>1 БРАЗИЛЬСКИЙ РЕАЛ</td>\n      <td>BRL / KZT</td>\n      <td>88.64</td>\n      <td>NaN</td>\n    </tr>\n    <tr>\n      <th>5</th>\n      <td>NaN</td>\n      <td>10 ВЕНГЕРСКИХ ФОРИНТОВ</td>\n      <td>HUF / KZT</td>\n      <td>12.39</td>\n      <td>NaN</td>\n    </tr>\n    <tr>\n      <th>6</th>\n      <td>NaN</td>\n      <td>1 ГОНКОНГСКИЙ ДОЛЛАР</td>\n      <td>HKD / KZT</td>\n      <td>60.27</td>\n      <td>NaN</td>\n    </tr>\n    <tr>\n      <th>7</th>\n      <td>NaN</td>\n      <td>1 ГРУЗИНСКИЙ ЛАРИ</td>\n      <td>GEL / KZT</td>\n      <td>178.40</td>\n      <td>NaN</td>\n    </tr>\n    <tr>\n      <th>8</th>\n      <td>NaN</td>\n      <td>1 ДАТСКАЯ КРОНА</td>\n      <td>DKK / KZT</td>\n      <td>67.09</td>\n      <td>NaN</td>\n    </tr>\n    <tr>\n      <th>9</th>\n      <td>NaN</td>\n      <td>1 ДИРХАМ ОАЭ</td>\n      <td>AED / KZT</td>\n      <td>127.77</td>\n      <td>NaN</td>\n    </tr>\n    <tr>\n      <th>10</th>\n      <td>NaN</td>\n      <td>1 ДОЛЛАР США</td>\n      <td>USD / KZT</td>\n      <td>469.18</td>\n      <td>NaN</td>\n    </tr>\n    <tr>\n      <th>11</th>\n      <td>NaN</td>\n      <td>1 ЕВРО</td>\n      <td>EUR / KZT</td>\n      <td>499.07</td>\n      <td>NaN</td>\n    </tr>\n    <tr>\n      <th>12</th>\n      <td>NaN</td>\n      <td>1 ИНДИЙСКАЯ РУПИЯ</td>\n      <td>INR / KZT</td>\n      <td>5.67</td>\n      <td>NaN</td>\n    </tr>\n    <tr>\n      <th>13</th>\n      <td>NaN</td>\n      <td>1000 ИРАНСКИЙ РИАЛ</td>\n      <td>IRR / KZT</td>\n      <td>11.20</td>\n      <td>NaN</td>\n    </tr>\n    <tr>\n      <th>14</th>\n      <td>NaN</td>\n      <td>1 КАНАДСКИЙ ДОЛЛАР</td>\n      <td>CAD / KZT</td>\n      <td>344.63</td>\n      <td>NaN</td>\n    </tr>\n    <tr>\n      <th>15</th>\n      <td>NaN</td>\n      <td>1 КИТАЙСКИЙ ЮАНЬ</td>\n      <td>CNY / KZT</td>\n      <td>67.39</td>\n      <td>NaN</td>\n    </tr>\n    <tr>\n      <th>16</th>\n      <td>NaN</td>\n      <td>1 КУВЕЙТСКИЙ ДИНАР</td>\n      <td>KWD / KZT</td>\n      <td>1532.92</td>\n      <td>NaN</td>\n    </tr>\n    <tr>\n      <th>17</th>\n      <td>NaN</td>\n      <td>1 КЫРГЫЗСКИЙ СОМ</td>\n      <td>KGS / KZT</td>\n      <td>5.52</td>\n      <td>NaN</td>\n    </tr>\n    <tr>\n      <th>18</th>\n      <td>NaN</td>\n      <td>1 МАЛАЗИЙСКИЙ РИНГГИТ</td>\n      <td>MYR / KZT</td>\n      <td>105.91</td>\n      <td>NaN</td>\n    </tr>\n    <tr>\n      <th>19</th>\n      <td>NaN</td>\n      <td>1 МЕКСИКАНСКИЙ ПЕСО</td>\n      <td>MXN / KZT</td>\n      <td>23.74</td>\n      <td>NaN</td>\n    </tr>\n    <tr>\n      <th>20</th>\n      <td>NaN</td>\n      <td>1 МОЛДАВСКИЙ ЛЕЙ</td>\n      <td>MDL / KZT</td>\n      <td>24.37</td>\n      <td>NaN</td>\n    </tr>\n    <tr>\n      <th>21</th>\n      <td>NaN</td>\n      <td>1 НОРВЕЖСКАЯ КРОНА</td>\n      <td>NOK / KZT</td>\n      <td>47.59</td>\n      <td>NaN</td>\n    </tr>\n    <tr>\n      <th>22</th>\n      <td>NaN</td>\n      <td>1 ПОЛЬСКИЙ ЗЛОТЫЙ</td>\n      <td>PLN / KZT</td>\n      <td>106.70</td>\n      <td>NaN</td>\n    </tr>\n    <tr>\n      <th>23</th>\n      <td>NaN</td>\n      <td>1 РИЯЛ САУДОВСКОЙ АРАВИИ</td>\n      <td>SAR / KZT</td>\n      <td>124.78</td>\n      <td>NaN</td>\n    </tr>\n    <tr>\n      <th>24</th>\n      <td>NaN</td>\n      <td>1 РОССИЙСКИЙ РУБЛЬ</td>\n      <td>RUB / KZT</td>\n      <td>6.80</td>\n      <td>NaN</td>\n    </tr>\n    <tr>\n      <th>25</th>\n      <td>NaN</td>\n      <td>1 СДР</td>\n      <td>XDR / KZT</td>\n      <td>623.72</td>\n      <td>NaN</td>\n    </tr>\n    <tr>\n      <th>26</th>\n      <td>NaN</td>\n      <td>1 СИНГАПУРСКИЙ ДОЛЛАР</td>\n      <td>SGD / KZT</td>\n      <td>347.57</td>\n      <td>NaN</td>\n    </tr>\n    <tr>\n      <th>27</th>\n      <td>NaN</td>\n      <td>1 ТАДЖИКСКИЙ СОМОНИ</td>\n      <td>TJS / KZT</td>\n      <td>46.18</td>\n      <td>NaN</td>\n    </tr>\n    <tr>\n      <th>28</th>\n      <td>NaN</td>\n      <td>1 ТАЙСКИЙ БАТ</td>\n      <td>THB / KZT</td>\n      <td>13.50</td>\n      <td>NaN</td>\n    </tr>\n    <tr>\n      <th>29</th>\n      <td>NaN</td>\n      <td>1 ТУРЕЦКАЯ ЛИРА</td>\n      <td>TRY / KZT</td>\n      <td>25.15</td>\n      <td>NaN</td>\n    </tr>\n    <tr>\n      <th>30</th>\n      <td>NaN</td>\n      <td>100 УЗБЕКСКИХ СУМОВ</td>\n      <td>UZS / KZT</td>\n      <td>4.17</td>\n      <td>NaN</td>\n    </tr>\n    <tr>\n      <th>31</th>\n      <td>NaN</td>\n      <td>1 УКРАИНСКАЯ ГРИВНА</td>\n      <td>UAH / KZT</td>\n      <td>12.83</td>\n      <td>NaN</td>\n    </tr>\n    <tr>\n      <th>32</th>\n      <td>NaN</td>\n      <td>1 ФУНТ СТЕРЛИНГОВ СОЕДИНЕННОГО КОРОЛЕВСТВА</td>\n      <td>GBP / KZT</td>\n      <td>569.96</td>\n      <td>NaN</td>\n    </tr>\n    <tr>\n      <th>33</th>\n      <td>NaN</td>\n      <td>1 ЧЕШСКАЯ КРОНА</td>\n      <td>CZK / KZT</td>\n      <td>20.62</td>\n      <td>NaN</td>\n    </tr>\n    <tr>\n      <th>34</th>\n      <td>NaN</td>\n      <td>1 ШВЕДСКАЯ КРОНА</td>\n      <td>SEK / KZT</td>\n      <td>45.20</td>\n      <td>NaN</td>\n    </tr>\n    <tr>\n      <th>35</th>\n      <td>NaN</td>\n      <td>1 ШВЕЙЦАРСКИЙ ФРАНК</td>\n      <td>CHF / KZT</td>\n      <td>506.84</td>\n      <td>NaN</td>\n    </tr>\n    <tr>\n      <th>36</th>\n      <td>NaN</td>\n      <td>1 ЮЖНО-АФРИКАНСКИЙ РАНД</td>\n      <td>ZAR / KZT</td>\n      <td>27.15</td>\n      <td>NaN</td>\n    </tr>\n    <tr>\n      <th>37</th>\n      <td>NaN</td>\n      <td>100 ЮЖНО-КОРЕЙСКИХ ВОН</td>\n      <td>KRW / KZT</td>\n      <td>36.55</td>\n      <td>NaN</td>\n    </tr>\n    <tr>\n      <th>38</th>\n      <td>NaN</td>\n      <td>1 ЯПОНСКАЯ ЙЕНА</td>\n      <td>JPY / KZT</td>\n      <td>3.55</td>\n      <td>NaN</td>\n    </tr>\n  </tbody>\n</table>\n</div>"
     },
     "execution_count": 48,
     "metadata": {},
     "output_type": "execute_result"
    }
   ],
   "source": [
    "df[0]"
   ],
   "metadata": {
    "collapsed": false
   }
  },
  {
   "cell_type": "code",
   "execution_count": 49,
   "outputs": [
    {
     "data": {
      "text/plain": "                                             1          2        3\n0                       1 АВСТРАЛИЙСКИЙ ДОЛЛАР  AUD / KZT   313.83\n1                      1 АЗЕРБАЙДЖАНСКИЙ МАНАТ  AZN / KZT   276.80\n2                            10 АРМЯНСКИЙ ДРАМ  AMD / KZT    12.00\n3                          1 БЕЛОРУССКИЙ РУБЛЬ  BYN / KZT   186.32\n4                           1 БРАЗИЛЬСКИЙ РЕАЛ  BRL / KZT    88.64\n5                       10 ВЕНГЕРСКИХ ФОРИНТОВ  HUF / KZT    12.39\n6                         1 ГОНКОНГСКИЙ ДОЛЛАР  HKD / KZT    60.27\n7                            1 ГРУЗИНСКИЙ ЛАРИ  GEL / KZT   178.40\n8                              1 ДАТСКАЯ КРОНА  DKK / KZT    67.09\n9                                 1 ДИРХАМ ОАЭ  AED / KZT   127.77\n10                                1 ДОЛЛАР США  USD / KZT   469.18\n11                                      1 ЕВРО  EUR / KZT   499.07\n12                           1 ИНДИЙСКАЯ РУПИЯ  INR / KZT     5.67\n13                          1000 ИРАНСКИЙ РИАЛ  IRR / KZT    11.20\n14                          1 КАНАДСКИЙ ДОЛЛАР  CAD / KZT   344.63\n15                            1 КИТАЙСКИЙ ЮАНЬ  CNY / KZT    67.39\n16                          1 КУВЕЙТСКИЙ ДИНАР  KWD / KZT  1532.92\n17                            1 КЫРГЫЗСКИЙ СОМ  KGS / KZT     5.52\n18                       1 МАЛАЗИЙСКИЙ РИНГГИТ  MYR / KZT   105.91\n19                         1 МЕКСИКАНСКИЙ ПЕСО  MXN / KZT    23.74\n20                            1 МОЛДАВСКИЙ ЛЕЙ  MDL / KZT    24.37\n21                          1 НОРВЕЖСКАЯ КРОНА  NOK / KZT    47.59\n22                           1 ПОЛЬСКИЙ ЗЛОТЫЙ  PLN / KZT   106.70\n23                    1 РИЯЛ САУДОВСКОЙ АРАВИИ  SAR / KZT   124.78\n24                          1 РОССИЙСКИЙ РУБЛЬ  RUB / KZT     6.80\n25                                       1 СДР  XDR / KZT   623.72\n26                       1 СИНГАПУРСКИЙ ДОЛЛАР  SGD / KZT   347.57\n27                         1 ТАДЖИКСКИЙ СОМОНИ  TJS / KZT    46.18\n28                               1 ТАЙСКИЙ БАТ  THB / KZT    13.50\n29                             1 ТУРЕЦКАЯ ЛИРА  TRY / KZT    25.15\n30                         100 УЗБЕКСКИХ СУМОВ  UZS / KZT     4.17\n31                         1 УКРАИНСКАЯ ГРИВНА  UAH / KZT    12.83\n32  1 ФУНТ СТЕРЛИНГОВ СОЕДИНЕННОГО КОРОЛЕВСТВА  GBP / KZT   569.96\n33                             1 ЧЕШСКАЯ КРОНА  CZK / KZT    20.62\n34                            1 ШВЕДСКАЯ КРОНА  SEK / KZT    45.20\n35                         1 ШВЕЙЦАРСКИЙ ФРАНК  CHF / KZT   506.84\n36                     1 ЮЖНО-АФРИКАНСКИЙ РАНД  ZAR / KZT    27.15\n37                      100 ЮЖНО-КОРЕЙСКИХ ВОН  KRW / KZT    36.55\n38                             1 ЯПОНСКАЯ ЙЕНА  JPY / KZT     3.55",
      "text/html": "<div>\n<style scoped>\n    .dataframe tbody tr th:only-of-type {\n        vertical-align: middle;\n    }\n\n    .dataframe tbody tr th {\n        vertical-align: top;\n    }\n\n    .dataframe thead th {\n        text-align: right;\n    }\n</style>\n<table border=\"1\" class=\"dataframe\">\n  <thead>\n    <tr style=\"text-align: right;\">\n      <th></th>\n      <th>1</th>\n      <th>2</th>\n      <th>3</th>\n    </tr>\n  </thead>\n  <tbody>\n    <tr>\n      <th>0</th>\n      <td>1 АВСТРАЛИЙСКИЙ ДОЛЛАР</td>\n      <td>AUD / KZT</td>\n      <td>313.83</td>\n    </tr>\n    <tr>\n      <th>1</th>\n      <td>1 АЗЕРБАЙДЖАНСКИЙ МАНАТ</td>\n      <td>AZN / KZT</td>\n      <td>276.80</td>\n    </tr>\n    <tr>\n      <th>2</th>\n      <td>10 АРМЯНСКИЙ ДРАМ</td>\n      <td>AMD / KZT</td>\n      <td>12.00</td>\n    </tr>\n    <tr>\n      <th>3</th>\n      <td>1 БЕЛОРУССКИЙ РУБЛЬ</td>\n      <td>BYN / KZT</td>\n      <td>186.32</td>\n    </tr>\n    <tr>\n      <th>4</th>\n      <td>1 БРАЗИЛЬСКИЙ РЕАЛ</td>\n      <td>BRL / KZT</td>\n      <td>88.64</td>\n    </tr>\n    <tr>\n      <th>5</th>\n      <td>10 ВЕНГЕРСКИХ ФОРИНТОВ</td>\n      <td>HUF / KZT</td>\n      <td>12.39</td>\n    </tr>\n    <tr>\n      <th>6</th>\n      <td>1 ГОНКОНГСКИЙ ДОЛЛАР</td>\n      <td>HKD / KZT</td>\n      <td>60.27</td>\n    </tr>\n    <tr>\n      <th>7</th>\n      <td>1 ГРУЗИНСКИЙ ЛАРИ</td>\n      <td>GEL / KZT</td>\n      <td>178.40</td>\n    </tr>\n    <tr>\n      <th>8</th>\n      <td>1 ДАТСКАЯ КРОНА</td>\n      <td>DKK / KZT</td>\n      <td>67.09</td>\n    </tr>\n    <tr>\n      <th>9</th>\n      <td>1 ДИРХАМ ОАЭ</td>\n      <td>AED / KZT</td>\n      <td>127.77</td>\n    </tr>\n    <tr>\n      <th>10</th>\n      <td>1 ДОЛЛАР США</td>\n      <td>USD / KZT</td>\n      <td>469.18</td>\n    </tr>\n    <tr>\n      <th>11</th>\n      <td>1 ЕВРО</td>\n      <td>EUR / KZT</td>\n      <td>499.07</td>\n    </tr>\n    <tr>\n      <th>12</th>\n      <td>1 ИНДИЙСКАЯ РУПИЯ</td>\n      <td>INR / KZT</td>\n      <td>5.67</td>\n    </tr>\n    <tr>\n      <th>13</th>\n      <td>1000 ИРАНСКИЙ РИАЛ</td>\n      <td>IRR / KZT</td>\n      <td>11.20</td>\n    </tr>\n    <tr>\n      <th>14</th>\n      <td>1 КАНАДСКИЙ ДОЛЛАР</td>\n      <td>CAD / KZT</td>\n      <td>344.63</td>\n    </tr>\n    <tr>\n      <th>15</th>\n      <td>1 КИТАЙСКИЙ ЮАНЬ</td>\n      <td>CNY / KZT</td>\n      <td>67.39</td>\n    </tr>\n    <tr>\n      <th>16</th>\n      <td>1 КУВЕЙТСКИЙ ДИНАР</td>\n      <td>KWD / KZT</td>\n      <td>1532.92</td>\n    </tr>\n    <tr>\n      <th>17</th>\n      <td>1 КЫРГЫЗСКИЙ СОМ</td>\n      <td>KGS / KZT</td>\n      <td>5.52</td>\n    </tr>\n    <tr>\n      <th>18</th>\n      <td>1 МАЛАЗИЙСКИЙ РИНГГИТ</td>\n      <td>MYR / KZT</td>\n      <td>105.91</td>\n    </tr>\n    <tr>\n      <th>19</th>\n      <td>1 МЕКСИКАНСКИЙ ПЕСО</td>\n      <td>MXN / KZT</td>\n      <td>23.74</td>\n    </tr>\n    <tr>\n      <th>20</th>\n      <td>1 МОЛДАВСКИЙ ЛЕЙ</td>\n      <td>MDL / KZT</td>\n      <td>24.37</td>\n    </tr>\n    <tr>\n      <th>21</th>\n      <td>1 НОРВЕЖСКАЯ КРОНА</td>\n      <td>NOK / KZT</td>\n      <td>47.59</td>\n    </tr>\n    <tr>\n      <th>22</th>\n      <td>1 ПОЛЬСКИЙ ЗЛОТЫЙ</td>\n      <td>PLN / KZT</td>\n      <td>106.70</td>\n    </tr>\n    <tr>\n      <th>23</th>\n      <td>1 РИЯЛ САУДОВСКОЙ АРАВИИ</td>\n      <td>SAR / KZT</td>\n      <td>124.78</td>\n    </tr>\n    <tr>\n      <th>24</th>\n      <td>1 РОССИЙСКИЙ РУБЛЬ</td>\n      <td>RUB / KZT</td>\n      <td>6.80</td>\n    </tr>\n    <tr>\n      <th>25</th>\n      <td>1 СДР</td>\n      <td>XDR / KZT</td>\n      <td>623.72</td>\n    </tr>\n    <tr>\n      <th>26</th>\n      <td>1 СИНГАПУРСКИЙ ДОЛЛАР</td>\n      <td>SGD / KZT</td>\n      <td>347.57</td>\n    </tr>\n    <tr>\n      <th>27</th>\n      <td>1 ТАДЖИКСКИЙ СОМОНИ</td>\n      <td>TJS / KZT</td>\n      <td>46.18</td>\n    </tr>\n    <tr>\n      <th>28</th>\n      <td>1 ТАЙСКИЙ БАТ</td>\n      <td>THB / KZT</td>\n      <td>13.50</td>\n    </tr>\n    <tr>\n      <th>29</th>\n      <td>1 ТУРЕЦКАЯ ЛИРА</td>\n      <td>TRY / KZT</td>\n      <td>25.15</td>\n    </tr>\n    <tr>\n      <th>30</th>\n      <td>100 УЗБЕКСКИХ СУМОВ</td>\n      <td>UZS / KZT</td>\n      <td>4.17</td>\n    </tr>\n    <tr>\n      <th>31</th>\n      <td>1 УКРАИНСКАЯ ГРИВНА</td>\n      <td>UAH / KZT</td>\n      <td>12.83</td>\n    </tr>\n    <tr>\n      <th>32</th>\n      <td>1 ФУНТ СТЕРЛИНГОВ СОЕДИНЕННОГО КОРОЛЕВСТВА</td>\n      <td>GBP / KZT</td>\n      <td>569.96</td>\n    </tr>\n    <tr>\n      <th>33</th>\n      <td>1 ЧЕШСКАЯ КРОНА</td>\n      <td>CZK / KZT</td>\n      <td>20.62</td>\n    </tr>\n    <tr>\n      <th>34</th>\n      <td>1 ШВЕДСКАЯ КРОНА</td>\n      <td>SEK / KZT</td>\n      <td>45.20</td>\n    </tr>\n    <tr>\n      <th>35</th>\n      <td>1 ШВЕЙЦАРСКИЙ ФРАНК</td>\n      <td>CHF / KZT</td>\n      <td>506.84</td>\n    </tr>\n    <tr>\n      <th>36</th>\n      <td>1 ЮЖНО-АФРИКАНСКИЙ РАНД</td>\n      <td>ZAR / KZT</td>\n      <td>27.15</td>\n    </tr>\n    <tr>\n      <th>37</th>\n      <td>100 ЮЖНО-КОРЕЙСКИХ ВОН</td>\n      <td>KRW / KZT</td>\n      <td>36.55</td>\n    </tr>\n    <tr>\n      <th>38</th>\n      <td>1 ЯПОНСКАЯ ЙЕНА</td>\n      <td>JPY / KZT</td>\n      <td>3.55</td>\n    </tr>\n  </tbody>\n</table>\n</div>"
     },
     "execution_count": 49,
     "metadata": {},
     "output_type": "execute_result"
    }
   ],
   "source": [
    "df[0][[1,2,3]]"
   ],
   "metadata": {
    "collapsed": false
   }
  },
  {
   "cell_type": "code",
   "execution_count": null,
   "outputs": [],
   "source": [],
   "metadata": {
    "collapsed": false
   }
  },
  {
   "cell_type": "code",
   "execution_count": 51,
   "outputs": [],
   "source": [
    "df1=pd.read_html(\"https://en.wikipedia.org/wiki/Kazakhstan\")"
   ],
   "metadata": {
    "collapsed": false
   }
  },
  {
   "cell_type": "code",
   "execution_count": 52,
   "outputs": [
    {
     "data": {
      "text/plain": "35"
     },
     "execution_count": 52,
     "metadata": {},
     "output_type": "execute_result"
    }
   ],
   "source": [
    "len(df1)"
   ],
   "metadata": {
    "collapsed": false
   }
  },
  {
   "cell_type": "code",
   "execution_count": 54,
   "outputs": [
    {
     "data": {
      "text/plain": "    Location July (°C) July (°F) January (°C) January (°F)\n0     Almaty     30/18     86/64         0/−8        33/17\n1   Shymkent     32/17     91/66         4/−4        39/23\n2  Karaganda     27/14     80/57       −8/−17         16/1\n3     Astana     27/15     80/59      −10/−18        14/−1\n4   Pavlodar     28/15     82/59      −11/−20        12/−5\n5     Aktobe     30/15     86/61       −8/−16         17/2",
      "text/html": "<div>\n<style scoped>\n    .dataframe tbody tr th:only-of-type {\n        vertical-align: middle;\n    }\n\n    .dataframe tbody tr th {\n        vertical-align: top;\n    }\n\n    .dataframe thead th {\n        text-align: right;\n    }\n</style>\n<table border=\"1\" class=\"dataframe\">\n  <thead>\n    <tr style=\"text-align: right;\">\n      <th></th>\n      <th>Location</th>\n      <th>July (°C)</th>\n      <th>July (°F)</th>\n      <th>January (°C)</th>\n      <th>January (°F)</th>\n    </tr>\n  </thead>\n  <tbody>\n    <tr>\n      <th>0</th>\n      <td>Almaty</td>\n      <td>30/18</td>\n      <td>86/64</td>\n      <td>0/−8</td>\n      <td>33/17</td>\n    </tr>\n    <tr>\n      <th>1</th>\n      <td>Shymkent</td>\n      <td>32/17</td>\n      <td>91/66</td>\n      <td>4/−4</td>\n      <td>39/23</td>\n    </tr>\n    <tr>\n      <th>2</th>\n      <td>Karaganda</td>\n      <td>27/14</td>\n      <td>80/57</td>\n      <td>−8/−17</td>\n      <td>16/1</td>\n    </tr>\n    <tr>\n      <th>3</th>\n      <td>Astana</td>\n      <td>27/15</td>\n      <td>80/59</td>\n      <td>−10/−18</td>\n      <td>14/−1</td>\n    </tr>\n    <tr>\n      <th>4</th>\n      <td>Pavlodar</td>\n      <td>28/15</td>\n      <td>82/59</td>\n      <td>−11/−20</td>\n      <td>12/−5</td>\n    </tr>\n    <tr>\n      <th>5</th>\n      <td>Aktobe</td>\n      <td>30/15</td>\n      <td>86/61</td>\n      <td>−8/−16</td>\n      <td>17/2</td>\n    </tr>\n  </tbody>\n</table>\n</div>"
     },
     "execution_count": 54,
     "metadata": {},
     "output_type": "execute_result"
    }
   ],
   "source": [
    "df1[3]"
   ],
   "metadata": {
    "collapsed": false
   }
  },
  {
   "cell_type": "code",
   "execution_count": 56,
   "outputs": [
    {
     "data": {
      "text/plain": "   Republic of Kazakhstan.mw-parser-output .plainlist ol,.mw-parser-output .plainlist ul{line-height:inherit;list-style:none;margin:0;padding:0}.mw-parser-output .plainlist ol li,.mw-parser-output .plainlist ul li{margin-bottom:0}Қазақстан Республикасы (Kazakh)Qazaqstan RespublikasyРеспублика Казахстан (Russian)Respublika Kazakhstan  \\\n0                                        Flag  Emblem                                                                                                                                                                                                                                                                                            \n1   Anthem: Менің Қазақстаным (Kazakh)Menıñ Qazaqs...                                                                                                                                                                                                                                                                                            \n2                                                 NaN                                                                                                                                                                                                                                                                                            \n3                                             Capital                                                                                                                                                                                                                                                                                            \n4                                        Largest city                                                                                                                                                                                                                                                                                            \n5                                  Official languages                                                                                                                                                                                                                                                                                            \n6                    Recognised minority languages[1]                                                                                                                                                                                                                                                                                            \n7                             Ethnic groups (2021)[2]                                                                                                                                                                                                                                                                                            \n8                                  Religion (2021)[2]                                                                                                                                                                                                                                                                                            \n9                                          Demonym(s)                                                                                                                                                                                                                                                                                            \n10                                         Government                                                                                                                                                                                                                                                                                            \n11                                                NaN                                                                                                                                                                                                                                                                                            \n12                                        • President                                                                                                                                                                                                                                                                                            \n13                                   • Prime Minister                                                                                                                                                                                                                                                                                            \n14                                        Legislature                                                                                                                                                                                                                                                                                            \n15                                      • Upper house                                                                                                                                                                                                                                                                                            \n16                                      • Lower house                                                                                                                                                                                                                                                                                            \n17                                          Formation                                                                                                                                                                                                                                                                                            \n18                                                NaN                                                                                                                                                                                                                                                                                            \n19                                   • Kazakh Khanate                                                                                                                                                                                                                                                                                            \n20                                   • Alash Autonomy                                                                                                                                                                                                                                                                                            \n21                                     • Kirghiz ASSR                                                                                                                                                                                                                                                                                            \n22                                      • Kazakh ASSR                                                                                                                                                                                                                                                                                            \n23                                       • Kazakh SSR                                                                                                                                                                                                                                                                                            \n24                       • Declaration of sovereignty                                                                                                                                                                                                                                                                                            \n25      • Reconstituted as the Republic of Kazakhstan                                                                                                                                                                                                                                                                                            \n26                           • Independence from USSR                                                                                                                                                                                                                                                                                            \n27                                       • Recognised                                                                                                                                                                                                                                                                                            \n28                             • Current constitution                                                                                                                                                                                                                                                                                            \n29                                               Area                                                                                                                                                                                                                                                                                            \n30                                            • Total                                                                                                                                                                                                                                                                                            \n31                                        • Water (%)                                                                                                                                                                                                                                                                                            \n32                                         Population                                                                                                                                                                                                                                                                                            \n33                                    • 2022 estimate                                                                                                                                                                                                                                                                                            \n34                                          • Density                                                                                                                                                                                                                                                                                            \n35  GDP .mw-parser-output .nobold{font-weight:norm...                                                                                                                                                                                                                                                                                            \n36                                            • Total                                                                                                                                                                                                                                                                                            \n37                                       • Per capita                                                                                                                                                                                                                                                                                            \n38                                      GDP (nominal)                                                                                                                                                                                                                                                                                            \n39                                            • Total                                                                                                                                                                                                                                                                                            \n40                                       • Per capita                                                                                                                                                                                                                                                                                            \n41                                        Gini (2017)                                                                                                                                                                                                                                                                                            \n42                                         HDI (2019)                                                                                                                                                                                                                                                                                            \n43                                           Currency                                                                                                                                                                                                                                                                                            \n44                                          Time zone                                                                                                                                                                                                                                                                                            \n45                                        Date format                                                                                                                                                                                                                                                                                            \n46                                       Driving side                                                                                                                                                                                                                                                                                            \n47                                       Calling code                                                                                                                                                                                                                                                                                            \n48                                      ISO 3166 code                                                                                                                                                                                                                                                                                            \n49                                       Internet TLD                                                                                                                                                                                                                                                                                            \n\n   Republic of Kazakhstan.mw-parser-output .plainlist ol,.mw-parser-output .plainlist ul{line-height:inherit;list-style:none;margin:0;padding:0}.mw-parser-output .plainlist ol li,.mw-parser-output .plainlist ul li{margin-bottom:0}Қазақстан Республикасы (Kazakh)Qazaqstan RespublikasyРеспублика Казахстан (Russian)Respublika Kazakhstan.1  \n0                                        Flag  Emblem                                                                                                                                                                                                                                                                                             \n1   Anthem: Менің Қазақстаным (Kazakh)Menıñ Qazaqs...                                                                                                                                                                                                                                                                                             \n2                                                 NaN                                                                                                                                                                                                                                                                                             \n3   Astana.mw-parser-output .geo-default,.mw-parse...                                                                                                                                                                                                                                                                                             \n4   Almaty43°16′39″N 76°53′45″E﻿ / ﻿43.27750°N 76....                                                                                                                                                                                                                                                                                             \n5                                       KazakhRussian                                                                                                                                                                                                                                                                                             \n6         GermanTajikTatarTurkishUkrainianUyghurUzbek                                                                                                                                                                                                                                                                                             \n7   70.4% Kazakh15.5% Russian3.2% Uzbek2.0% Ukrain...                                                                                                                                                                                                                                                                                             \n8   69.3% Islam17.2% Christianity0.2% Others13.3% ...                                                                                                                                                                                                                                                                                             \n9                                      Kazakhstani[a]                                                                                                                                                                                                                                                                                             \n10       Unitary dominant-party presidential republic                                                                                                                                                                                                                                                                                             \n11                                                NaN                                                                                                                                                                                                                                                                                             \n12                              Kassym-Jomart Tokayev                                                                                                                                                                                                                                                                                             \n13                                    Älihan Smaiylov                                                                                                                                                                                                                                                                                             \n14                                         Parliament                                                                                                                                                                                                                                                                                             \n15                                             Senate                                                                                                                                                                                                                                                                                             \n16                                            Majilis                                                                                                                                                                                                                                                                                             \n17                                          Formation                                                                                                                                                                                                                                                                                             \n18                                                NaN                                                                                                                                                                                                                                                                                             \n19                                               1465                                                                                                                                                                                                                                                                                             \n20                                   13 December 1917                                                                                                                                                                                                                                                                                             \n21                                     26 August 1920                                                                                                                                                                                                                                                                                             \n22                                       19 June 1925                                                                                                                                                                                                                                                                                             \n23                                    5 December 1936                                                                                                                                                                                                                                                                                             \n24                                    25 October 1990                                                                                                                                                                                                                                                                                             \n25                                   10 December 1991                                                                                                                                                                                                                                                                                             \n26                                   16 December 1991                                                                                                                                                                                                                                                                                             \n27                                   26 December 1991                                                                                                                                                                                                                                                                                             \n28                                     30 August 1995                                                                                                                                                                                                                                                                                             \n29                                               Area                                                                                                                                                                                                                                                                                             \n30              2,724,900 km2 (1,052,100 sq mi) (9th)                                                                                                                                                                                                                                                                                             \n31                                                1.7                                                                                                                                                                                                                                                                                             \n32                                         Population                                                                                                                                                                                                                                                                                             \n33                               19,398,331[4] (64th)                                                                                                                                                                                                                                                                                             \n34                         7/km2 (18.1/sq mi) (236th)                                                                                                                                                                                                                                                                                             \n35                                      2020 estimate                                                                                                                                                                                                                                                                                             \n36                         $569.813 billion[5] (41st)                                                                                                                                                                                                                                                                                             \n37                                  $30,178[5] (53rd)                                                                                                                                                                                                                                                                                             \n38                                      2020 estimate                                                                                                                                                                                                                                                                                             \n39                         $179.332 billion[5] (55th)                                                                                                                                                                                                                                                                                             \n40                                   $9,686[5] (69th)                                                                                                                                                                                                                                                                                             \n41                                         27.5[6]low                                                                                                                                                                                                                                                                                             \n42                           0.825[7]very high · 51st                                                                                                                                                                                                                                                                                             \n43                                    Tenge (₸) (KZT)                                                                                                                                                                                                                                                                                             \n44                           UTC+5 / +6 (West / East)                                                                                                                                                                                                                                                                                             \n45                                      yyyy.dd.mm[b]                                                                                                                                                                                                                                                                                             \n46                                              right                                                                                                                                                                                                                                                                                             \n47                                     +7-6xx, +7-7xx                                                                                                                                                                                                                                                                                             \n48                                                 KZ                                                                                                                                                                                                                                                                                             \n49                                            .kz.қаз                                                                                                                                                                                                                                                                                             ",
      "text/html": "<div>\n<style scoped>\n    .dataframe tbody tr th:only-of-type {\n        vertical-align: middle;\n    }\n\n    .dataframe tbody tr th {\n        vertical-align: top;\n    }\n\n    .dataframe thead th {\n        text-align: right;\n    }\n</style>\n<table border=\"1\" class=\"dataframe\">\n  <thead>\n    <tr style=\"text-align: right;\">\n      <th></th>\n      <th>Republic of Kazakhstan.mw-parser-output .plainlist ol,.mw-parser-output .plainlist ul{line-height:inherit;list-style:none;margin:0;padding:0}.mw-parser-output .plainlist ol li,.mw-parser-output .plainlist ul li{margin-bottom:0}Қазақстан Республикасы (Kazakh)Qazaqstan RespublikasyРеспублика Казахстан (Russian)Respublika Kazakhstan</th>\n      <th>Republic of Kazakhstan.mw-parser-output .plainlist ol,.mw-parser-output .plainlist ul{line-height:inherit;list-style:none;margin:0;padding:0}.mw-parser-output .plainlist ol li,.mw-parser-output .plainlist ul li{margin-bottom:0}Қазақстан Республикасы (Kazakh)Qazaqstan RespublikasyРеспублика Казахстан (Russian)Respublika Kazakhstan.1</th>\n    </tr>\n  </thead>\n  <tbody>\n    <tr>\n      <th>0</th>\n      <td>Flag  Emblem</td>\n      <td>Flag  Emblem</td>\n    </tr>\n    <tr>\n      <th>1</th>\n      <td>Anthem: Менің Қазақстаным (Kazakh)Menıñ Qazaqs...</td>\n      <td>Anthem: Менің Қазақстаным (Kazakh)Menıñ Qazaqs...</td>\n    </tr>\n    <tr>\n      <th>2</th>\n      <td>NaN</td>\n      <td>NaN</td>\n    </tr>\n    <tr>\n      <th>3</th>\n      <td>Capital</td>\n      <td>Astana.mw-parser-output .geo-default,.mw-parse...</td>\n    </tr>\n    <tr>\n      <th>4</th>\n      <td>Largest city</td>\n      <td>Almaty43°16′39″N 76°53′45″E﻿ / ﻿43.27750°N 76....</td>\n    </tr>\n    <tr>\n      <th>5</th>\n      <td>Official languages</td>\n      <td>KazakhRussian</td>\n    </tr>\n    <tr>\n      <th>6</th>\n      <td>Recognised minority languages[1]</td>\n      <td>GermanTajikTatarTurkishUkrainianUyghurUzbek</td>\n    </tr>\n    <tr>\n      <th>7</th>\n      <td>Ethnic groups (2021)[2]</td>\n      <td>70.4% Kazakh15.5% Russian3.2% Uzbek2.0% Ukrain...</td>\n    </tr>\n    <tr>\n      <th>8</th>\n      <td>Religion (2021)[2]</td>\n      <td>69.3% Islam17.2% Christianity0.2% Others13.3% ...</td>\n    </tr>\n    <tr>\n      <th>9</th>\n      <td>Demonym(s)</td>\n      <td>Kazakhstani[a]</td>\n    </tr>\n    <tr>\n      <th>10</th>\n      <td>Government</td>\n      <td>Unitary dominant-party presidential republic</td>\n    </tr>\n    <tr>\n      <th>11</th>\n      <td>NaN</td>\n      <td>NaN</td>\n    </tr>\n    <tr>\n      <th>12</th>\n      <td>• President</td>\n      <td>Kassym-Jomart Tokayev</td>\n    </tr>\n    <tr>\n      <th>13</th>\n      <td>• Prime Minister</td>\n      <td>Älihan Smaiylov</td>\n    </tr>\n    <tr>\n      <th>14</th>\n      <td>Legislature</td>\n      <td>Parliament</td>\n    </tr>\n    <tr>\n      <th>15</th>\n      <td>• Upper house</td>\n      <td>Senate</td>\n    </tr>\n    <tr>\n      <th>16</th>\n      <td>• Lower house</td>\n      <td>Majilis</td>\n    </tr>\n    <tr>\n      <th>17</th>\n      <td>Formation</td>\n      <td>Formation</td>\n    </tr>\n    <tr>\n      <th>18</th>\n      <td>NaN</td>\n      <td>NaN</td>\n    </tr>\n    <tr>\n      <th>19</th>\n      <td>• Kazakh Khanate</td>\n      <td>1465</td>\n    </tr>\n    <tr>\n      <th>20</th>\n      <td>• Alash Autonomy</td>\n      <td>13 December 1917</td>\n    </tr>\n    <tr>\n      <th>21</th>\n      <td>• Kirghiz ASSR</td>\n      <td>26 August 1920</td>\n    </tr>\n    <tr>\n      <th>22</th>\n      <td>• Kazakh ASSR</td>\n      <td>19 June 1925</td>\n    </tr>\n    <tr>\n      <th>23</th>\n      <td>• Kazakh SSR</td>\n      <td>5 December 1936</td>\n    </tr>\n    <tr>\n      <th>24</th>\n      <td>• Declaration of sovereignty</td>\n      <td>25 October 1990</td>\n    </tr>\n    <tr>\n      <th>25</th>\n      <td>• Reconstituted as the Republic of Kazakhstan</td>\n      <td>10 December 1991</td>\n    </tr>\n    <tr>\n      <th>26</th>\n      <td>• Independence from USSR</td>\n      <td>16 December 1991</td>\n    </tr>\n    <tr>\n      <th>27</th>\n      <td>• Recognised</td>\n      <td>26 December 1991</td>\n    </tr>\n    <tr>\n      <th>28</th>\n      <td>• Current constitution</td>\n      <td>30 August 1995</td>\n    </tr>\n    <tr>\n      <th>29</th>\n      <td>Area</td>\n      <td>Area</td>\n    </tr>\n    <tr>\n      <th>30</th>\n      <td>• Total</td>\n      <td>2,724,900 km2 (1,052,100 sq mi) (9th)</td>\n    </tr>\n    <tr>\n      <th>31</th>\n      <td>• Water (%)</td>\n      <td>1.7</td>\n    </tr>\n    <tr>\n      <th>32</th>\n      <td>Population</td>\n      <td>Population</td>\n    </tr>\n    <tr>\n      <th>33</th>\n      <td>• 2022 estimate</td>\n      <td>19,398,331[4] (64th)</td>\n    </tr>\n    <tr>\n      <th>34</th>\n      <td>• Density</td>\n      <td>7/km2 (18.1/sq mi) (236th)</td>\n    </tr>\n    <tr>\n      <th>35</th>\n      <td>GDP .mw-parser-output .nobold{font-weight:norm...</td>\n      <td>2020 estimate</td>\n    </tr>\n    <tr>\n      <th>36</th>\n      <td>• Total</td>\n      <td>$569.813 billion[5] (41st)</td>\n    </tr>\n    <tr>\n      <th>37</th>\n      <td>• Per capita</td>\n      <td>$30,178[5] (53rd)</td>\n    </tr>\n    <tr>\n      <th>38</th>\n      <td>GDP (nominal)</td>\n      <td>2020 estimate</td>\n    </tr>\n    <tr>\n      <th>39</th>\n      <td>• Total</td>\n      <td>$179.332 billion[5] (55th)</td>\n    </tr>\n    <tr>\n      <th>40</th>\n      <td>• Per capita</td>\n      <td>$9,686[5] (69th)</td>\n    </tr>\n    <tr>\n      <th>41</th>\n      <td>Gini (2017)</td>\n      <td>27.5[6]low</td>\n    </tr>\n    <tr>\n      <th>42</th>\n      <td>HDI (2019)</td>\n      <td>0.825[7]very high · 51st</td>\n    </tr>\n    <tr>\n      <th>43</th>\n      <td>Currency</td>\n      <td>Tenge (₸) (KZT)</td>\n    </tr>\n    <tr>\n      <th>44</th>\n      <td>Time zone</td>\n      <td>UTC+5 / +6 (West / East)</td>\n    </tr>\n    <tr>\n      <th>45</th>\n      <td>Date format</td>\n      <td>yyyy.dd.mm[b]</td>\n    </tr>\n    <tr>\n      <th>46</th>\n      <td>Driving side</td>\n      <td>right</td>\n    </tr>\n    <tr>\n      <th>47</th>\n      <td>Calling code</td>\n      <td>+7-6xx, +7-7xx</td>\n    </tr>\n    <tr>\n      <th>48</th>\n      <td>ISO 3166 code</td>\n      <td>KZ</td>\n    </tr>\n    <tr>\n      <th>49</th>\n      <td>Internet TLD</td>\n      <td>.kz.қаз</td>\n    </tr>\n  </tbody>\n</table>\n</div>"
     },
     "execution_count": 56,
     "metadata": {},
     "output_type": "execute_result"
    }
   ],
   "source": [
    "df1[0]"
   ],
   "metadata": {
    "collapsed": false
   }
  },
  {
   "cell_type": "code",
   "execution_count": null,
   "outputs": [],
   "source": [],
   "metadata": {
    "collapsed": false
   }
  }
 ],
 "metadata": {
  "kernelspec": {
   "display_name": "Python 3",
   "language": "python",
   "name": "python3"
  },
  "language_info": {
   "codemirror_mode": {
    "name": "ipython",
    "version": 2
   },
   "file_extension": ".py",
   "mimetype": "text/x-python",
   "name": "python",
   "nbconvert_exporter": "python",
   "pygments_lexer": "ipython2",
   "version": "2.7.6"
  }
 },
 "nbformat": 4,
 "nbformat_minor": 0
}
