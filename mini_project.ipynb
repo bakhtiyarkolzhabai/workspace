{
 "cells": [
  {
   "cell_type": "code",
   "execution_count": 2,
   "id": "8346bf56",
   "metadata": {
    "pycharm": {
     "name": "#%%\n"
    }
   },
   "outputs": [],
   "source": [
    "import pandas as pd\n"
   ]
  },
  {
   "cell_type": "code",
   "execution_count": 3,
   "id": "2a999def",
   "metadata": {
    "pycharm": {
     "name": "#%%\n"
    }
   },
   "outputs": [],
   "source": [
    "bookings=pd.read_csv(r\"https://stepik.org/media/attachments/lesson/360344/bookings.csv\", encoding='windows 1251', sep=';')"
   ]
  },
  {
   "cell_type": "code",
   "execution_count": 4,
   "id": "d9b568ee",
   "metadata": {
    "pycharm": {
     "name": "#%%\n"
    }
   },
   "outputs": [
    {
     "data": {
      "text/plain": "(119390, 21)"
     },
     "execution_count": 4,
     "metadata": {},
     "output_type": "execute_result"
    }
   ],
   "source": [
    "bookings.shape"
   ]
  },
  {
   "cell_type": "code",
   "execution_count": 5,
   "id": "1d760860",
   "metadata": {
    "pycharm": {
     "name": "#%%\n"
    }
   },
   "outputs": [],
   "source": [
    "def lower_underscore(name):\n",
    "    name=name.lower().replace(' ', '_')\n",
    "    return name\n",
    "    # func for rename and replace values"
   ]
  },
  {
   "cell_type": "code",
   "execution_count": 6,
   "outputs": [
    {
     "data": {
      "text/plain": "object     10\nint64      10\nfloat64     1\ndtype: int64"
     },
     "execution_count": 6,
     "metadata": {},
     "output_type": "execute_result"
    }
   ],
   "source": [
    "bookings.dtypes.value_counts()"
   ],
   "metadata": {
    "collapsed": false,
    "pycharm": {
     "name": "#%%\n"
    }
   }
  },
  {
   "cell_type": "code",
   "execution_count": 7,
   "id": "0bbd4d01",
   "metadata": {
    "pycharm": {
     "name": "#%%\n"
    }
   },
   "outputs": [
    {
     "data": {
      "text/plain": "'lead_time'"
     },
     "execution_count": 7,
     "metadata": {},
     "output_type": "execute_result"
    }
   ],
   "source": [
    "lower_underscore('Lead Time')"
   ]
  },
  {
   "cell_type": "code",
   "execution_count": 8,
   "id": "d14bb18c",
   "metadata": {
    "pycharm": {
     "name": "#%%\n"
    }
   },
   "outputs": [],
   "source": [
    "bookings=bookings.rename(columns=lower_underscore)"
   ]
  },
  {
   "cell_type": "code",
   "execution_count": 9,
   "id": "e7b9af8c",
   "metadata": {
    "pycharm": {
     "name": "#%%\n"
    }
   },
   "outputs": [
    {
     "data": {
      "text/plain": "hotel                         object\nis_canceled                    int64\nlead_time                      int64\narrival_full_date             object\narrival_date_year              int64\narrival_date_month            object\narrival_date_week_number       int64\narrival_date_day_of_month      int64\nstays_in_weekend_nights        int64\nstays_in_week_nights           int64\nstays_total_nights             int64\nadults                         int64\nchildren                     float64\nbabies                         int64\nmeal                          object\ncountry                       object\nreserved_room_type            object\nassigned_room_type            object\ncustomer_type                 object\nreservation_status            object\nreservation_status_date       object\ndtype: object"
     },
     "execution_count": 9,
     "metadata": {},
     "output_type": "execute_result"
    }
   ],
   "source": [
    "bookings.dtypes"
   ]
  },
  {
   "cell_type": "code",
   "execution_count": 10,
   "id": "b118e994",
   "metadata": {
    "pycharm": {
     "name": "#%%\n"
    }
   },
   "outputs": [
    {
     "data": {
      "text/plain": "                   children\narrival_full_date          \n2015-07-01              2.0\n2015-07-02              4.0\n2015-07-03              4.0\n2015-07-04              8.0\n2015-07-05             10.0\n...                     ...\n2017-08-27             45.0\n2017-08-28             32.0\n2017-08-29             21.0\n2017-08-30             19.0\n2017-08-31             19.0\n\n[793 rows x 1 columns]",
      "text/html": "<div>\n<style scoped>\n    .dataframe tbody tr th:only-of-type {\n        vertical-align: middle;\n    }\n\n    .dataframe tbody tr th {\n        vertical-align: top;\n    }\n\n    .dataframe thead th {\n        text-align: right;\n    }\n</style>\n<table border=\"1\" class=\"dataframe\">\n  <thead>\n    <tr style=\"text-align: right;\">\n      <th></th>\n      <th>children</th>\n    </tr>\n    <tr>\n      <th>arrival_full_date</th>\n      <th></th>\n    </tr>\n  </thead>\n  <tbody>\n    <tr>\n      <th>2015-07-01</th>\n      <td>2.0</td>\n    </tr>\n    <tr>\n      <th>2015-07-02</th>\n      <td>4.0</td>\n    </tr>\n    <tr>\n      <th>2015-07-03</th>\n      <td>4.0</td>\n    </tr>\n    <tr>\n      <th>2015-07-04</th>\n      <td>8.0</td>\n    </tr>\n    <tr>\n      <th>2015-07-05</th>\n      <td>10.0</td>\n    </tr>\n    <tr>\n      <th>...</th>\n      <td>...</td>\n    </tr>\n    <tr>\n      <th>2017-08-27</th>\n      <td>45.0</td>\n    </tr>\n    <tr>\n      <th>2017-08-28</th>\n      <td>32.0</td>\n    </tr>\n    <tr>\n      <th>2017-08-29</th>\n      <td>21.0</td>\n    </tr>\n    <tr>\n      <th>2017-08-30</th>\n      <td>19.0</td>\n    </tr>\n    <tr>\n      <th>2017-08-31</th>\n      <td>19.0</td>\n    </tr>\n  </tbody>\n</table>\n<p>793 rows × 1 columns</p>\n</div>"
     },
     "execution_count": 10,
     "metadata": {},
     "output_type": "execute_result"
    }
   ],
   "source": [
    "bookings.groupby('arrival_full_date').aggregate({'children': 'sum'})"
   ]
  },
  {
   "cell_type": "code",
   "execution_count": 11,
   "outputs": [
    {
     "data": {
      "text/plain": "         is_canceled      lead_time  arrival_date_year  \\\ncount  119390.000000  119390.000000      119390.000000   \nmean        0.370416     104.011416        2016.156554   \nstd         0.482918     106.863097           0.707476   \nmin         0.000000       0.000000        2015.000000   \n25%         0.000000      18.000000        2016.000000   \n50%         0.000000      69.000000        2016.000000   \n75%         1.000000     160.000000        2017.000000   \nmax         1.000000     737.000000        2017.000000   \n\n       arrival_date_week_number  arrival_date_day_of_month  \\\ncount             119390.000000              119390.000000   \nmean                  27.165173                  15.798241   \nstd                   13.605138                   8.780829   \nmin                    1.000000                   1.000000   \n25%                   16.000000                   8.000000   \n50%                   28.000000                  16.000000   \n75%                   38.000000                  23.000000   \nmax                   53.000000                  31.000000   \n\n       stays_in_weekend_nights  stays_in_week_nights  stays_total_nights  \\\ncount            119390.000000         119390.000000       119390.000000   \nmean                  0.927599              2.500302            3.427900   \nstd                   0.998613              1.908286            2.557439   \nmin                   0.000000              0.000000            0.000000   \n25%                   0.000000              1.000000            2.000000   \n50%                   1.000000              2.000000            3.000000   \n75%                   2.000000              3.000000            4.000000   \nmax                  19.000000             50.000000           69.000000   \n\n              adults       children         babies  \ncount  119390.000000  119386.000000  119390.000000  \nmean        1.856403       0.103890       0.007949  \nstd         0.579261       0.398561       0.097436  \nmin         0.000000       0.000000       0.000000  \n25%         2.000000       0.000000       0.000000  \n50%         2.000000       0.000000       0.000000  \n75%         2.000000       0.000000       0.000000  \nmax        55.000000      10.000000      10.000000  ",
      "text/html": "<div>\n<style scoped>\n    .dataframe tbody tr th:only-of-type {\n        vertical-align: middle;\n    }\n\n    .dataframe tbody tr th {\n        vertical-align: top;\n    }\n\n    .dataframe thead th {\n        text-align: right;\n    }\n</style>\n<table border=\"1\" class=\"dataframe\">\n  <thead>\n    <tr style=\"text-align: right;\">\n      <th></th>\n      <th>is_canceled</th>\n      <th>lead_time</th>\n      <th>arrival_date_year</th>\n      <th>arrival_date_week_number</th>\n      <th>arrival_date_day_of_month</th>\n      <th>stays_in_weekend_nights</th>\n      <th>stays_in_week_nights</th>\n      <th>stays_total_nights</th>\n      <th>adults</th>\n      <th>children</th>\n      <th>babies</th>\n    </tr>\n  </thead>\n  <tbody>\n    <tr>\n      <th>count</th>\n      <td>119390.000000</td>\n      <td>119390.000000</td>\n      <td>119390.000000</td>\n      <td>119390.000000</td>\n      <td>119390.000000</td>\n      <td>119390.000000</td>\n      <td>119390.000000</td>\n      <td>119390.000000</td>\n      <td>119390.000000</td>\n      <td>119386.000000</td>\n      <td>119390.000000</td>\n    </tr>\n    <tr>\n      <th>mean</th>\n      <td>0.370416</td>\n      <td>104.011416</td>\n      <td>2016.156554</td>\n      <td>27.165173</td>\n      <td>15.798241</td>\n      <td>0.927599</td>\n      <td>2.500302</td>\n      <td>3.427900</td>\n      <td>1.856403</td>\n      <td>0.103890</td>\n      <td>0.007949</td>\n    </tr>\n    <tr>\n      <th>std</th>\n      <td>0.482918</td>\n      <td>106.863097</td>\n      <td>0.707476</td>\n      <td>13.605138</td>\n      <td>8.780829</td>\n      <td>0.998613</td>\n      <td>1.908286</td>\n      <td>2.557439</td>\n      <td>0.579261</td>\n      <td>0.398561</td>\n      <td>0.097436</td>\n    </tr>\n    <tr>\n      <th>min</th>\n      <td>0.000000</td>\n      <td>0.000000</td>\n      <td>2015.000000</td>\n      <td>1.000000</td>\n      <td>1.000000</td>\n      <td>0.000000</td>\n      <td>0.000000</td>\n      <td>0.000000</td>\n      <td>0.000000</td>\n      <td>0.000000</td>\n      <td>0.000000</td>\n    </tr>\n    <tr>\n      <th>25%</th>\n      <td>0.000000</td>\n      <td>18.000000</td>\n      <td>2016.000000</td>\n      <td>16.000000</td>\n      <td>8.000000</td>\n      <td>0.000000</td>\n      <td>1.000000</td>\n      <td>2.000000</td>\n      <td>2.000000</td>\n      <td>0.000000</td>\n      <td>0.000000</td>\n    </tr>\n    <tr>\n      <th>50%</th>\n      <td>0.000000</td>\n      <td>69.000000</td>\n      <td>2016.000000</td>\n      <td>28.000000</td>\n      <td>16.000000</td>\n      <td>1.000000</td>\n      <td>2.000000</td>\n      <td>3.000000</td>\n      <td>2.000000</td>\n      <td>0.000000</td>\n      <td>0.000000</td>\n    </tr>\n    <tr>\n      <th>75%</th>\n      <td>1.000000</td>\n      <td>160.000000</td>\n      <td>2017.000000</td>\n      <td>38.000000</td>\n      <td>23.000000</td>\n      <td>2.000000</td>\n      <td>3.000000</td>\n      <td>4.000000</td>\n      <td>2.000000</td>\n      <td>0.000000</td>\n      <td>0.000000</td>\n    </tr>\n    <tr>\n      <th>max</th>\n      <td>1.000000</td>\n      <td>737.000000</td>\n      <td>2017.000000</td>\n      <td>53.000000</td>\n      <td>31.000000</td>\n      <td>19.000000</td>\n      <td>50.000000</td>\n      <td>69.000000</td>\n      <td>55.000000</td>\n      <td>10.000000</td>\n      <td>10.000000</td>\n    </tr>\n  </tbody>\n</table>\n</div>"
     },
     "execution_count": 11,
     "metadata": {},
     "output_type": "execute_result"
    }
   ],
   "source": [
    "bookings.describe()\n",
    "####bookings.describe()"
   ],
   "metadata": {
    "collapsed": false,
    "pycharm": {
     "name": "#%%\n"
    }
   }
  },
  {
   "cell_type": "code",
   "execution_count": 11,
   "outputs": [],
   "source": [],
   "metadata": {
    "collapsed": false,
    "pycharm": {
     "name": "#%%\n"
    }
   }
  },
  {
   "cell_type": "code",
   "execution_count": 12,
   "outputs": [
    {
     "data": {
      "text/plain": "object     10\nint64      10\nfloat64     1\ndtype: int64"
     },
     "execution_count": 12,
     "metadata": {},
     "output_type": "execute_result"
    }
   ],
   "source": [
    "bookings.dtypes.value_counts()\n",
    "#bookings.dtypes.value_counts()"
   ],
   "metadata": {
    "collapsed": false,
    "pycharm": {
     "name": "#%%\n"
    }
   }
  },
  {
   "cell_type": "code",
   "execution_count": 13,
   "outputs": [
    {
     "data": {
      "text/plain": "Index(['hotel', 'is_canceled', 'lead_time', 'arrival_full_date',\n       'arrival_date_year', 'arrival_date_month', 'arrival_date_week_number',\n       'arrival_date_day_of_month', 'stays_in_weekend_nights',\n       'stays_in_week_nights', 'stays_total_nights', 'adults', 'children',\n       'babies', 'meal', 'country', 'reserved_room_type', 'assigned_room_type',\n       'customer_type', 'reservation_status', 'reservation_status_date'],\n      dtype='object')"
     },
     "execution_count": 13,
     "metadata": {},
     "output_type": "execute_result"
    }
   ],
   "source": [
    "bookings.columns"
   ],
   "metadata": {
    "collapsed": false,
    "pycharm": {
     "name": "#%%\n"
    }
   }
  },
  {
   "cell_type": "code",
   "execution_count": 14,
   "outputs": [
    {
     "data": {
      "text/plain": "0    75166\n1    44224\nName: is_canceled, dtype: int64"
     },
     "execution_count": 14,
     "metadata": {},
     "output_type": "execute_result"
    }
   ],
   "source": [
    "bookings.is_canceled.value_counts()"
   ],
   "metadata": {
    "collapsed": false,
    "pycharm": {
     "name": "#%%\n"
    }
   }
  },
  {
   "cell_type": "code",
   "execution_count": 15,
   "outputs": [
    {
     "data": {
      "text/plain": "PRT    21071\nGBR     9676\nFRA     8481\nESP     6391\nDEU     6069\nName: country, dtype: int64"
     },
     "execution_count": 15,
     "metadata": {},
     "output_type": "execute_result"
    }
   ],
   "source": [
    "bookings.query('is_canceled == 0') \\\n",
    "        .country \\\n",
    "        .value_counts()[:5]\n",
    "\n"
   ],
   "metadata": {
    "collapsed": false,
    "pycharm": {
     "name": "#%%\n"
    }
   }
  },
  {
   "cell_type": "markdown",
   "source": [],
   "metadata": {
    "collapsed": false,
    "pycharm": {
     "name": "#%% md\n"
    }
   }
  },
  {
   "cell_type": "code",
   "execution_count": 16,
   "outputs": [
    {
     "data": {
      "text/plain": "              stays_total_nights\nhotel                           \nCity Hotel                  2.98\nResort Hotel                4.32",
      "text/html": "<div>\n<style scoped>\n    .dataframe tbody tr th:only-of-type {\n        vertical-align: middle;\n    }\n\n    .dataframe tbody tr th {\n        vertical-align: top;\n    }\n\n    .dataframe thead th {\n        text-align: right;\n    }\n</style>\n<table border=\"1\" class=\"dataframe\">\n  <thead>\n    <tr style=\"text-align: right;\">\n      <th></th>\n      <th>stays_total_nights</th>\n    </tr>\n    <tr>\n      <th>hotel</th>\n      <th></th>\n    </tr>\n  </thead>\n  <tbody>\n    <tr>\n      <th>City Hotel</th>\n      <td>2.98</td>\n    </tr>\n    <tr>\n      <th>Resort Hotel</th>\n      <td>4.32</td>\n    </tr>\n  </tbody>\n</table>\n</div>"
     },
     "execution_count": 16,
     "metadata": {},
     "output_type": "execute_result"
    }
   ],
   "source": [
    "bookings.groupby('hotel') \\\n",
    "        .agg({'stays_total_nights': 'mean'}) \\\n",
    "        .round(2)"
   ],
   "metadata": {
    "collapsed": false,
    "pycharm": {
     "name": "#%%\n"
    }
   }
  },
  {
   "cell_type": "code",
   "execution_count": 17,
   "outputs": [
    {
     "data": {
      "text/plain": "hotel                         object\nis_canceled                    int64\nlead_time                      int64\narrival_full_date             object\narrival_date_year              int64\narrival_date_month            object\narrival_date_week_number       int64\narrival_date_day_of_month      int64\nstays_in_weekend_nights        int64\nstays_in_week_nights           int64\nstays_total_nights             int64\nadults                         int64\nchildren                     float64\nbabies                         int64\nmeal                          object\ncountry                       object\nreserved_room_type            object\nassigned_room_type            object\ncustomer_type                 object\nreservation_status            object\nreservation_status_date       object\ndtype: object"
     },
     "execution_count": 17,
     "metadata": {},
     "output_type": "execute_result"
    }
   ],
   "source": [
    "bookings.dtypes"
   ],
   "metadata": {
    "collapsed": false,
    "pycharm": {
     "name": "#%%\n"
    }
   }
  },
  {
   "cell_type": "code",
   "execution_count": 18,
   "outputs": [
    {
     "data": {
      "text/plain": "       reserved_room_type assigned_room_type\n0                       C                  C\n1                       C                  C\n2                       A                  C\n3                       A                  A\n4                       A                  A\n...                   ...                ...\n119385                  A                  A\n119386                  E                  E\n119387                  D                  D\n119388                  A                  A\n119389                  A                  A\n\n[119390 rows x 2 columns]",
      "text/html": "<div>\n<style scoped>\n    .dataframe tbody tr th:only-of-type {\n        vertical-align: middle;\n    }\n\n    .dataframe tbody tr th {\n        vertical-align: top;\n    }\n\n    .dataframe thead th {\n        text-align: right;\n    }\n</style>\n<table border=\"1\" class=\"dataframe\">\n  <thead>\n    <tr style=\"text-align: right;\">\n      <th></th>\n      <th>reserved_room_type</th>\n      <th>assigned_room_type</th>\n    </tr>\n  </thead>\n  <tbody>\n    <tr>\n      <th>0</th>\n      <td>C</td>\n      <td>C</td>\n    </tr>\n    <tr>\n      <th>1</th>\n      <td>C</td>\n      <td>C</td>\n    </tr>\n    <tr>\n      <th>2</th>\n      <td>A</td>\n      <td>C</td>\n    </tr>\n    <tr>\n      <th>3</th>\n      <td>A</td>\n      <td>A</td>\n    </tr>\n    <tr>\n      <th>4</th>\n      <td>A</td>\n      <td>A</td>\n    </tr>\n    <tr>\n      <th>...</th>\n      <td>...</td>\n      <td>...</td>\n    </tr>\n    <tr>\n      <th>119385</th>\n      <td>A</td>\n      <td>A</td>\n    </tr>\n    <tr>\n      <th>119386</th>\n      <td>E</td>\n      <td>E</td>\n    </tr>\n    <tr>\n      <th>119387</th>\n      <td>D</td>\n      <td>D</td>\n    </tr>\n    <tr>\n      <th>119388</th>\n      <td>A</td>\n      <td>A</td>\n    </tr>\n    <tr>\n      <th>119389</th>\n      <td>A</td>\n      <td>A</td>\n    </tr>\n  </tbody>\n</table>\n<p>119390 rows × 2 columns</p>\n</div>"
     },
     "execution_count": 18,
     "metadata": {},
     "output_type": "execute_result"
    }
   ],
   "source": [
    "bookings[['reserved_room_type','assigned_room_type']]"
   ],
   "metadata": {
    "collapsed": false,
    "pycharm": {
     "name": "#%%\n"
    }
   }
  },
  {
   "cell_type": "code",
   "execution_count": 23,
   "outputs": [
    {
     "data": {
      "text/plain": "               hotel  is_canceled  lead_time arrival_full_date  \\\n2       Resort Hotel            0          7        2015-07-01   \n12      Resort Hotel            0         68        2015-07-01   \n15      Resort Hotel            0         68        2015-07-01   \n17      Resort Hotel            0         12        2015-07-01   \n18      Resort Hotel            0          0        2015-07-01   \n...              ...          ...        ...               ...   \n119273    City Hotel            0        213        2017-08-28   \n119274    City Hotel            0        213        2017-08-28   \n119289    City Hotel            0         25        2017-08-30   \n119297    City Hotel            0        332        2017-08-31   \n119357    City Hotel            0         47        2017-08-31   \n\n        arrival_date_year arrival_date_month  arrival_date_week_number  \\\n2                    2015               July                        27   \n12                   2015               July                        27   \n15                   2015               July                        27   \n17                   2015               July                        27   \n18                   2015               July                        27   \n...                   ...                ...                       ...   \n119273               2017             August                        35   \n119274               2017             August                        35   \n119289               2017             August                        35   \n119297               2017             August                        35   \n119357               2017             August                        35   \n\n        arrival_date_day_of_month  stays_in_weekend_nights  \\\n2                               1                        0   \n12                              1                        0   \n15                              1                        0   \n17                              1                        0   \n18                              1                        0   \n...                           ...                      ...   \n119273                         28                        1   \n119274                         28                        1   \n119289                         30                        0   \n119297                         31                        0   \n119357                         31                        1   \n\n        stays_in_week_nights  ...  adults  children  babies  meal country  \\\n2                          1  ...       1       0.0       0    BB     GBR   \n12                         4  ...       2       0.0       0    BB     USA   \n15                         4  ...       2       0.0       0    BB     IRL   \n17                         1  ...       2       0.0       0    BB     IRL   \n18                         1  ...       2       0.0       0    BB     FRA   \n...                      ...  ...     ...       ...     ...   ...     ...   \n119273                     3  ...       1       0.0       0    HB     PRT   \n119274                     3  ...       1       0.0       0    HB     PRT   \n119289                     3  ...       3       0.0       0    BB     ITA   \n119297                     2  ...       2       0.0       0    BB     GBR   \n119357                     3  ...       1       0.0       0    SC     PRT   \n\n       reserved_room_type assigned_room_type    customer_type  \\\n2                       A                  C        Transient   \n12                      D                  E        Transient   \n15                      D                  E        Transient   \n17                      A                  E        Transient   \n18                      A                  G        Transient   \n...                   ...                ...              ...   \n119273                  A                  K  Transient-Party   \n119274                  A                  K  Transient-Party   \n119289                  E                  F        Transient   \n119297                  D                  F        Transient   \n119357                  A                  D        Transient   \n\n       reservation_status reservation_status_date  \n2               Check-Out              2015-07-02  \n12              Check-Out              2015-07-05  \n15              Check-Out              2015-07-05  \n17              Check-Out              2015-07-02  \n18              Check-Out              2015-07-02  \n...                   ...                     ...  \n119273          Check-Out              2017-09-01  \n119274          Check-Out              2017-09-01  \n119289          Check-Out              2017-09-02  \n119297          Check-Out              2017-09-02  \n119357          Check-Out              2017-09-04  \n\n[14917 rows x 21 columns]",
      "text/html": "<div>\n<style scoped>\n    .dataframe tbody tr th:only-of-type {\n        vertical-align: middle;\n    }\n\n    .dataframe tbody tr th {\n        vertical-align: top;\n    }\n\n    .dataframe thead th {\n        text-align: right;\n    }\n</style>\n<table border=\"1\" class=\"dataframe\">\n  <thead>\n    <tr style=\"text-align: right;\">\n      <th></th>\n      <th>hotel</th>\n      <th>is_canceled</th>\n      <th>lead_time</th>\n      <th>arrival_full_date</th>\n      <th>arrival_date_year</th>\n      <th>arrival_date_month</th>\n      <th>arrival_date_week_number</th>\n      <th>arrival_date_day_of_month</th>\n      <th>stays_in_weekend_nights</th>\n      <th>stays_in_week_nights</th>\n      <th>...</th>\n      <th>adults</th>\n      <th>children</th>\n      <th>babies</th>\n      <th>meal</th>\n      <th>country</th>\n      <th>reserved_room_type</th>\n      <th>assigned_room_type</th>\n      <th>customer_type</th>\n      <th>reservation_status</th>\n      <th>reservation_status_date</th>\n    </tr>\n  </thead>\n  <tbody>\n    <tr>\n      <th>2</th>\n      <td>Resort Hotel</td>\n      <td>0</td>\n      <td>7</td>\n      <td>2015-07-01</td>\n      <td>2015</td>\n      <td>July</td>\n      <td>27</td>\n      <td>1</td>\n      <td>0</td>\n      <td>1</td>\n      <td>...</td>\n      <td>1</td>\n      <td>0.0</td>\n      <td>0</td>\n      <td>BB</td>\n      <td>GBR</td>\n      <td>A</td>\n      <td>C</td>\n      <td>Transient</td>\n      <td>Check-Out</td>\n      <td>2015-07-02</td>\n    </tr>\n    <tr>\n      <th>12</th>\n      <td>Resort Hotel</td>\n      <td>0</td>\n      <td>68</td>\n      <td>2015-07-01</td>\n      <td>2015</td>\n      <td>July</td>\n      <td>27</td>\n      <td>1</td>\n      <td>0</td>\n      <td>4</td>\n      <td>...</td>\n      <td>2</td>\n      <td>0.0</td>\n      <td>0</td>\n      <td>BB</td>\n      <td>USA</td>\n      <td>D</td>\n      <td>E</td>\n      <td>Transient</td>\n      <td>Check-Out</td>\n      <td>2015-07-05</td>\n    </tr>\n    <tr>\n      <th>15</th>\n      <td>Resort Hotel</td>\n      <td>0</td>\n      <td>68</td>\n      <td>2015-07-01</td>\n      <td>2015</td>\n      <td>July</td>\n      <td>27</td>\n      <td>1</td>\n      <td>0</td>\n      <td>4</td>\n      <td>...</td>\n      <td>2</td>\n      <td>0.0</td>\n      <td>0</td>\n      <td>BB</td>\n      <td>IRL</td>\n      <td>D</td>\n      <td>E</td>\n      <td>Transient</td>\n      <td>Check-Out</td>\n      <td>2015-07-05</td>\n    </tr>\n    <tr>\n      <th>17</th>\n      <td>Resort Hotel</td>\n      <td>0</td>\n      <td>12</td>\n      <td>2015-07-01</td>\n      <td>2015</td>\n      <td>July</td>\n      <td>27</td>\n      <td>1</td>\n      <td>0</td>\n      <td>1</td>\n      <td>...</td>\n      <td>2</td>\n      <td>0.0</td>\n      <td>0</td>\n      <td>BB</td>\n      <td>IRL</td>\n      <td>A</td>\n      <td>E</td>\n      <td>Transient</td>\n      <td>Check-Out</td>\n      <td>2015-07-02</td>\n    </tr>\n    <tr>\n      <th>18</th>\n      <td>Resort Hotel</td>\n      <td>0</td>\n      <td>0</td>\n      <td>2015-07-01</td>\n      <td>2015</td>\n      <td>July</td>\n      <td>27</td>\n      <td>1</td>\n      <td>0</td>\n      <td>1</td>\n      <td>...</td>\n      <td>2</td>\n      <td>0.0</td>\n      <td>0</td>\n      <td>BB</td>\n      <td>FRA</td>\n      <td>A</td>\n      <td>G</td>\n      <td>Transient</td>\n      <td>Check-Out</td>\n      <td>2015-07-02</td>\n    </tr>\n    <tr>\n      <th>...</th>\n      <td>...</td>\n      <td>...</td>\n      <td>...</td>\n      <td>...</td>\n      <td>...</td>\n      <td>...</td>\n      <td>...</td>\n      <td>...</td>\n      <td>...</td>\n      <td>...</td>\n      <td>...</td>\n      <td>...</td>\n      <td>...</td>\n      <td>...</td>\n      <td>...</td>\n      <td>...</td>\n      <td>...</td>\n      <td>...</td>\n      <td>...</td>\n      <td>...</td>\n      <td>...</td>\n    </tr>\n    <tr>\n      <th>119273</th>\n      <td>City Hotel</td>\n      <td>0</td>\n      <td>213</td>\n      <td>2017-08-28</td>\n      <td>2017</td>\n      <td>August</td>\n      <td>35</td>\n      <td>28</td>\n      <td>1</td>\n      <td>3</td>\n      <td>...</td>\n      <td>1</td>\n      <td>0.0</td>\n      <td>0</td>\n      <td>HB</td>\n      <td>PRT</td>\n      <td>A</td>\n      <td>K</td>\n      <td>Transient-Party</td>\n      <td>Check-Out</td>\n      <td>2017-09-01</td>\n    </tr>\n    <tr>\n      <th>119274</th>\n      <td>City Hotel</td>\n      <td>0</td>\n      <td>213</td>\n      <td>2017-08-28</td>\n      <td>2017</td>\n      <td>August</td>\n      <td>35</td>\n      <td>28</td>\n      <td>1</td>\n      <td>3</td>\n      <td>...</td>\n      <td>1</td>\n      <td>0.0</td>\n      <td>0</td>\n      <td>HB</td>\n      <td>PRT</td>\n      <td>A</td>\n      <td>K</td>\n      <td>Transient-Party</td>\n      <td>Check-Out</td>\n      <td>2017-09-01</td>\n    </tr>\n    <tr>\n      <th>119289</th>\n      <td>City Hotel</td>\n      <td>0</td>\n      <td>25</td>\n      <td>2017-08-30</td>\n      <td>2017</td>\n      <td>August</td>\n      <td>35</td>\n      <td>30</td>\n      <td>0</td>\n      <td>3</td>\n      <td>...</td>\n      <td>3</td>\n      <td>0.0</td>\n      <td>0</td>\n      <td>BB</td>\n      <td>ITA</td>\n      <td>E</td>\n      <td>F</td>\n      <td>Transient</td>\n      <td>Check-Out</td>\n      <td>2017-09-02</td>\n    </tr>\n    <tr>\n      <th>119297</th>\n      <td>City Hotel</td>\n      <td>0</td>\n      <td>332</td>\n      <td>2017-08-31</td>\n      <td>2017</td>\n      <td>August</td>\n      <td>35</td>\n      <td>31</td>\n      <td>0</td>\n      <td>2</td>\n      <td>...</td>\n      <td>2</td>\n      <td>0.0</td>\n      <td>0</td>\n      <td>BB</td>\n      <td>GBR</td>\n      <td>D</td>\n      <td>F</td>\n      <td>Transient</td>\n      <td>Check-Out</td>\n      <td>2017-09-02</td>\n    </tr>\n    <tr>\n      <th>119357</th>\n      <td>City Hotel</td>\n      <td>0</td>\n      <td>47</td>\n      <td>2017-08-31</td>\n      <td>2017</td>\n      <td>August</td>\n      <td>35</td>\n      <td>31</td>\n      <td>1</td>\n      <td>3</td>\n      <td>...</td>\n      <td>1</td>\n      <td>0.0</td>\n      <td>0</td>\n      <td>SC</td>\n      <td>PRT</td>\n      <td>A</td>\n      <td>D</td>\n      <td>Transient</td>\n      <td>Check-Out</td>\n      <td>2017-09-04</td>\n    </tr>\n  </tbody>\n</table>\n<p>14917 rows × 21 columns</p>\n</div>"
     },
     "execution_count": 23,
     "metadata": {},
     "output_type": "execute_result"
    }
   ],
   "source": [
    "bookings.query('reserved_room_type != assigned_room_type' )\n",
    "#bookings.query('reserved_room_type != assigned_room_type' )"
   ],
   "metadata": {
    "collapsed": false,
    "pycharm": {
     "name": "#%%\n"
    }
   }
  },
  {
   "cell_type": "code",
   "execution_count": 24,
   "outputs": [
    {
     "data": {
      "text/plain": "October      6203\nMay          5478\nApril        5428\nSeptember    5394\nJune         5292\nAugust       5063\nMarch        4824\nJuly         4572\nNovember     4454\nFebruary     3891\nDecember     3860\nJanuary      2248\nName: arrival_date_month, dtype: int64"
     },
     "execution_count": 24,
     "metadata": {},
     "output_type": "execute_result"
    }
   ],
   "source": [
    "bookings.query('arrival_date_year == 2016')\\\n",
    "        .arrival_date_month\\\n",
    "        .value_counts()"
   ],
   "metadata": {
    "collapsed": false,
    "pycharm": {
     "name": "#%%\n"
    }
   }
  },
  {
   "cell_type": "code",
   "execution_count": 21,
   "outputs": [
    {
     "data": {
      "text/plain": "May         6313\nApril       5661\nJune        5647\nJuly        5313\nMarch       4970\nAugust      4925\nFebruary    4177\nJanuary     3681\nName: arrival_date_month, dtype: int64"
     },
     "execution_count": 21,
     "metadata": {},
     "output_type": "execute_result"
    }
   ],
   "source": [
    "bookings.query('arrival_date_year == 2017')\\\n",
    "        .arrival_date_month\\\n",
    "        .value_counts()"
   ],
   "metadata": {
    "collapsed": false,
    "pycharm": {
     "name": "#%%\n"
    }
   }
  },
  {
   "cell_type": "code",
   "execution_count": 22,
   "outputs": [
    {
     "ename": "SyntaxError",
     "evalue": "invalid syntax (3514983004.py, line 1)",
     "output_type": "error",
     "traceback": [
      "\u001B[1;36m  Input \u001B[1;32mIn [22]\u001B[1;36m\u001B[0m\n\u001B[1;33m    bookings.query('zip\"')kk\u001B[0m\n\u001B[1;37m                          ^\u001B[0m\n\u001B[1;31mSyntaxError\u001B[0m\u001B[1;31m:\u001B[0m invalid syntax\n"
     ]
    }
   ],
   "source": [
    "bookings.query('zip\"')"
   ],
   "metadata": {
    "collapsed": false,
    "pycharm": {
     "name": "#%%\n"
    }
   }
  },
  {
   "cell_type": "code",
   "execution_count": 25,
   "outputs": [
    {
     "data": {
      "text/plain": "0         0\n1         0\n2         0\n3         0\n4         0\n         ..\n119385    0\n119386    0\n119387    0\n119388    0\n119389    0\nName: is_canceled, Length: 119390, dtype: int64"
     },
     "execution_count": 25,
     "metadata": {},
     "output_type": "execute_result"
    }
   ],
   "source": [
    "bookings.is_canceled"
   ],
   "metadata": {
    "collapsed": false,
    "pycharm": {
     "name": "#%%\n"
    }
   }
  },
  {
   "cell_type": "code",
   "execution_count": null,
   "outputs": [],
   "source": [],
   "metadata": {
    "collapsed": false,
    "pycharm": {
     "name": "#%%\n"
    }
   }
  }
 ],
 "metadata": {
  "kernelspec": {
   "display_name": "Python 3 (ipykernel)",
   "language": "python",
   "name": "python3"
  },
  "language_info": {
   "codemirror_mode": {
    "name": "ipython",
    "version": 3
   },
   "file_extension": ".py",
   "mimetype": "text/x-python",
   "name": "python",
   "nbconvert_exporter": "python",
   "pygments_lexer": "ipython3",
   "version": "3.9.12"
  }
 },
 "nbformat": 4,
 "nbformat_minor": 5
}