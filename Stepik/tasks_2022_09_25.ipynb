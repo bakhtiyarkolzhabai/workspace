{
 "cells": [
  {
   "cell_type": "code",
   "execution_count": 1,
   "metadata": {
    "collapsed": true
   },
   "outputs": [],
   "source": [
    "import pandas as pd\n",
    "import seaborn as sns\n",
    "import numpy as np\n",
    "\n",
    "import matplotlib.pyplot as plt\n",
    "\n",
    "%matplotlib inline"
   ]
  },
  {
   "cell_type": "code",
   "execution_count": 2,
   "outputs": [],
   "source": [
    "# Func for directory\n",
    "def file_path(path):\n",
    "    directory=pd.read_csv(path,encoding='windows-1251')\n",
    "    return directory"
   ],
   "metadata": {
    "collapsed": false
   }
  },
  {
   "cell_type": "markdown",
   "source": [
    "''' Task 1'''"
   ],
   "metadata": {
    "collapsed": false
   }
  },
  {
   "cell_type": "code",
   "execution_count": 3,
   "outputs": [
    {
     "data": {
      "text/plain": "      client  premium  age\n0      46346    False   58\n1       4391    False   55\n2      27372    False   64\n3      11989    False   44\n4      60664    False   49\n...      ...      ...  ...\n2949   19411    False   29\n2950   61579    False   50\n2951   61221     True   64\n2952   29863    False   46\n2953   78499    False   36\n\n[2954 rows x 3 columns]",
      "text/html": "<div>\n<style scoped>\n    .dataframe tbody tr th:only-of-type {\n        vertical-align: middle;\n    }\n\n    .dataframe tbody tr th {\n        vertical-align: top;\n    }\n\n    .dataframe thead th {\n        text-align: right;\n    }\n</style>\n<table border=\"1\" class=\"dataframe\">\n  <thead>\n    <tr style=\"text-align: right;\">\n      <th></th>\n      <th>client</th>\n      <th>premium</th>\n      <th>age</th>\n    </tr>\n  </thead>\n  <tbody>\n    <tr>\n      <th>0</th>\n      <td>46346</td>\n      <td>False</td>\n      <td>58</td>\n    </tr>\n    <tr>\n      <th>1</th>\n      <td>4391</td>\n      <td>False</td>\n      <td>55</td>\n    </tr>\n    <tr>\n      <th>2</th>\n      <td>27372</td>\n      <td>False</td>\n      <td>64</td>\n    </tr>\n    <tr>\n      <th>3</th>\n      <td>11989</td>\n      <td>False</td>\n      <td>44</td>\n    </tr>\n    <tr>\n      <th>4</th>\n      <td>60664</td>\n      <td>False</td>\n      <td>49</td>\n    </tr>\n    <tr>\n      <th>...</th>\n      <td>...</td>\n      <td>...</td>\n      <td>...</td>\n    </tr>\n    <tr>\n      <th>2949</th>\n      <td>19411</td>\n      <td>False</td>\n      <td>29</td>\n    </tr>\n    <tr>\n      <th>2950</th>\n      <td>61579</td>\n      <td>False</td>\n      <td>50</td>\n    </tr>\n    <tr>\n      <th>2951</th>\n      <td>61221</td>\n      <td>True</td>\n      <td>64</td>\n    </tr>\n    <tr>\n      <th>2952</th>\n      <td>29863</td>\n      <td>False</td>\n      <td>46</td>\n    </tr>\n    <tr>\n      <th>2953</th>\n      <td>78499</td>\n      <td>False</td>\n      <td>36</td>\n    </tr>\n  </tbody>\n</table>\n<p>2954 rows × 3 columns</p>\n</div>"
     },
     "execution_count": 3,
     "metadata": {},
     "output_type": "execute_result"
    }
   ],
   "source": [
    "user_data=file_path(\"https://stepik.org/media/attachments/lesson/360348/user_data.csv\")\n",
    "user_data"
   ],
   "metadata": {
    "collapsed": false
   }
  },
  {
   "cell_type": "code",
   "execution_count": 4,
   "outputs": [
    {
     "data": {
      "text/plain": "      client  success  platform        time\n0      40177     True     phone  1585412212\n1      61468     True     phone  1585425658\n2      35604    False     phone  1585459894\n3       9961     True     phone  1585400189\n4      10931     True  computer  1585468629\n...      ...      ...       ...         ...\n4495   64496    False  computer  1585459072\n4496   73299     True     phone  1585458370\n4497    8967     True     phone  1585465121\n4498   52880    False     phone  1585455362\n4499   40921     True     phone  1585437692\n\n[4500 rows x 4 columns]",
      "text/html": "<div>\n<style scoped>\n    .dataframe tbody tr th:only-of-type {\n        vertical-align: middle;\n    }\n\n    .dataframe tbody tr th {\n        vertical-align: top;\n    }\n\n    .dataframe thead th {\n        text-align: right;\n    }\n</style>\n<table border=\"1\" class=\"dataframe\">\n  <thead>\n    <tr style=\"text-align: right;\">\n      <th></th>\n      <th>client</th>\n      <th>success</th>\n      <th>platform</th>\n      <th>time</th>\n    </tr>\n  </thead>\n  <tbody>\n    <tr>\n      <th>0</th>\n      <td>40177</td>\n      <td>True</td>\n      <td>phone</td>\n      <td>1585412212</td>\n    </tr>\n    <tr>\n      <th>1</th>\n      <td>61468</td>\n      <td>True</td>\n      <td>phone</td>\n      <td>1585425658</td>\n    </tr>\n    <tr>\n      <th>2</th>\n      <td>35604</td>\n      <td>False</td>\n      <td>phone</td>\n      <td>1585459894</td>\n    </tr>\n    <tr>\n      <th>3</th>\n      <td>9961</td>\n      <td>True</td>\n      <td>phone</td>\n      <td>1585400189</td>\n    </tr>\n    <tr>\n      <th>4</th>\n      <td>10931</td>\n      <td>True</td>\n      <td>computer</td>\n      <td>1585468629</td>\n    </tr>\n    <tr>\n      <th>...</th>\n      <td>...</td>\n      <td>...</td>\n      <td>...</td>\n      <td>...</td>\n    </tr>\n    <tr>\n      <th>4495</th>\n      <td>64496</td>\n      <td>False</td>\n      <td>computer</td>\n      <td>1585459072</td>\n    </tr>\n    <tr>\n      <th>4496</th>\n      <td>73299</td>\n      <td>True</td>\n      <td>phone</td>\n      <td>1585458370</td>\n    </tr>\n    <tr>\n      <th>4497</th>\n      <td>8967</td>\n      <td>True</td>\n      <td>phone</td>\n      <td>1585465121</td>\n    </tr>\n    <tr>\n      <th>4498</th>\n      <td>52880</td>\n      <td>False</td>\n      <td>phone</td>\n      <td>1585455362</td>\n    </tr>\n    <tr>\n      <th>4499</th>\n      <td>40921</td>\n      <td>True</td>\n      <td>phone</td>\n      <td>1585437692</td>\n    </tr>\n  </tbody>\n</table>\n<p>4500 rows × 4 columns</p>\n</div>"
     },
     "execution_count": 4,
     "metadata": {},
     "output_type": "execute_result"
    }
   ],
   "source": [
    "logs=file_path(\"https://stepik.org/media/attachments/lesson/360348/logs.csv\")\n",
    "logs"
   ],
   "metadata": {
    "collapsed": false
   }
  },
  {
   "cell_type": "markdown",
   "source": [
    "'''REMEMBER''\n",
    "# Сколько значений\n",
    "logs.success.value_counts()\n",
    "# Сколько уникальных значений\n",
    "logs.platform.nunique()\n",
    "# Пропущенные значения\n",
    "user_data.isna()\n",
    "user.data.isnull()\n",
    "# Конвертация в строку\n",
    "', '.join([str(client) for client in successful_clients])"
   ],
   "metadata": {
    "collapsed": false
   }
  },
  {
   "cell_type": "markdown",
   "source": [
    "# USER_DATA"
   ],
   "metadata": {
    "collapsed": false
   }
  },
  {
   "cell_type": "code",
   "execution_count": 5,
   "outputs": [
    {
     "data": {
      "text/plain": "client     0\npremium    0\nage        0\ndtype: int64"
     },
     "execution_count": 5,
     "metadata": {},
     "output_type": "execute_result"
    }
   ],
   "source": [
    "# USER_DATA\n",
    "user_data.isna().sum()"
   ],
   "metadata": {
    "collapsed": false
   }
  },
  {
   "cell_type": "code",
   "execution_count": 6,
   "outputs": [
    {
     "data": {
      "text/plain": "             client          age\ncount   2954.000000  2954.000000\nmean   50767.886594    44.196005\nstd    28800.505847    14.248336\nmin       40.000000    20.000000\n25%    25639.500000    32.000000\n50%    51569.500000    44.000000\n75%    75963.250000    56.000000\nmax    99973.000000    69.000000",
      "text/html": "<div>\n<style scoped>\n    .dataframe tbody tr th:only-of-type {\n        vertical-align: middle;\n    }\n\n    .dataframe tbody tr th {\n        vertical-align: top;\n    }\n\n    .dataframe thead th {\n        text-align: right;\n    }\n</style>\n<table border=\"1\" class=\"dataframe\">\n  <thead>\n    <tr style=\"text-align: right;\">\n      <th></th>\n      <th>client</th>\n      <th>age</th>\n    </tr>\n  </thead>\n  <tbody>\n    <tr>\n      <th>count</th>\n      <td>2954.000000</td>\n      <td>2954.000000</td>\n    </tr>\n    <tr>\n      <th>mean</th>\n      <td>50767.886594</td>\n      <td>44.196005</td>\n    </tr>\n    <tr>\n      <th>std</th>\n      <td>28800.505847</td>\n      <td>14.248336</td>\n    </tr>\n    <tr>\n      <th>min</th>\n      <td>40.000000</td>\n      <td>20.000000</td>\n    </tr>\n    <tr>\n      <th>25%</th>\n      <td>25639.500000</td>\n      <td>32.000000</td>\n    </tr>\n    <tr>\n      <th>50%</th>\n      <td>51569.500000</td>\n      <td>44.000000</td>\n    </tr>\n    <tr>\n      <th>75%</th>\n      <td>75963.250000</td>\n      <td>56.000000</td>\n    </tr>\n    <tr>\n      <th>max</th>\n      <td>99973.000000</td>\n      <td>69.000000</td>\n    </tr>\n  </tbody>\n</table>\n</div>"
     },
     "execution_count": 6,
     "metadata": {},
     "output_type": "execute_result"
    }
   ],
   "source": [
    "user_data.describe()"
   ],
   "metadata": {
    "collapsed": false
   }
  },
  {
   "cell_type": "code",
   "execution_count": 7,
   "outputs": [
    {
     "data": {
      "text/plain": "client     int64\npremium     bool\nage        int64\ndtype: object"
     },
     "execution_count": 7,
     "metadata": {},
     "output_type": "execute_result"
    }
   ],
   "source": [
    "user_data.dtypes"
   ],
   "metadata": {
    "collapsed": false
   }
  },
  {
   "cell_type": "code",
   "execution_count": 8,
   "outputs": [
    {
     "data": {
      "text/plain": "      client  premium  age  success  platform        time\n0      46346    False   58     True     phone  1585452839\n1       4391    False   55    False     phone  1585409861\n2      27372    False   64    False     phone  1585446018\n3      11989    False   44     True  computer  1585403698\n4      60664    False   49     True     phone  1585406918\n...      ...      ...  ...      ...       ...         ...\n3434   19411    False   29     True     phone  1585400902\n3435   61579    False   50     True     phone  1585436158\n3436   61221     True   64     True     phone  1585440218\n3437   29863    False   46     True    tablet  1585443437\n3438   78499    False   36    False     phone  1585425483\n\n[3439 rows x 6 columns]",
      "text/html": "<div>\n<style scoped>\n    .dataframe tbody tr th:only-of-type {\n        vertical-align: middle;\n    }\n\n    .dataframe tbody tr th {\n        vertical-align: top;\n    }\n\n    .dataframe thead th {\n        text-align: right;\n    }\n</style>\n<table border=\"1\" class=\"dataframe\">\n  <thead>\n    <tr style=\"text-align: right;\">\n      <th></th>\n      <th>client</th>\n      <th>premium</th>\n      <th>age</th>\n      <th>success</th>\n      <th>platform</th>\n      <th>time</th>\n    </tr>\n  </thead>\n  <tbody>\n    <tr>\n      <th>0</th>\n      <td>46346</td>\n      <td>False</td>\n      <td>58</td>\n      <td>True</td>\n      <td>phone</td>\n      <td>1585452839</td>\n    </tr>\n    <tr>\n      <th>1</th>\n      <td>4391</td>\n      <td>False</td>\n      <td>55</td>\n      <td>False</td>\n      <td>phone</td>\n      <td>1585409861</td>\n    </tr>\n    <tr>\n      <th>2</th>\n      <td>27372</td>\n      <td>False</td>\n      <td>64</td>\n      <td>False</td>\n      <td>phone</td>\n      <td>1585446018</td>\n    </tr>\n    <tr>\n      <th>3</th>\n      <td>11989</td>\n      <td>False</td>\n      <td>44</td>\n      <td>True</td>\n      <td>computer</td>\n      <td>1585403698</td>\n    </tr>\n    <tr>\n      <th>4</th>\n      <td>60664</td>\n      <td>False</td>\n      <td>49</td>\n      <td>True</td>\n      <td>phone</td>\n      <td>1585406918</td>\n    </tr>\n    <tr>\n      <th>...</th>\n      <td>...</td>\n      <td>...</td>\n      <td>...</td>\n      <td>...</td>\n      <td>...</td>\n      <td>...</td>\n    </tr>\n    <tr>\n      <th>3434</th>\n      <td>19411</td>\n      <td>False</td>\n      <td>29</td>\n      <td>True</td>\n      <td>phone</td>\n      <td>1585400902</td>\n    </tr>\n    <tr>\n      <th>3435</th>\n      <td>61579</td>\n      <td>False</td>\n      <td>50</td>\n      <td>True</td>\n      <td>phone</td>\n      <td>1585436158</td>\n    </tr>\n    <tr>\n      <th>3436</th>\n      <td>61221</td>\n      <td>True</td>\n      <td>64</td>\n      <td>True</td>\n      <td>phone</td>\n      <td>1585440218</td>\n    </tr>\n    <tr>\n      <th>3437</th>\n      <td>29863</td>\n      <td>False</td>\n      <td>46</td>\n      <td>True</td>\n      <td>tablet</td>\n      <td>1585443437</td>\n    </tr>\n    <tr>\n      <th>3438</th>\n      <td>78499</td>\n      <td>False</td>\n      <td>36</td>\n      <td>False</td>\n      <td>phone</td>\n      <td>1585425483</td>\n    </tr>\n  </tbody>\n</table>\n<p>3439 rows × 6 columns</p>\n</div>"
     },
     "execution_count": 8,
     "metadata": {},
     "output_type": "execute_result"
    }
   ],
   "source": [
    "# JOIN двух датасетов\n",
    "data=user_data.merge(logs, on='client', how='inner')\n",
    "data"
   ],
   "metadata": {
    "collapsed": false
   }
  },
  {
   "cell_type": "code",
   "execution_count": 9,
   "outputs": [
    {
     "data": {
      "text/plain": "'phone'"
     },
     "execution_count": 9,
     "metadata": {},
     "output_type": "execute_result"
    }
   ],
   "source": [
    "# ОТбор по преимум клиентам\n",
    "data.query('premium==True').platform.value_counts().idxmax()"
   ],
   "metadata": {
    "collapsed": false
   }
  },
  {
   "cell_type": "markdown",
   "source": [
    "Визуализируйте распределение возраста клиентов в зависимости от типа клиента (премиум или нет), используя библиотеку seaborn с параметрами цвета по умолчанию. Какой график получится в результате?\n",
    "\n",
    "Используйте датасет, который вы получили на предыдущем шаге."
   ],
   "metadata": {
    "collapsed": false
   }
  },
  {
   "cell_type": "code",
   "execution_count": 10,
   "outputs": [
    {
     "data": {
      "text/plain": "<AxesSubplot:xlabel='age', ylabel='Count'>"
     },
     "execution_count": 10,
     "metadata": {},
     "output_type": "execute_result"
    },
    {
     "data": {
      "text/plain": "<Figure size 432x288 with 1 Axes>",
      "image/png": "[encoded data removed]"
     },
     "metadata": {
      "needs_background": "light"
     },
     "output_type": "display_data"
    }
   ],
   "source": [
    "# CHART\n",
    "sns.histplot(data.query('premium==False').age, kde=True, color='green')\n",
    "sns.histplot(data.query('premium==True').age, kde=True)"
   ],
   "metadata": {
    "collapsed": false
   }
  },
  {
   "cell_type": "code",
   "execution_count": 11,
   "outputs": [
    {
     "data": {
      "text/plain": "<AxesSubplot:xlabel='age', ylabel='Count'>"
     },
     "execution_count": 11,
     "metadata": {},
     "output_type": "execute_result"
    },
    {
     "data": {
      "text/plain": "<Figure size 432x288 with 2 Axes>",
      "image/png": "[encoded data removed]"
     },
     "metadata": {
      "needs_background": "light"
     },
     "output_type": "display_data"
    }
   ],
   "source": [
    "fif, ax = plt.subplots(nrows=2,ncols=1)\n",
    "sns.histplot(data.query('premium==False').age, kde=True, color='green', ax=ax[0])\n",
    "sns.histplot(data.query('premium==True').age, kde=True, ax=ax[1])"
   ],
   "metadata": {
    "collapsed": false
   }
  },
  {
   "cell_type": "markdown",
   "source": [
    "Постройте график распределения числа успешных операций:\n",
    "\n",
    "x – число успешных операций\n",
    "y – число клиентов, совершивших такое количество успешных операций"
   ],
   "metadata": {
    "collapsed": false
   }
  },
  {
   "cell_type": "code",
   "execution_count": 28,
   "outputs": [
    {
     "data": {
      "text/plain": "        success\nclient         \n40            1\n75            1\n81            1\n132           1\n164           1\n...         ...\n99926         1\n99927         1\n99931         1\n99952         0\n99973         1\n\n[2954 rows x 1 columns]",
      "text/html": "<div>\n<style scoped>\n    .dataframe tbody tr th:only-of-type {\n        vertical-align: middle;\n    }\n\n    .dataframe tbody tr th {\n        vertical-align: top;\n    }\n\n    .dataframe thead th {\n        text-align: right;\n    }\n</style>\n<table border=\"1\" class=\"dataframe\">\n  <thead>\n    <tr style=\"text-align: right;\">\n      <th></th>\n      <th>success</th>\n    </tr>\n    <tr>\n      <th>client</th>\n      <th></th>\n    </tr>\n  </thead>\n  <tbody>\n    <tr>\n      <th>40</th>\n      <td>1</td>\n    </tr>\n    <tr>\n      <th>75</th>\n      <td>1</td>\n    </tr>\n    <tr>\n      <th>81</th>\n      <td>1</td>\n    </tr>\n    <tr>\n      <th>132</th>\n      <td>1</td>\n    </tr>\n    <tr>\n      <th>164</th>\n      <td>1</td>\n    </tr>\n    <tr>\n      <th>...</th>\n      <td>...</td>\n    </tr>\n    <tr>\n      <th>99926</th>\n      <td>1</td>\n    </tr>\n    <tr>\n      <th>99927</th>\n      <td>1</td>\n    </tr>\n    <tr>\n      <th>99931</th>\n      <td>1</td>\n    </tr>\n    <tr>\n      <th>99952</th>\n      <td>0</td>\n    </tr>\n    <tr>\n      <th>99973</th>\n      <td>1</td>\n    </tr>\n  </tbody>\n</table>\n<p>2954 rows × 1 columns</p>\n</div>"
     },
     "execution_count": 28,
     "metadata": {},
     "output_type": "execute_result"
    }
   ],
   "source": [
    "client_vs_success_number=data.groupby('client')\\\n",
    "    .agg({'success': 'sum'})\n",
    "\n",
    "client_vs_success_number"
   ],
   "metadata": {
    "collapsed": false
   }
  },
  {
   "cell_type": "code",
   "execution_count": 35,
   "outputs": [
    {
     "data": {
      "text/plain": "<AxesSubplot:ylabel='Count'>"
     },
     "execution_count": 35,
     "metadata": {},
     "output_type": "execute_result"
    },
    {
     "data": {
      "text/plain": "<Figure size 432x288 with 1 Axes>",
      "image/png": "[encoded data removed]"
     },
     "metadata": {
      "needs_background": "light"
     },
     "output_type": "display_data"
    }
   ],
   "source": [
    "sns.histplot(client_vs_success_number, kde='False')"
   ],
   "metadata": {
    "collapsed": false
   }
  },
  {
   "cell_type": "code",
   "execution_count": 36,
   "outputs": [
    {
     "data": {
      "text/plain": "1     2051\n0      850\n2       42\n41       9\n40       1\n3        1\nName: success, dtype: int64"
     },
     "execution_count": 36,
     "metadata": {},
     "output_type": "execute_result"
    }
   ],
   "source": [
    "client_vs_success_number.success.value_counts()"
   ],
   "metadata": {
    "collapsed": false
   }
  },
  {
   "cell_type": "markdown",
   "source": [
    "Визуализируйте число успешных операций, сделанных на платформе computer, в зависимости от возраста, используя sns.countplot. По оси x – возраст, по оси y – число успешных операций. Если размер графика получается небольшим, можно добавить plt.figure(figsize=(12, 8)) в начало соответствующей ячейки.\n",
    "\n",
    "Полезные ссылки:\n",
    "\n",
    "sns.countplot – документация к типу графика\n",
    "figsize – про размер графиков\n",
    "Вопрос: Клиенты какого возраста совершили наибольшее количество успешных действий?"
   ],
   "metadata": {
    "collapsed": false
   }
  },
  {
   "cell_type": "code",
   "execution_count": 41,
   "outputs": [
    {
     "data": {
      "text/plain": "   client  premium  age  success  platform        time\n0   46346    False   58     True     phone  1585452839\n1    4391    False   55    False     phone  1585409861\n2   27372    False   64    False     phone  1585446018\n3   11989    False   44     True  computer  1585403698\n4   60664    False   49     True     phone  1585406918",
      "text/html": "<div>\n<style scoped>\n    .dataframe tbody tr th:only-of-type {\n        vertical-align: middle;\n    }\n\n    .dataframe tbody tr th {\n        vertical-align: top;\n    }\n\n    .dataframe thead th {\n        text-align: right;\n    }\n</style>\n<table border=\"1\" class=\"dataframe\">\n  <thead>\n    <tr style=\"text-align: right;\">\n      <th></th>\n      <th>client</th>\n      <th>premium</th>\n      <th>age</th>\n      <th>success</th>\n      <th>platform</th>\n      <th>time</th>\n    </tr>\n  </thead>\n  <tbody>\n    <tr>\n      <th>0</th>\n      <td>46346</td>\n      <td>False</td>\n      <td>58</td>\n      <td>True</td>\n      <td>phone</td>\n      <td>1585452839</td>\n    </tr>\n    <tr>\n      <th>1</th>\n      <td>4391</td>\n      <td>False</td>\n      <td>55</td>\n      <td>False</td>\n      <td>phone</td>\n      <td>1585409861</td>\n    </tr>\n    <tr>\n      <th>2</th>\n      <td>27372</td>\n      <td>False</td>\n      <td>64</td>\n      <td>False</td>\n      <td>phone</td>\n      <td>1585446018</td>\n    </tr>\n    <tr>\n      <th>3</th>\n      <td>11989</td>\n      <td>False</td>\n      <td>44</td>\n      <td>True</td>\n      <td>computer</td>\n      <td>1585403698</td>\n    </tr>\n    <tr>\n      <th>4</th>\n      <td>60664</td>\n      <td>False</td>\n      <td>49</td>\n      <td>True</td>\n      <td>phone</td>\n      <td>1585406918</td>\n    </tr>\n  </tbody>\n</table>\n</div>"
     },
     "execution_count": 41,
     "metadata": {},
     "output_type": "execute_result"
    }
   ],
   "source": [
    "data.head()"
   ],
   "metadata": {
    "collapsed": false
   }
  },
  {
   "cell_type": "code",
   "execution_count": 58,
   "outputs": [
    {
     "data": {
      "text/plain": "    age  success\n0    20       11\n1    21       15\n2    22        8\n3    23       15\n4    24       26\n5    25       33\n6    26       14\n7    27       14\n8    28       49\n9    29       17\n10   30        8\n11   31       14\n12   32       27\n13   33       17\n14   34       10\n15   35       19\n16   36       12\n17   37       17\n18   38       13\n19   39       11\n20   40       15\n21   41       10\n22   42       16\n23   43       19\n24   44       18\n25   45       11\n26   46       16\n27   47       16\n28   48       19\n29   49       33\n30   50       13\n31   51       15\n32   52       22\n33   53        5\n34   54       22\n35   55        9\n36   56        6\n37   57       15\n38   58       17\n39   59       20\n40   60       15\n41   61       16\n42   62       18\n43   63       14\n44   64       16\n45   65       23\n46   66        9\n47   67       15\n48   68       26\n49   69       24",
      "text/html": "<div>\n<style scoped>\n    .dataframe tbody tr th:only-of-type {\n        vertical-align: middle;\n    }\n\n    .dataframe tbody tr th {\n        vertical-align: top;\n    }\n\n    .dataframe thead th {\n        text-align: right;\n    }\n</style>\n<table border=\"1\" class=\"dataframe\">\n  <thead>\n    <tr style=\"text-align: right;\">\n      <th></th>\n      <th>age</th>\n      <th>success</th>\n    </tr>\n  </thead>\n  <tbody>\n    <tr>\n      <th>0</th>\n      <td>20</td>\n      <td>11</td>\n    </tr>\n    <tr>\n      <th>1</th>\n      <td>21</td>\n      <td>15</td>\n    </tr>\n    <tr>\n      <th>2</th>\n      <td>22</td>\n      <td>8</td>\n    </tr>\n    <tr>\n      <th>3</th>\n      <td>23</td>\n      <td>15</td>\n    </tr>\n    <tr>\n      <th>4</th>\n      <td>24</td>\n      <td>26</td>\n    </tr>\n    <tr>\n      <th>5</th>\n      <td>25</td>\n      <td>33</td>\n    </tr>\n    <tr>\n      <th>6</th>\n      <td>26</td>\n      <td>14</td>\n    </tr>\n    <tr>\n      <th>7</th>\n      <td>27</td>\n      <td>14</td>\n    </tr>\n    <tr>\n      <th>8</th>\n      <td>28</td>\n      <td>49</td>\n    </tr>\n    <tr>\n      <th>9</th>\n      <td>29</td>\n      <td>17</td>\n    </tr>\n    <tr>\n      <th>10</th>\n      <td>30</td>\n      <td>8</td>\n    </tr>\n    <tr>\n      <th>11</th>\n      <td>31</td>\n      <td>14</td>\n    </tr>\n    <tr>\n      <th>12</th>\n      <td>32</td>\n      <td>27</td>\n    </tr>\n    <tr>\n      <th>13</th>\n      <td>33</td>\n      <td>17</td>\n    </tr>\n    <tr>\n      <th>14</th>\n      <td>34</td>\n      <td>10</td>\n    </tr>\n    <tr>\n      <th>15</th>\n      <td>35</td>\n      <td>19</td>\n    </tr>\n    <tr>\n      <th>16</th>\n      <td>36</td>\n      <td>12</td>\n    </tr>\n    <tr>\n      <th>17</th>\n      <td>37</td>\n      <td>17</td>\n    </tr>\n    <tr>\n      <th>18</th>\n      <td>38</td>\n      <td>13</td>\n    </tr>\n    <tr>\n      <th>19</th>\n      <td>39</td>\n      <td>11</td>\n    </tr>\n    <tr>\n      <th>20</th>\n      <td>40</td>\n      <td>15</td>\n    </tr>\n    <tr>\n      <th>21</th>\n      <td>41</td>\n      <td>10</td>\n    </tr>\n    <tr>\n      <th>22</th>\n      <td>42</td>\n      <td>16</td>\n    </tr>\n    <tr>\n      <th>23</th>\n      <td>43</td>\n      <td>19</td>\n    </tr>\n    <tr>\n      <th>24</th>\n      <td>44</td>\n      <td>18</td>\n    </tr>\n    <tr>\n      <th>25</th>\n      <td>45</td>\n      <td>11</td>\n    </tr>\n    <tr>\n      <th>26</th>\n      <td>46</td>\n      <td>16</td>\n    </tr>\n    <tr>\n      <th>27</th>\n      <td>47</td>\n      <td>16</td>\n    </tr>\n    <tr>\n      <th>28</th>\n      <td>48</td>\n      <td>19</td>\n    </tr>\n    <tr>\n      <th>29</th>\n      <td>49</td>\n      <td>33</td>\n    </tr>\n    <tr>\n      <th>30</th>\n      <td>50</td>\n      <td>13</td>\n    </tr>\n    <tr>\n      <th>31</th>\n      <td>51</td>\n      <td>15</td>\n    </tr>\n    <tr>\n      <th>32</th>\n      <td>52</td>\n      <td>22</td>\n    </tr>\n    <tr>\n      <th>33</th>\n      <td>53</td>\n      <td>5</td>\n    </tr>\n    <tr>\n      <th>34</th>\n      <td>54</td>\n      <td>22</td>\n    </tr>\n    <tr>\n      <th>35</th>\n      <td>55</td>\n      <td>9</td>\n    </tr>\n    <tr>\n      <th>36</th>\n      <td>56</td>\n      <td>6</td>\n    </tr>\n    <tr>\n      <th>37</th>\n      <td>57</td>\n      <td>15</td>\n    </tr>\n    <tr>\n      <th>38</th>\n      <td>58</td>\n      <td>17</td>\n    </tr>\n    <tr>\n      <th>39</th>\n      <td>59</td>\n      <td>20</td>\n    </tr>\n    <tr>\n      <th>40</th>\n      <td>60</td>\n      <td>15</td>\n    </tr>\n    <tr>\n      <th>41</th>\n      <td>61</td>\n      <td>16</td>\n    </tr>\n    <tr>\n      <th>42</th>\n      <td>62</td>\n      <td>18</td>\n    </tr>\n    <tr>\n      <th>43</th>\n      <td>63</td>\n      <td>14</td>\n    </tr>\n    <tr>\n      <th>44</th>\n      <td>64</td>\n      <td>16</td>\n    </tr>\n    <tr>\n      <th>45</th>\n      <td>65</td>\n      <td>23</td>\n    </tr>\n    <tr>\n      <th>46</th>\n      <td>66</td>\n      <td>9</td>\n    </tr>\n    <tr>\n      <th>47</th>\n      <td>67</td>\n      <td>15</td>\n    </tr>\n    <tr>\n      <th>48</th>\n      <td>68</td>\n      <td>26</td>\n    </tr>\n    <tr>\n      <th>49</th>\n      <td>69</td>\n      <td>24</td>\n    </tr>\n  </tbody>\n</table>\n</div>"
     },
     "execution_count": 58,
     "metadata": {},
     "output_type": "execute_result"
    }
   ],
   "source": [
    "# VARIANT 1\n",
    "age_vs_success_number=data.query('platform==\"computer\"')\\\n",
    "    .groupby('age', as_index=False)\\\n",
    "    .agg({'success': 'sum'})\n",
    "age_vs_success_number"
   ],
   "metadata": {
    "collapsed": false
   }
  },
  {
   "cell_type": "code",
   "execution_count": 59,
   "outputs": [
    {
     "data": {
      "text/plain": "<Figure size 864x576 with 1 Axes>",
      "image/png": "[encoded data removed]"
     },
     "metadata": {
      "needs_background": "light"
     },
     "output_type": "display_data"
    }
   ],
   "source": [
    "plt.figure(figsize=(12,8))\n",
    "sns.barplot(x=age_vs_success_number.age, y=age_vs_success_number.success)\n",
    "sns.despine() # убрать часть рамки графика\n",
    "plt.show()"
   ],
   "metadata": {
    "collapsed": false
   }
  },
  {
   "cell_type": "code",
   "execution_count": 61,
   "outputs": [
    {
     "data": {
      "text/plain": "      client  premium  age  success  platform        time\n3      11989    False   44     True  computer  1585403698\n12     32406    False   24     True  computer  1585479382\n14     62404    False   40     True  computer  1585430097\n20     68848    False   35     True  computer  1585440553\n26     49675    False   48     True  computer  1585402108\n...      ...      ...  ...      ...       ...         ...\n3414   93718    False   63     True  computer  1585466349\n3415   13688     True   66     True  computer  1585453923\n3417   68348    False   69     True  computer  1585456739\n3427    9450    False   34     True  computer  1585446079\n3430   61851    False   31     True  computer  1585473042\n\n[843 rows x 6 columns]",
      "text/html": "<div>\n<style scoped>\n    .dataframe tbody tr th:only-of-type {\n        vertical-align: middle;\n    }\n\n    .dataframe tbody tr th {\n        vertical-align: top;\n    }\n\n    .dataframe thead th {\n        text-align: right;\n    }\n</style>\n<table border=\"1\" class=\"dataframe\">\n  <thead>\n    <tr style=\"text-align: right;\">\n      <th></th>\n      <th>client</th>\n      <th>premium</th>\n      <th>age</th>\n      <th>success</th>\n      <th>platform</th>\n      <th>time</th>\n    </tr>\n  </thead>\n  <tbody>\n    <tr>\n      <th>3</th>\n      <td>11989</td>\n      <td>False</td>\n      <td>44</td>\n      <td>True</td>\n      <td>computer</td>\n      <td>1585403698</td>\n    </tr>\n    <tr>\n      <th>12</th>\n      <td>32406</td>\n      <td>False</td>\n      <td>24</td>\n      <td>True</td>\n      <td>computer</td>\n      <td>1585479382</td>\n    </tr>\n    <tr>\n      <th>14</th>\n      <td>62404</td>\n      <td>False</td>\n      <td>40</td>\n      <td>True</td>\n      <td>computer</td>\n      <td>1585430097</td>\n    </tr>\n    <tr>\n      <th>20</th>\n      <td>68848</td>\n      <td>False</td>\n      <td>35</td>\n      <td>True</td>\n      <td>computer</td>\n      <td>1585440553</td>\n    </tr>\n    <tr>\n      <th>26</th>\n      <td>49675</td>\n      <td>False</td>\n      <td>48</td>\n      <td>True</td>\n      <td>computer</td>\n      <td>1585402108</td>\n    </tr>\n    <tr>\n      <th>...</th>\n      <td>...</td>\n      <td>...</td>\n      <td>...</td>\n      <td>...</td>\n      <td>...</td>\n      <td>...</td>\n    </tr>\n    <tr>\n      <th>3414</th>\n      <td>93718</td>\n      <td>False</td>\n      <td>63</td>\n      <td>True</td>\n      <td>computer</td>\n      <td>1585466349</td>\n    </tr>\n    <tr>\n      <th>3415</th>\n      <td>13688</td>\n      <td>True</td>\n      <td>66</td>\n      <td>True</td>\n      <td>computer</td>\n      <td>1585453923</td>\n    </tr>\n    <tr>\n      <th>3417</th>\n      <td>68348</td>\n      <td>False</td>\n      <td>69</td>\n      <td>True</td>\n      <td>computer</td>\n      <td>1585456739</td>\n    </tr>\n    <tr>\n      <th>3427</th>\n      <td>9450</td>\n      <td>False</td>\n      <td>34</td>\n      <td>True</td>\n      <td>computer</td>\n      <td>1585446079</td>\n    </tr>\n    <tr>\n      <th>3430</th>\n      <td>61851</td>\n      <td>False</td>\n      <td>31</td>\n      <td>True</td>\n      <td>computer</td>\n      <td>1585473042</td>\n    </tr>\n  </tbody>\n</table>\n<p>843 rows × 6 columns</p>\n</div>"
     },
     "execution_count": 61,
     "metadata": {},
     "output_type": "execute_result"
    }
   ],
   "source": [
    "# VARIANT 2\n",
    "age_vs_success_number_2=data.query('platform==\"computer\" and success==True')\n",
    "age_vs_success_number_2"
   ],
   "metadata": {
    "collapsed": false
   }
  },
  {
   "cell_type": "code",
   "execution_count": 66,
   "outputs": [
    {
     "name": "stderr",
     "output_type": "stream",
     "text": [
      "C:\\Users\\bakhtiyar kolzhabai\\anaconda3\\lib\\site-packages\\seaborn\\_decorators.py:36: FutureWarning: Pass the following variable as a keyword arg: x. From version 0.12, the only valid positional argument will be `data`, and passing other arguments without an explicit keyword will result in an error or misinterpretation.\n",
      "  warnings.warn(\n"
     ]
    },
    {
     "data": {
      "text/plain": "<AxesSubplot:xlabel='age', ylabel='count'>"
     },
     "execution_count": 66,
     "metadata": {},
     "output_type": "execute_result"
    },
    {
     "data": {
      "text/plain": "<Figure size 864x576 with 1 Axes>",
      "image/png": "[encoded data removed]"
     },
     "metadata": {
      "needs_background": "light"
     },
     "output_type": "display_data"
    }
   ],
   "source": [
    "plt.figure(figsize=(12,8))\n",
    "sns.countplot(age_vs_success_number_2.age)"
   ],
   "metadata": {
    "collapsed": false
   }
  },
  {
   "cell_type": "code",
   "execution_count": null,
   "outputs": [],
   "source": [],
   "metadata": {
    "collapsed": false
   }
  },
  {
   "cell_type": "code",
   "execution_count": null,
   "outputs": [],
   "source": [],
   "metadata": {
    "collapsed": false
   }
  },
  {
   "cell_type": "code",
   "execution_count": null,
   "outputs": [],
   "source": [],
   "metadata": {
    "collapsed": false
   }
  },
  {
   "cell_type": "code",
   "execution_count": null,
   "outputs": [],
   "source": [],
   "metadata": {
    "collapsed": false
   }
  },
  {
   "cell_type": "code",
   "execution_count": null,
   "outputs": [],
   "source": [],
   "metadata": {
    "collapsed": false
   }
  },
  {
   "cell_type": "code",
   "execution_count": null,
   "outputs": [],
   "source": [],
   "metadata": {
    "collapsed": false
   }
  },
  {
   "cell_type": "markdown",
   "source": [
    "# LOGS"
   ],
   "metadata": {
    "collapsed": false
   }
  },
  {
   "cell_type": "code",
   "execution_count": 13,
   "outputs": [
    {
     "data": {
      "text/plain": "3"
     },
     "execution_count": 13,
     "metadata": {},
     "output_type": "execute_result"
    }
   ],
   "source": [
    "# LOGS\n",
    "logs.platform.nunique()"
   ],
   "metadata": {
    "collapsed": false
   }
  },
  {
   "cell_type": "code",
   "execution_count": 14,
   "outputs": [
    {
     "data": {
      "text/plain": "client      0\nsuccess     0\nplatform    0\ntime        0\ndtype: int64"
     },
     "execution_count": 14,
     "metadata": {},
     "output_type": "execute_result"
    }
   ],
   "source": [
    "logs.isna().sum()"
   ],
   "metadata": {
    "collapsed": false
   }
  },
  {
   "cell_type": "code",
   "execution_count": 15,
   "outputs": [
    {
     "data": {
      "text/plain": "             client          time\ncount   4500.000000  4.500000e+03\nmean   50998.758000  1.585440e+09\nstd    28374.472495  2.314866e+04\nmin       40.000000  1.585400e+09\n25%    27056.500000  1.585420e+09\n50%    52659.000000  1.585440e+09\n75%    76001.250000  1.585461e+09\nmax    99993.000000  1.585480e+09",
      "text/html": "<div>\n<style scoped>\n    .dataframe tbody tr th:only-of-type {\n        vertical-align: middle;\n    }\n\n    .dataframe tbody tr th {\n        vertical-align: top;\n    }\n\n    .dataframe thead th {\n        text-align: right;\n    }\n</style>\n<table border=\"1\" class=\"dataframe\">\n  <thead>\n    <tr style=\"text-align: right;\">\n      <th></th>\n      <th>client</th>\n      <th>time</th>\n    </tr>\n  </thead>\n  <tbody>\n    <tr>\n      <th>count</th>\n      <td>4500.000000</td>\n      <td>4.500000e+03</td>\n    </tr>\n    <tr>\n      <th>mean</th>\n      <td>50998.758000</td>\n      <td>1.585440e+09</td>\n    </tr>\n    <tr>\n      <th>std</th>\n      <td>28374.472495</td>\n      <td>2.314866e+04</td>\n    </tr>\n    <tr>\n      <th>min</th>\n      <td>40.000000</td>\n      <td>1.585400e+09</td>\n    </tr>\n    <tr>\n      <th>25%</th>\n      <td>27056.500000</td>\n      <td>1.585420e+09</td>\n    </tr>\n    <tr>\n      <th>50%</th>\n      <td>52659.000000</td>\n      <td>1.585440e+09</td>\n    </tr>\n    <tr>\n      <th>75%</th>\n      <td>76001.250000</td>\n      <td>1.585461e+09</td>\n    </tr>\n    <tr>\n      <th>max</th>\n      <td>99993.000000</td>\n      <td>1.585480e+09</td>\n    </tr>\n  </tbody>\n</table>\n</div>"
     },
     "execution_count": 15,
     "metadata": {},
     "output_type": "execute_result"
    }
   ],
   "source": [
    "logs.describe()"
   ],
   "metadata": {
    "collapsed": false
   }
  },
  {
   "cell_type": "code",
   "execution_count": 16,
   "outputs": [
    {
     "data": {
      "text/plain": "client       int64\nsuccess       bool\nplatform    object\ntime         int64\ndtype: object"
     },
     "execution_count": 16,
     "metadata": {},
     "output_type": "execute_result"
    }
   ],
   "source": [
    "logs.dtypes"
   ],
   "metadata": {
    "collapsed": false
   }
  },
  {
   "cell_type": "code",
   "execution_count": 17,
   "outputs": [
    {
     "data": {
      "text/plain": "      client  success_number\n332    12179              41\n1758   61468              41\n1487   52870              41\n1759   61473              41\n2626   92584              41\n...      ...             ...\n956    34121               1\n957    34191               1\n958    34198               1\n959    34277               1\n2844   99993               1\n\n[2845 rows x 2 columns]",
      "text/html": "<div>\n<style scoped>\n    .dataframe tbody tr th:only-of-type {\n        vertical-align: middle;\n    }\n\n    .dataframe tbody tr th {\n        vertical-align: top;\n    }\n\n    .dataframe thead th {\n        text-align: right;\n    }\n</style>\n<table border=\"1\" class=\"dataframe\">\n  <thead>\n    <tr style=\"text-align: right;\">\n      <th></th>\n      <th>client</th>\n      <th>success_number</th>\n    </tr>\n  </thead>\n  <tbody>\n    <tr>\n      <th>332</th>\n      <td>12179</td>\n      <td>41</td>\n    </tr>\n    <tr>\n      <th>1758</th>\n      <td>61468</td>\n      <td>41</td>\n    </tr>\n    <tr>\n      <th>1487</th>\n      <td>52870</td>\n      <td>41</td>\n    </tr>\n    <tr>\n      <th>1759</th>\n      <td>61473</td>\n      <td>41</td>\n    </tr>\n    <tr>\n      <th>2626</th>\n      <td>92584</td>\n      <td>41</td>\n    </tr>\n    <tr>\n      <th>...</th>\n      <td>...</td>\n      <td>...</td>\n    </tr>\n    <tr>\n      <th>956</th>\n      <td>34121</td>\n      <td>1</td>\n    </tr>\n    <tr>\n      <th>957</th>\n      <td>34191</td>\n      <td>1</td>\n    </tr>\n    <tr>\n      <th>958</th>\n      <td>34198</td>\n      <td>1</td>\n    </tr>\n    <tr>\n      <th>959</th>\n      <td>34277</td>\n      <td>1</td>\n    </tr>\n    <tr>\n      <th>2844</th>\n      <td>99993</td>\n      <td>1</td>\n    </tr>\n  </tbody>\n</table>\n<p>2845 rows × 2 columns</p>\n</div>"
     },
     "execution_count": 17,
     "metadata": {},
     "output_type": "execute_result"
    }
   ],
   "source": [
    "success_number=logs.query('success==True')\\\n",
    "    .groupby('client', as_index=False)\\\n",
    "    .agg({'platform': 'count'})\\\n",
    "    .rename(columns={\"platform\": \"success_number\"})\\\n",
    "    .sort_values('success_number', ascending=False)\n",
    "\n",
    "\n",
    "success_number"
   ],
   "metadata": {
    "collapsed": false
   }
  },
  {
   "cell_type": "code",
   "execution_count": 18,
   "outputs": [
    {
     "data": {
      "text/plain": "41"
     },
     "execution_count": 18,
     "metadata": {},
     "output_type": "execute_result"
    }
   ],
   "source": [
    "max_success=success_number.success_number.max()\n",
    "max_success"
   ],
   "metadata": {
    "collapsed": false
   }
  },
  {
   "cell_type": "code",
   "execution_count": 19,
   "outputs": [
    {
     "data": {
      "text/plain": "[12179, 28719, 36165, 52870, 61468, 61473, 78349, 82563, 92584]"
     },
     "execution_count": 19,
     "metadata": {},
     "output_type": "execute_result"
    }
   ],
   "source": [
    "successful_clients=success_number.query('success_number== @max_success')\\\n",
    "                .sort_values('client')\\\n",
    "                .client\\\n",
    "                .tolist()\n",
    "\n",
    "successful_clients"
   ],
   "metadata": {
    "collapsed": false
   }
  },
  {
   "cell_type": "code",
   "execution_count": 20,
   "outputs": [
    {
     "data": {
      "text/plain": "'12179, 28719, 36165, 52870, 61468, 61473, 78349, 82563, 92584'"
     },
     "execution_count": 20,
     "metadata": {},
     "output_type": "execute_result"
    }
   ],
   "source": [
    "# Конвертация интеджер в строку\n",
    "result=', '.join([str(client) for client in successful_clients])\n",
    "result"
   ],
   "metadata": {
    "collapsed": false
   }
  },
  {
   "cell_type": "code",
   "execution_count": 21,
   "outputs": [],
   "source": [
    "# ALTERNATIVE VAR\n",
    "success_number_2=logs\\\n",
    "        .groupby('client', as_index=False)\\\n",
    "        .agg({'success': 'sum'})\\\n",
    "        .rename(columns={\"success\": \"success_number\"})\\\n",
    "        .sort_values('success_number', ascending=False)\n"
   ],
   "metadata": {
    "collapsed": false
   }
  },
  {
   "cell_type": "code",
   "execution_count": 22,
   "outputs": [
    {
     "data": {
      "text/plain": "phone       2019\ncomputer    1090\ntablet       180\nName: platform, dtype: int64"
     },
     "execution_count": 22,
     "metadata": {},
     "output_type": "execute_result"
    }
   ],
   "source": [
    "# С какой платформы было совершено наибольшее количество успешных операций?\n",
    "logs.query('success==True').platform.value_counts()\n"
   ],
   "metadata": {
    "collapsed": false
   }
  },
  {
   "cell_type": "code",
   "execution_count": 22,
   "outputs": [],
   "source": [],
   "metadata": {
    "collapsed": false
   }
  }
 ],
 "metadata": {
  "kernelspec": {
   "display_name": "Python 3",
   "language": "python",
   "name": "python3"
  },
  "language_info": {
   "codemirror_mode": {
    "name": "ipython",
    "version": 2
   },
   "file_extension": ".py",
   "mimetype": "text/x-python",
   "name": "python",
   "nbconvert_exporter": "python",
   "pygments_lexer": "ipython2",
   "version": "2.7.6"
  }
 },
 "nbformat": 4,
 "nbformat_minor": 0
}
