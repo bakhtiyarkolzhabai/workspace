{
 "cells": [
  {
   "cell_type": "code",
   "execution_count": 2,
   "metadata": {
    "collapsed": true
   },
   "outputs": [],
   "source": [
    "import pandas as pd"
   ]
  },
  {
   "cell_type": "code",
   "execution_count": 3,
   "outputs": [
    {
     "data": {
      "text/plain": "       yrh&6      ohku         q      hfxx   umeca-4       apj         g  \\\n0   0.288397  0.911359  0.488069  0.074599  0.016124  0.090555  0.560810   \n1   0.861276  0.134987  0.701885  0.897921  0.507115  0.740151  0.963179   \n2   0.775577  0.832874  0.862665  0.831049  0.003274  0.703112  0.509795   \n3   0.857910  0.555818  0.598305  0.473988  0.784139  0.427963  0.725103   \n4   0.748652  0.451725  0.252619  0.584361  0.011265  0.051115  0.755444   \n..       ...       ...       ...       ...       ...       ...       ...   \n95  0.665300  0.744322  0.377087  0.809735  0.220817  0.248306  0.131914   \n96  0.344394  0.182979  0.590196  0.483025  0.474131  0.031048  0.672095   \n97  0.694568  0.507591  0.328004  0.333993  0.091637  0.356788  0.541017   \n98  0.692840  0.220333  0.729843  0.202430  0.360106  0.980271  0.913669   \n99  0.391447  0.989147  0.011527  0.894302  0.669284  0.158220  0.283287   \n\n    ijvnixxo  kudbpyw-3    upubjv  ...        fi   clsruyy       g&6  \\\n0   0.110975   0.430787  0.548763  ...  0.793122  0.070335  0.145115   \n1   0.712024   0.671662  0.497596  ...  0.477181  0.767931  0.996055   \n2   0.573296   0.286411  0.282792  ...  0.421542  0.770413  0.749468   \n3   0.286610   0.863717  0.545562  ...  0.240252  0.010355  0.759912   \n4   0.627191   0.206172  0.955043  ...  0.846165  0.043458  0.209347   \n..       ...        ...       ...  ...       ...       ...       ...   \n95  0.217087   0.434444  0.852261  ...  0.469934  0.940416  0.012272   \n96  0.573249   0.176011  0.847096  ...  0.954133  0.073519  0.708749   \n97  0.040395   0.871606  0.680075  ...  0.300616  0.172525  0.984465   \n98  0.549889   0.172385  0.049770  ...  0.188240  0.053409  0.928515   \n99  0.103011   0.701505  0.281754  ...  0.001720  0.414375  0.705461   \n\n        qo$6        ap         o  sladymzr       tif   wuikzxt     wzuvc  \n0   0.686579  0.071681  0.563068  0.815201  0.081902  0.333237  0.185148  \n1   0.948774  0.054327  0.087341  0.072166  0.856081  0.120481  0.622113  \n2   0.395022  0.307752  0.535575  0.341393  0.971201  0.714558  0.702453  \n3   0.965837  0.110719  0.439488  0.816526  0.111621  0.373365  0.461615  \n4   0.028276  0.700446  0.203503  0.181903  0.428842  0.099398  0.175227  \n..       ...       ...       ...       ...       ...       ...       ...  \n95  0.519183  0.231462  0.778445  0.979528  0.742654  0.070859  0.595118  \n96  0.942929  0.050652  0.902627  0.478454  0.895962  0.254965  0.963576  \n97  0.645257  0.184107  0.322045  0.011599  0.197995  0.841725  0.695915  \n98  0.135282  0.352835  0.046042  0.667842  0.633934  0.547764  0.232205  \n99  0.616289  0.507954  0.736359  0.558528  0.001038  0.496094  0.172591  \n\n[100 rows x 75 columns]",
      "text/html": "<div>\n<style scoped>\n    .dataframe tbody tr th:only-of-type {\n        vertical-align: middle;\n    }\n\n    .dataframe tbody tr th {\n        vertical-align: top;\n    }\n\n    .dataframe thead th {\n        text-align: right;\n    }\n</style>\n<table border=\"1\" class=\"dataframe\">\n  <thead>\n    <tr style=\"text-align: right;\">\n      <th></th>\n      <th>yrh&amp;6</th>\n      <th>ohku</th>\n      <th>q</th>\n      <th>hfxx</th>\n      <th>umeca-4</th>\n      <th>apj</th>\n      <th>g</th>\n      <th>ijvnixxo</th>\n      <th>kudbpyw-3</th>\n      <th>upubjv</th>\n      <th>...</th>\n      <th>fi</th>\n      <th>clsruyy</th>\n      <th>g&amp;6</th>\n      <th>qo$6</th>\n      <th>ap</th>\n      <th>o</th>\n      <th>sladymzr</th>\n      <th>tif</th>\n      <th>wuikzxt</th>\n      <th>wzuvc</th>\n    </tr>\n  </thead>\n  <tbody>\n    <tr>\n      <th>0</th>\n      <td>0.288397</td>\n      <td>0.911359</td>\n      <td>0.488069</td>\n      <td>0.074599</td>\n      <td>0.016124</td>\n      <td>0.090555</td>\n      <td>0.560810</td>\n      <td>0.110975</td>\n      <td>0.430787</td>\n      <td>0.548763</td>\n      <td>...</td>\n      <td>0.793122</td>\n      <td>0.070335</td>\n      <td>0.145115</td>\n      <td>0.686579</td>\n      <td>0.071681</td>\n      <td>0.563068</td>\n      <td>0.815201</td>\n      <td>0.081902</td>\n      <td>0.333237</td>\n      <td>0.185148</td>\n    </tr>\n    <tr>\n      <th>1</th>\n      <td>0.861276</td>\n      <td>0.134987</td>\n      <td>0.701885</td>\n      <td>0.897921</td>\n      <td>0.507115</td>\n      <td>0.740151</td>\n      <td>0.963179</td>\n      <td>0.712024</td>\n      <td>0.671662</td>\n      <td>0.497596</td>\n      <td>...</td>\n      <td>0.477181</td>\n      <td>0.767931</td>\n      <td>0.996055</td>\n      <td>0.948774</td>\n      <td>0.054327</td>\n      <td>0.087341</td>\n      <td>0.072166</td>\n      <td>0.856081</td>\n      <td>0.120481</td>\n      <td>0.622113</td>\n    </tr>\n    <tr>\n      <th>2</th>\n      <td>0.775577</td>\n      <td>0.832874</td>\n      <td>0.862665</td>\n      <td>0.831049</td>\n      <td>0.003274</td>\n      <td>0.703112</td>\n      <td>0.509795</td>\n      <td>0.573296</td>\n      <td>0.286411</td>\n      <td>0.282792</td>\n      <td>...</td>\n      <td>0.421542</td>\n      <td>0.770413</td>\n      <td>0.749468</td>\n      <td>0.395022</td>\n      <td>0.307752</td>\n      <td>0.535575</td>\n      <td>0.341393</td>\n      <td>0.971201</td>\n      <td>0.714558</td>\n      <td>0.702453</td>\n    </tr>\n    <tr>\n      <th>3</th>\n      <td>0.857910</td>\n      <td>0.555818</td>\n      <td>0.598305</td>\n      <td>0.473988</td>\n      <td>0.784139</td>\n      <td>0.427963</td>\n      <td>0.725103</td>\n      <td>0.286610</td>\n      <td>0.863717</td>\n      <td>0.545562</td>\n      <td>...</td>\n      <td>0.240252</td>\n      <td>0.010355</td>\n      <td>0.759912</td>\n      <td>0.965837</td>\n      <td>0.110719</td>\n      <td>0.439488</td>\n      <td>0.816526</td>\n      <td>0.111621</td>\n      <td>0.373365</td>\n      <td>0.461615</td>\n    </tr>\n    <tr>\n      <th>4</th>\n      <td>0.748652</td>\n      <td>0.451725</td>\n      <td>0.252619</td>\n      <td>0.584361</td>\n      <td>0.011265</td>\n      <td>0.051115</td>\n      <td>0.755444</td>\n      <td>0.627191</td>\n      <td>0.206172</td>\n      <td>0.955043</td>\n      <td>...</td>\n      <td>0.846165</td>\n      <td>0.043458</td>\n      <td>0.209347</td>\n      <td>0.028276</td>\n      <td>0.700446</td>\n      <td>0.203503</td>\n      <td>0.181903</td>\n      <td>0.428842</td>\n      <td>0.099398</td>\n      <td>0.175227</td>\n    </tr>\n    <tr>\n      <th>...</th>\n      <td>...</td>\n      <td>...</td>\n      <td>...</td>\n      <td>...</td>\n      <td>...</td>\n      <td>...</td>\n      <td>...</td>\n      <td>...</td>\n      <td>...</td>\n      <td>...</td>\n      <td>...</td>\n      <td>...</td>\n      <td>...</td>\n      <td>...</td>\n      <td>...</td>\n      <td>...</td>\n      <td>...</td>\n      <td>...</td>\n      <td>...</td>\n      <td>...</td>\n      <td>...</td>\n    </tr>\n    <tr>\n      <th>95</th>\n      <td>0.665300</td>\n      <td>0.744322</td>\n      <td>0.377087</td>\n      <td>0.809735</td>\n      <td>0.220817</td>\n      <td>0.248306</td>\n      <td>0.131914</td>\n      <td>0.217087</td>\n      <td>0.434444</td>\n      <td>0.852261</td>\n      <td>...</td>\n      <td>0.469934</td>\n      <td>0.940416</td>\n      <td>0.012272</td>\n      <td>0.519183</td>\n      <td>0.231462</td>\n      <td>0.778445</td>\n      <td>0.979528</td>\n      <td>0.742654</td>\n      <td>0.070859</td>\n      <td>0.595118</td>\n    </tr>\n    <tr>\n      <th>96</th>\n      <td>0.344394</td>\n      <td>0.182979</td>\n      <td>0.590196</td>\n      <td>0.483025</td>\n      <td>0.474131</td>\n      <td>0.031048</td>\n      <td>0.672095</td>\n      <td>0.573249</td>\n      <td>0.176011</td>\n      <td>0.847096</td>\n      <td>...</td>\n      <td>0.954133</td>\n      <td>0.073519</td>\n      <td>0.708749</td>\n      <td>0.942929</td>\n      <td>0.050652</td>\n      <td>0.902627</td>\n      <td>0.478454</td>\n      <td>0.895962</td>\n      <td>0.254965</td>\n      <td>0.963576</td>\n    </tr>\n    <tr>\n      <th>97</th>\n      <td>0.694568</td>\n      <td>0.507591</td>\n      <td>0.328004</td>\n      <td>0.333993</td>\n      <td>0.091637</td>\n      <td>0.356788</td>\n      <td>0.541017</td>\n      <td>0.040395</td>\n      <td>0.871606</td>\n      <td>0.680075</td>\n      <td>...</td>\n      <td>0.300616</td>\n      <td>0.172525</td>\n      <td>0.984465</td>\n      <td>0.645257</td>\n      <td>0.184107</td>\n      <td>0.322045</td>\n      <td>0.011599</td>\n      <td>0.197995</td>\n      <td>0.841725</td>\n      <td>0.695915</td>\n    </tr>\n    <tr>\n      <th>98</th>\n      <td>0.692840</td>\n      <td>0.220333</td>\n      <td>0.729843</td>\n      <td>0.202430</td>\n      <td>0.360106</td>\n      <td>0.980271</td>\n      <td>0.913669</td>\n      <td>0.549889</td>\n      <td>0.172385</td>\n      <td>0.049770</td>\n      <td>...</td>\n      <td>0.188240</td>\n      <td>0.053409</td>\n      <td>0.928515</td>\n      <td>0.135282</td>\n      <td>0.352835</td>\n      <td>0.046042</td>\n      <td>0.667842</td>\n      <td>0.633934</td>\n      <td>0.547764</td>\n      <td>0.232205</td>\n    </tr>\n    <tr>\n      <th>99</th>\n      <td>0.391447</td>\n      <td>0.989147</td>\n      <td>0.011527</td>\n      <td>0.894302</td>\n      <td>0.669284</td>\n      <td>0.158220</td>\n      <td>0.283287</td>\n      <td>0.103011</td>\n      <td>0.701505</td>\n      <td>0.281754</td>\n      <td>...</td>\n      <td>0.001720</td>\n      <td>0.414375</td>\n      <td>0.705461</td>\n      <td>0.616289</td>\n      <td>0.507954</td>\n      <td>0.736359</td>\n      <td>0.558528</td>\n      <td>0.001038</td>\n      <td>0.496094</td>\n      <td>0.172591</td>\n    </tr>\n  </tbody>\n</table>\n<p>100 rows × 75 columns</p>\n</div>"
     },
     "execution_count": 3,
     "metadata": {},
     "output_type": "execute_result"
    }
   ],
   "source": [
    "path=pd.read_csv(\"https://stepik.org/media/attachments/course/4852/column_hell.csv\", encoding=\"windows-1251\")\n",
    "path"
   ],
   "metadata": {
    "collapsed": false
   }
  },
  {
   "cell_type": "code",
   "execution_count": 4,
   "outputs": [
    {
     "data": {
      "text/plain": "     umeca-4  kudbpyw-3       g-3       v-9     fla-6  hwtbyrkp-5\n0   0.016124   0.430787  0.202407  0.725508  0.305076    0.979296\n1   0.507115   0.671662  0.864249  0.867818  0.358859    0.160520\n2   0.003274   0.286411  0.928865  0.719159  0.340235    0.734612\n3   0.784139   0.863717  0.175446  0.554744  0.049325    0.621132\n4   0.011265   0.206172  0.044151  0.163643  0.048806    0.437836\n..       ...        ...       ...       ...       ...         ...\n95  0.220817   0.434444  0.601738  0.146333  0.918888    0.216499\n96  0.474131   0.176011  0.359793  0.104707  0.257690    0.066934\n97  0.091637   0.871606  0.121075  0.907699  0.313184    0.788592\n98  0.360106   0.172385  0.015285  0.019571  0.060751    0.403166\n99  0.669284   0.701505  0.481430  0.024944  0.644989    0.702003\n\n[100 rows x 6 columns]",
      "text/html": "<div>\n<style scoped>\n    .dataframe tbody tr th:only-of-type {\n        vertical-align: middle;\n    }\n\n    .dataframe tbody tr th {\n        vertical-align: top;\n    }\n\n    .dataframe thead th {\n        text-align: right;\n    }\n</style>\n<table border=\"1\" class=\"dataframe\">\n  <thead>\n    <tr style=\"text-align: right;\">\n      <th></th>\n      <th>umeca-4</th>\n      <th>kudbpyw-3</th>\n      <th>g-3</th>\n      <th>v-9</th>\n      <th>fla-6</th>\n      <th>hwtbyrkp-5</th>\n    </tr>\n  </thead>\n  <tbody>\n    <tr>\n      <th>0</th>\n      <td>0.016124</td>\n      <td>0.430787</td>\n      <td>0.202407</td>\n      <td>0.725508</td>\n      <td>0.305076</td>\n      <td>0.979296</td>\n    </tr>\n    <tr>\n      <th>1</th>\n      <td>0.507115</td>\n      <td>0.671662</td>\n      <td>0.864249</td>\n      <td>0.867818</td>\n      <td>0.358859</td>\n      <td>0.160520</td>\n    </tr>\n    <tr>\n      <th>2</th>\n      <td>0.003274</td>\n      <td>0.286411</td>\n      <td>0.928865</td>\n      <td>0.719159</td>\n      <td>0.340235</td>\n      <td>0.734612</td>\n    </tr>\n    <tr>\n      <th>3</th>\n      <td>0.784139</td>\n      <td>0.863717</td>\n      <td>0.175446</td>\n      <td>0.554744</td>\n      <td>0.049325</td>\n      <td>0.621132</td>\n    </tr>\n    <tr>\n      <th>4</th>\n      <td>0.011265</td>\n      <td>0.206172</td>\n      <td>0.044151</td>\n      <td>0.163643</td>\n      <td>0.048806</td>\n      <td>0.437836</td>\n    </tr>\n    <tr>\n      <th>...</th>\n      <td>...</td>\n      <td>...</td>\n      <td>...</td>\n      <td>...</td>\n      <td>...</td>\n      <td>...</td>\n    </tr>\n    <tr>\n      <th>95</th>\n      <td>0.220817</td>\n      <td>0.434444</td>\n      <td>0.601738</td>\n      <td>0.146333</td>\n      <td>0.918888</td>\n      <td>0.216499</td>\n    </tr>\n    <tr>\n      <th>96</th>\n      <td>0.474131</td>\n      <td>0.176011</td>\n      <td>0.359793</td>\n      <td>0.104707</td>\n      <td>0.257690</td>\n      <td>0.066934</td>\n    </tr>\n    <tr>\n      <th>97</th>\n      <td>0.091637</td>\n      <td>0.871606</td>\n      <td>0.121075</td>\n      <td>0.907699</td>\n      <td>0.313184</td>\n      <td>0.788592</td>\n    </tr>\n    <tr>\n      <th>98</th>\n      <td>0.360106</td>\n      <td>0.172385</td>\n      <td>0.015285</td>\n      <td>0.019571</td>\n      <td>0.060751</td>\n      <td>0.403166</td>\n    </tr>\n    <tr>\n      <th>99</th>\n      <td>0.669284</td>\n      <td>0.701505</td>\n      <td>0.481430</td>\n      <td>0.024944</td>\n      <td>0.644989</td>\n      <td>0.702003</td>\n    </tr>\n  </tbody>\n</table>\n<p>100 rows × 6 columns</p>\n</div>"
     },
     "execution_count": 4,
     "metadata": {},
     "output_type": "execute_result"
    }
   ],
   "source": [
    "path.filter(like=\"-\")"
   ],
   "metadata": {
    "collapsed": false
   }
  },
  {
   "cell_type": "code",
   "execution_count": 5,
   "outputs": [
    {
     "data": {
      "text/plain": "(100, 75)"
     },
     "execution_count": 5,
     "metadata": {},
     "output_type": "execute_result"
    }
   ],
   "source": [
    "path.shape"
   ],
   "metadata": {
    "collapsed": false
   }
  },
  {
   "cell_type": "markdown",
   "source": [
    "#TASK 2"
   ],
   "metadata": {
    "collapsed": false
   }
  },
  {
   "cell_type": "code",
   "execution_count": 7,
   "outputs": [
    {
     "data": {
      "text/plain": "     Unnamed: 0 attack_type   id  legs  localized_name  \\\n0             0       Melee    1     2       Anti-Mage   \n1             1       Melee    2     2             Axe   \n2             2      Ranged    3     4            Bane   \n3             3       Melee    4     2     Bloodseeker   \n4             4      Ranged    5     2  Crystal Maiden   \n..          ...         ...  ...   ...             ...   \n112         112       Melee  114     2     Monkey King   \n113         113      Ranged  119     2     Dark Willow   \n114         114       Melee  120     2       Pangolier   \n115         115      Ranged  121     2      Grimstroke   \n116         116       Melee  129     2            Mars   \n\n                             name primary_attr  \\\n0          npc_dota_hero_antimage          agi   \n1               npc_dota_hero_axe          str   \n2              npc_dota_hero_bane          int   \n3       npc_dota_hero_bloodseeker          agi   \n4    npc_dota_hero_crystal_maiden          int   \n..                            ...          ...   \n112     npc_dota_hero_monkey_king          agi   \n113     npc_dota_hero_dark_willow          int   \n114       npc_dota_hero_pangolier          agi   \n115      npc_dota_hero_grimstroke          int   \n116            npc_dota_hero_mars          str   \n\n                                                 roles  \n0                         ['Carry', 'Escape', 'Nuker']  \n1      ['Initiator', 'Durable', 'Disabler', 'Jungler']  \n2          ['Support', 'Disabler', 'Nuker', 'Durable']  \n3    ['Carry', 'Disabler', 'Jungler', 'Nuker', 'Ini...  \n4          ['Support', 'Disabler', 'Nuker', 'Jungler']  \n..                                                 ...  \n112       ['Carry', 'Escape', 'Disabler', 'Initiator']  \n113         ['Support', 'Nuker', 'Disabler', 'Escape']  \n114  ['Carry', 'Nuker', 'Disabler', 'Durable', 'Esc...  \n115         ['Support', 'Nuker', 'Disabler', 'Escape']  \n116      ['Carry', 'Initiator', 'Disabler', 'Durable']  \n\n[117 rows x 8 columns]",
      "text/html": "<div>\n<style scoped>\n    .dataframe tbody tr th:only-of-type {\n        vertical-align: middle;\n    }\n\n    .dataframe tbody tr th {\n        vertical-align: top;\n    }\n\n    .dataframe thead th {\n        text-align: right;\n    }\n</style>\n<table border=\"1\" class=\"dataframe\">\n  <thead>\n    <tr style=\"text-align: right;\">\n      <th></th>\n      <th>Unnamed: 0</th>\n      <th>attack_type</th>\n      <th>id</th>\n      <th>legs</th>\n      <th>localized_name</th>\n      <th>name</th>\n      <th>primary_attr</th>\n      <th>roles</th>\n    </tr>\n  </thead>\n  <tbody>\n    <tr>\n      <th>0</th>\n      <td>0</td>\n      <td>Melee</td>\n      <td>1</td>\n      <td>2</td>\n      <td>Anti-Mage</td>\n      <td>npc_dota_hero_antimage</td>\n      <td>agi</td>\n      <td>['Carry', 'Escape', 'Nuker']</td>\n    </tr>\n    <tr>\n      <th>1</th>\n      <td>1</td>\n      <td>Melee</td>\n      <td>2</td>\n      <td>2</td>\n      <td>Axe</td>\n      <td>npc_dota_hero_axe</td>\n      <td>str</td>\n      <td>['Initiator', 'Durable', 'Disabler', 'Jungler']</td>\n    </tr>\n    <tr>\n      <th>2</th>\n      <td>2</td>\n      <td>Ranged</td>\n      <td>3</td>\n      <td>4</td>\n      <td>Bane</td>\n      <td>npc_dota_hero_bane</td>\n      <td>int</td>\n      <td>['Support', 'Disabler', 'Nuker', 'Durable']</td>\n    </tr>\n    <tr>\n      <th>3</th>\n      <td>3</td>\n      <td>Melee</td>\n      <td>4</td>\n      <td>2</td>\n      <td>Bloodseeker</td>\n      <td>npc_dota_hero_bloodseeker</td>\n      <td>agi</td>\n      <td>['Carry', 'Disabler', 'Jungler', 'Nuker', 'Ini...</td>\n    </tr>\n    <tr>\n      <th>4</th>\n      <td>4</td>\n      <td>Ranged</td>\n      <td>5</td>\n      <td>2</td>\n      <td>Crystal Maiden</td>\n      <td>npc_dota_hero_crystal_maiden</td>\n      <td>int</td>\n      <td>['Support', 'Disabler', 'Nuker', 'Jungler']</td>\n    </tr>\n    <tr>\n      <th>...</th>\n      <td>...</td>\n      <td>...</td>\n      <td>...</td>\n      <td>...</td>\n      <td>...</td>\n      <td>...</td>\n      <td>...</td>\n      <td>...</td>\n    </tr>\n    <tr>\n      <th>112</th>\n      <td>112</td>\n      <td>Melee</td>\n      <td>114</td>\n      <td>2</td>\n      <td>Monkey King</td>\n      <td>npc_dota_hero_monkey_king</td>\n      <td>agi</td>\n      <td>['Carry', 'Escape', 'Disabler', 'Initiator']</td>\n    </tr>\n    <tr>\n      <th>113</th>\n      <td>113</td>\n      <td>Ranged</td>\n      <td>119</td>\n      <td>2</td>\n      <td>Dark Willow</td>\n      <td>npc_dota_hero_dark_willow</td>\n      <td>int</td>\n      <td>['Support', 'Nuker', 'Disabler', 'Escape']</td>\n    </tr>\n    <tr>\n      <th>114</th>\n      <td>114</td>\n      <td>Melee</td>\n      <td>120</td>\n      <td>2</td>\n      <td>Pangolier</td>\n      <td>npc_dota_hero_pangolier</td>\n      <td>agi</td>\n      <td>['Carry', 'Nuker', 'Disabler', 'Durable', 'Esc...</td>\n    </tr>\n    <tr>\n      <th>115</th>\n      <td>115</td>\n      <td>Ranged</td>\n      <td>121</td>\n      <td>2</td>\n      <td>Grimstroke</td>\n      <td>npc_dota_hero_grimstroke</td>\n      <td>int</td>\n      <td>['Support', 'Nuker', 'Disabler', 'Escape']</td>\n    </tr>\n    <tr>\n      <th>116</th>\n      <td>116</td>\n      <td>Melee</td>\n      <td>129</td>\n      <td>2</td>\n      <td>Mars</td>\n      <td>npc_dota_hero_mars</td>\n      <td>str</td>\n      <td>['Carry', 'Initiator', 'Disabler', 'Durable']</td>\n    </tr>\n  </tbody>\n</table>\n<p>117 rows × 8 columns</p>\n</div>"
     },
     "execution_count": 7,
     "metadata": {},
     "output_type": "execute_result"
    }
   ],
   "source": [
    "test_1=pd.read_csv(\"https://stepik.org/media/attachments/course/4852/dota_hero_stats.csv\", encoding=\"windows-1251\")\n",
    "test_1"
   ],
   "metadata": {
    "collapsed": false
   }
  },
  {
   "cell_type": "code",
   "execution_count": 23,
   "outputs": [
    {
     "data": {
      "text/plain": "      Unnamed: 0  attack_type  id  localized_name  name  primary_attr  roles\nlegs                                                                        \n0             11           11  11              11    11            11     11\n2             95           95  95              95    95            95     95\n4              7            7   7               7     7             7      7\n6              3            3   3               3     3             3      3\n8              1            1   1               1     1             1      1",
      "text/html": "<div>\n<style scoped>\n    .dataframe tbody tr th:only-of-type {\n        vertical-align: middle;\n    }\n\n    .dataframe tbody tr th {\n        vertical-align: top;\n    }\n\n    .dataframe thead th {\n        text-align: right;\n    }\n</style>\n<table border=\"1\" class=\"dataframe\">\n  <thead>\n    <tr style=\"text-align: right;\">\n      <th></th>\n      <th>Unnamed: 0</th>\n      <th>attack_type</th>\n      <th>id</th>\n      <th>localized_name</th>\n      <th>name</th>\n      <th>primary_attr</th>\n      <th>roles</th>\n    </tr>\n    <tr>\n      <th>legs</th>\n      <th></th>\n      <th></th>\n      <th></th>\n      <th></th>\n      <th></th>\n      <th></th>\n      <th></th>\n    </tr>\n  </thead>\n  <tbody>\n    <tr>\n      <th>0</th>\n      <td>11</td>\n      <td>11</td>\n      <td>11</td>\n      <td>11</td>\n      <td>11</td>\n      <td>11</td>\n      <td>11</td>\n    </tr>\n    <tr>\n      <th>2</th>\n      <td>95</td>\n      <td>95</td>\n      <td>95</td>\n      <td>95</td>\n      <td>95</td>\n      <td>95</td>\n      <td>95</td>\n    </tr>\n    <tr>\n      <th>4</th>\n      <td>7</td>\n      <td>7</td>\n      <td>7</td>\n      <td>7</td>\n      <td>7</td>\n      <td>7</td>\n      <td>7</td>\n    </tr>\n    <tr>\n      <th>6</th>\n      <td>3</td>\n      <td>3</td>\n      <td>3</td>\n      <td>3</td>\n      <td>3</td>\n      <td>3</td>\n      <td>3</td>\n    </tr>\n    <tr>\n      <th>8</th>\n      <td>1</td>\n      <td>1</td>\n      <td>1</td>\n      <td>1</td>\n      <td>1</td>\n      <td>1</td>\n      <td>1</td>\n    </tr>\n  </tbody>\n</table>\n</div>"
     },
     "execution_count": 23,
     "metadata": {},
     "output_type": "execute_result"
    }
   ],
   "source": [
    "test_1.groupby(\"legs\").count()"
   ],
   "metadata": {
    "collapsed": false
   }
  },
  {
   "cell_type": "markdown",
   "source": [
    "#TASK 3"
   ],
   "metadata": {
    "collapsed": false
   }
  },
  {
   "cell_type": "code",
   "execution_count": 28,
   "outputs": [
    {
     "data": {
      "text/plain": "   Unnamed: 0 Executor Type  Salary\n0           0     Pupa    D      63\n1           1     Pupa    A     158\n2           2     Pupa    D     194\n3           3     Pupa    E     109\n4           4    Loopa    E     184",
      "text/html": "<div>\n<style scoped>\n    .dataframe tbody tr th:only-of-type {\n        vertical-align: middle;\n    }\n\n    .dataframe tbody tr th {\n        vertical-align: top;\n    }\n\n    .dataframe thead th {\n        text-align: right;\n    }\n</style>\n<table border=\"1\" class=\"dataframe\">\n  <thead>\n    <tr style=\"text-align: right;\">\n      <th></th>\n      <th>Unnamed: 0</th>\n      <th>Executor</th>\n      <th>Type</th>\n      <th>Salary</th>\n    </tr>\n  </thead>\n  <tbody>\n    <tr>\n      <th>0</th>\n      <td>0</td>\n      <td>Pupa</td>\n      <td>D</td>\n      <td>63</td>\n    </tr>\n    <tr>\n      <th>1</th>\n      <td>1</td>\n      <td>Pupa</td>\n      <td>A</td>\n      <td>158</td>\n    </tr>\n    <tr>\n      <th>2</th>\n      <td>2</td>\n      <td>Pupa</td>\n      <td>D</td>\n      <td>194</td>\n    </tr>\n    <tr>\n      <th>3</th>\n      <td>3</td>\n      <td>Pupa</td>\n      <td>E</td>\n      <td>109</td>\n    </tr>\n    <tr>\n      <th>4</th>\n      <td>4</td>\n      <td>Loopa</td>\n      <td>E</td>\n      <td>184</td>\n    </tr>\n  </tbody>\n</table>\n</div>"
     },
     "execution_count": 28,
     "metadata": {},
     "output_type": "execute_result"
    }
   ],
   "source": [
    "test_2=pd.read_csv(\"https://stepik.org/media/attachments/course/4852/accountancy.csv\", encoding=\"windows-1251\")\n",
    "test_2.head()"
   ],
   "metadata": {
    "collapsed": false
   }
  },
  {
   "cell_type": "code",
   "execution_count": 39,
   "outputs": [
    {
     "data": {
      "text/plain": "                   Salary\nType Executor            \nA    Loopa      58.000000\n     Pupa      160.833333\nB    Loopa     145.166667\n     Pupa       77.000000\nC    Loopa     154.333333\n     Pupa       74.500000\nD    Loopa     137.714286\n     Pupa      146.500000\nE    Loopa     164.000000\n     Pupa      131.200000\nF    Loopa     238.000000\n     Pupa      136.250000",
      "text/html": "<div>\n<style scoped>\n    .dataframe tbody tr th:only-of-type {\n        vertical-align: middle;\n    }\n\n    .dataframe tbody tr th {\n        vertical-align: top;\n    }\n\n    .dataframe thead th {\n        text-align: right;\n    }\n</style>\n<table border=\"1\" class=\"dataframe\">\n  <thead>\n    <tr style=\"text-align: right;\">\n      <th></th>\n      <th></th>\n      <th>Salary</th>\n    </tr>\n    <tr>\n      <th>Type</th>\n      <th>Executor</th>\n      <th></th>\n    </tr>\n  </thead>\n  <tbody>\n    <tr>\n      <th rowspan=\"2\" valign=\"top\">A</th>\n      <th>Loopa</th>\n      <td>58.000000</td>\n    </tr>\n    <tr>\n      <th>Pupa</th>\n      <td>160.833333</td>\n    </tr>\n    <tr>\n      <th rowspan=\"2\" valign=\"top\">B</th>\n      <th>Loopa</th>\n      <td>145.166667</td>\n    </tr>\n    <tr>\n      <th>Pupa</th>\n      <td>77.000000</td>\n    </tr>\n    <tr>\n      <th rowspan=\"2\" valign=\"top\">C</th>\n      <th>Loopa</th>\n      <td>154.333333</td>\n    </tr>\n    <tr>\n      <th>Pupa</th>\n      <td>74.500000</td>\n    </tr>\n    <tr>\n      <th rowspan=\"2\" valign=\"top\">D</th>\n      <th>Loopa</th>\n      <td>137.714286</td>\n    </tr>\n    <tr>\n      <th>Pupa</th>\n      <td>146.500000</td>\n    </tr>\n    <tr>\n      <th rowspan=\"2\" valign=\"top\">E</th>\n      <th>Loopa</th>\n      <td>164.000000</td>\n    </tr>\n    <tr>\n      <th>Pupa</th>\n      <td>131.200000</td>\n    </tr>\n    <tr>\n      <th rowspan=\"2\" valign=\"top\">F</th>\n      <th>Loopa</th>\n      <td>238.000000</td>\n    </tr>\n    <tr>\n      <th>Pupa</th>\n      <td>136.250000</td>\n    </tr>\n  </tbody>\n</table>\n</div>"
     },
     "execution_count": 39,
     "metadata": {},
     "output_type": "execute_result"
    }
   ],
   "source": [
    "mean_salary=test_2.groupby([\"Type\", \"Executor\"])\\\n",
    "                .aggregate({\"Salary\": \"mean\"})\n",
    "mean_salary"
   ],
   "metadata": {
    "collapsed": false
   }
  },
  {
   "cell_type": "markdown",
   "source": [
    "#TASK 4"
   ],
   "metadata": {
    "collapsed": false
   }
  },
  {
   "cell_type": "code",
   "execution_count": 42,
   "outputs": [
    {
     "data": {
      "text/plain": "     Unnamed: 0 attack_type   id  legs  localized_name  \\\n0             0       Melee    1     2       Anti-Mage   \n1             1       Melee    2     2             Axe   \n2             2      Ranged    3     4            Bane   \n3             3       Melee    4     2     Bloodseeker   \n4             4      Ranged    5     2  Crystal Maiden   \n..          ...         ...  ...   ...             ...   \n112         112       Melee  114     2     Monkey King   \n113         113      Ranged  119     2     Dark Willow   \n114         114       Melee  120     2       Pangolier   \n115         115      Ranged  121     2      Grimstroke   \n116         116       Melee  129     2            Mars   \n\n                             name primary_attr  \\\n0          npc_dota_hero_antimage          agi   \n1               npc_dota_hero_axe          str   \n2              npc_dota_hero_bane          int   \n3       npc_dota_hero_bloodseeker          agi   \n4    npc_dota_hero_crystal_maiden          int   \n..                            ...          ...   \n112     npc_dota_hero_monkey_king          agi   \n113     npc_dota_hero_dark_willow          int   \n114       npc_dota_hero_pangolier          agi   \n115      npc_dota_hero_grimstroke          int   \n116            npc_dota_hero_mars          str   \n\n                                                 roles  \n0                         ['Carry', 'Escape', 'Nuker']  \n1      ['Initiator', 'Durable', 'Disabler', 'Jungler']  \n2          ['Support', 'Disabler', 'Nuker', 'Durable']  \n3    ['Carry', 'Disabler', 'Jungler', 'Nuker', 'Ini...  \n4          ['Support', 'Disabler', 'Nuker', 'Jungler']  \n..                                                 ...  \n112       ['Carry', 'Escape', 'Disabler', 'Initiator']  \n113         ['Support', 'Nuker', 'Disabler', 'Escape']  \n114  ['Carry', 'Nuker', 'Disabler', 'Durable', 'Esc...  \n115         ['Support', 'Nuker', 'Disabler', 'Escape']  \n116      ['Carry', 'Initiator', 'Disabler', 'Durable']  \n\n[117 rows x 8 columns]",
      "text/html": "<div>\n<style scoped>\n    .dataframe tbody tr th:only-of-type {\n        vertical-align: middle;\n    }\n\n    .dataframe tbody tr th {\n        vertical-align: top;\n    }\n\n    .dataframe thead th {\n        text-align: right;\n    }\n</style>\n<table border=\"1\" class=\"dataframe\">\n  <thead>\n    <tr style=\"text-align: right;\">\n      <th></th>\n      <th>Unnamed: 0</th>\n      <th>attack_type</th>\n      <th>id</th>\n      <th>legs</th>\n      <th>localized_name</th>\n      <th>name</th>\n      <th>primary_attr</th>\n      <th>roles</th>\n    </tr>\n  </thead>\n  <tbody>\n    <tr>\n      <th>0</th>\n      <td>0</td>\n      <td>Melee</td>\n      <td>1</td>\n      <td>2</td>\n      <td>Anti-Mage</td>\n      <td>npc_dota_hero_antimage</td>\n      <td>agi</td>\n      <td>['Carry', 'Escape', 'Nuker']</td>\n    </tr>\n    <tr>\n      <th>1</th>\n      <td>1</td>\n      <td>Melee</td>\n      <td>2</td>\n      <td>2</td>\n      <td>Axe</td>\n      <td>npc_dota_hero_axe</td>\n      <td>str</td>\n      <td>['Initiator', 'Durable', 'Disabler', 'Jungler']</td>\n    </tr>\n    <tr>\n      <th>2</th>\n      <td>2</td>\n      <td>Ranged</td>\n      <td>3</td>\n      <td>4</td>\n      <td>Bane</td>\n      <td>npc_dota_hero_bane</td>\n      <td>int</td>\n      <td>['Support', 'Disabler', 'Nuker', 'Durable']</td>\n    </tr>\n    <tr>\n      <th>3</th>\n      <td>3</td>\n      <td>Melee</td>\n      <td>4</td>\n      <td>2</td>\n      <td>Bloodseeker</td>\n      <td>npc_dota_hero_bloodseeker</td>\n      <td>agi</td>\n      <td>['Carry', 'Disabler', 'Jungler', 'Nuker', 'Ini...</td>\n    </tr>\n    <tr>\n      <th>4</th>\n      <td>4</td>\n      <td>Ranged</td>\n      <td>5</td>\n      <td>2</td>\n      <td>Crystal Maiden</td>\n      <td>npc_dota_hero_crystal_maiden</td>\n      <td>int</td>\n      <td>['Support', 'Disabler', 'Nuker', 'Jungler']</td>\n    </tr>\n    <tr>\n      <th>...</th>\n      <td>...</td>\n      <td>...</td>\n      <td>...</td>\n      <td>...</td>\n      <td>...</td>\n      <td>...</td>\n      <td>...</td>\n      <td>...</td>\n    </tr>\n    <tr>\n      <th>112</th>\n      <td>112</td>\n      <td>Melee</td>\n      <td>114</td>\n      <td>2</td>\n      <td>Monkey King</td>\n      <td>npc_dota_hero_monkey_king</td>\n      <td>agi</td>\n      <td>['Carry', 'Escape', 'Disabler', 'Initiator']</td>\n    </tr>\n    <tr>\n      <th>113</th>\n      <td>113</td>\n      <td>Ranged</td>\n      <td>119</td>\n      <td>2</td>\n      <td>Dark Willow</td>\n      <td>npc_dota_hero_dark_willow</td>\n      <td>int</td>\n      <td>['Support', 'Nuker', 'Disabler', 'Escape']</td>\n    </tr>\n    <tr>\n      <th>114</th>\n      <td>114</td>\n      <td>Melee</td>\n      <td>120</td>\n      <td>2</td>\n      <td>Pangolier</td>\n      <td>npc_dota_hero_pangolier</td>\n      <td>agi</td>\n      <td>['Carry', 'Nuker', 'Disabler', 'Durable', 'Esc...</td>\n    </tr>\n    <tr>\n      <th>115</th>\n      <td>115</td>\n      <td>Ranged</td>\n      <td>121</td>\n      <td>2</td>\n      <td>Grimstroke</td>\n      <td>npc_dota_hero_grimstroke</td>\n      <td>int</td>\n      <td>['Support', 'Nuker', 'Disabler', 'Escape']</td>\n    </tr>\n    <tr>\n      <th>116</th>\n      <td>116</td>\n      <td>Melee</td>\n      <td>129</td>\n      <td>2</td>\n      <td>Mars</td>\n      <td>npc_dota_hero_mars</td>\n      <td>str</td>\n      <td>['Carry', 'Initiator', 'Disabler', 'Durable']</td>\n    </tr>\n  </tbody>\n</table>\n<p>117 rows × 8 columns</p>\n</div>"
     },
     "execution_count": 42,
     "metadata": {},
     "output_type": "execute_result"
    }
   ],
   "source": [
    "test_1"
   ],
   "metadata": {
    "collapsed": false
   }
  },
  {
   "cell_type": "code",
   "execution_count": 44,
   "outputs": [
    {
     "data": {
      "text/plain": "                          Unnamed: 0  id  legs  localized_name  name  roles\nattack_type primary_attr                                                   \nMelee       agi                   19  19     4              19    19     19\n            int                    2   2     1               2     2      2\n            str                   35  35     4              35    35     31\nRanged      agi                   18  18     3              18    18     16\n            int                   40  40     4              40    40     33\n            str                    3   3     2               3     3      3",
      "text/html": "<div>\n<style scoped>\n    .dataframe tbody tr th:only-of-type {\n        vertical-align: middle;\n    }\n\n    .dataframe tbody tr th {\n        vertical-align: top;\n    }\n\n    .dataframe thead th {\n        text-align: right;\n    }\n</style>\n<table border=\"1\" class=\"dataframe\">\n  <thead>\n    <tr style=\"text-align: right;\">\n      <th></th>\n      <th></th>\n      <th>Unnamed: 0</th>\n      <th>id</th>\n      <th>legs</th>\n      <th>localized_name</th>\n      <th>name</th>\n      <th>roles</th>\n    </tr>\n    <tr>\n      <th>attack_type</th>\n      <th>primary_attr</th>\n      <th></th>\n      <th></th>\n      <th></th>\n      <th></th>\n      <th></th>\n      <th></th>\n    </tr>\n  </thead>\n  <tbody>\n    <tr>\n      <th rowspan=\"3\" valign=\"top\">Melee</th>\n      <th>agi</th>\n      <td>19</td>\n      <td>19</td>\n      <td>4</td>\n      <td>19</td>\n      <td>19</td>\n      <td>19</td>\n    </tr>\n    <tr>\n      <th>int</th>\n      <td>2</td>\n      <td>2</td>\n      <td>1</td>\n      <td>2</td>\n      <td>2</td>\n      <td>2</td>\n    </tr>\n    <tr>\n      <th>str</th>\n      <td>35</td>\n      <td>35</td>\n      <td>4</td>\n      <td>35</td>\n      <td>35</td>\n      <td>31</td>\n    </tr>\n    <tr>\n      <th rowspan=\"3\" valign=\"top\">Ranged</th>\n      <th>agi</th>\n      <td>18</td>\n      <td>18</td>\n      <td>3</td>\n      <td>18</td>\n      <td>18</td>\n      <td>16</td>\n    </tr>\n    <tr>\n      <th>int</th>\n      <td>40</td>\n      <td>40</td>\n      <td>4</td>\n      <td>40</td>\n      <td>40</td>\n      <td>33</td>\n    </tr>\n    <tr>\n      <th>str</th>\n      <td>3</td>\n      <td>3</td>\n      <td>2</td>\n      <td>3</td>\n      <td>3</td>\n      <td>3</td>\n    </tr>\n  </tbody>\n</table>\n</div>"
     },
     "execution_count": 44,
     "metadata": {},
     "output_type": "execute_result"
    }
   ],
   "source": [
    "test_1.groupby([\"attack_type\", \"primary_attr\"]).nunique()"
   ],
   "metadata": {
    "collapsed": false
   }
  },
  {
   "cell_type": "code",
   "execution_count": 45,
   "outputs": [
    {
     "data": {
      "text/plain": "                species        genus  group   sucrose    alanin   citrate  \\\n0     Fucus_vesiculosus        Fucus  brown  3.001472  3.711498  5.004262   \n1   Saccharina_japonica   Saccharina  brown  6.731070  1.255251  5.621499   \n2        Fucus_serratus        Fucus  brown  3.276870  0.346431  1.216767   \n3       Fucus_distichus        Fucus  brown  6.786996  6.641303  6.423606   \n4     Cladophora_fracta   Cladophora  green  3.861470  1.648450  6.940588   \n5   Cladophora_compacta   Cladophora  green  5.712284  3.461692  3.082826   \n6   Cladophora_gracilis   Cladophora  green  2.452623  6.881024  5.841520   \n7      Palmaria_palmata     Palmaria    red  0.704580  3.176440  5.573905   \n8  Saccharina_latissima   Saccharina  brown  1.636122  5.793163  1.071920   \n9   Ascophyllum_nodosum  Ascophyllum  brown  6.825467  0.875429  5.253527   \n\n    glucose  oleic_acid  \n0  2.548459    6.405165  \n1  6.013219    4.156700  \n2  3.623225    0.304573  \n3  2.272724    3.393203  \n4  2.316955    2.528886  \n5  3.343707    1.432514  \n6  2.740165    2.829016  \n7  3.242090    2.245538  \n8  3.947968    4.817804  \n9  3.414961    2.432526  ",
      "text/html": "<div>\n<style scoped>\n    .dataframe tbody tr th:only-of-type {\n        vertical-align: middle;\n    }\n\n    .dataframe tbody tr th {\n        vertical-align: top;\n    }\n\n    .dataframe thead th {\n        text-align: right;\n    }\n</style>\n<table border=\"1\" class=\"dataframe\">\n  <thead>\n    <tr style=\"text-align: right;\">\n      <th></th>\n      <th>species</th>\n      <th>genus</th>\n      <th>group</th>\n      <th>sucrose</th>\n      <th>alanin</th>\n      <th>citrate</th>\n      <th>glucose</th>\n      <th>oleic_acid</th>\n    </tr>\n  </thead>\n  <tbody>\n    <tr>\n      <th>0</th>\n      <td>Fucus_vesiculosus</td>\n      <td>Fucus</td>\n      <td>brown</td>\n      <td>3.001472</td>\n      <td>3.711498</td>\n      <td>5.004262</td>\n      <td>2.548459</td>\n      <td>6.405165</td>\n    </tr>\n    <tr>\n      <th>1</th>\n      <td>Saccharina_japonica</td>\n      <td>Saccharina</td>\n      <td>brown</td>\n      <td>6.731070</td>\n      <td>1.255251</td>\n      <td>5.621499</td>\n      <td>6.013219</td>\n      <td>4.156700</td>\n    </tr>\n    <tr>\n      <th>2</th>\n      <td>Fucus_serratus</td>\n      <td>Fucus</td>\n      <td>brown</td>\n      <td>3.276870</td>\n      <td>0.346431</td>\n      <td>1.216767</td>\n      <td>3.623225</td>\n      <td>0.304573</td>\n    </tr>\n    <tr>\n      <th>3</th>\n      <td>Fucus_distichus</td>\n      <td>Fucus</td>\n      <td>brown</td>\n      <td>6.786996</td>\n      <td>6.641303</td>\n      <td>6.423606</td>\n      <td>2.272724</td>\n      <td>3.393203</td>\n    </tr>\n    <tr>\n      <th>4</th>\n      <td>Cladophora_fracta</td>\n      <td>Cladophora</td>\n      <td>green</td>\n      <td>3.861470</td>\n      <td>1.648450</td>\n      <td>6.940588</td>\n      <td>2.316955</td>\n      <td>2.528886</td>\n    </tr>\n    <tr>\n      <th>5</th>\n      <td>Cladophora_compacta</td>\n      <td>Cladophora</td>\n      <td>green</td>\n      <td>5.712284</td>\n      <td>3.461692</td>\n      <td>3.082826</td>\n      <td>3.343707</td>\n      <td>1.432514</td>\n    </tr>\n    <tr>\n      <th>6</th>\n      <td>Cladophora_gracilis</td>\n      <td>Cladophora</td>\n      <td>green</td>\n      <td>2.452623</td>\n      <td>6.881024</td>\n      <td>5.841520</td>\n      <td>2.740165</td>\n      <td>2.829016</td>\n    </tr>\n    <tr>\n      <th>7</th>\n      <td>Palmaria_palmata</td>\n      <td>Palmaria</td>\n      <td>red</td>\n      <td>0.704580</td>\n      <td>3.176440</td>\n      <td>5.573905</td>\n      <td>3.242090</td>\n      <td>2.245538</td>\n    </tr>\n    <tr>\n      <th>8</th>\n      <td>Saccharina_latissima</td>\n      <td>Saccharina</td>\n      <td>brown</td>\n      <td>1.636122</td>\n      <td>5.793163</td>\n      <td>1.071920</td>\n      <td>3.947968</td>\n      <td>4.817804</td>\n    </tr>\n    <tr>\n      <th>9</th>\n      <td>Ascophyllum_nodosum</td>\n      <td>Ascophyllum</td>\n      <td>brown</td>\n      <td>6.825467</td>\n      <td>0.875429</td>\n      <td>5.253527</td>\n      <td>3.414961</td>\n      <td>2.432526</td>\n    </tr>\n  </tbody>\n</table>\n</div>"
     },
     "execution_count": 45,
     "metadata": {},
     "output_type": "execute_result"
    }
   ],
   "source": [
    "test_3=pd.read_csv(\"http://stepik.org/media/attachments/course/4852/algae.csv\",encoding=\"windows-1251\")\n",
    "test_3"
   ],
   "metadata": {
    "collapsed": false
   }
  },
  {
   "cell_type": "code",
   "execution_count": 66,
   "outputs": [
    {
     "data": {
      "text/plain": "         genus   sucrose    alanin   citrate   glucose  oleic_acid\n0  Ascophyllum  6.825467  0.875429  5.253527  3.414961    2.432526\n1   Cladophora  4.008792  3.997055  5.288311  2.800276    2.263472\n2        Fucus  4.355112  3.566411  4.214878  2.814803    3.367647\n3     Palmaria  0.704580  3.176440  5.573905  3.242090    2.245538\n4   Saccharina  4.183596  3.524207  3.346710  4.980594    4.487252",
      "text/html": "<div>\n<style scoped>\n    .dataframe tbody tr th:only-of-type {\n        vertical-align: middle;\n    }\n\n    .dataframe tbody tr th {\n        vertical-align: top;\n    }\n\n    .dataframe thead th {\n        text-align: right;\n    }\n</style>\n<table border=\"1\" class=\"dataframe\">\n  <thead>\n    <tr style=\"text-align: right;\">\n      <th></th>\n      <th>genus</th>\n      <th>sucrose</th>\n      <th>alanin</th>\n      <th>citrate</th>\n      <th>glucose</th>\n      <th>oleic_acid</th>\n    </tr>\n  </thead>\n  <tbody>\n    <tr>\n      <th>0</th>\n      <td>Ascophyllum</td>\n      <td>6.825467</td>\n      <td>0.875429</td>\n      <td>5.253527</td>\n      <td>3.414961</td>\n      <td>2.432526</td>\n    </tr>\n    <tr>\n      <th>1</th>\n      <td>Cladophora</td>\n      <td>4.008792</td>\n      <td>3.997055</td>\n      <td>5.288311</td>\n      <td>2.800276</td>\n      <td>2.263472</td>\n    </tr>\n    <tr>\n      <th>2</th>\n      <td>Fucus</td>\n      <td>4.355112</td>\n      <td>3.566411</td>\n      <td>4.214878</td>\n      <td>2.814803</td>\n      <td>3.367647</td>\n    </tr>\n    <tr>\n      <th>3</th>\n      <td>Palmaria</td>\n      <td>0.704580</td>\n      <td>3.176440</td>\n      <td>5.573905</td>\n      <td>3.242090</td>\n      <td>2.245538</td>\n    </tr>\n    <tr>\n      <th>4</th>\n      <td>Saccharina</td>\n      <td>4.183596</td>\n      <td>3.524207</td>\n      <td>3.346710</td>\n      <td>4.980594</td>\n      <td>4.487252</td>\n    </tr>\n  </tbody>\n</table>\n</div>"
     },
     "execution_count": 66,
     "metadata": {},
     "output_type": "execute_result"
    }
   ],
   "source": [
    "mean_concentrations=test_3.groupby([\"genus\"], as_index=False).mean()\n",
    "mean_concentrations"
   ],
   "metadata": {
    "collapsed": false
   }
  },
  {
   "cell_type": "code",
   "execution_count": 94,
   "outputs": [
    {
     "data": {
      "text/plain": "count    3.00\nmean     3.57\nstd      3.15\nmin      0.35\n25%      2.03\n50%      3.71\n75%      5.18\nmax      6.64\nName: alanin, dtype: float64"
     },
     "execution_count": 94,
     "metadata": {},
     "output_type": "execute_result"
    }
   ],
   "source": [
    "# MIN MAX MEAN\n",
    "test_3.query(\"genus=='Fucus'\").alanin.describe().round(2)"
   ],
   "metadata": {
    "collapsed": false
   }
  },
  {
   "cell_type": "markdown",
   "source": [
    "#Task 4"
   ],
   "metadata": {
    "collapsed": false
   }
  },
  {
   "cell_type": "code",
   "execution_count": 95,
   "outputs": [
    {
     "data": {
      "text/plain": "                species        genus  group   sucrose    alanin   citrate  \\\n0     Fucus_vesiculosus        Fucus  brown  3.001472  3.711498  5.004262   \n1   Saccharina_japonica   Saccharina  brown  6.731070  1.255251  5.621499   \n2        Fucus_serratus        Fucus  brown  3.276870  0.346431  1.216767   \n3       Fucus_distichus        Fucus  brown  6.786996  6.641303  6.423606   \n4     Cladophora_fracta   Cladophora  green  3.861470  1.648450  6.940588   \n5   Cladophora_compacta   Cladophora  green  5.712284  3.461692  3.082826   \n6   Cladophora_gracilis   Cladophora  green  2.452623  6.881024  5.841520   \n7      Palmaria_palmata     Palmaria    red  0.704580  3.176440  5.573905   \n8  Saccharina_latissima   Saccharina  brown  1.636122  5.793163  1.071920   \n9   Ascophyllum_nodosum  Ascophyllum  brown  6.825467  0.875429  5.253527   \n\n    glucose  oleic_acid  \n0  2.548459    6.405165  \n1  6.013219    4.156700  \n2  3.623225    0.304573  \n3  2.272724    3.393203  \n4  2.316955    2.528886  \n5  3.343707    1.432514  \n6  2.740165    2.829016  \n7  3.242090    2.245538  \n8  3.947968    4.817804  \n9  3.414961    2.432526  ",
      "text/html": "<div>\n<style scoped>\n    .dataframe tbody tr th:only-of-type {\n        vertical-align: middle;\n    }\n\n    .dataframe tbody tr th {\n        vertical-align: top;\n    }\n\n    .dataframe thead th {\n        text-align: right;\n    }\n</style>\n<table border=\"1\" class=\"dataframe\">\n  <thead>\n    <tr style=\"text-align: right;\">\n      <th></th>\n      <th>species</th>\n      <th>genus</th>\n      <th>group</th>\n      <th>sucrose</th>\n      <th>alanin</th>\n      <th>citrate</th>\n      <th>glucose</th>\n      <th>oleic_acid</th>\n    </tr>\n  </thead>\n  <tbody>\n    <tr>\n      <th>0</th>\n      <td>Fucus_vesiculosus</td>\n      <td>Fucus</td>\n      <td>brown</td>\n      <td>3.001472</td>\n      <td>3.711498</td>\n      <td>5.004262</td>\n      <td>2.548459</td>\n      <td>6.405165</td>\n    </tr>\n    <tr>\n      <th>1</th>\n      <td>Saccharina_japonica</td>\n      <td>Saccharina</td>\n      <td>brown</td>\n      <td>6.731070</td>\n      <td>1.255251</td>\n      <td>5.621499</td>\n      <td>6.013219</td>\n      <td>4.156700</td>\n    </tr>\n    <tr>\n      <th>2</th>\n      <td>Fucus_serratus</td>\n      <td>Fucus</td>\n      <td>brown</td>\n      <td>3.276870</td>\n      <td>0.346431</td>\n      <td>1.216767</td>\n      <td>3.623225</td>\n      <td>0.304573</td>\n    </tr>\n    <tr>\n      <th>3</th>\n      <td>Fucus_distichus</td>\n      <td>Fucus</td>\n      <td>brown</td>\n      <td>6.786996</td>\n      <td>6.641303</td>\n      <td>6.423606</td>\n      <td>2.272724</td>\n      <td>3.393203</td>\n    </tr>\n    <tr>\n      <th>4</th>\n      <td>Cladophora_fracta</td>\n      <td>Cladophora</td>\n      <td>green</td>\n      <td>3.861470</td>\n      <td>1.648450</td>\n      <td>6.940588</td>\n      <td>2.316955</td>\n      <td>2.528886</td>\n    </tr>\n    <tr>\n      <th>5</th>\n      <td>Cladophora_compacta</td>\n      <td>Cladophora</td>\n      <td>green</td>\n      <td>5.712284</td>\n      <td>3.461692</td>\n      <td>3.082826</td>\n      <td>3.343707</td>\n      <td>1.432514</td>\n    </tr>\n    <tr>\n      <th>6</th>\n      <td>Cladophora_gracilis</td>\n      <td>Cladophora</td>\n      <td>green</td>\n      <td>2.452623</td>\n      <td>6.881024</td>\n      <td>5.841520</td>\n      <td>2.740165</td>\n      <td>2.829016</td>\n    </tr>\n    <tr>\n      <th>7</th>\n      <td>Palmaria_palmata</td>\n      <td>Palmaria</td>\n      <td>red</td>\n      <td>0.704580</td>\n      <td>3.176440</td>\n      <td>5.573905</td>\n      <td>3.242090</td>\n      <td>2.245538</td>\n    </tr>\n    <tr>\n      <th>8</th>\n      <td>Saccharina_latissima</td>\n      <td>Saccharina</td>\n      <td>brown</td>\n      <td>1.636122</td>\n      <td>5.793163</td>\n      <td>1.071920</td>\n      <td>3.947968</td>\n      <td>4.817804</td>\n    </tr>\n    <tr>\n      <th>9</th>\n      <td>Ascophyllum_nodosum</td>\n      <td>Ascophyllum</td>\n      <td>brown</td>\n      <td>6.825467</td>\n      <td>0.875429</td>\n      <td>5.253527</td>\n      <td>3.414961</td>\n      <td>2.432526</td>\n    </tr>\n  </tbody>\n</table>\n</div>"
     },
     "execution_count": 95,
     "metadata": {},
     "output_type": "execute_result"
    }
   ],
   "source": [
    "test_4=pd.read_csv(\"http://stepik.org/media/attachments/course/4852/algae.csv\", encoding=\"windows-1251\")\n",
    "test_4"
   ],
   "metadata": {
    "collapsed": false
   }
  },
  {
   "cell_type": "code",
   "execution_count": 108,
   "outputs": [
    {
     "ename": "KeyError",
     "evalue": "\"Column(s) ['Saccharina_japonica'] do not exist\"",
     "output_type": "error",
     "traceback": [
      "\u001B[1;31m---------------------------------------------------------------------------\u001B[0m",
      "\u001B[1;31mKeyError\u001B[0m                                  Traceback (most recent call last)",
      "Input \u001B[1;32mIn [108]\u001B[0m, in \u001B[0;36m<cell line: 1>\u001B[1;34m()\u001B[0m\n\u001B[1;32m----> 1\u001B[0m \u001B[43mtest_4\u001B[49m\u001B[38;5;241;43m.\u001B[39;49m\u001B[43mquery\u001B[49m\u001B[43m(\u001B[49m\u001B[38;5;124;43m\"\u001B[39;49m\u001B[38;5;124;43mspecies==\u001B[39;49m\u001B[38;5;124;43m'\u001B[39;49m\u001B[38;5;124;43mSaccharina_japonica\u001B[39;49m\u001B[38;5;124;43m'\u001B[39;49m\u001B[38;5;124;43m\"\u001B[39;49m\u001B[43m)\u001B[49m\u001B[43m\\\u001B[49m\n\u001B[0;32m      2\u001B[0m \u001B[43m    \u001B[49m\u001B[38;5;241;43m.\u001B[39;49m\u001B[43mgroupby\u001B[49m\u001B[43m(\u001B[49m\u001B[43m[\u001B[49m\u001B[38;5;124;43m\"\u001B[39;49m\u001B[38;5;124;43mgroup\u001B[39;49m\u001B[38;5;124;43m\"\u001B[39;49m\u001B[43m]\u001B[49m\u001B[43m,\u001B[49m\u001B[43m \u001B[49m\u001B[43mas_index\u001B[49m\u001B[38;5;241;43m=\u001B[39;49m\u001B[38;5;28;43;01mFalse\u001B[39;49;00m\u001B[43m)\u001B[49m\u001B[43m\\\u001B[49m\n\u001B[0;32m      3\u001B[0m \u001B[43m    \u001B[49m\u001B[38;5;241;43m.\u001B[39;49m\u001B[43maggregate\u001B[49m\u001B[43m(\u001B[49m\u001B[43m{\u001B[49m\u001B[38;5;124;43m\"\u001B[39;49m\u001B[38;5;124;43mSaccharina_japonica\u001B[39;49m\u001B[38;5;124;43m\"\u001B[39;49m\u001B[43m:\u001B[49m\u001B[43m[\u001B[49m\u001B[38;5;124;43m\"\u001B[39;49m\u001B[38;5;124;43mmin\u001B[39;49m\u001B[38;5;124;43m\"\u001B[39;49m\u001B[43m,\u001B[49m\u001B[43m \u001B[49m\u001B[38;5;124;43m\"\u001B[39;49m\u001B[38;5;124;43mmax\u001B[39;49m\u001B[38;5;124;43m\"\u001B[39;49m\u001B[43m]\u001B[49m\u001B[43m}\u001B[49m\u001B[43m)\u001B[49m\n",
      "File \u001B[1;32m~\\anaconda3\\lib\\site-packages\\pandas\\core\\groupby\\generic.py:869\u001B[0m, in \u001B[0;36mDataFrameGroupBy.aggregate\u001B[1;34m(self, func, engine, engine_kwargs, *args, **kwargs)\u001B[0m\n\u001B[0;32m    866\u001B[0m func \u001B[38;5;241m=\u001B[39m maybe_mangle_lambdas(func)\n\u001B[0;32m    868\u001B[0m op \u001B[38;5;241m=\u001B[39m GroupByApply(\u001B[38;5;28mself\u001B[39m, func, args, kwargs)\n\u001B[1;32m--> 869\u001B[0m result \u001B[38;5;241m=\u001B[39m \u001B[43mop\u001B[49m\u001B[38;5;241;43m.\u001B[39;49m\u001B[43magg\u001B[49m\u001B[43m(\u001B[49m\u001B[43m)\u001B[49m\n\u001B[0;32m    870\u001B[0m \u001B[38;5;28;01mif\u001B[39;00m \u001B[38;5;129;01mnot\u001B[39;00m is_dict_like(func) \u001B[38;5;129;01mand\u001B[39;00m result \u001B[38;5;129;01mis\u001B[39;00m \u001B[38;5;129;01mnot\u001B[39;00m \u001B[38;5;28;01mNone\u001B[39;00m:\n\u001B[0;32m    871\u001B[0m     \u001B[38;5;28;01mreturn\u001B[39;00m result\n",
      "File \u001B[1;32m~\\anaconda3\\lib\\site-packages\\pandas\\core\\apply.py:168\u001B[0m, in \u001B[0;36mApply.agg\u001B[1;34m(self)\u001B[0m\n\u001B[0;32m    165\u001B[0m     \u001B[38;5;28;01mreturn\u001B[39;00m \u001B[38;5;28mself\u001B[39m\u001B[38;5;241m.\u001B[39mapply_str()\n\u001B[0;32m    167\u001B[0m \u001B[38;5;28;01mif\u001B[39;00m is_dict_like(arg):\n\u001B[1;32m--> 168\u001B[0m     \u001B[38;5;28;01mreturn\u001B[39;00m \u001B[38;5;28;43mself\u001B[39;49m\u001B[38;5;241;43m.\u001B[39;49m\u001B[43magg_dict_like\u001B[49m\u001B[43m(\u001B[49m\u001B[43m)\u001B[49m\n\u001B[0;32m    169\u001B[0m \u001B[38;5;28;01melif\u001B[39;00m is_list_like(arg):\n\u001B[0;32m    170\u001B[0m     \u001B[38;5;66;03m# we require a list, but not a 'str'\u001B[39;00m\n\u001B[0;32m    171\u001B[0m     \u001B[38;5;28;01mreturn\u001B[39;00m \u001B[38;5;28mself\u001B[39m\u001B[38;5;241m.\u001B[39magg_list_like()\n",
      "File \u001B[1;32m~\\anaconda3\\lib\\site-packages\\pandas\\core\\apply.py:467\u001B[0m, in \u001B[0;36mApply.agg_dict_like\u001B[1;34m(self)\u001B[0m\n\u001B[0;32m    464\u001B[0m     selected_obj \u001B[38;5;241m=\u001B[39m obj\u001B[38;5;241m.\u001B[39m_selected_obj\n\u001B[0;32m    465\u001B[0m     selection \u001B[38;5;241m=\u001B[39m obj\u001B[38;5;241m.\u001B[39m_selection\n\u001B[1;32m--> 467\u001B[0m arg \u001B[38;5;241m=\u001B[39m \u001B[38;5;28;43mself\u001B[39;49m\u001B[38;5;241;43m.\u001B[39;49m\u001B[43mnormalize_dictlike_arg\u001B[49m\u001B[43m(\u001B[49m\u001B[38;5;124;43m\"\u001B[39;49m\u001B[38;5;124;43magg\u001B[39;49m\u001B[38;5;124;43m\"\u001B[39;49m\u001B[43m,\u001B[49m\u001B[43m \u001B[49m\u001B[43mselected_obj\u001B[49m\u001B[43m,\u001B[49m\u001B[43m \u001B[49m\u001B[43marg\u001B[49m\u001B[43m)\u001B[49m\n\u001B[0;32m    469\u001B[0m \u001B[38;5;28;01mif\u001B[39;00m selected_obj\u001B[38;5;241m.\u001B[39mndim \u001B[38;5;241m==\u001B[39m \u001B[38;5;241m1\u001B[39m:\n\u001B[0;32m    470\u001B[0m     \u001B[38;5;66;03m# key only used for output\u001B[39;00m\n\u001B[0;32m    471\u001B[0m     colg \u001B[38;5;241m=\u001B[39m obj\u001B[38;5;241m.\u001B[39m_gotitem(selection, ndim\u001B[38;5;241m=\u001B[39m\u001B[38;5;241m1\u001B[39m)\n",
      "File \u001B[1;32m~\\anaconda3\\lib\\site-packages\\pandas\\core\\apply.py:585\u001B[0m, in \u001B[0;36mApply.normalize_dictlike_arg\u001B[1;34m(self, how, obj, func)\u001B[0m\n\u001B[0;32m    583\u001B[0m     \u001B[38;5;28;01mif\u001B[39;00m \u001B[38;5;28mlen\u001B[39m(cols) \u001B[38;5;241m>\u001B[39m \u001B[38;5;241m0\u001B[39m:\n\u001B[0;32m    584\u001B[0m         cols_sorted \u001B[38;5;241m=\u001B[39m \u001B[38;5;28mlist\u001B[39m(safe_sort(\u001B[38;5;28mlist\u001B[39m(cols)))\n\u001B[1;32m--> 585\u001B[0m         \u001B[38;5;28;01mraise\u001B[39;00m \u001B[38;5;167;01mKeyError\u001B[39;00m(\u001B[38;5;124mf\u001B[39m\u001B[38;5;124m\"\u001B[39m\u001B[38;5;124mColumn(s) \u001B[39m\u001B[38;5;132;01m{\u001B[39;00mcols_sorted\u001B[38;5;132;01m}\u001B[39;00m\u001B[38;5;124m do not exist\u001B[39m\u001B[38;5;124m\"\u001B[39m)\n\u001B[0;32m    587\u001B[0m is_aggregator \u001B[38;5;241m=\u001B[39m \u001B[38;5;28;01mlambda\u001B[39;00m x: \u001B[38;5;28misinstance\u001B[39m(x, (\u001B[38;5;28mlist\u001B[39m, \u001B[38;5;28mtuple\u001B[39m, \u001B[38;5;28mdict\u001B[39m))\n\u001B[0;32m    589\u001B[0m \u001B[38;5;66;03m# if we have a dict of any non-scalars\u001B[39;00m\n\u001B[0;32m    590\u001B[0m \u001B[38;5;66;03m# eg. {'A' : ['mean']}, normalize all to\u001B[39;00m\n\u001B[0;32m    591\u001B[0m \u001B[38;5;66;03m# be list-likes\u001B[39;00m\n\u001B[0;32m    592\u001B[0m \u001B[38;5;66;03m# Cannot use func.values() because arg may be a Series\u001B[39;00m\n",
      "\u001B[1;31mKeyError\u001B[0m: \"Column(s) ['Saccharina_japonica'] do not exist\""
     ]
    }
   ],
   "source": [
    "test_4.query(\"species=='Saccharina_japonica'\")\\\n",
    "    .groupby([\"group\"], as_index=False)\\\n",
    "    .aggregate({\"Saccharina_japonica\":[\"min\", \"max\"]})"
   ],
   "metadata": {
    "collapsed": false
   }
  },
  {
   "cell_type": "code",
   "execution_count": null,
   "outputs": [],
   "source": [],
   "metadata": {
    "collapsed": false
   }
  }
 ],
 "metadata": {
  "kernelspec": {
   "display_name": "Python 3",
   "language": "python",
   "name": "python3"
  },
  "language_info": {
   "codemirror_mode": {
    "name": "ipython",
    "version": 2
   },
   "file_extension": ".py",
   "mimetype": "text/x-python",
   "name": "python",
   "nbconvert_exporter": "python",
   "pygments_lexer": "ipython2",
   "version": "2.7.6"
  }
 },
 "nbformat": 4,
 "nbformat_minor": 0
}
