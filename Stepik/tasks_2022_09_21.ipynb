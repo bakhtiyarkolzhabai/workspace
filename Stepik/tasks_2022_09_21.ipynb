{
 "cells": [
  {
   "cell_type": "code",
   "execution_count": 83,
   "metadata": {
    "collapsed": true,
    "pycharm": {
     "name": "#%%\n"
    }
   },
   "outputs": [
    {
     "data": {
      "text/plain": "['Name1 Surname1', 'Name2 Surname2', '…']"
     },
     "execution_count": 83,
     "metadata": {},
     "output_type": "execute_result"
    }
   ],
   "source": [
    "names='Name1 Surname1, Name2 Surname2, …'\n",
    "names_list=names.split(', ')\n",
    "names_list"
   ]
  },
  {
   "cell_type": "code",
   "execution_count": 84,
   "outputs": [],
   "source": [
    "import pandas as pd\n",
    "import seaborn as sns\n",
    "import numpy as np\n",
    "\n",
    "import matplotlib.pyplot as plt\n",
    "\n",
    "%matplotlib inline"
   ],
   "metadata": {
    "collapsed": false,
    "pycharm": {
     "name": "#%%\n"
    }
   }
  },
  {
   "cell_type": "markdown",
   "source": [
    "'''Task 2'''"
   ],
   "metadata": {
    "collapsed": false,
    "pycharm": {
     "name": "#%% md\n"
    }
   }
  },
  {
   "cell_type": "code",
   "execution_count": 85,
   "outputs": [
    {
     "data": {
      "text/plain": "   client_id  sex  wealth  age\n0          1    0  medium   12\n1         10    1    high   43\n2         12    0     low   56\n3         43    0  medium   23\n4        100    1    high   30",
      "text/html": "<div>\n<style scoped>\n    .dataframe tbody tr th:only-of-type {\n        vertical-align: middle;\n    }\n\n    .dataframe tbody tr th {\n        vertical-align: top;\n    }\n\n    .dataframe thead th {\n        text-align: right;\n    }\n</style>\n<table border=\"1\" class=\"dataframe\">\n  <thead>\n    <tr style=\"text-align: right;\">\n      <th></th>\n      <th>client_id</th>\n      <th>sex</th>\n      <th>wealth</th>\n      <th>age</th>\n    </tr>\n  </thead>\n  <tbody>\n    <tr>\n      <th>0</th>\n      <td>1</td>\n      <td>0</td>\n      <td>medium</td>\n      <td>12</td>\n    </tr>\n    <tr>\n      <th>1</th>\n      <td>10</td>\n      <td>1</td>\n      <td>high</td>\n      <td>43</td>\n    </tr>\n    <tr>\n      <th>2</th>\n      <td>12</td>\n      <td>0</td>\n      <td>low</td>\n      <td>56</td>\n    </tr>\n    <tr>\n      <th>3</th>\n      <td>43</td>\n      <td>0</td>\n      <td>medium</td>\n      <td>23</td>\n    </tr>\n    <tr>\n      <th>4</th>\n      <td>100</td>\n      <td>1</td>\n      <td>high</td>\n      <td>30</td>\n    </tr>\n  </tbody>\n</table>\n</div>"
     },
     "execution_count": 85,
     "metadata": {},
     "output_type": "execute_result"
    }
   ],
   "source": [
    "\n",
    "#Create DataFrame, task 2 #####################################################################################\n",
    "df=pd.DataFrame({\n",
    "    'client_id': [1,10,12,43,100],\n",
    "    'sex': [0,1,0,0,1],\n",
    "    'wealth': ['medium', 'high', 'low', 'medium','high'],\n",
    "    'age': [12,43,56,23,30]\n",
    "})\n",
    "df"
   ],
   "metadata": {
    "collapsed": false,
    "pycharm": {
     "name": "#%%\n"
    }
   }
  },
  {
   "cell_type": "code",
   "execution_count": 86,
   "outputs": [
    {
     "data": {
      "text/plain": "Empty DataFrame\nColumns: [client_id, sex, wealth, age]\nIndex: []",
      "text/html": "<div>\n<style scoped>\n    .dataframe tbody tr th:only-of-type {\n        vertical-align: middle;\n    }\n\n    .dataframe tbody tr th {\n        vertical-align: top;\n    }\n\n    .dataframe thead th {\n        text-align: right;\n    }\n</style>\n<table border=\"1\" class=\"dataframe\">\n  <thead>\n    <tr style=\"text-align: right;\">\n      <th></th>\n      <th>client_id</th>\n      <th>sex</th>\n      <th>wealth</th>\n      <th>age</th>\n    </tr>\n  </thead>\n  <tbody>\n  </tbody>\n</table>\n</div>"
     },
     "execution_count": 86,
     "metadata": {},
     "output_type": "execute_result"
    }
   ],
   "source": [
    "medium_35=df.query('wealth == \"medium\" and age > 35')\n",
    "medium_35"
   ],
   "metadata": {
    "collapsed": false,
    "pycharm": {
     "name": "#%%\n"
    }
   }
  },
  {
   "cell_type": "markdown",
   "source": [
    "'''Task 3'''"
   ],
   "metadata": {
    "collapsed": false,
    "pycharm": {
     "name": "#%% md\n"
    }
   },
   "outputs": [
    {
     "data": {
      "text/plain": "'Task 3'"
     },
     "execution_count": 1,
     "metadata": {},
     "output_type": "execute_result"
    }
   ],
   "execution_count": 1
  },
  {
   "cell_type": "code",
   "execution_count": 87,
   "outputs": [
    {
     "data": {
      "text/plain": "   Клиент id  Пол Благосостояние  Возраст\n0          1    0         medium       12\n1         10    1           high       43\n2         12    0            low       56\n3         43    0         medium       23\n4        100    1           high       30",
      "text/html": "<div>\n<style scoped>\n    .dataframe tbody tr th:only-of-type {\n        vertical-align: middle;\n    }\n\n    .dataframe tbody tr th {\n        vertical-align: top;\n    }\n\n    .dataframe thead th {\n        text-align: right;\n    }\n</style>\n<table border=\"1\" class=\"dataframe\">\n  <thead>\n    <tr style=\"text-align: right;\">\n      <th></th>\n      <th>Клиент id</th>\n      <th>Пол</th>\n      <th>Благосостояние</th>\n      <th>Возраст</th>\n    </tr>\n  </thead>\n  <tbody>\n    <tr>\n      <th>0</th>\n      <td>1</td>\n      <td>0</td>\n      <td>medium</td>\n      <td>12</td>\n    </tr>\n    <tr>\n      <th>1</th>\n      <td>10</td>\n      <td>1</td>\n      <td>high</td>\n      <td>43</td>\n    </tr>\n    <tr>\n      <th>2</th>\n      <td>12</td>\n      <td>0</td>\n      <td>low</td>\n      <td>56</td>\n    </tr>\n    <tr>\n      <th>3</th>\n      <td>43</td>\n      <td>0</td>\n      <td>medium</td>\n      <td>23</td>\n    </tr>\n    <tr>\n      <th>4</th>\n      <td>100</td>\n      <td>1</td>\n      <td>high</td>\n      <td>30</td>\n    </tr>\n  </tbody>\n</table>\n</div>"
     },
     "execution_count": 87,
     "metadata": {},
     "output_type": "execute_result"
    }
   ],
   "source": [
    "#Create DataFrame, task 3 #####################################################################################\n",
    "df=pd.DataFrame({\n",
    "    'Клиент id': [1,10,12,43,100],\n",
    "    'Пол': [0,1,0,0,1],\n",
    "    'Благосостояние': ['medium', 'high', 'low', 'medium','high'],\n",
    "    'Возраст': [12,43,56,23,30]\n",
    "})\n",
    "df"
   ],
   "metadata": {
    "collapsed": false,
    "pycharm": {
     "name": "#%%\n"
    }
   }
  },
  {
   "cell_type": "code",
   "execution_count": 88,
   "outputs": [
    {
     "data": {
      "text/plain": "   client_id  sex  wealth  age\n0          1    0  medium   12\n1         10    1    high   43\n2         12    0     low   56\n3         43    0  medium   23\n4        100    1    high   30",
      "text/html": "<div>\n<style scoped>\n    .dataframe tbody tr th:only-of-type {\n        vertical-align: middle;\n    }\n\n    .dataframe tbody tr th {\n        vertical-align: top;\n    }\n\n    .dataframe thead th {\n        text-align: right;\n    }\n</style>\n<table border=\"1\" class=\"dataframe\">\n  <thead>\n    <tr style=\"text-align: right;\">\n      <th></th>\n      <th>client_id</th>\n      <th>sex</th>\n      <th>wealth</th>\n      <th>age</th>\n    </tr>\n  </thead>\n  <tbody>\n    <tr>\n      <th>0</th>\n      <td>1</td>\n      <td>0</td>\n      <td>medium</td>\n      <td>12</td>\n    </tr>\n    <tr>\n      <th>1</th>\n      <td>10</td>\n      <td>1</td>\n      <td>high</td>\n      <td>43</td>\n    </tr>\n    <tr>\n      <th>2</th>\n      <td>12</td>\n      <td>0</td>\n      <td>low</td>\n      <td>56</td>\n    </tr>\n    <tr>\n      <th>3</th>\n      <td>43</td>\n      <td>0</td>\n      <td>medium</td>\n      <td>23</td>\n    </tr>\n    <tr>\n      <th>4</th>\n      <td>100</td>\n      <td>1</td>\n      <td>high</td>\n      <td>30</td>\n    </tr>\n  </tbody>\n</table>\n</div>"
     },
     "execution_count": 88,
     "metadata": {},
     "output_type": "execute_result"
    }
   ],
   "source": [
    "df=df.rename(columns={'Клиент id': 'client_id',\n",
    "                      'Пол': 'sex',\n",
    "                      'Благосостояние': 'wealth',\n",
    "                      'Возраст': 'age'\n",
    "})\n",
    "df"
   ],
   "metadata": {
    "collapsed": false,
    "pycharm": {
     "name": "#%%\n"
    }
   }
  },
  {
   "cell_type": "markdown",
   "source": [
    "'''Task 4'''\n"
   ],
   "metadata": {
    "collapsed": false,
    "pycharm": {
     "name": "#%% md\n"
    }
   }
  },
  {
   "cell_type": "code",
   "execution_count": 89,
   "outputs": [
    {
     "data": {
      "text/plain": "   client_id  sex  wealth  age  older_than_30\n0          1    0  medium   12          False\n1         10    1    high   43           True\n2         12    0     low   56           True\n3         43    0  medium   23          False\n4        100    1    high   30          False",
      "text/html": "<div>\n<style scoped>\n    .dataframe tbody tr th:only-of-type {\n        vertical-align: middle;\n    }\n\n    .dataframe tbody tr th {\n        vertical-align: top;\n    }\n\n    .dataframe thead th {\n        text-align: right;\n    }\n</style>\n<table border=\"1\" class=\"dataframe\">\n  <thead>\n    <tr style=\"text-align: right;\">\n      <th></th>\n      <th>client_id</th>\n      <th>sex</th>\n      <th>wealth</th>\n      <th>age</th>\n      <th>older_than_30</th>\n    </tr>\n  </thead>\n  <tbody>\n    <tr>\n      <th>0</th>\n      <td>1</td>\n      <td>0</td>\n      <td>medium</td>\n      <td>12</td>\n      <td>False</td>\n    </tr>\n    <tr>\n      <th>1</th>\n      <td>10</td>\n      <td>1</td>\n      <td>high</td>\n      <td>43</td>\n      <td>True</td>\n    </tr>\n    <tr>\n      <th>2</th>\n      <td>12</td>\n      <td>0</td>\n      <td>low</td>\n      <td>56</td>\n      <td>True</td>\n    </tr>\n    <tr>\n      <th>3</th>\n      <td>43</td>\n      <td>0</td>\n      <td>medium</td>\n      <td>23</td>\n      <td>False</td>\n    </tr>\n    <tr>\n      <th>4</th>\n      <td>100</td>\n      <td>1</td>\n      <td>high</td>\n      <td>30</td>\n      <td>False</td>\n    </tr>\n  </tbody>\n</table>\n</div>"
     },
     "execution_count": 89,
     "metadata": {},
     "output_type": "execute_result"
    }
   ],
   "source": [
    "# create column\n",
    "df['older_than_30']=df.age>30\n",
    "df"
   ],
   "metadata": {
    "collapsed": false,
    "pycharm": {
     "name": "#%%\n"
    }
   }
  },
  {
   "cell_type": "code",
   "execution_count": 90,
   "outputs": [
    {
     "data": {
      "text/plain": "client_id        5\nsex              2\nwealth           3\nage              5\nolder_than_30    2\ndtype: int64"
     },
     "execution_count": 90,
     "metadata": {},
     "output_type": "execute_result"
    }
   ],
   "source": [
    "unique_num=df.nunique()\n",
    "unique_num"
   ],
   "metadata": {
    "collapsed": false,
    "pycharm": {
     "name": "#%%\n"
    }
   }
  },
  {
   "cell_type": "code",
   "execution_count": 91,
   "outputs": [
    {
     "data": {
      "text/plain": "   client_id  amount    date\n0          1     100  125551\n1          5     300  166622\n2         10    9000   19999",
      "text/html": "<div>\n<style scoped>\n    .dataframe tbody tr th:only-of-type {\n        vertical-align: middle;\n    }\n\n    .dataframe tbody tr th {\n        vertical-align: top;\n    }\n\n    .dataframe thead th {\n        text-align: right;\n    }\n</style>\n<table border=\"1\" class=\"dataframe\">\n  <thead>\n    <tr style=\"text-align: right;\">\n      <th></th>\n      <th>client_id</th>\n      <th>amount</th>\n      <th>date</th>\n    </tr>\n  </thead>\n  <tbody>\n    <tr>\n      <th>0</th>\n      <td>1</td>\n      <td>100</td>\n      <td>125551</td>\n    </tr>\n    <tr>\n      <th>1</th>\n      <td>5</td>\n      <td>300</td>\n      <td>166622</td>\n    </tr>\n    <tr>\n      <th>2</th>\n      <td>10</td>\n      <td>9000</td>\n      <td>19999</td>\n    </tr>\n  </tbody>\n</table>\n</div>"
     },
     "execution_count": 91,
     "metadata": {},
     "output_type": "execute_result"
    }
   ],
   "source": [
    "data=pd.DataFrame({\n",
    "        'client_id': [1,5,10],\n",
    "        'amount': [100,300,9000],\n",
    "        'date': [125551,166622,19999],\n",
    "})\n",
    "data"
   ],
   "metadata": {
    "collapsed": false,
    "pycharm": {
     "name": "#%%\n"
    }
   }
  },
  {
   "cell_type": "code",
   "execution_count": 92,
   "outputs": [
    {
     "data": {
      "text/plain": "   client_id  sex  wealth  age  older_than_30  amount    date\n0          1    0  medium   12          False     100  125551\n1         10    1    high   43           True    9000   19999",
      "text/html": "<div>\n<style scoped>\n    .dataframe tbody tr th:only-of-type {\n        vertical-align: middle;\n    }\n\n    .dataframe tbody tr th {\n        vertical-align: top;\n    }\n\n    .dataframe thead th {\n        text-align: right;\n    }\n</style>\n<table border=\"1\" class=\"dataframe\">\n  <thead>\n    <tr style=\"text-align: right;\">\n      <th></th>\n      <th>client_id</th>\n      <th>sex</th>\n      <th>wealth</th>\n      <th>age</th>\n      <th>older_than_30</th>\n      <th>amount</th>\n      <th>date</th>\n    </tr>\n  </thead>\n  <tbody>\n    <tr>\n      <th>0</th>\n      <td>1</td>\n      <td>0</td>\n      <td>medium</td>\n      <td>12</td>\n      <td>False</td>\n      <td>100</td>\n      <td>125551</td>\n    </tr>\n    <tr>\n      <th>1</th>\n      <td>10</td>\n      <td>1</td>\n      <td>high</td>\n      <td>43</td>\n      <td>True</td>\n      <td>9000</td>\n      <td>19999</td>\n    </tr>\n  </tbody>\n</table>\n</div>"
     },
     "execution_count": 92,
     "metadata": {},
     "output_type": "execute_result"
    }
   ],
   "source": [
    "# Вместо inner [left or right]\n",
    "full_data=df.merge(data, how='inner', on='client_id')\n",
    "full_data"
   ],
   "metadata": {
    "collapsed": false,
    "pycharm": {
     "name": "#%%\n"
    }
   }
  },
  {
   "cell_type": "markdown",
   "source": [
    "'''Task 5'''\n",
    "''' Create new DEF'''"
   ],
   "metadata": {
    "collapsed": false,
    "pycharm": {
     "name": "#%% md\n"
    }
   }
  },
  {
   "cell_type": "code",
   "execution_count": 93,
   "outputs": [],
   "source": [
    "def read_n_agg(file_path):\n",
    "    file_path=pd.read_csv(file_path, sep=';')\n",
    "    aggregation_by_company=file_path.groupby('company', as_index=False)\\\n",
    "                                .agg({'income': 'mean'})\n",
    "    return aggregation_by_company"
   ],
   "metadata": {
    "collapsed": false,
    "pycharm": {
     "name": "#%%\n"
    }
   }
  },
  {
   "cell_type": "code",
   "execution_count": 94,
   "outputs": [
    {
     "data": {
      "text/plain": "                                      company        income\n0                                        En +  9.962187e+10\n1    АО «Александрова, Савельев и Мельникова»  7.206782e+10\n2                       АО «Андреев-Анисимов»  6.931948e+09\n3                       АО «Андреев-Макарова»  8.934380e+10\n4                     АО «Большаков Кошелева»  7.860861e+10\n..                                        ...           ...\n284                                Щекиноазот  4.309092e+10\n285                             Щукин Лимитед  6.703036e+10\n286       Эйвон Бьюти Продактс Компани (Avon)  2.503657e+10\n287                    Яковлева Инкорпорэйтед  3.523436e+10\n288                            Якушев Лимитед  3.876468e+10\n\n[289 rows x 2 columns]",
      "text/html": "<div>\n<style scoped>\n    .dataframe tbody tr th:only-of-type {\n        vertical-align: middle;\n    }\n\n    .dataframe tbody tr th {\n        vertical-align: top;\n    }\n\n    .dataframe thead th {\n        text-align: right;\n    }\n</style>\n<table border=\"1\" class=\"dataframe\">\n  <thead>\n    <tr style=\"text-align: right;\">\n      <th></th>\n      <th>company</th>\n      <th>income</th>\n    </tr>\n  </thead>\n  <tbody>\n    <tr>\n      <th>0</th>\n      <td>En +</td>\n      <td>9.962187e+10</td>\n    </tr>\n    <tr>\n      <th>1</th>\n      <td>АО «Александрова, Савельев и Мельникова»</td>\n      <td>7.206782e+10</td>\n    </tr>\n    <tr>\n      <th>2</th>\n      <td>АО «Андреев-Анисимов»</td>\n      <td>6.931948e+09</td>\n    </tr>\n    <tr>\n      <th>3</th>\n      <td>АО «Андреев-Макарова»</td>\n      <td>8.934380e+10</td>\n    </tr>\n    <tr>\n      <th>4</th>\n      <td>АО «Большаков Кошелева»</td>\n      <td>7.860861e+10</td>\n    </tr>\n    <tr>\n      <th>...</th>\n      <td>...</td>\n      <td>...</td>\n    </tr>\n    <tr>\n      <th>284</th>\n      <td>Щекиноазот</td>\n      <td>4.309092e+10</td>\n    </tr>\n    <tr>\n      <th>285</th>\n      <td>Щукин Лимитед</td>\n      <td>6.703036e+10</td>\n    </tr>\n    <tr>\n      <th>286</th>\n      <td>Эйвон Бьюти Продактс Компани (Avon)</td>\n      <td>2.503657e+10</td>\n    </tr>\n    <tr>\n      <th>287</th>\n      <td>Яковлева Инкорпорэйтед</td>\n      <td>3.523436e+10</td>\n    </tr>\n    <tr>\n      <th>288</th>\n      <td>Якушев Лимитед</td>\n      <td>3.876468e+10</td>\n    </tr>\n  </tbody>\n</table>\n<p>289 rows × 2 columns</p>\n</div>"
     },
     "execution_count": 94,
     "metadata": {},
     "output_type": "execute_result"
    }
   ],
   "source": [
    "read_n_agg('https://stepik.org/media/attachments/lesson/359209/companies.csv')"
   ],
   "metadata": {
    "collapsed": false,
    "pycharm": {
     "name": "#%%\n"
    }
   }
  },
  {
   "cell_type": "markdown",
   "source": [
    "'''Task 6'''\n",
    "Create DEF for Peru"
   ],
   "metadata": {
    "collapsed": false,
    "pycharm": {
     "name": "#%% md\n"
    }
   }
  },
  {
   "cell_type": "code",
   "execution_count": 95,
   "outputs": [
    {
     "data": {
      "text/plain": "                             journey_id                           user_id  \\\n0      23a1406fc6a11d866e3c82f22eed4d4c  0e9af5bbf1edfe591b54ecdfd7e91e26   \n1      dd2af4715d0dc16eded53afc0e243577  a553c46e3a22fb9c326aeb3d72b3334e   \n2      dd91e131888064bf7df3ce08f3d4b4ad  a553c46e3a22fb9c326aeb3d72b3334e   \n3      dd2af4715d0dc16eded53afc0e2466d0  a553c46e3a22fb9c326aeb3d72b3334e   \n4      85b7eabcf5d84e42dc7629b7d27781af  56772d544fdfa589a020a1ff894a86f7   \n...                                 ...                               ...   \n23106  4a18ea5737ce0ffecaf20b305a0e2c86  8998bb370b5f0cec43a373adebba0c72   \n23107  f1e4317f2c17991dd90d1cd17ae0d399  5f8a6ffef0ea5df78a8ee890267b60ec   \n23108  1e44c0fd0a266c3719ff30410b257bce  c0ffb6f6cd801004dd8609c12277c2d1   \n23109  7073883383b89ad289e864022150cdd7  c0ffb6f6cd801004dd8609c12277c2d1   \n23110  b7dea45c3cc92b9efd5a4905e69ff9bf  c0ffb6f6cd801004dd8609c12277c2d1   \n\n                              driver_id                           taxi_id  \\\n0      583949a89a9ee17d19e3ca4f137b6b4c  b12f4f09c783e29fe0d0ea624530db56   \n1                                   NaN                               NaN   \n2                                   NaN                               NaN   \n3                                   NaN                               NaN   \n4      d665fb9f75ef5d9cd0fd89479380ba78  0accdd3aa5a322f4129fa20b53278c69   \n...                                 ...                               ...   \n23106  d665fb9f75ef5d9cd0fd89479380ba78  16cbe35db7fff70fbc8251b4cda9fdc9   \n23107  17c21284245ff240c7212732991c2373  716a697375634f32a06d692b0448f13d   \n23108  4851ee4c867c9b49b909c1adb76c31e9  4851ee4c867c9b49b909c1adb76c538e   \n23109  56f59b58bcbbd1cdabc3652e713134c2  924d4f0e7554566623e8ebb3904a7b0c   \n23110  924d4f0e7554566623e8ebb390491d08  924d4f0e7554566623e8ebb390491492   \n\n            icon start_type            start_at     start_lat     start_lon  \\\n0      executive       asap 2010-11-16 16:44:00  -12,13983536  -77,02355957   \n1      executive       asap 2010-06-01 00:34:00  -12,13874817  -76,99536133   \n2      executive       asap 2010-05-31 05:01:00  -12,12453079  -77,02780151   \n3      executive       asap 2010-06-01 00:29:00  -12,13885117  -76,99530029   \n4      executive   reserved 2010-09-11 23:55:00  -12,08995438  -76,92626953   \n...          ...        ...                 ...           ...           ...   \n23106  executive   reserved 2010-07-31 13:15:00  -12,08974075  -77,04699707   \n23107  executive       asap 2010-10-02 05:26:00  -12,09253011  -77,02875271   \n23108  executive       asap 2010-09-21 09:56:00   -12,1275637  -77,02642288   \n23109  executive   reserved 2010-04-29 04:30:00    -12,019468   -77,1077669   \n23110  executive       asap 2010-03-16 19:58:00   -12,1334974   -77,0272581   \n\n                   end_at       end_lat       end_lon     end_state  \\\n0     2010-11-16 17:29:00  -12,05537033   -77,0413208      drop off   \n1     2010-06-01 00:37:00  -12,12465668  -77,02886963     not found   \n2     2010-05-31 05:04:00  -12,13883209  -76,99530029     not found   \n3     2010-06-01 00:32:00  -12,12458801  -77,02896118     not found   \n4     2010-09-12 01:07:00  -12,02223206  -77,10638428      drop off   \n...                   ...           ...           ...           ...   \n23106 2010-07-31 13:27:00  -12,08352661  -77,05044556      drop off   \n23107 2010-10-02 05:56:00  -12,07776001  -77,05623798      drop off   \n23108 2010-09-21 10:18:00  -12,10529838  -77,04735249      drop off   \n23109 2010-04-29 05:11:00  -12,09909987  -77,03475013      drop off   \n23110 2010-03-16 20:02:00    -12,029174     -76,93977  rider cancel   \n\n      driver_start_lat driver_start_lon          arrived_at   source  \\\n0         -12,10825481      -77,0272739 2010-11-16 17:02:00   iPhone   \n1                  NaN              NaN                 NaT   iPhone   \n2                  NaN              NaN                 NaT   iPhone   \n3                  NaN              NaN                 NaT   iPhone   \n4         -12,08311558      -76,9277072 2010-09-11 23:50:00   iPhone   \n...                ...              ...                 ...      ...   \n23106     -12,08973527     -77,04787016 2010-07-31 13:15:00   iPhone   \n23107     -12,10639693     -77,04028948 2010-10-02 05:39:00  Android   \n23108     -12,12605017     -77,01882491 2010-09-21 10:05:00  Android   \n23109      -12,0710933     -77,09855131 2010-04-29 04:23:00  Android   \n23110     -12,09586711     -77,07372552                 NaT      web   \n\n       driver_score  rider_score  \n0               5.0          5.0  \n1               NaN          NaN  \n2               NaN          NaN  \n3               NaN          NaN  \n4               4.0          5.0  \n...             ...          ...  \n23106           5.0          5.0  \n23107           NaN          5.0  \n23108           0.0          0.0  \n23109           NaN          5.0  \n23110           NaN          NaN  \n\n[23111 rows x 19 columns]",
      "text/html": "<div>\n<style scoped>\n    .dataframe tbody tr th:only-of-type {\n        vertical-align: middle;\n    }\n\n    .dataframe tbody tr th {\n        vertical-align: top;\n    }\n\n    .dataframe thead th {\n        text-align: right;\n    }\n</style>\n<table border=\"1\" class=\"dataframe\">\n  <thead>\n    <tr style=\"text-align: right;\">\n      <th></th>\n      <th>journey_id</th>\n      <th>user_id</th>\n      <th>driver_id</th>\n      <th>taxi_id</th>\n      <th>icon</th>\n      <th>start_type</th>\n      <th>start_at</th>\n      <th>start_lat</th>\n      <th>start_lon</th>\n      <th>end_at</th>\n      <th>end_lat</th>\n      <th>end_lon</th>\n      <th>end_state</th>\n      <th>driver_start_lat</th>\n      <th>driver_start_lon</th>\n      <th>arrived_at</th>\n      <th>source</th>\n      <th>driver_score</th>\n      <th>rider_score</th>\n    </tr>\n  </thead>\n  <tbody>\n    <tr>\n      <th>0</th>\n      <td>23a1406fc6a11d866e3c82f22eed4d4c</td>\n      <td>0e9af5bbf1edfe591b54ecdfd7e91e26</td>\n      <td>583949a89a9ee17d19e3ca4f137b6b4c</td>\n      <td>b12f4f09c783e29fe0d0ea624530db56</td>\n      <td>executive</td>\n      <td>asap</td>\n      <td>2010-11-16 16:44:00</td>\n      <td>-12,13983536</td>\n      <td>-77,02355957</td>\n      <td>2010-11-16 17:29:00</td>\n      <td>-12,05537033</td>\n      <td>-77,0413208</td>\n      <td>drop off</td>\n      <td>-12,10825481</td>\n      <td>-77,0272739</td>\n      <td>2010-11-16 17:02:00</td>\n      <td>iPhone</td>\n      <td>5.0</td>\n      <td>5.0</td>\n    </tr>\n    <tr>\n      <th>1</th>\n      <td>dd2af4715d0dc16eded53afc0e243577</td>\n      <td>a553c46e3a22fb9c326aeb3d72b3334e</td>\n      <td>NaN</td>\n      <td>NaN</td>\n      <td>executive</td>\n      <td>asap</td>\n      <td>2010-06-01 00:34:00</td>\n      <td>-12,13874817</td>\n      <td>-76,99536133</td>\n      <td>2010-06-01 00:37:00</td>\n      <td>-12,12465668</td>\n      <td>-77,02886963</td>\n      <td>not found</td>\n      <td>NaN</td>\n      <td>NaN</td>\n      <td>NaT</td>\n      <td>iPhone</td>\n      <td>NaN</td>\n      <td>NaN</td>\n    </tr>\n    <tr>\n      <th>2</th>\n      <td>dd91e131888064bf7df3ce08f3d4b4ad</td>\n      <td>a553c46e3a22fb9c326aeb3d72b3334e</td>\n      <td>NaN</td>\n      <td>NaN</td>\n      <td>executive</td>\n      <td>asap</td>\n      <td>2010-05-31 05:01:00</td>\n      <td>-12,12453079</td>\n      <td>-77,02780151</td>\n      <td>2010-05-31 05:04:00</td>\n      <td>-12,13883209</td>\n      <td>-76,99530029</td>\n      <td>not found</td>\n      <td>NaN</td>\n      <td>NaN</td>\n      <td>NaT</td>\n      <td>iPhone</td>\n      <td>NaN</td>\n      <td>NaN</td>\n    </tr>\n    <tr>\n      <th>3</th>\n      <td>dd2af4715d0dc16eded53afc0e2466d0</td>\n      <td>a553c46e3a22fb9c326aeb3d72b3334e</td>\n      <td>NaN</td>\n      <td>NaN</td>\n      <td>executive</td>\n      <td>asap</td>\n      <td>2010-06-01 00:29:00</td>\n      <td>-12,13885117</td>\n      <td>-76,99530029</td>\n      <td>2010-06-01 00:32:00</td>\n      <td>-12,12458801</td>\n      <td>-77,02896118</td>\n      <td>not found</td>\n      <td>NaN</td>\n      <td>NaN</td>\n      <td>NaT</td>\n      <td>iPhone</td>\n      <td>NaN</td>\n      <td>NaN</td>\n    </tr>\n    <tr>\n      <th>4</th>\n      <td>85b7eabcf5d84e42dc7629b7d27781af</td>\n      <td>56772d544fdfa589a020a1ff894a86f7</td>\n      <td>d665fb9f75ef5d9cd0fd89479380ba78</td>\n      <td>0accdd3aa5a322f4129fa20b53278c69</td>\n      <td>executive</td>\n      <td>reserved</td>\n      <td>2010-09-11 23:55:00</td>\n      <td>-12,08995438</td>\n      <td>-76,92626953</td>\n      <td>2010-09-12 01:07:00</td>\n      <td>-12,02223206</td>\n      <td>-77,10638428</td>\n      <td>drop off</td>\n      <td>-12,08311558</td>\n      <td>-76,9277072</td>\n      <td>2010-09-11 23:50:00</td>\n      <td>iPhone</td>\n      <td>4.0</td>\n      <td>5.0</td>\n    </tr>\n    <tr>\n      <th>...</th>\n      <td>...</td>\n      <td>...</td>\n      <td>...</td>\n      <td>...</td>\n      <td>...</td>\n      <td>...</td>\n      <td>...</td>\n      <td>...</td>\n      <td>...</td>\n      <td>...</td>\n      <td>...</td>\n      <td>...</td>\n      <td>...</td>\n      <td>...</td>\n      <td>...</td>\n      <td>...</td>\n      <td>...</td>\n      <td>...</td>\n      <td>...</td>\n    </tr>\n    <tr>\n      <th>23106</th>\n      <td>4a18ea5737ce0ffecaf20b305a0e2c86</td>\n      <td>8998bb370b5f0cec43a373adebba0c72</td>\n      <td>d665fb9f75ef5d9cd0fd89479380ba78</td>\n      <td>16cbe35db7fff70fbc8251b4cda9fdc9</td>\n      <td>executive</td>\n      <td>reserved</td>\n      <td>2010-07-31 13:15:00</td>\n      <td>-12,08974075</td>\n      <td>-77,04699707</td>\n      <td>2010-07-31 13:27:00</td>\n      <td>-12,08352661</td>\n      <td>-77,05044556</td>\n      <td>drop off</td>\n      <td>-12,08973527</td>\n      <td>-77,04787016</td>\n      <td>2010-07-31 13:15:00</td>\n      <td>iPhone</td>\n      <td>5.0</td>\n      <td>5.0</td>\n    </tr>\n    <tr>\n      <th>23107</th>\n      <td>f1e4317f2c17991dd90d1cd17ae0d399</td>\n      <td>5f8a6ffef0ea5df78a8ee890267b60ec</td>\n      <td>17c21284245ff240c7212732991c2373</td>\n      <td>716a697375634f32a06d692b0448f13d</td>\n      <td>executive</td>\n      <td>asap</td>\n      <td>2010-10-02 05:26:00</td>\n      <td>-12,09253011</td>\n      <td>-77,02875271</td>\n      <td>2010-10-02 05:56:00</td>\n      <td>-12,07776001</td>\n      <td>-77,05623798</td>\n      <td>drop off</td>\n      <td>-12,10639693</td>\n      <td>-77,04028948</td>\n      <td>2010-10-02 05:39:00</td>\n      <td>Android</td>\n      <td>NaN</td>\n      <td>5.0</td>\n    </tr>\n    <tr>\n      <th>23108</th>\n      <td>1e44c0fd0a266c3719ff30410b257bce</td>\n      <td>c0ffb6f6cd801004dd8609c12277c2d1</td>\n      <td>4851ee4c867c9b49b909c1adb76c31e9</td>\n      <td>4851ee4c867c9b49b909c1adb76c538e</td>\n      <td>executive</td>\n      <td>asap</td>\n      <td>2010-09-21 09:56:00</td>\n      <td>-12,1275637</td>\n      <td>-77,02642288</td>\n      <td>2010-09-21 10:18:00</td>\n      <td>-12,10529838</td>\n      <td>-77,04735249</td>\n      <td>drop off</td>\n      <td>-12,12605017</td>\n      <td>-77,01882491</td>\n      <td>2010-09-21 10:05:00</td>\n      <td>Android</td>\n      <td>0.0</td>\n      <td>0.0</td>\n    </tr>\n    <tr>\n      <th>23109</th>\n      <td>7073883383b89ad289e864022150cdd7</td>\n      <td>c0ffb6f6cd801004dd8609c12277c2d1</td>\n      <td>56f59b58bcbbd1cdabc3652e713134c2</td>\n      <td>924d4f0e7554566623e8ebb3904a7b0c</td>\n      <td>executive</td>\n      <td>reserved</td>\n      <td>2010-04-29 04:30:00</td>\n      <td>-12,019468</td>\n      <td>-77,1077669</td>\n      <td>2010-04-29 05:11:00</td>\n      <td>-12,09909987</td>\n      <td>-77,03475013</td>\n      <td>drop off</td>\n      <td>-12,0710933</td>\n      <td>-77,09855131</td>\n      <td>2010-04-29 04:23:00</td>\n      <td>Android</td>\n      <td>NaN</td>\n      <td>5.0</td>\n    </tr>\n    <tr>\n      <th>23110</th>\n      <td>b7dea45c3cc92b9efd5a4905e69ff9bf</td>\n      <td>c0ffb6f6cd801004dd8609c12277c2d1</td>\n      <td>924d4f0e7554566623e8ebb390491d08</td>\n      <td>924d4f0e7554566623e8ebb390491492</td>\n      <td>executive</td>\n      <td>asap</td>\n      <td>2010-03-16 19:58:00</td>\n      <td>-12,1334974</td>\n      <td>-77,0272581</td>\n      <td>2010-03-16 20:02:00</td>\n      <td>-12,029174</td>\n      <td>-76,93977</td>\n      <td>rider cancel</td>\n      <td>-12,09586711</td>\n      <td>-77,07372552</td>\n      <td>NaT</td>\n      <td>web</td>\n      <td>NaN</td>\n      <td>NaN</td>\n    </tr>\n  </tbody>\n</table>\n<p>23111 rows × 19 columns</p>\n</div>"
     },
     "execution_count": 95,
     "metadata": {},
     "output_type": "execute_result"
    }
   ],
   "source": [
    "taxi=pd.read_csv(r'https://stepik.org/media/attachments/lesson/359240/taxi_peru.csv',\n",
    "                 sep=';',\n",
    "                 parse_dates=['start_at', 'end_at', 'arrived_at']\n",
    ")\n",
    "taxi"
   ],
   "metadata": {
    "collapsed": false,
    "pycharm": {
     "name": "#%%\n"
    }
   }
  },
  {
   "cell_type": "code",
   "execution_count": 96,
   "outputs": [
    {
     "data": {
      "text/plain": "object            14\ndatetime64[ns]     3\nfloat64            2\ndtype: int64"
     },
     "execution_count": 96,
     "metadata": {},
     "output_type": "execute_result"
    }
   ],
   "source": [
    "taxi.dtypes.value_counts()"
   ],
   "metadata": {
    "collapsed": false,
    "pycharm": {
     "name": "#%%\n"
    }
   }
  },
  {
   "cell_type": "markdown",
   "source": [
    "'''Task 7'''\n"
   ],
   "metadata": {
    "collapsed": false,
    "pycharm": {
     "name": "#%% md\n"
    }
   }
  },
  {
   "cell_type": "code",
   "execution_count": 97,
   "outputs": [
    {
     "data": {
      "text/plain": "iPhone     0.421488\nweb        0.330189\nAndroid    0.212410\niPad       0.024707\nWap        0.005885\nNaN        0.005322\nName: source, dtype: float64"
     },
     "execution_count": 97,
     "metadata": {},
     "output_type": "execute_result"
    }
   ],
   "source": [
    "# Одинаковое написание\n",
    "group_by_source=taxi.source.value_counts() / taxi.shape[0]\n",
    "group_by_source_with_drop=taxi.source.value_counts(normalize=True, dropna=False)\n",
    "group_by_source_with_drop"
   ],
   "metadata": {
    "collapsed": false,
    "pycharm": {
     "name": "#%%\n"
    }
   }
  },
  {
   "cell_type": "code",
   "execution_count": 98,
   "outputs": [
    {
     "data": {
      "text/plain": "iPhone     42.148760\nweb        33.018909\nAndroid    21.240968\niPad        2.470685\nWap         0.588464\nNaN         0.532214\nName: source, dtype: float64"
     },
     "execution_count": 98,
     "metadata": {},
     "output_type": "execute_result"
    }
   ],
   "source": [
    "with_percent=(taxi.source.value_counts(normalize=True, dropna=False)*100)\n",
    "with_percent"
   ],
   "metadata": {
    "collapsed": false,
    "pycharm": {
     "name": "#%%\n"
    }
   }
  },
  {
   "cell_type": "code",
   "execution_count": 99,
   "outputs": [
    {
     "data": {
      "text/plain": "iPhone     42.0\nweb        33.0\nAndroid    21.0\niPad        2.0\nWap         1.0\nNaN         1.0\nName: source, dtype: float64"
     },
     "execution_count": 99,
     "metadata": {},
     "output_type": "execute_result"
    }
   ],
   "source": [
    "with_round=(taxi.source\n",
    "            .value_counts(normalize=True, dropna=False)\n",
    "            .mul(100)\n",
    "            .round()\n",
    "          )\n",
    "with_round"
   ],
   "metadata": {
    "collapsed": false,
    "pycharm": {
     "name": "#%%\n"
    }
   }
  },
  {
   "cell_type": "markdown",
   "source": [
    "'''Task 8'''\n",
    "Create chart"
   ],
   "metadata": {
    "collapsed": false,
    "pycharm": {
     "name": "#%% md\n"
    }
   }
  },
  {
   "cell_type": "code",
   "execution_count": 100,
   "outputs": [
    {
     "data": {
      "text/plain": "    source   cnt\n0   iPhone  9741\n1      web  7631\n2  Android  4909\n3     iPad   571\n4      Wap   136",
      "text/html": "<div>\n<style scoped>\n    .dataframe tbody tr th:only-of-type {\n        vertical-align: middle;\n    }\n\n    .dataframe tbody tr th {\n        vertical-align: top;\n    }\n\n    .dataframe thead th {\n        text-align: right;\n    }\n</style>\n<table border=\"1\" class=\"dataframe\">\n  <thead>\n    <tr style=\"text-align: right;\">\n      <th></th>\n      <th>source</th>\n      <th>cnt</th>\n    </tr>\n  </thead>\n  <tbody>\n    <tr>\n      <th>0</th>\n      <td>iPhone</td>\n      <td>9741</td>\n    </tr>\n    <tr>\n      <th>1</th>\n      <td>web</td>\n      <td>7631</td>\n    </tr>\n    <tr>\n      <th>2</th>\n      <td>Android</td>\n      <td>4909</td>\n    </tr>\n    <tr>\n      <th>3</th>\n      <td>iPad</td>\n      <td>571</td>\n    </tr>\n    <tr>\n      <th>4</th>\n      <td>Wap</td>\n      <td>136</td>\n    </tr>\n  </tbody>\n</table>\n</div>"
     },
     "execution_count": 100,
     "metadata": {},
     "output_type": "execute_result"
    }
   ],
   "source": [
    "taxi_counts=(taxi['source'].value_counts()# используем value_counts для подсчета значений, без параметра\n",
    "             .reset_index() # сбрасываем индекс\n",
    "             .rename({'index': 'source', 'source': 'cnt'}, axis='columns') # меняем значения на читаемые\n",
    ")\n",
    "taxi_counts"
   ],
   "metadata": {
    "collapsed": false,
    "pycharm": {
     "name": "#%%\n"
    }
   }
  },
  {
   "cell_type": "code",
   "execution_count": 101,
   "outputs": [],
   "source": [
    "# Пояснение\n",
    "# x = 'source' – т.к. по оси x нужно расположить название платформы\n",
    "# y = 'cnt' – т.к. по оси y – количество заказов\n",
    "# data = taxi_counts – датафрейм, из которого берем данные"
   ],
   "metadata": {
    "collapsed": false,
    "pycharm": {
     "name": "#%%\n"
    }
   }
  },
  {
   "cell_type": "code",
   "execution_count": 102,
   "outputs": [
    {
     "data": {
      "text/plain": "<Figure size 432x288 with 1 Axes>",
      "image/png": "[encoded data removed]"
     },
     "metadata": {
      "needs_background": "light"
     },
     "output_type": "display_data"
    }
   ],
   "source": [
    "result=sns.barplot(data=taxi_counts, x='source', y='cnt')\n",
    "result.set(xlabel='Platform', ylabel='Count') # подписываем оси\n",
    "sns.despine()       # убрать часть рамки графика\n"
   ],
   "metadata": {
    "collapsed": false,
    "pycharm": {
     "name": "#%%\n"
    }
   }
  },
  {
   "cell_type": "code",
   "execution_count": 103,
   "outputs": [
    {
     "data": {
      "text/plain": "<Figure size 432x288 with 1 Axes>",
      "image/png": "[encoded data removed]"
     },
     "metadata": {
      "needs_background": "light"
     },
     "output_type": "display_data"
    }
   ],
   "source": [
    "alternative_res_t = sns.countplot(x='icon', data=taxi) # строим и записываем в переменную\n",
    "alternative_res_t.set(xlabel='Icon', ylabel='Count') # подписываем оси\n",
    "sns.despine() # убрать часть рамки графика\n",
    "plt.show()"
   ],
   "metadata": {
    "collapsed": false,
    "pycharm": {
     "name": "#%%\n"
    }
   }
  },
  {
   "cell_type": "code",
   "execution_count": 104,
   "outputs": [
    {
     "data": {
      "text/plain": "<Figure size 1152x648 with 1 Axes>",
      "image/png": "[encoded data removed]"
     },
     "metadata": {
      "needs_background": "light"
     },
     "output_type": "display_data"
    }
   ],
   "source": [
    "plt.figure(figsize=(16,9))   # указываем размер графика, чтобы он был побольше\n",
    "difficult_chart=sns.countplot(data=taxi, hue='end_state', x='source')   # строим график с нужными параметрами"
   ],
   "metadata": {
    "collapsed": false,
    "pycharm": {
     "name": "#%%\n"
    }
   }
  },
  {
   "cell_type": "code",
   "execution_count": 111,
   "outputs": [
    {
     "data": {
      "text/plain": "   driver_score  percentage\n3           0.0        4.73\n5           1.0        0.41\n6           2.0        0.27\n4           3.0        0.98\n2           4.0        7.24\n1           5.0       19.47\n0           NaN       66.90",
      "text/html": "<div>\n<style scoped>\n    .dataframe tbody tr th:only-of-type {\n        vertical-align: middle;\n    }\n\n    .dataframe tbody tr th {\n        vertical-align: top;\n    }\n\n    .dataframe thead th {\n        text-align: right;\n    }\n</style>\n<table border=\"1\" class=\"dataframe\">\n  <thead>\n    <tr style=\"text-align: right;\">\n      <th></th>\n      <th>driver_score</th>\n      <th>percentage</th>\n    </tr>\n  </thead>\n  <tbody>\n    <tr>\n      <th>3</th>\n      <td>0.0</td>\n      <td>4.73</td>\n    </tr>\n    <tr>\n      <th>5</th>\n      <td>1.0</td>\n      <td>0.41</td>\n    </tr>\n    <tr>\n      <th>6</th>\n      <td>2.0</td>\n      <td>0.27</td>\n    </tr>\n    <tr>\n      <th>4</th>\n      <td>3.0</td>\n      <td>0.98</td>\n    </tr>\n    <tr>\n      <th>2</th>\n      <td>4.0</td>\n      <td>7.24</td>\n    </tr>\n    <tr>\n      <th>1</th>\n      <td>5.0</td>\n      <td>19.47</td>\n    </tr>\n    <tr>\n      <th>0</th>\n      <td>NaN</td>\n      <td>66.90</td>\n    </tr>\n  </tbody>\n</table>\n</div>"
     },
     "execution_count": 111,
     "metadata": {},
     "output_type": "execute_result"
    }
   ],
   "source": [
    "driver_score_counts=taxi\\\n",
    "    .driver_score\\\n",
    "    .value_counts(normalize=True, dropna=False)\\\n",
    "    .mul(100)\\\n",
    "    .round(2)\\\n",
    "    .reset_index()\\\n",
    "    .rename(columns={'index': 'driver_score', 'driver_score': 'percentage'})\\\n",
    "    .sort_values('driver_score')\n",
    "\n",
    "driver_score_counts"
   ],
   "metadata": {
    "collapsed": false,
    "pycharm": {
     "name": "#%%\n"
    }
   }
  },
  {
   "cell_type": "code",
   "execution_count": 137,
   "outputs": [
    {
     "data": {
      "text/plain": "<Figure size 432x288 with 1 Axes>",
      "image/png": "[encoded data removed]"
     },
     "metadata": {
      "needs_background": "light"
     },
     "output_type": "display_data"
    }
   ],
   "source": [
    "ax = sns.barplot(x='driver_score', y='percentage', data=driver_score_counts, color='red', alpha=0.5)\n",
    "ax.set(xlabel='Driver score', ylabel='Percentage')\n",
    "# sns.despine()  # убрать часть рамки графика\n",
    "plt.show()"
   ],
   "metadata": {
    "collapsed": false,
    "pycharm": {
     "name": "#%%\n"
    }
   }
  },
  {
   "cell_type": "markdown",
   "source": [
    "Проделайте аналогичные шаги для rider_score (оценок клиентов водителями), не забыв построить график. В чем его отличие от распределения оценок водителей?"
   ],
   "metadata": {
    "collapsed": false,
    "pycharm": {
     "name": "#%% md\n"
    }
   }
  },
  {
   "cell_type": "code",
   "execution_count": 122,
   "outputs": [
    {
     "data": {
      "text/plain": "   rider_score  percentage\n3          0.0        1.52\n5          1.0        0.14\n6          2.0        0.13\n4          3.0        0.92\n2          4.0        5.88\n0          5.0       58.00\n1          NaN       33.41",
      "text/html": "<div>\n<style scoped>\n    .dataframe tbody tr th:only-of-type {\n        vertical-align: middle;\n    }\n\n    .dataframe tbody tr th {\n        vertical-align: top;\n    }\n\n    .dataframe thead th {\n        text-align: right;\n    }\n</style>\n<table border=\"1\" class=\"dataframe\">\n  <thead>\n    <tr style=\"text-align: right;\">\n      <th></th>\n      <th>rider_score</th>\n      <th>percentage</th>\n    </tr>\n  </thead>\n  <tbody>\n    <tr>\n      <th>3</th>\n      <td>0.0</td>\n      <td>1.52</td>\n    </tr>\n    <tr>\n      <th>5</th>\n      <td>1.0</td>\n      <td>0.14</td>\n    </tr>\n    <tr>\n      <th>6</th>\n      <td>2.0</td>\n      <td>0.13</td>\n    </tr>\n    <tr>\n      <th>4</th>\n      <td>3.0</td>\n      <td>0.92</td>\n    </tr>\n    <tr>\n      <th>2</th>\n      <td>4.0</td>\n      <td>5.88</td>\n    </tr>\n    <tr>\n      <th>0</th>\n      <td>5.0</td>\n      <td>58.00</td>\n    </tr>\n    <tr>\n      <th>1</th>\n      <td>NaN</td>\n      <td>33.41</td>\n    </tr>\n  </tbody>\n</table>\n</div>"
     },
     "execution_count": 122,
     "metadata": {},
     "output_type": "execute_result"
    }
   ],
   "source": [
    "rider_score_counts=taxi\\\n",
    "            .rider_score\\\n",
    "            .value_counts(normalize=True, dropna=False)\\\n",
    "            .mul(100)\\\n",
    "            .round(2)\\\n",
    "            .reset_index()\\\n",
    "            .rename(columns={'index': 'rider_score','rider_score':'percentage'})\\\n",
    "            .sort_values('rider_score')\n",
    "rider_score_counts"
   ],
   "metadata": {
    "collapsed": false,
    "pycharm": {
     "name": "#%%\n"
    }
   }
  },
  {
   "cell_type": "code",
   "execution_count": 139,
   "outputs": [
    {
     "data": {
      "text/plain": "[Text(0.5, 0, 'Rider_score'), Text(0, 0.5, 'Percentage')]"
     },
     "execution_count": 139,
     "metadata": {},
     "output_type": "execute_result"
    },
    {
     "data": {
      "text/plain": "<Figure size 432x288 with 1 Axes>",
      "image/png": "[encoded data removed]"
     },
     "metadata": {
      "needs_background": "light"
     },
     "output_type": "display_data"
    }
   ],
   "source": [
    "rider_score_chart=sns.barplot(data=rider_score_counts, x='rider_score', y='percentage', color='black')\n",
    "rider_score_chart.set(xlabel='Rider_score', ylabel='Percentage')\n",
    "# sns.despine()\n"
   ],
   "metadata": {
    "collapsed": false,
    "pycharm": {
     "name": "#%%\n"
    }
   }
  },
  {
   "cell_type": "code",
   "execution_count": null,
   "outputs": [],
   "source": [],
   "metadata": {
    "collapsed": false,
    "pycharm": {
     "name": "#%%\n"
    }
   }
  },
  {
   "cell_type": "code",
   "execution_count": null,
   "outputs": [],
   "source": [],
   "metadata": {
    "collapsed": false,
    "pycharm": {
     "name": "#%%\n"
    }
   }
  }
 ],
 "metadata": {
  "kernelspec": {
   "display_name": "Python 3",
   "language": "python",
   "name": "python3"
  },
  "language_info": {
   "codemirror_mode": {
    "name": "ipython",
    "version": 2
   },
   "file_extension": ".py",
   "mimetype": "text/x-python",
   "name": "python",
   "nbconvert_exporter": "python",
   "pygments_lexer": "ipython2",
   "version": "2.7.6"
  }
 },
 "nbformat": 4,
 "nbformat_minor": 0
}